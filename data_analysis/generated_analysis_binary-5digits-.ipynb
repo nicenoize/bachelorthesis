{
 "cells": [
  {
   "cell_type": "code",
   "execution_count": 3,
   "metadata": {},
   "outputs": [],
   "source": [
    "import numpy as np \n",
    "from io import StringIO\n",
    "import pandas as pd\n",
    "from pandas import DataFrame\n",
    "import seaborn as sns\n",
    "import matplotlib.pyplot as plt\n",
    "import matplotlib.lines as mlines\n",
    "import matplotlib.transforms as mtransforms\n",
    "import re"
   ]
  },
  {
   "cell_type": "code",
   "execution_count": 4,
   "metadata": {},
   "outputs": [
    {
     "name": "stdout",
     "output_type": "stream",
     "text": [
      "5650\n"
     ]
    }
   ],
   "source": [
    "# Inverting dictionaries to map index -> Diagnosiscode\n",
    "binary_5digit_mixed_types = np.load('/Users/nicenoize/Documents/Bachelorarbeit/mimic-iii-clinical-database-1.4/binary_5digit_mixed.types')\n",
    "binary_5digit_mixed_types_inv = {v: k for k, v in binary_5digit_mixed_types.items()}\n",
    "binary_5digit_female_types = np.load('/Users/nicenoize/Documents/Bachelorarbeit/mimic-iii-clinical-database-1.4/binary_5digit_female.types')\n",
    "binary_5digit_female_types_inv = {v: k for k, v in binary_5digit_female_types.items()}\n",
    "binary_5digit_male_types = np.load('/Users/nicenoize/Documents/Bachelorarbeit/mimic-iii-clinical-database-1.4/binary_5digit_male.types')\n",
    "binary_5digit_male_types_inv = {v: k for k, v in binary_5digit_male_types.items()}\n",
    "print(len(binary_5digit_female_types))"
   ]
  },
  {
   "cell_type": "code",
   "execution_count": 5,
   "metadata": {},
   "outputs": [],
   "source": [
    "mixed_dataset = np.load('/Users/nicenoize/Documents/Bachelorarbeit/mimic-iii-clinical-database-1.4/binary_5digit_mixed.matrix')\n",
    "female_dataset = np.load('/Users/nicenoize/Documents/Bachelorarbeit/mimic-iii-clinical-database-1.4/binary_5digit_female.matrix')\n",
    "male_dataset = np.load('/Users/nicenoize/Documents/Bachelorarbeit/mimic-iii-clinical-database-1.4/binary_5digit_male.matrix')\n",
    "mixed_generated = np.load('/Users/nicenoize/Documents/Bachelorarbeit/binary_5digit_mixed_full.npy')\n",
    "female_generated = np.load('/Users/nicenoize/Documents/Bachelorarbeit/binary_5digit_female_full.npy')\n",
    "male_generated = np.load('/Users/nicenoize/Documents/Bachelorarbeit/binary_5digit_male_full.npy')\n"
   ]
  },
  {
   "cell_type": "code",
   "execution_count": 6,
   "metadata": {},
   "outputs": [
    {
     "name": "stdout",
     "output_type": "stream",
     "text": [
      "(46520, 6985)\n",
      "(46000, 6985)\n",
      "(20399, 5650)\n",
      "(20000, 5650)\n",
      "(26121, 5853)\n",
      "(26000, 5853)\n"
     ]
    }
   ],
   "source": [
    "# Shape before\n",
    "print(mixed_dataset.shape)\n",
    "print(mixed_generated.shape)\n",
    "print(female_dataset.shape)\n",
    "print(female_generated.shape)\n",
    "print(male_dataset.shape)\n",
    "print(male_generated.shape)"
   ]
  },
  {
   "cell_type": "code",
   "execution_count": 7,
   "metadata": {},
   "outputs": [],
   "source": [
    "mixed_dataset = mixed_dataset[520:]\n",
    "female_dataset = female_dataset[399:]\n",
    "male_dataset = male_dataset[121:]"
   ]
  },
  {
   "cell_type": "code",
   "execution_count": 8,
   "metadata": {},
   "outputs": [
    {
     "name": "stdout",
     "output_type": "stream",
     "text": [
      "(46000, 6985)\n",
      "(46000, 6985)\n",
      "(20000, 5650)\n",
      "(20000, 5650)\n",
      "(26000, 5853)\n",
      "(26000, 5853)\n"
     ]
    }
   ],
   "source": [
    "# Shape after\n",
    "print(mixed_dataset.shape)\n",
    "print(mixed_generated.shape)\n",
    "print(female_dataset.shape)\n",
    "print(female_generated.shape)\n",
    "print(male_dataset.shape)\n",
    "print(male_generated.shape)"
   ]
  },
  {
   "cell_type": "code",
   "execution_count": 9,
   "metadata": {},
   "outputs": [
    {
     "name": "stdout",
     "output_type": "stream",
     "text": [
      "(46000, 6985)\n"
     ]
    }
   ],
   "source": [
    "binary_5digit_mixed_patients = np.load('/Users/nicenoize/Documents/Bachelorarbeit/binary_5digit_mixed_full.npy')\n",
    "binary_5digit_mixed_patients = np.rint(binary_5digit_mixed_patients)\n",
    "print(binary_5digit_mixed_patients.shape)\n",
    "#male_generated_patients = np.array_str(male_generated_patients)\n",
    "#for x in np.nditer(male_generated_patients, op_flags=['readwrite'], flags=['multi_index']):\n",
    "#        if(x==1): x = males_types[x]\n",
    "binary_5digit_mixed_patients_icd = np.chararray(binary_5digit_mixed_patients.shape, itemsize=8)            \n",
    "it = np.nditer(binary_5digit_mixed_patients, flags=['multi_index'])\n",
    "while not it.finished:\n",
    "    #print (\"%d <%s>\" % (it[0], it.multi_index)),\n",
    "    if(it[0] == 1): binary_5digit_mixed_patients_icd[it.multi_index] = binary_5digit_mixed_types_inv[it.multi_index[1]]\n",
    "    #print()\n",
    "    it.iternext()\n",
    "    \n",
    "# Save mixed patients to csv\n",
    "pd.DataFrame(binary_5digit_mixed_patients_icd).to_csv(\"/Users/nicenoize/Documents/Bachelorarbeit/mimic-iii-clinical-database-1.4/BINARY_PATIENTS/binary_5digit_mixed.csv\")\n"
   ]
  },
  {
   "cell_type": "code",
   "execution_count": 10,
   "metadata": {},
   "outputs": [
    {
     "name": "stdout",
     "output_type": "stream",
     "text": [
      "(20000, 5650)\n"
     ]
    }
   ],
   "source": [
    "binary_5digit_female_patients = np.load('/Users/nicenoize/Documents/Bachelorarbeit/binary_5digit_female_full.npy')\n",
    "binary_5digit_female_patients = np.rint(binary_5digit_female_patients)\n",
    "print(binary_5digit_female_patients.shape)\n",
    "#male_generated_patients = np.array_str(male_generated_patients)\n",
    "#for x in np.nditer(male_generated_patients, op_flags=['readwrite'], flags=['multi_index']):\n",
    "#        if(x==1): x = males_types[x]\n",
    "binary_5digit_female_patients_icd = np.chararray(binary_5digit_female_patients.shape, itemsize=8)            \n",
    "it = np.nditer(binary_5digit_female_patients, flags=['multi_index'])\n",
    "while not it.finished:\n",
    "    #print (\"%d <%s>\" % (it[0], it.multi_index)),\n",
    "    if(it[0] == 1): binary_5digit_female_patients_icd[it.multi_index] = binary_5digit_female_types_inv[it.multi_index[1]]\n",
    "    #print()\n",
    "    it.iternext()\n",
    "    \n",
    "# Save female patients to csv\n",
    "pd.DataFrame(binary_5digit_female_patients_icd).to_csv(\"/Users/nicenoize/Documents/Bachelorarbeit/mimic-iii-clinical-database-1.4/BINARY_PATIENTS/binary_5digit_female.csv\")\n"
   ]
  },
  {
   "cell_type": "code",
   "execution_count": 11,
   "metadata": {},
   "outputs": [
    {
     "name": "stdout",
     "output_type": "stream",
     "text": [
      "(26000, 5853)\n"
     ]
    }
   ],
   "source": [
    "binary_5digit_male_patients = np.load('/Users/nicenoize/Documents/Bachelorarbeit/binary_5digit_male_full.npy')\n",
    "binary_5digit_male_patients = np.rint(binary_5digit_male_patients)\n",
    "print(binary_5digit_male_patients.shape)\n",
    "#male_generated_patients = np.array_str(male_generated_patients)\n",
    "#for x in np.nditer(male_generated_patients, op_flags=['readwrite'], flags=['multi_index']):\n",
    "#        if(x==1): x = males_types[x]\n",
    "binary_5digit_male_patients_icd = np.chararray(binary_5digit_male_patients.shape, itemsize=8)            \n",
    "it = np.nditer(binary_5digit_male_patients, flags=['multi_index'])\n",
    "while not it.finished:\n",
    "    #print (\"%d <%s>\" % (it[0], it.multi_index)),\n",
    "    if(it[0] == 1): binary_5digit_male_patients_icd[it.multi_index] = binary_5digit_male_types_inv[it.multi_index[1]]\n",
    "    #print()\n",
    "    it.iternext()\n",
    "    \n",
    "# Save male patients to csv\n",
    "pd.DataFrame(binary_5digit_male_patients_icd).to_csv(\"/Users/nicenoize/Documents/Bachelorarbeit/mimic-iii-clinical-database-1.4/BINARY_PATIENTS/binary_5digit_male.csv\")\n"
   ]
  },
  {
   "cell_type": "code",
   "execution_count": null,
   "metadata": {},
   "outputs": [],
   "source": []
  },
  {
   "cell_type": "code",
   "execution_count": 12,
   "metadata": {},
   "outputs": [],
   "source": [
    "# Binary\n",
    "binary_5digit_mixed = pd.read_csv('/Users/nicenoize/Documents/Bachelorarbeit/mimic-iii-clinical-database-1.4/BINARY_PATIENTS/binary_5digit_mixed.csv')\n",
    "binary_5digit_female = pd.read_csv('/Users/nicenoize/Documents/Bachelorarbeit/mimic-iii-clinical-database-1.4/BINARY_PATIENTS/binary_5digit_female.csv')\n",
    "binary_5digit_male = pd.read_csv('/Users/nicenoize/Documents/Bachelorarbeit/mimic-iii-clinical-database-1.4/BINARY_PATIENTS/binary_5digit_male.csv')"
   ]
  },
  {
   "cell_type": "code",
   "execution_count": 13,
   "metadata": {},
   "outputs": [],
   "source": [
    "# Invert\n",
    "#males = males.T\n",
    "#females = females.T\n",
    "#mixed = mixed.T"
   ]
  },
  {
   "cell_type": "code",
   "execution_count": 14,
   "metadata": {},
   "outputs": [],
   "source": [
    "#for i in range(855):\n",
    "#    females.rename(columns={ females.columns[i]: \"DIAGNOSIS_ICD\" }, inplace = True)\n",
    "#females.rename(columns={females.columns[0]: \"DIAGNOSIS_ICD\" }, inplace = True)\n",
    "#males.rename(columns={females.columns[0]: \"DIAGNOSIS_ICD\" }, inplace = True)\n",
    "\n",
    "#females.head()"
   ]
  },
  {
   "cell_type": "code",
   "execution_count": 15,
   "metadata": {},
   "outputs": [],
   "source": [
    "# Binary\n",
    "binary_5digit_mixed.rename(columns={binary_5digit_mixed.columns[0]: \"SUBJECT_ID\"}, inplace = True)\n",
    "binary_5digit_female.rename(columns={binary_5digit_female.columns[0]: \"SUBJECT_ID\"}, inplace = True)\n",
    "binary_5digit_male.rename(columns={binary_5digit_male.columns[0]: \"SUBJECT_ID\"}, inplace = True)"
   ]
  },
  {
   "cell_type": "code",
   "execution_count": 16,
   "metadata": {},
   "outputs": [],
   "source": [
    "# Binary\n",
    "binary_5digit_mixed = pd.melt(binary_5digit_mixed, id_vars=[\"SUBJECT_ID\"])\n",
    "binary_5digit_female = pd.melt(binary_5digit_female, id_vars=[\"SUBJECT_ID\"])\n",
    "binary_5digit_male = pd.melt(binary_5digit_male, id_vars=[\"SUBJECT_ID\"])"
   ]
  },
  {
   "cell_type": "code",
   "execution_count": 17,
   "metadata": {},
   "outputs": [
    {
     "name": "stdout",
     "output_type": "stream",
     "text": [
      "[[0 '0' \"b''\"]\n",
      " [1 '0' \"b''\"]\n",
      " [2 '0' \"b''\"]\n",
      " ...\n",
      " [19997 '5649' \"b''\"]\n",
      " [19998 '5649' \"b''\"]\n",
      " [19999 '5649' \"b''\"]]\n"
     ]
    }
   ],
   "source": [
    "# Find patient by SUBJECT_ID\n",
    "#print(females_transformed.loc[females_transformed['SUBJECT_ID'] == 3])\n",
    "print(binary_5digit_female.values)"
   ]
  },
  {
   "cell_type": "code",
   "execution_count": 18,
   "metadata": {},
   "outputs": [
    {
     "name": "stdout",
     "output_type": "stream",
     "text": [
      "           SUBJECT_ID variable value\n",
      "0                   0        0   b''\n",
      "58300000            0     2915   b''\n",
      "104580000           0     5229   b''\n",
      "21400000            0     1070   b''\n",
      "58280000            0     2914   b''\n",
      "...               ...      ...   ...\n",
      "75399999        19999     3769   b''\n",
      "75419999        19999     3770   b''\n",
      "75439999        19999     3771   b''\n",
      "74159999        19999     3707   b''\n",
      "112999999       19999     5649   b''\n",
      "\n",
      "[113000000 rows x 3 columns]\n"
     ]
    }
   ],
   "source": [
    "# Sort rows by SUBJECT ID\n",
    "binary_5digit_mixed_diagnoses = binary_5digit_mixed.sort_values(by=['SUBJECT_ID'], ascending = True)\n",
    "binary_5digit_female_diagnoses = binary_5digit_female.sort_values(by=['SUBJECT_ID'], ascending = True)\n",
    "binary_5digit_male_diagnoses = binary_5digit_male.sort_values(by=['SUBJECT_ID'], ascending = True)\n",
    "\n",
    "\n",
    "# Drop NaN rows\n",
    "binary_5digit_mixed_diagnoses = binary_5digit_mixed_diagnoses.dropna()\n",
    "binary_5digit_female_diagnoses = binary_5digit_female_diagnoses.dropna()\n",
    "binary_5digit_male_diagnoses = binary_5digit_male_diagnoses.dropna()\n",
    "\n",
    "print(binary_5digit_female_diagnoses)"
   ]
  },
  {
   "cell_type": "code",
   "execution_count": 19,
   "metadata": {},
   "outputs": [
    {
     "name": "stdout",
     "output_type": "stream",
     "text": [
      "12508\n"
     ]
    }
   ],
   "source": [
    "# Filter mixed patients with 3 digits codes for with ischemic diseases, heart diseases, diabetes and cardiovascular ones\n",
    "# also getting the SUBJECT IDs of each\n",
    "mixed_ischemic_5digits = binary_5digit_mixed_diagnoses[binary_5digit_mixed_diagnoses.value.str.contains(\"^b'D_4.+\", regex=True, na=False)]\n",
    "mixed_CAD = binary_5digit_mixed_diagnoses[binary_5digit_mixed_diagnoses.value.str.contains(\"^b'D_414+\", regex=True, na=False)]\n",
    "mixed_heart_disease_5digits = binary_5digit_mixed_diagnoses[binary_5digit_mixed_diagnoses.value.str.contains(\"b'D_429\", regex=True, na=False)]\n",
    "mixed_diabetes_5digits = binary_5digit_mixed_diagnoses[binary_5digit_mixed_diagnoses.value.str.contains(\"^b'D_250\", na=False)]\n",
    "mixed_ischemic_ids_5digits = mixed_ischemic_5digits[\"SUBJECT_ID\"].tolist()\n",
    "mixed_CAD_ids = mixed_CAD[\"SUBJECT_ID\"].tolist()\n",
    "mixed_heart_disease_ids_5digits = mixed_heart_disease_5digits[\"SUBJECT_ID\"].tolist()\n",
    "mixed_diabetes_ids_5digits = mixed_diabetes_5digits[\"SUBJECT_ID\"].tolist()\n",
    "print(mixed_CAD['SUBJECT_ID'].nunique())"
   ]
  },
  {
   "cell_type": "code",
   "execution_count": 40,
   "metadata": {},
   "outputs": [],
   "source": [
    "# Filter female patients with 3 digits codes for with ischemic diseases, heart diseases, diabetes and cardiovascular ones\n",
    "# also getting the SUBJECT IDs of each\n",
    "female_ischemic_5digits = binary_5digit_female_diagnoses[binary_5digit_female_diagnoses.value.str.contains(\"^b'D_4.+\", regex=True, na=False)]\n",
    "female_CAD = binary_5digit_female_diagnoses[binary_5digit_female_diagnoses.value.str.contains(\"^b'D_414\\.01+\", regex=True, na=False)]\n",
    "female_heart_disease_5digits = binary_5digit_female_diagnoses[binary_5digit_female_diagnoses.value.str.contains(\"b'D_429\", regex=True, na=False)]\n",
    "female_diabetes_5digits = binary_5digit_female_diagnoses[binary_5digit_female_diagnoses.value.str.contains(\"^b'D_250\", na=False)]\n",
    "female_ischemic_ids_5digits = female_ischemic_5digits[\"SUBJECT_ID\"].tolist()\n",
    "female_CAD_ids = female_CAD[\"SUBJECT_ID\"].tolist()\n",
    "female_heart_disease_ids_5digits = female_heart_disease_5digits[\"SUBJECT_ID\"].tolist()\n",
    "female_diabetes_ids_5digits = female_diabetes_5digits[\"SUBJECT_ID\"].tolist()\n",
    "\n",
    "female_heart_no_diabetes = np.isin(female_heart_disease_ids_5digits, female_diabetes_ids_5digits, invert=True)\n",
    "female_CAD_no_diabetes = np.isin(female_CAD_ids, female_diabetes_ids_5digits, invert=True)"
   ]
  },
  {
   "cell_type": "code",
   "execution_count": 39,
   "metadata": {},
   "outputs": [],
   "source": [
    "# Filter male patients with 3 digits codes for with ischemic diseases, heart diseases, diabetes and cardiovascular ones\n",
    "# also getting the SUBJECT IDs of each\n",
    "male_ischemic_5digits = binary_5digit_male_diagnoses[binary_5digit_male_diagnoses.value.str.contains(\"^b'D_4.+\", regex=True, na=False)]\n",
    "male_CAD = binary_5digit_male_diagnoses[binary_5digit_male_diagnoses.value.str.contains(\"^b'D_414\\.01+\", regex=True, na=False)]\n",
    "male_heart_disease_5digits = binary_5digit_male_diagnoses[binary_5digit_male_diagnoses.value.str.contains(\"b'D_429\", regex=True, na=False)]\n",
    "male_diabetes_5digits = binary_5digit_male_diagnoses[binary_5digit_male_diagnoses.value.str.contains(\"^b'D_250\", na=False)]\n",
    "male_ischemic_ids_5digits = male_ischemic_5digits[\"SUBJECT_ID\"].tolist()\n",
    "male_CAD_ids = male_CAD[\"SUBJECT_ID\"].tolist()\n",
    "male_heart_disease_ids_5digits = male_heart_disease_5digits[\"SUBJECT_ID\"].tolist()\n",
    "male_diabetes_ids_5digits = male_diabetes_5digits[\"SUBJECT_ID\"].tolist()\n",
    "\n",
    "male_heart_no_diabetes = np.isin(male_heart_disease_ids_5digits, male_diabetes_ids_5digits, invert=True)\n",
    "male_CAD_no_diabetes = np.isin(male_CAD_ids, male_diabetes_ids_5digits, invert=True)\n"
   ]
  },
  {
   "cell_type": "code",
   "execution_count": 41,
   "metadata": {},
   "outputs": [
    {
     "data": {
      "text/plain": [
       "744"
      ]
     },
     "execution_count": 41,
     "metadata": {},
     "output_type": "execute_result"
    }
   ],
   "source": [
    "# Get ids of female patients with heart disease + any type of diabetes\n",
    "females_heart_and_diabetes = binary_5digit_female_diagnoses[binary_5digit_female_diagnoses[\"SUBJECT_ID\"].isin(female_ischemic_ids_5digits)]\n",
    "females_heart_and_diabetes = females_heart_and_diabetes[females_heart_and_diabetes [\"SUBJECT_ID\"].isin(female_diabetes_ids_5digits)]\n",
    "female_heart_no_diabetes = np.isin(female_heart_disease_ids_5digits, female_diabetes_ids_5digits, invert=True)\n",
    "\n",
    "\n",
    "females_CAD_diabetes = binary_5digit_female_diagnoses[binary_5digit_female_diagnoses[\"SUBJECT_ID\"].isin(female_CAD_ids)]\n",
    "females_CAD_diabetes = females_CAD_diabetes[females_CAD_diabetes[\"SUBJECT_ID\"].isin(female_diabetes_ids_5digits)]\n",
    "females_CAD_diabetes[\"SUBJECT_ID\"].nunique() "
   ]
  },
  {
   "cell_type": "code",
   "execution_count": 42,
   "metadata": {},
   "outputs": [
    {
     "data": {
      "text/plain": [
       "2126"
      ]
     },
     "execution_count": 42,
     "metadata": {},
     "output_type": "execute_result"
    }
   ],
   "source": [
    "# Get ids of male patients with heart disease + any type of diabetes\n",
    "males_heart_and_diabetes = binary_5digit_male_diagnoses[binary_5digit_male_diagnoses[\"SUBJECT_ID\"].isin(male_ischemic_ids_5digits)]\n",
    "males_heart_and_diabetes = males_heart_and_diabetes[males_heart_and_diabetes[\"SUBJECT_ID\"].isin(male_diabetes_ids_5digits)]\n",
    "male_heart_no_diabetes = np.isin(male_heart_disease_ids_5digits, male_diabetes_ids_5digits, invert=True)\n",
    "\n",
    "males_CAD_diabetes = binary_5digit_male_diagnoses[binary_5digit_male_diagnoses[\"SUBJECT_ID\"].isin(male_CAD_ids)]\n",
    "males_CAD_diabetes = males_CAD_diabetes[males_CAD_diabetes[\"SUBJECT_ID\"].isin(male_diabetes_ids_5digits)]\n",
    "male_CAD_no_diabetes = np.isin(male_CAD_ids, male_diabetes_ids_5digits, invert=True)\n",
    "\n",
    "males_CAD_diabetes[\"SUBJECT_ID\"].nunique() "
   ]
  },
  {
   "cell_type": "code",
   "execution_count": null,
   "metadata": {},
   "outputs": [],
   "source": []
  },
  {
   "cell_type": "code",
   "execution_count": 43,
   "metadata": {},
   "outputs": [
    {
     "data": {
      "text/plain": [
       "5787"
      ]
     },
     "execution_count": 43,
     "metadata": {},
     "output_type": "execute_result"
    }
   ],
   "source": [
    "len(male_CAD)"
   ]
  },
  {
   "cell_type": "code",
   "execution_count": 44,
   "metadata": {},
   "outputs": [
    {
     "data": {
      "text/plain": [
       "2140"
      ]
     },
     "execution_count": 44,
     "metadata": {},
     "output_type": "execute_result"
    }
   ],
   "source": [
    "len(female_CAD)"
   ]
  },
  {
   "cell_type": "code",
   "execution_count": 45,
   "metadata": {},
   "outputs": [
    {
     "name": "stdout",
     "output_type": "stream",
     "text": [
      "145\n"
     ]
    }
   ],
   "source": [
    "print(len(female_heart_disease_5digits))"
   ]
  },
  {
   "cell_type": "code",
   "execution_count": 46,
   "metadata": {},
   "outputs": [
    {
     "name": "stdout",
     "output_type": "stream",
     "text": [
      "2041\n"
     ]
    }
   ],
   "source": [
    "print(females_heart_and_diabetes[\"SUBJECT_ID\"].nunique())"
   ]
  },
  {
   "cell_type": "code",
   "execution_count": 47,
   "metadata": {},
   "outputs": [
    {
     "name": "stdout",
     "output_type": "stream",
     "text": [
      "0\n"
     ]
    }
   ],
   "source": [
    "print(np.sum(female_heart_no_diabetes))"
   ]
  },
  {
   "cell_type": "code",
   "execution_count": 48,
   "metadata": {},
   "outputs": [
    {
     "name": "stdout",
     "output_type": "stream",
     "text": [
      "3633\n"
     ]
    }
   ],
   "source": [
    "print(males_heart_and_diabetes[\"SUBJECT_ID\"].nunique())"
   ]
  },
  {
   "cell_type": "code",
   "execution_count": 49,
   "metadata": {},
   "outputs": [
    {
     "name": "stdout",
     "output_type": "stream",
     "text": [
      "0\n"
     ]
    }
   ],
   "source": [
    "print(np.sum(male_heart_no_diabetes))\n"
   ]
  },
  {
   "cell_type": "code",
   "execution_count": 50,
   "metadata": {},
   "outputs": [
    {
     "name": "stdout",
     "output_type": "stream",
     "text": [
      "744\n"
     ]
    }
   ],
   "source": [
    "print(females_CAD_diabetes[\"SUBJECT_ID\"].nunique())\n"
   ]
  },
  {
   "cell_type": "code",
   "execution_count": 51,
   "metadata": {},
   "outputs": [
    {
     "name": "stdout",
     "output_type": "stream",
     "text": [
      "1396\n"
     ]
    }
   ],
   "source": [
    "print(np.sum(female_CAD_no_diabetes))"
   ]
  },
  {
   "cell_type": "code",
   "execution_count": 52,
   "metadata": {},
   "outputs": [
    {
     "name": "stdout",
     "output_type": "stream",
     "text": [
      "2140\n"
     ]
    }
   ],
   "source": [
    "print(len(female_CAD))"
   ]
  },
  {
   "cell_type": "code",
   "execution_count": 53,
   "metadata": {},
   "outputs": [
    {
     "name": "stdout",
     "output_type": "stream",
     "text": [
      "5787\n"
     ]
    }
   ],
   "source": [
    "print(len(male_CAD))"
   ]
  },
  {
   "cell_type": "code",
   "execution_count": 54,
   "metadata": {},
   "outputs": [
    {
     "name": "stdout",
     "output_type": "stream",
     "text": [
      "2126\n"
     ]
    }
   ],
   "source": [
    "print(males_CAD_diabetes[\"SUBJECT_ID\"].nunique())\n"
   ]
  },
  {
   "cell_type": "code",
   "execution_count": 55,
   "metadata": {},
   "outputs": [
    {
     "name": "stdout",
     "output_type": "stream",
     "text": [
      "3661\n"
     ]
    }
   ],
   "source": [
    "print(np.sum(male_CAD_no_diabetes))"
   ]
  },
  {
   "cell_type": "code",
   "execution_count": 56,
   "metadata": {},
   "outputs": [
    {
     "name": "stdout",
     "output_type": "stream",
     "text": [
      "12508\n",
      "2140\n",
      "5787\n"
     ]
    }
   ],
   "source": [
    "print(mixed_CAD['SUBJECT_ID'].nunique())\n",
    "print(female_CAD['SUBJECT_ID'].nunique())\n",
    "print(male_CAD['SUBJECT_ID'].nunique())"
   ]
  },
  {
   "cell_type": "code",
   "execution_count": null,
   "metadata": {},
   "outputs": [],
   "source": [
    "# get top 10 most ICD9-Codes for mixed patients\n",
    "n = 10\n",
    "mixed_5digit_diagnoses_top10 = binary_5digit_mixed_diagnoses['value'].value_counts()[:n]\n",
    "print(mixed_5digit_diagnoses_top10)"
   ]
  },
  {
   "cell_type": "code",
   "execution_count": null,
   "metadata": {},
   "outputs": [],
   "source": [
    "# get top 10 most ICD9-Codes for female patients\n",
    "n = 10\n",
    "female_5digit_diagnoses_top10 = binary_5digit_female_diagnoses['value'].value_counts()[:n]\n",
    "print(female_5digit_diagnoses_top10)"
   ]
  },
  {
   "cell_type": "code",
   "execution_count": null,
   "metadata": {},
   "outputs": [],
   "source": [
    "# get top 10 most ICD9-Codes for male patients\n",
    "n = 20\n",
    "male_5digit_diagnoses_top10 = binary_5digit_male_diagnoses['value'].value_counts()[:n]\n",
    "print(male_5digit_diagnoses_top10)"
   ]
  },
  {
   "cell_type": "code",
   "execution_count": null,
   "metadata": {},
   "outputs": [],
   "source": [
    "# get top 10 most ICD9-codes for ischemic diseases for mixed patients\n",
    "n = 10\n",
    "mixed_5digit_ischemic_top10 = mixed_ischemic_5digits['value'].value_counts()[:n]\n",
    "print(mixed_5digit_ischemic_top10)"
   ]
  },
  {
   "cell_type": "code",
   "execution_count": null,
   "metadata": {},
   "outputs": [],
   "source": [
    "# get top 10 most ICD9-codes for ischemic diseases for female patients\n",
    "n = 10\n",
    "female_5digit_ischemic_top10 = female_ischemic_5digits['value'].value_counts()[:n]\n",
    "print(female_5digit_ischemic_top10)"
   ]
  },
  {
   "cell_type": "code",
   "execution_count": null,
   "metadata": {},
   "outputs": [],
   "source": [
    "# get top 10 most ICD9-codes for ischemic diseases for male patients\n",
    "n = 10\n",
    "male_5digit_ischemic_top10 = male_ischemic_5digits['value'].value_counts()[:n]\n",
    "print(male_5digit_ischemic_top10)"
   ]
  },
  {
   "cell_type": "code",
   "execution_count": null,
   "metadata": {},
   "outputs": [],
   "source": [
    "# get top 10 most ICD9-codes for diabetic diseases for mixed patients\n",
    "n = 10\n",
    "mixed_5digit_diabetic_top10 = mixed_diabetes_5digits['value'].value_counts()[:n]\n",
    "print(mixed_5digit_diabetic_top10)"
   ]
  },
  {
   "cell_type": "code",
   "execution_count": null,
   "metadata": {},
   "outputs": [],
   "source": [
    "# get top 10 most ICD9-codes for diabetic diseases for female patients\n",
    "n = 10\n",
    "female_5digit_diabetic_top10 = female_diabetes_5digits['value'].value_counts()[:n]\n",
    "print(female_5digit_diabetic_top10)"
   ]
  },
  {
   "cell_type": "code",
   "execution_count": null,
   "metadata": {},
   "outputs": [],
   "source": [
    "# get top 10 most ICD9-codes for diabetic diseases for male patients\n",
    "n = 10\n",
    "male_5digit_diabetic_top10 = male_diabetes_5digits['value'].value_counts()[:n]\n",
    "print(male_5digit_diabetic_top10)"
   ]
  },
  {
   "cell_type": "code",
   "execution_count": null,
   "metadata": {},
   "outputs": [],
   "source": [
    "# Compare top n ICD9-Codes occurences for ischemic diseases\n",
    "n = 10\n",
    "\n",
    "graph_df = mixed_ischemic_5digits['value'].value_counts(normalize=True)[:n].rename('MIXED ICD').to_frame()\\\n",
    "            .join(female_ischemic_5digits['value'].value_counts(normalize=True)[:n].rename('FEMALE ICD').to_frame())\\\n",
    "               .join(male_ischemic_5digits['value'].value_counts(normalize=True)[:n].rename('MALE ICD').to_frame())\n",
    "\n",
    "graph_df.plot(kind='bar',figsize=(16, 8))"
   ]
  },
  {
   "cell_type": "code",
   "execution_count": null,
   "metadata": {},
   "outputs": [],
   "source": [
    "# Compare top n ICD9-Codes occurences for diabetic diseases\n",
    "n = 10\n",
    "\n",
    "graph_df = mixed_diabetes_5digits['value'].value_counts(normalize=False)[:n].rename('MIXED ICD').to_frame()\\\n",
    "            .join(female_diabetes_5digits['value'].value_counts(normalize=False)[:n].rename('FEMALE ICD').to_frame())\\\n",
    "               .join(male_diabetes_5digits['value'].value_counts(normalize=False)[:n].rename('MALE ICD').to_frame())\n",
    "\n",
    "graph_df.plot(kind='bar',figsize=(16, 8))"
   ]
  },
  {
   "cell_type": "code",
   "execution_count": null,
   "metadata": {},
   "outputs": [],
   "source": []
  },
  {
   "cell_type": "code",
   "execution_count": null,
   "metadata": {},
   "outputs": [],
   "source": [
    "# Get ids of mixed patients with heart disease + any type of diabetes\n",
    "mixed_heart_and_diabetes = binary_5digit_mixed_diagnoses[binary_5digit_mixed_diagnoses[\"SUBJECT_ID\"].isin(mixed_ischemic_ids_5digits)]\n",
    "mixed_heart_and_diabetes = mixed_heart_and_diabetes[mixed_heart_and_diabetes [\"SUBJECT_ID\"].isin(mixed_diabetes_ids_5digits)]\n",
    "mixed_CAD_diabetes = binary_5digit_mixed_diagnoses[binary_5digit_mixed_diagnoses[\"SUBJECT_ID\"].isin(mixed_CAD_ids)]\n",
    "mixed_CAD_diabetes = mixed_CAD_diabetes[mixed_CAD_diabetes[\"SUBJECT_ID\"].isin(mixed_diabetes_ids_5digits)]\n",
    "mixed_CAD_diabetes[\"SUBJECT_ID\"].nunique() "
   ]
  },
  {
   "cell_type": "code",
   "execution_count": null,
   "metadata": {},
   "outputs": [],
   "source": [
    "# Get ids of male patients with heart disease + any type of diabetes\n",
    "males_heart_and_diabetes = binary_5digit_male_diagnoses[binary_5digit_male_diagnoses[\"SUBJECT_ID\"].isin(male_ischemic_ids_5digits)]\n",
    "males_heart_and_diabetes = males_heart_and_diabetes[males_heart_and_diabetes[\"SUBJECT_ID\"].isin(male_diabetes_ids_5digits)]\n",
    "male_heart_no_diabetes = np.isin(males_heart_disease_ids_5digits, males_diabetes_ids_5digits, invert=True)\n",
    "\n",
    "males_CAD_diabetes = binary_5digit_male_diagnoses[binary_5digit_male_diagnoses[\"SUBJECT_ID\"].isin(male_CAD_ids)]\n",
    "males_CAD_diabetes = males_CAD_diabetes[males_CAD_diabetes[\"SUBJECT_ID\"].isin(male_diabetes_ids_5digits)]\n",
    "male_CAD_no_diabetes = np.isin(males_CAD_ids_3, males_diabetes_ids, invert=True)\n",
    "\n",
    "males_CAD_diabetes[\"SUBJECT_ID\"].nunique() "
   ]
  },
  {
   "cell_type": "code",
   "execution_count": null,
   "metadata": {},
   "outputs": [],
   "source": [
    "# Get ids of female patients with heart disease + any type of diabetes\n",
    "females_heart_and_diabetes = binary_5digit_female_diagnoses[binary_5digit_female_diagnoses[\"SUBJECT_ID\"].isin(female_ischemic_ids_5digits)]\n",
    "females_heart_and_diabetes = females_heart_and_diabetes[females_heart_and_diabetes [\"SUBJECT_ID\"].isin(female_diabetes_ids_5digits)]\n",
    "females_CAD_diabetes = binary_5digit_female_diagnoses[binary_5digit_female_diagnoses[\"SUBJECT_ID\"].isin(female_CAD_ids)]\n",
    "females_CAD_diabetes = females_CAD_diabetes[females_CAD_diabetes[\"SUBJECT_ID\"].isin(female_diabetes_ids_5digits)]\n",
    "females_CAD_diabetes[\"SUBJECT_ID\"].nunique() "
   ]
  },
  {
   "cell_type": "code",
   "execution_count": null,
   "metadata": {},
   "outputs": [],
   "source": [
    "# Original data\n",
    "diagnoses_icd = pd.read_csv('/Users/nicenoize/Documents/Bachelorarbeit/mimic-iii-clinical-database-1.4/DIAGNOSES_ICD.csv')"
   ]
  },
  {
   "cell_type": "code",
   "execution_count": null,
   "metadata": {},
   "outputs": [],
   "source": [
    "diagnoses_icd[\"ICD9_CODE\"].value_counts()"
   ]
  },
  {
   "cell_type": "code",
   "execution_count": null,
   "metadata": {},
   "outputs": [],
   "source": [
    "print(mixed_diagnoses_icd['value'].value_counts())"
   ]
  },
  {
   "cell_type": "code",
   "execution_count": null,
   "metadata": {},
   "outputs": [],
   "source": [
    "print(male_diagnoses_icd['value'].value_counts())"
   ]
  },
  {
   "cell_type": "code",
   "execution_count": null,
   "metadata": {},
   "outputs": [],
   "source": [
    "print(female_diagnoses_icd['value'].value_counts())"
   ]
  },
  {
   "cell_type": "code",
   "execution_count": null,
   "metadata": {},
   "outputs": [],
   "source": [
    "mixed_generated_patients = np.load('/Users/nicenoize/Documents/Bachelorarbeit/mimic-iii-clinical-database-1.4/BINARY_PATIENTS/binary_5digit_mixed.npy')\n",
    "female_generated_patients = np.load('/Users/nicenoize/Documents/Bachelorarbeit/mimic-iii-clinical-database-1.4/BINARY_PATIENTS/binary_5digit_female.npy')\n",
    "male_generated_patients = np.load('/Users/nicenoize/Documents/Bachelorarbeit/mimic-iii-clinical-database-1.4/BINARY_PATIENTS/binary_5digit_male.npy')\n",
    "mixed_dataset = np.load('/Users/nicenoize/Documents/Bachelorarbeit/mimic-iii-clinical-database-1.4/binary_5digit_mixed.matrix')\n",
    "female_dataset = np.load('/Users/nicenoize/Documents/Bachelorarbeit/mimic-iii-clinical-database-1.4/binary_5digit_female.matrix')\n",
    "male_dataset = np.load('/Users/nicenoize/Documents/Bachelorarbeit/mimic-iii-clinical-database-1.4/binary_5digit_male.matrix')\n",
    "mixed_full = np.load('/Users/nicenoize/Documents/Bachelorarbeit/binary_5digit_mixed_full.npy')\n",
    "female_full = np.load('/Users/nicenoize/Documents/Bachelorarbeit/binary_5digit_female_full.npy')\n",
    "male_full = np.load('/Users/nicenoize/Documents/Bachelorarbeit/binary_5digit_male_full.npy')\n",
    "print(mixed_full.shape)\n",
    "#print(mixed_dataset.shape)\n",
    "print(female_full.shape)\n",
    "print(female_dataset.shape)\n",
    "print(male_full.shape)\n",
    "print(male_dataset.shape)"
   ]
  },
  {
   "cell_type": "code",
   "execution_count": null,
   "metadata": {},
   "outputs": [],
   "source": [
    "male_dataset = np.delete(male_dataset, 119, axis=0)\n",
    "print(male_dataset.shape)"
   ]
  },
  {
   "cell_type": "code",
   "execution_count": null,
   "metadata": {},
   "outputs": [],
   "source": [
    "test = np.load('/Users/nicenoize/Documents/Bachelorarbeit/mimic-iii-clinical-database-1.4/binary_5digit_mixed.matrix')\n",
    "print(test)"
   ]
  },
  {
   "cell_type": "code",
   "execution_count": null,
   "metadata": {},
   "outputs": [],
   "source": [
    "print(mixed_dataset.shape)\n",
    "print(mixed_generated.shape)\n",
    "print(female_dataset.shape)\n",
    "print(female_generated.shape)\n",
    "print(male_dataset.shape)\n",
    "print(male_generated.shape)"
   ]
  },
  {
   "cell_type": "code",
   "execution_count": null,
   "metadata": {},
   "outputs": [],
   "source": [
    "orphan_codes = pd.read_csv('/Users/nicenoize/Documents/Bachelorarbeit/mimic-iii-clinical-database-1.4/orphandiseases.csv')\n",
    "# Drop all rows where orpha is NaN\n",
    "orphan_codes = orphan_codes[np.isfinite(orphan_codes['orpha'])]\n",
    "# Generates list of orphan diseases\n",
    "# with 962 ICD9 Codes\n",
    "orphan_codes_icd = orphan_codes['icd9'].tolist()\n",
    "# List of ICD9 Codes from dataset\n",
    "#diagnoses_icd = diagnoses_icd['ICD9_CODE'].unique()"
   ]
  },
  {
   "cell_type": "code",
   "execution_count": null,
   "metadata": {},
   "outputs": [],
   "source": [
    "mixed_codes = binary_5digit_mixed_diagnoses.value.tolist()\n",
    "print(mixed_codes)"
   ]
  },
  {
   "cell_type": "code",
   "execution_count": null,
   "metadata": {},
   "outputs": [],
   "source": [
    "orphan_dataset_mixed = set(binary_5digit_mixed_diagnoses.value.tolist()).intersection(orphan_codes_icd)\n",
    "orphan_dataset_female = set(binary_5digit_female_diagnoses).intersection(orphan_codes_icd)\n",
    "orphan_dataset_male = set(binary_5digit_male_diagnoses).intersection(orphan_codes_icd)"
   ]
  },
  {
   "cell_type": "code",
   "execution_count": null,
   "metadata": {},
   "outputs": [],
   "source": [
    "print(orphan_dataset_mixed)\n",
    "print(orphan_dataset_female)\n",
    "print(orphan_dataset_male)"
   ]
  },
  {
   "cell_type": "code",
   "execution_count": null,
   "metadata": {},
   "outputs": [],
   "source": [
    "mixed_types = np.load('/Users/nicenoize/Documents/Bachelorarbeit/mimic-iii-clinical-database-1.4/binary_5digit_mixed.types')\n",
    "mixed_types_inv = {v: k for k, v in binary_5digit_mixed_types.items()}\n",
    "mixed_codes = list(mixed_types_inv.values())\n",
    "female_types = np.load('/Users/nicenoize/Documents/Bachelorarbeit/mimic-iii-clinical-database-1.4/binary_5digit_female.types')\n",
    "female_types_inv = {v: k for k, v in binary_5digit_female_types.items()}\n",
    "female_codes = list(female_types_inv.values())\n",
    "male_types = np.load('/Users/nicenoize/Documents/Bachelorarbeit/mimic-iii-clinical-database-1.4/binary_5digit_male.types')\n",
    "male_types_inv = {v: k for k, v in binary_5digit_male_types.items()}\n",
    "male_codes = list(male_types_inv.values())\n",
    "print(mixed_codes)"
   ]
  },
  {
   "cell_type": "code",
   "execution_count": null,
   "metadata": {},
   "outputs": [],
   "source": [
    "print(mixed_generated)"
   ]
  },
  {
   "cell_type": "code",
   "execution_count": null,
   "metadata": {},
   "outputs": [],
   "source": []
  },
  {
   "cell_type": "code",
   "execution_count": null,
   "metadata": {},
   "outputs": [],
   "source": []
  }
 ],
 "metadata": {
  "kernelspec": {
   "display_name": "Python 3",
   "language": "python",
   "name": "python3"
  },
  "language_info": {
   "codemirror_mode": {
    "name": "ipython",
    "version": 3
   },
   "file_extension": ".py",
   "mimetype": "text/x-python",
   "name": "python",
   "nbconvert_exporter": "python",
   "pygments_lexer": "ipython3",
   "version": "3.6.9"
  }
 },
 "nbformat": 4,
 "nbformat_minor": 2
}
