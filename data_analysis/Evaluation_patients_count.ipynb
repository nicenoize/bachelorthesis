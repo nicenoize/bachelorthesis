{
 "cells": [
  {
   "cell_type": "code",
   "execution_count": 74,
   "metadata": {},
   "outputs": [],
   "source": [
    "import random\n",
    "import numpy as np \n",
    "from io import StringIO\n",
    "import pandas as pd\n",
    "from pandas import DataFrame\n",
    "import seaborn as sns\n",
    "import matplotlib.pyplot as plt\n",
    "import re"
   ]
  },
  {
   "cell_type": "code",
   "execution_count": 75,
   "metadata": {},
   "outputs": [],
   "source": [
    "# Count\n",
    "mixed_count = pd.read_csv('/Users/nicenoize/Documents/Bachelorarbeit/mimic-iii-clinical-database-1.4/COUNT_PATIENTS/mixed_count.csv')\n",
    "male_count = pd.read_csv('/Users/nicenoize/Documents/Bachelorarbeit/mimic-iii-clinical-database-1.4/COUNT_PATIENTS/male_count.csv')\n",
    "female_count = pd.read_csv('/Users/nicenoize/Documents/Bachelorarbeit/mimic-iii-clinical-database-1.4/COUNT_PATIENTS/female_count.csv')"
   ]
  },
  {
   "cell_type": "code",
   "execution_count": 94,
   "metadata": {},
   "outputs": [
    {
     "data": {
      "text/plain": [
       "(10000, 907)"
      ]
     },
     "execution_count": 94,
     "metadata": {},
     "output_type": "execute_result"
    }
   ],
   "source": [
    "mixed_count.shape"
   ]
  },
  {
   "cell_type": "code",
   "execution_count": 95,
   "metadata": {},
   "outputs": [
    {
     "data": {
      "text/plain": [
       "(10000, 849)"
      ]
     },
     "execution_count": 95,
     "metadata": {},
     "output_type": "execute_result"
    }
   ],
   "source": [
    "male_count.shape"
   ]
  },
  {
   "cell_type": "code",
   "execution_count": 96,
   "metadata": {},
   "outputs": [
    {
     "data": {
      "text/plain": [
       "(10000, 858)"
      ]
     },
     "execution_count": 96,
     "metadata": {},
     "output_type": "execute_result"
    }
   ],
   "source": [
    "female_count.shape"
   ]
  },
  {
   "cell_type": "code",
   "execution_count": 97,
   "metadata": {},
   "outputs": [
    {
     "name": "stdout",
     "output_type": "stream",
     "text": [
      "[2528, 4321, 9101, 6702, 3416]\n"
     ]
    }
   ],
   "source": [
    "# Generate 10 random numbers to select patients\n",
    "randomlist = []\n",
    "for i in range(0,5):\n",
    "    n = random.randint(1,10000)\n",
    "    randomlist.append(n)\n",
    "print(randomlist)"
   ]
  },
  {
   "cell_type": "code",
   "execution_count": 77,
   "metadata": {},
   "outputs": [],
   "source": [
    "mixed_patients = []\n",
    "female_patients = []\n",
    "male_patients = []"
   ]
  },
  {
   "cell_type": "code",
   "execution_count": null,
   "metadata": {},
   "outputs": [],
   "source": []
  },
  {
   "cell_type": "code",
   "execution_count": 89,
   "metadata": {},
   "outputs": [
    {
     "data": {
      "text/html": [
       "<div>\n",
       "<style scoped>\n",
       "    .dataframe tbody tr th:only-of-type {\n",
       "        vertical-align: middle;\n",
       "    }\n",
       "\n",
       "    .dataframe tbody tr th {\n",
       "        vertical-align: top;\n",
       "    }\n",
       "\n",
       "    .dataframe thead th {\n",
       "        text-align: right;\n",
       "    }\n",
       "</style>\n",
       "<table border=\"1\" class=\"dataframe\">\n",
       "  <thead>\n",
       "    <tr style=\"text-align: right;\">\n",
       "      <th></th>\n",
       "      <th>Unnamed: 0</th>\n",
       "      <th>D_67</th>\n",
       "      <th>D_69</th>\n",
       "      <th>D_950</th>\n",
       "      <th>D_48</th>\n",
       "      <th>D_962</th>\n",
       "      <th>D_01</th>\n",
       "      <th>D_140</th>\n",
       "      <th>D_11</th>\n",
       "      <th>D_24</th>\n",
       "      <th>...</th>\n",
       "      <th>D_091</th>\n",
       "      <th>D_827</th>\n",
       "      <th>D_193</th>\n",
       "      <th>D_248</th>\n",
       "      <th>D_631</th>\n",
       "      <th>D_495</th>\n",
       "      <th>D_342</th>\n",
       "      <th>D_343</th>\n",
       "      <th>D_915</th>\n",
       "      <th>D_903</th>\n",
       "    </tr>\n",
       "  </thead>\n",
       "  <tbody>\n",
       "    <tr>\n",
       "      <td>2688</td>\n",
       "      <td>2688</td>\n",
       "      <td>0.0</td>\n",
       "      <td>2.0</td>\n",
       "      <td>1.0</td>\n",
       "      <td>1.0</td>\n",
       "      <td>0.0</td>\n",
       "      <td>2.0</td>\n",
       "      <td>1.0</td>\n",
       "      <td>3.0</td>\n",
       "      <td>0.0</td>\n",
       "      <td>...</td>\n",
       "      <td>0.0</td>\n",
       "      <td>0.0</td>\n",
       "      <td>0.0</td>\n",
       "      <td>0.0</td>\n",
       "      <td>0.0</td>\n",
       "      <td>0.0</td>\n",
       "      <td>0.0</td>\n",
       "      <td>0.0</td>\n",
       "      <td>0.0</td>\n",
       "      <td>0.0</td>\n",
       "    </tr>\n",
       "    <tr>\n",
       "      <td>3297</td>\n",
       "      <td>3297</td>\n",
       "      <td>0.0</td>\n",
       "      <td>1.0</td>\n",
       "      <td>2.0</td>\n",
       "      <td>1.0</td>\n",
       "      <td>0.0</td>\n",
       "      <td>1.0</td>\n",
       "      <td>1.0</td>\n",
       "      <td>0.0</td>\n",
       "      <td>0.0</td>\n",
       "      <td>...</td>\n",
       "      <td>0.0</td>\n",
       "      <td>0.0</td>\n",
       "      <td>0.0</td>\n",
       "      <td>0.0</td>\n",
       "      <td>0.0</td>\n",
       "      <td>0.0</td>\n",
       "      <td>0.0</td>\n",
       "      <td>0.0</td>\n",
       "      <td>0.0</td>\n",
       "      <td>0.0</td>\n",
       "    </tr>\n",
       "    <tr>\n",
       "      <td>8681</td>\n",
       "      <td>8681</td>\n",
       "      <td>1.0</td>\n",
       "      <td>2.0</td>\n",
       "      <td>2.0</td>\n",
       "      <td>5.0</td>\n",
       "      <td>0.0</td>\n",
       "      <td>5.0</td>\n",
       "      <td>4.0</td>\n",
       "      <td>5.0</td>\n",
       "      <td>8.0</td>\n",
       "      <td>...</td>\n",
       "      <td>0.0</td>\n",
       "      <td>0.0</td>\n",
       "      <td>0.0</td>\n",
       "      <td>0.0</td>\n",
       "      <td>0.0</td>\n",
       "      <td>0.0</td>\n",
       "      <td>0.0</td>\n",
       "      <td>0.0</td>\n",
       "      <td>0.0</td>\n",
       "      <td>0.0</td>\n",
       "    </tr>\n",
       "  </tbody>\n",
       "</table>\n",
       "<p>3 rows × 907 columns</p>\n",
       "</div>"
      ],
      "text/plain": [
       "      Unnamed: 0  D_67  D_69  D_950  D_48  D_962  D_01  D_140  D_11  D_24  \\\n",
       "2688        2688   0.0   2.0    1.0   1.0    0.0   2.0    1.0   3.0   0.0   \n",
       "3297        3297   0.0   1.0    2.0   1.0    0.0   1.0    1.0   0.0   0.0   \n",
       "8681        8681   1.0   2.0    2.0   5.0    0.0   5.0    4.0   5.0   8.0   \n",
       "\n",
       "      ...  D_091  D_827  D_193  D_248  D_631  D_495  D_342  D_343  D_915  \\\n",
       "2688  ...    0.0    0.0    0.0    0.0    0.0    0.0    0.0    0.0    0.0   \n",
       "3297  ...    0.0    0.0    0.0    0.0    0.0    0.0    0.0    0.0    0.0   \n",
       "8681  ...    0.0    0.0    0.0    0.0    0.0    0.0    0.0    0.0    0.0   \n",
       "\n",
       "      D_903  \n",
       "2688    0.0  \n",
       "3297    0.0  \n",
       "8681    0.0  \n",
       "\n",
       "[3 rows x 907 columns]"
      ]
     },
     "execution_count": 89,
     "metadata": {},
     "output_type": "execute_result"
    }
   ],
   "source": [
    "mixed_count.loc[mixed_count['D_138'] != 0]"
   ]
  },
  {
   "cell_type": "code",
   "execution_count": 91,
   "metadata": {},
   "outputs": [
    {
     "data": {
      "text/html": [
       "<div>\n",
       "<style scoped>\n",
       "    .dataframe tbody tr th:only-of-type {\n",
       "        vertical-align: middle;\n",
       "    }\n",
       "\n",
       "    .dataframe tbody tr th {\n",
       "        vertical-align: top;\n",
       "    }\n",
       "\n",
       "    .dataframe thead th {\n",
       "        text-align: right;\n",
       "    }\n",
       "</style>\n",
       "<table border=\"1\" class=\"dataframe\">\n",
       "  <thead>\n",
       "    <tr style=\"text-align: right;\">\n",
       "      <th></th>\n",
       "      <th>Unnamed: 0</th>\n",
       "      <th>D_67</th>\n",
       "      <th>D_69</th>\n",
       "      <th>D_950</th>\n",
       "      <th>D_48</th>\n",
       "      <th>D_962</th>\n",
       "      <th>D_01</th>\n",
       "      <th>D_140</th>\n",
       "      <th>D_11</th>\n",
       "      <th>D_24</th>\n",
       "      <th>...</th>\n",
       "      <th>D_091</th>\n",
       "      <th>D_827</th>\n",
       "      <th>D_193</th>\n",
       "      <th>D_248</th>\n",
       "      <th>D_631</th>\n",
       "      <th>D_495</th>\n",
       "      <th>D_342</th>\n",
       "      <th>D_343</th>\n",
       "      <th>D_915</th>\n",
       "      <th>D_903</th>\n",
       "    </tr>\n",
       "  </thead>\n",
       "  <tbody>\n",
       "    <tr>\n",
       "      <td>25</td>\n",
       "      <td>25</td>\n",
       "      <td>1.0</td>\n",
       "      <td>1.0</td>\n",
       "      <td>1.0</td>\n",
       "      <td>1.0</td>\n",
       "      <td>1.0</td>\n",
       "      <td>4.0</td>\n",
       "      <td>4.0</td>\n",
       "      <td>5.0</td>\n",
       "      <td>4.0</td>\n",
       "      <td>...</td>\n",
       "      <td>0.0</td>\n",
       "      <td>0.0</td>\n",
       "      <td>0.0</td>\n",
       "      <td>0.0</td>\n",
       "      <td>0.0</td>\n",
       "      <td>0.0</td>\n",
       "      <td>0.0</td>\n",
       "      <td>0.0</td>\n",
       "      <td>0.0</td>\n",
       "      <td>0.0</td>\n",
       "    </tr>\n",
       "    <tr>\n",
       "      <td>1325</td>\n",
       "      <td>1325</td>\n",
       "      <td>1.0</td>\n",
       "      <td>2.0</td>\n",
       "      <td>1.0</td>\n",
       "      <td>1.0</td>\n",
       "      <td>0.0</td>\n",
       "      <td>4.0</td>\n",
       "      <td>3.0</td>\n",
       "      <td>2.0</td>\n",
       "      <td>3.0</td>\n",
       "      <td>...</td>\n",
       "      <td>0.0</td>\n",
       "      <td>0.0</td>\n",
       "      <td>0.0</td>\n",
       "      <td>0.0</td>\n",
       "      <td>0.0</td>\n",
       "      <td>0.0</td>\n",
       "      <td>0.0</td>\n",
       "      <td>0.0</td>\n",
       "      <td>0.0</td>\n",
       "      <td>0.0</td>\n",
       "    </tr>\n",
       "    <tr>\n",
       "      <td>2748</td>\n",
       "      <td>2748</td>\n",
       "      <td>0.0</td>\n",
       "      <td>0.0</td>\n",
       "      <td>1.0</td>\n",
       "      <td>0.0</td>\n",
       "      <td>0.0</td>\n",
       "      <td>3.0</td>\n",
       "      <td>1.0</td>\n",
       "      <td>0.0</td>\n",
       "      <td>0.0</td>\n",
       "      <td>...</td>\n",
       "      <td>0.0</td>\n",
       "      <td>0.0</td>\n",
       "      <td>0.0</td>\n",
       "      <td>0.0</td>\n",
       "      <td>0.0</td>\n",
       "      <td>0.0</td>\n",
       "      <td>0.0</td>\n",
       "      <td>0.0</td>\n",
       "      <td>0.0</td>\n",
       "      <td>0.0</td>\n",
       "    </tr>\n",
       "    <tr>\n",
       "      <td>3289</td>\n",
       "      <td>3289</td>\n",
       "      <td>2.0</td>\n",
       "      <td>4.0</td>\n",
       "      <td>4.0</td>\n",
       "      <td>2.0</td>\n",
       "      <td>1.0</td>\n",
       "      <td>1.0</td>\n",
       "      <td>2.0</td>\n",
       "      <td>2.0</td>\n",
       "      <td>0.0</td>\n",
       "      <td>...</td>\n",
       "      <td>0.0</td>\n",
       "      <td>0.0</td>\n",
       "      <td>0.0</td>\n",
       "      <td>0.0</td>\n",
       "      <td>0.0</td>\n",
       "      <td>0.0</td>\n",
       "      <td>0.0</td>\n",
       "      <td>0.0</td>\n",
       "      <td>0.0</td>\n",
       "      <td>0.0</td>\n",
       "    </tr>\n",
       "    <tr>\n",
       "      <td>6568</td>\n",
       "      <td>6568</td>\n",
       "      <td>1.0</td>\n",
       "      <td>2.0</td>\n",
       "      <td>3.0</td>\n",
       "      <td>4.0</td>\n",
       "      <td>0.0</td>\n",
       "      <td>4.0</td>\n",
       "      <td>0.0</td>\n",
       "      <td>0.0</td>\n",
       "      <td>0.0</td>\n",
       "      <td>...</td>\n",
       "      <td>0.0</td>\n",
       "      <td>0.0</td>\n",
       "      <td>0.0</td>\n",
       "      <td>0.0</td>\n",
       "      <td>0.0</td>\n",
       "      <td>0.0</td>\n",
       "      <td>0.0</td>\n",
       "      <td>0.0</td>\n",
       "      <td>0.0</td>\n",
       "      <td>0.0</td>\n",
       "    </tr>\n",
       "    <tr>\n",
       "      <td>7440</td>\n",
       "      <td>7440</td>\n",
       "      <td>0.0</td>\n",
       "      <td>0.0</td>\n",
       "      <td>1.0</td>\n",
       "      <td>3.0</td>\n",
       "      <td>1.0</td>\n",
       "      <td>4.0</td>\n",
       "      <td>0.0</td>\n",
       "      <td>1.0</td>\n",
       "      <td>3.0</td>\n",
       "      <td>...</td>\n",
       "      <td>0.0</td>\n",
       "      <td>0.0</td>\n",
       "      <td>0.0</td>\n",
       "      <td>0.0</td>\n",
       "      <td>0.0</td>\n",
       "      <td>0.0</td>\n",
       "      <td>0.0</td>\n",
       "      <td>0.0</td>\n",
       "      <td>0.0</td>\n",
       "      <td>0.0</td>\n",
       "    </tr>\n",
       "    <tr>\n",
       "      <td>8252</td>\n",
       "      <td>8252</td>\n",
       "      <td>2.0</td>\n",
       "      <td>0.0</td>\n",
       "      <td>1.0</td>\n",
       "      <td>1.0</td>\n",
       "      <td>1.0</td>\n",
       "      <td>3.0</td>\n",
       "      <td>5.0</td>\n",
       "      <td>4.0</td>\n",
       "      <td>3.0</td>\n",
       "      <td>...</td>\n",
       "      <td>0.0</td>\n",
       "      <td>0.0</td>\n",
       "      <td>0.0</td>\n",
       "      <td>0.0</td>\n",
       "      <td>0.0</td>\n",
       "      <td>0.0</td>\n",
       "      <td>0.0</td>\n",
       "      <td>0.0</td>\n",
       "      <td>0.0</td>\n",
       "      <td>0.0</td>\n",
       "    </tr>\n",
       "  </tbody>\n",
       "</table>\n",
       "<p>7 rows × 907 columns</p>\n",
       "</div>"
      ],
      "text/plain": [
       "      Unnamed: 0  D_67  D_69  D_950  D_48  D_962  D_01  D_140  D_11  D_24  \\\n",
       "25            25   1.0   1.0    1.0   1.0    1.0   4.0    4.0   5.0   4.0   \n",
       "1325        1325   1.0   2.0    1.0   1.0    0.0   4.0    3.0   2.0   3.0   \n",
       "2748        2748   0.0   0.0    1.0   0.0    0.0   3.0    1.0   0.0   0.0   \n",
       "3289        3289   2.0   4.0    4.0   2.0    1.0   1.0    2.0   2.0   0.0   \n",
       "6568        6568   1.0   2.0    3.0   4.0    0.0   4.0    0.0   0.0   0.0   \n",
       "7440        7440   0.0   0.0    1.0   3.0    1.0   4.0    0.0   1.0   3.0   \n",
       "8252        8252   2.0   0.0    1.0   1.0    1.0   3.0    5.0   4.0   3.0   \n",
       "\n",
       "      ...  D_091  D_827  D_193  D_248  D_631  D_495  D_342  D_343  D_915  \\\n",
       "25    ...    0.0    0.0    0.0    0.0    0.0    0.0    0.0    0.0    0.0   \n",
       "1325  ...    0.0    0.0    0.0    0.0    0.0    0.0    0.0    0.0    0.0   \n",
       "2748  ...    0.0    0.0    0.0    0.0    0.0    0.0    0.0    0.0    0.0   \n",
       "3289  ...    0.0    0.0    0.0    0.0    0.0    0.0    0.0    0.0    0.0   \n",
       "6568  ...    0.0    0.0    0.0    0.0    0.0    0.0    0.0    0.0    0.0   \n",
       "7440  ...    0.0    0.0    0.0    0.0    0.0    0.0    0.0    0.0    0.0   \n",
       "8252  ...    0.0    0.0    0.0    0.0    0.0    0.0    0.0    0.0    0.0   \n",
       "\n",
       "      D_903  \n",
       "25      0.0  \n",
       "1325    0.0  \n",
       "2748    0.0  \n",
       "3289    0.0  \n",
       "6568    0.0  \n",
       "7440    0.0  \n",
       "8252    0.0  \n",
       "\n",
       "[7 rows x 907 columns]"
      ]
     },
     "execution_count": 91,
     "metadata": {},
     "output_type": "execute_result"
    }
   ],
   "source": [
    "mixed_count.loc[mixed_count['D_075'] != 0]"
   ]
  },
  {
   "cell_type": "code",
   "execution_count": null,
   "metadata": {},
   "outputs": [],
   "source": [
    "mixed_count.loc[mixed_count['D_138'] != 0]"
   ]
  },
  {
   "cell_type": "code",
   "execution_count": 92,
   "metadata": {},
   "outputs": [
    {
     "data": {
      "text/html": [
       "<div>\n",
       "<style scoped>\n",
       "    .dataframe tbody tr th:only-of-type {\n",
       "        vertical-align: middle;\n",
       "    }\n",
       "\n",
       "    .dataframe tbody tr th {\n",
       "        vertical-align: top;\n",
       "    }\n",
       "\n",
       "    .dataframe thead th {\n",
       "        text-align: right;\n",
       "    }\n",
       "</style>\n",
       "<table border=\"1\" class=\"dataframe\">\n",
       "  <thead>\n",
       "    <tr style=\"text-align: right;\">\n",
       "      <th></th>\n",
       "      <th>Unnamed: 0</th>\n",
       "      <th>D_67</th>\n",
       "      <th>D_69</th>\n",
       "      <th>D_950</th>\n",
       "      <th>D_48</th>\n",
       "      <th>D_962</th>\n",
       "      <th>D_01</th>\n",
       "      <th>D_140</th>\n",
       "      <th>D_11</th>\n",
       "      <th>D_24</th>\n",
       "      <th>...</th>\n",
       "      <th>D_091</th>\n",
       "      <th>D_827</th>\n",
       "      <th>D_193</th>\n",
       "      <th>D_248</th>\n",
       "      <th>D_631</th>\n",
       "      <th>D_495</th>\n",
       "      <th>D_342</th>\n",
       "      <th>D_343</th>\n",
       "      <th>D_915</th>\n",
       "      <th>D_903</th>\n",
       "    </tr>\n",
       "  </thead>\n",
       "  <tbody>\n",
       "  </tbody>\n",
       "</table>\n",
       "<p>0 rows × 907 columns</p>\n",
       "</div>"
      ],
      "text/plain": [
       "Empty DataFrame\n",
       "Columns: [Unnamed: 0, D_67, D_69, D_950, D_48, D_962, D_01, D_140, D_11, D_24, D_458, D_72, D_000, D_89, D_25, D_803, D_457, D_158, D_104, D_308, D_500, D_107, D_501, D_960, D_27, D_28, D_273, D_1, D_93, D_300, D_70, D_29, D_05, D_9, D_26, D_002, D_17, D_967, D_16, D_45, D_019, D_8, D_625, D_933, D_37, D_19, D_53, D_805, D_780, D_38, D_92, D_939, D_97, D_879, D_278, D_282, D_586, D_44, D_65, D_96, D_87, D_159, D_105, D_983, D_981, D_151, D_532, D_18, D_973, D_355, D_85, D_088, D_959, D_84, D_98, D_60, D_08, D_870, D_6, D_74, D_76, D_651, D_91, D_13, D_824, D_07, D_070, D_12, D_828, D_882, D_100, D_09, D_71, D_86, D_562, D_188, D_958, D_73, D_381, D_99, ...]\n",
       "Index: []\n",
       "\n",
       "[0 rows x 907 columns]"
      ]
     },
     "execution_count": 92,
     "metadata": {},
     "output_type": "execute_result"
    }
   ],
   "source": [
    "mixed_count.loc[mixed_count['D_515'] != 0]"
   ]
  },
  {
   "cell_type": "code",
   "execution_count": 78,
   "metadata": {},
   "outputs": [],
   "source": [
    "for x in randomlist:\n",
    " mixed_patient = mixed_count.loc[x].to_dict()\n",
    " female_patient = female_count.loc[x].to_dict()\n",
    " male_patient = female_count.loc[x].to_dict()\n",
    " mixed_patients.append({k: v for k, v in mixed_patient.items() if v != 0.0})\n",
    " female_patients.append({k: v for k, v in female_patient.items() if v != 0.0})  \n",
    " male_patients.append({k: v for k, v in male_patient.items() if v != 0.0}) "
   ]
  },
  {
   "cell_type": "code",
   "execution_count": 79,
   "metadata": {},
   "outputs": [
    {
     "name": "stdout",
     "output_type": "stream",
     "text": [
      "[{'Unnamed: 0': 8880.0, 'D_05': 2.0, 'D_651': 1.0}, {'Unnamed: 0': 682.0, 'D_72': 1.0, 'D_29': 1.0, 'D_532': 1.0, 'D_82': 1.0, 'D_50': 1.0}, {'Unnamed: 0': 8563.0, 'D_050': 2.0, 'D_012': 2.0}, {'Unnamed: 0': 4039.0, 'D_650': 1.0}, {'Unnamed: 0': 6428.0, 'D_67': 1.0, 'D_01': 1.0, 'D_140': 3.0, 'D_11': 2.0, 'D_24': 2.0, 'D_458': 1.0, 'D_72': 3.0, 'D_457': 1.0, 'D_158': 4.0, 'D_308': 1.0, 'D_500': 2.0, 'D_107': 1.0, 'D_27': 1.0, 'D_28': 3.0, 'D_273': 3.0, 'D_1': 1.0, 'D_93': 1.0, 'D_70': 2.0, 'D_9': 1.0, 'D_16': 3.0, 'D_8': 3.0, 'D_805': 2.0, 'D_780': 1.0, 'D_38': 1.0, 'D_97': 3.0, 'D_586': 2.0, 'D_44': 1.0, 'D_96': 1.0, 'D_159': 1.0, 'D_18': 1.0, 'D_85': 4.0, 'D_959': 1.0, 'D_84': 2.0, 'D_74': 1.0, 'D_76': 4.0, 'D_882': 1.0, 'D_09': 2.0, 'D_188': 2.0, 'D_99': 1.0, 'D_855': 1.0, 'D_63': 2.0, 'D_80': 3.0, 'D_039': 4.0, 'D_878': 1.0, 'D_57': 2.0, 'D_506': 1.0, 'D_90': 2.0, 'D_411': 1.0, 'D_852': 3.0, 'D_14': 2.0, 'D_989': 1.0, 'D_387': 1.0, 'D_283': 1.0, 'D_451': 1.0, 'D_498': 1.0, 'D_838': 1.0, 'D_64': 1.0, 'D_990': 1.0, 'D_410': 2.0, 'D_505': 1.0, 'D_504': 2.0, 'D_284': 1.0, 'D_15': 1.0, 'D_957': 1.0}]\n"
     ]
    }
   ],
   "source": [
    "print(mixed_patients)"
   ]
  },
  {
   "cell_type": "code",
   "execution_count": 80,
   "metadata": {},
   "outputs": [
    {
     "name": "stdout",
     "output_type": "stream",
     "text": [
      "[{'Unnamed: 0': 8880.0, 'D_300': 1.0, 'D_29': 1.0}, {'Unnamed: 0': 682.0}, {'Unnamed: 0': 8563.0, 'D_01': 2.0, 'D_97': 2.0, 'D_273': 4.0, 'D_140': 1.0, 'D_44': 3.0, 'D_500': 1.0, 'D_74': 2.0, 'D_76': 1.0, 'D_99': 2.0, 'D_28': 1.0, 'D_24': 1.0, 'D_72': 4.0, 'D_84': 2.0, 'D_82': 1.0, 'D_85': 3.0, 'D_450': 1.0, 'D_039': 1.0, 'D_158': 1.0, 'D_18': 1.0, 'D_308': 1.0, 'D_38': 1.0, 'D_78': 1.0, 'D_586': 3.0, 'D_125': 1.0, 'D_878': 3.0, 'D_070': 1.0, 'D_849': 1.0}, {'Unnamed: 0': 4039.0}, {'Unnamed: 0': 6428.0, 'D_01': 1.0, 'D_76': 1.0, 'D_939': 2.0, 'D_38': 1.0}]\n"
     ]
    }
   ],
   "source": [
    "print(female_patients)"
   ]
  },
  {
   "cell_type": "code",
   "execution_count": 81,
   "metadata": {},
   "outputs": [
    {
     "name": "stdout",
     "output_type": "stream",
     "text": [
      "[{'Unnamed: 0': 8880.0, 'D_300': 1.0, 'D_29': 1.0}, {'Unnamed: 0': 682.0}, {'Unnamed: 0': 8563.0, 'D_01': 2.0, 'D_97': 2.0, 'D_273': 4.0, 'D_140': 1.0, 'D_44': 3.0, 'D_500': 1.0, 'D_74': 2.0, 'D_76': 1.0, 'D_99': 2.0, 'D_28': 1.0, 'D_24': 1.0, 'D_72': 4.0, 'D_84': 2.0, 'D_82': 1.0, 'D_85': 3.0, 'D_450': 1.0, 'D_039': 1.0, 'D_158': 1.0, 'D_18': 1.0, 'D_308': 1.0, 'D_38': 1.0, 'D_78': 1.0, 'D_586': 3.0, 'D_125': 1.0, 'D_878': 3.0, 'D_070': 1.0, 'D_849': 1.0}, {'Unnamed: 0': 4039.0}, {'Unnamed: 0': 6428.0, 'D_01': 1.0, 'D_76': 1.0, 'D_939': 2.0, 'D_38': 1.0}]\n"
     ]
    }
   ],
   "source": [
    "print(male_patients)"
   ]
  },
  {
   "cell_type": "code",
   "execution_count": 59,
   "metadata": {},
   "outputs": [
    {
     "data": {
      "text/plain": [
       "{'Unnamed: 0': 11.0, 'D_300': 1.0}"
      ]
     },
     "execution_count": 59,
     "metadata": {},
     "output_type": "execute_result"
    }
   ],
   "source": [
    "{k: v for k, v in my_dict.items() if v != 0.0}"
   ]
  },
  {
   "cell_type": "code",
   "execution_count": 45,
   "metadata": {},
   "outputs": [
    {
     "name": "stdout",
     "output_type": "stream",
     "text": [
      "[[11.  0.  0.  0.  0.  0.  0.  0.  0.  0.  0.  0.  0.  0.  0.  0.  0.  0.\n",
      "   0.  0.  0.  0.  0.  0.  0.  0.  0.  0.  0.  1.  0.  0.  0.  0.  0.  0.\n",
      "   0.  0.  0.  0.  0.  0.  0.  0.  0.  0.  0.  0.  0.  0.  0.  0.  0.  0.\n",
      "   0.  0.  0.  0.  0.  0.  0.  0.  0.  0.  0.  0.  0.  0.  0.  0.  0.  0.\n",
      "   0.  0.  0.  0.  0.  0.  0.  0.  0.  0.  0.  0.  0.  0.  0.  0.  0.  0.\n",
      "   0.  0.  0.  0.  0.  0.  0.  0.  0.  0.  0.  0.  0.  0.  0.  0.  0.  0.\n",
      "   0.  0.  0.  0.  0.  0.  0.  0.  0.  0.  0.  0.  0.  0.  0.  0.  0.  0.\n",
      "   0.  0.  0.  0.  0.  0.  0.  0.  0.  0.  0.  0.  0.  0.  0.  0.  0.  0.\n",
      "   0.  0.  0.  0.  0.  0.  0.  0.  0.  0.  0.  0.  0.  0.  0.  0.  0.  0.\n",
      "   0.  0.  0.  0.  0.  0.  0.  0.  0.  0.  0.  0.  0.  0.  0.  0.  0.  0.\n",
      "   0.  0.  0.  0.  0.  0.  0.  0.  0.  0.  0.  0.  0.  0.  0.  0.  0.  0.\n",
      "   0.  0.  0.  0.  0.  0.  0.  0.  0.  0.  0.  0.  0.  0.  0.  0.  0.  0.\n",
      "   0.  0.  0.  0.  0.  0.  0.  0.  0.  0.  0.  0.  0.  0.  0.  0.  0.  0.\n",
      "   0.  0.  0.  0.  0.  0.  0.  0.  0.  0.  0.  0.  0.  0.  0.  0.  0.  0.\n",
      "   0.  0.  0.  0.  0.  0.  0.  0.  0.  0.  0.  0.  0.  0.  0.  0.  0.  0.\n",
      "   0.  0.  0.  0.  0.  0.  0.  0.  0.  0.  0.  0.  0.  0.  0.  0.  0.  0.\n",
      "   0.  0.  0.  0.  0.  0.  0.  0.  0.  0.  0.  0.  0.  0.  0.  0.  0.  0.\n",
      "   0.  0.  0.  0.  0.  0.  0.  0.  0.  0.  0.  0.  0.  0.  0.  0.  0.  0.\n",
      "   0.  0.  0.  0.  0.  0.  0.  0.  0.  0.  0.  0.  0.  0.  0.  0.  0.  0.\n",
      "   0.  0.  0.  0.  0.  0.  0.  0.  0.  0.  0.  0.  0.  0.  0.  0.  0.  0.\n",
      "   0.  0.  0.  0.  0.  0.  0.  0.  0.  0.  0.  0.  0.  0.  0.  0.  0.  0.\n",
      "   0.  0.  0.  0.  0.  0.  0.  0.  0.  0.  0.  0.  0.  0.  0.  0.  0.  0.\n",
      "   0.  0.  0.  0.  0.  0.  0.  0.  0.  0.  0.  0.  0.  0.  0.  0.  0.  0.\n",
      "   0.  0.  0.  0.  0.  0.  0.  0.  0.  0.  0.  0.  0.  0.  0.  0.  0.  0.\n",
      "   0.  0.  0.  0.  0.  0.  0.  0.  0.  0.  0.  0.  0.  0.  0.  0.  0.  0.\n",
      "   0.  0.  0.  0.  0.  0.  0.  0.  0.  0.  0.  0.  0.  0.  0.  0.  0.  0.\n",
      "   0.  0.  0.  0.  0.  0.  0.  0.  0.  0.  0.  0.  0.  0.  0.  0.  0.  0.\n",
      "   0.  0.  0.  0.  0.  0.  0.  0.  0.  0.  0.  0.  0.  0.  0.  0.  0.  0.\n",
      "   0.  0.  0.  0.  0.  0.  0.  0.  0.  0.  0.  0.  0.  0.  0.  0.  0.  0.\n",
      "   0.  0.  0.  0.  0.  0.  0.  0.  0.  0.  0.  0.  0.  0.  0.  0.  0.  0.\n",
      "   0.  0.  0.  0.  0.  0.  0.  0.  0.  0.  0.  0.  0.  0.  0.  0.  0.  0.\n",
      "   0.  0.  0.  0.  0.  0.  0.  0.  0.  0.  0.  0.  0.  0.  0.  0.  0.  0.\n",
      "   0.  0.  0.  0.  0.  0.  0.  0.  0.  0.  0.  0.  0.  0.  0.  0.  0.  0.\n",
      "   0.  0.  0.  0.  0.  0.  0.  0.  0.  0.  0.  0.  0.  0.  0.  0.  0.  0.\n",
      "   0.  0.  0.  0.  0.  0.  0.  0.  0.  0.  0.  0.  0.  0.  0.  0.  0.  0.\n",
      "   0.  0.  0.  0.  0.  0.  0.  0.  0.  0.  0.  0.  0.  0.  0.  0.  0.  0.\n",
      "   0.  0.  0.  0.  0.  0.  0.  0.  0.  0.  0.  0.  0.  0.  0.  0.  0.  0.\n",
      "   0.  0.  0.  0.  0.  0.  0.  0.  0.  0.  0.  0.  0.  0.  0.  0.  0.  0.\n",
      "   0.  0.  0.  0.  0.  0.  0.  0.  0.  0.  0.  0.  0.  0.  0.  0.  0.  0.\n",
      "   0.  0.  0.  0.  0.  0.  0.  0.  0.  0.  0.  0.  0.  0.  0.  0.  0.  0.\n",
      "   0.  0.  0.  0.  0.  0.  0.  0.  0.  0.  0.  0.  0.  0.  0.  0.  0.  0.\n",
      "   0.  0.  0.  0.  0.  0.  0.  0.  0.  0.  0.  0.  0.  0.  0.  0.  0.  0.\n",
      "   0.  0.  0.  0.  0.  0.  0.  0.  0.  0.  0.  0.  0.  0.  0.  0.  0.  0.\n",
      "   0.  0.  0.  0.  0.  0.  0.  0.  0.  0.  0.  0.  0.  0.  0.  0.  0.  0.\n",
      "   0.  0.  0.  0.  0.  0.  0.  0.  0.  0.  0.  0.  0.  0.  0.  0.  0.  0.\n",
      "   0.  0.  0.  0.  0.  0.  0.  0.  0.  0.  0.  0.  0.  0.  0.  0.  0.  0.\n",
      "   0.  0.  0.  0.  0.  0.  0.  0.  0.  0.  0.  0.  0.  0.  0.  0.  0.  0.\n",
      "   0.  0.  0.  0.  0.  0.  0.  0.  0.  0.  0.  0.  0.  0.  0.  0.  0.  0.\n",
      "   0.  0.  0.  0.  0.  0.  0.  0.  0.  0.  0.  0.  0.  0.  0.  0.  0.  0.\n",
      "   0.  0.  0.  0.  0.  0.  0.  0.  0.  0.  0.  0.  0.  0.  0.  0.  0.  0.\n",
      "   0.  0.  0.  0.  0.  0.  0.]]\n"
     ]
    },
    {
     "name": "stderr",
     "output_type": "stream",
     "text": [
      "/Users/nicenoize/anaconda3/lib/python3.6/site-packages/ipykernel_launcher.py:1: FutureWarning: Method .as_matrix will be removed in a future version. Use .values instead.\n",
      "  \"\"\"Entry point for launching an IPython kernel.\n"
     ]
    }
   ],
   "source": [
    "y = mixed_count.loc[11].as_matrix().reshape(1, len(mixed_count.loc[11]))\n",
    "print(y)"
   ]
  },
  {
   "cell_type": "code",
   "execution_count": null,
   "metadata": {},
   "outputs": [],
   "source": [
    "test = (mixed_count.loc[10])\n",
    "test = test.dropna(axis=0)\n",
    "test = test.loc[~(test==0).all(axis=0)]\n",
    "print(test)"
   ]
  },
  {
   "cell_type": "code",
   "execution_count": 25,
   "metadata": {},
   "outputs": [],
   "source": [
    "mixed_patients = []\n",
    "female_patients = []\n",
    "male_patients = []"
   ]
  },
  {
   "cell_type": "code",
   "execution_count": 28,
   "metadata": {},
   "outputs": [],
   "source": [
    "for x in randomlist:\n",
    "    mixed_patients.append(mixed_count.loc[i].dropna(axis=0))\n",
    "    female_patients.append(female_count.loc[i].dropna(axis=0))\n",
    "    male_patients.append(male_count.loc[i].dropna(axis=0))"
   ]
  },
  {
   "cell_type": "code",
   "execution_count": 29,
   "metadata": {},
   "outputs": [
    {
     "name": "stdout",
     "output_type": "stream",
     "text": [
      "Unnamed: 0    9.0\n",
      "D_67          0.0\n",
      "D_69          0.0\n",
      "D_950         0.0\n",
      "D_48          0.0\n",
      "             ... \n",
      "D_495         0.0\n",
      "D_342         0.0\n",
      "D_343         0.0\n",
      "D_915         0.0\n",
      "D_903         0.0\n",
      "Name: 9, Length: 907, dtype: float64\n"
     ]
    }
   ],
   "source": [
    "print(mixed_patients[1])"
   ]
  },
  {
   "cell_type": "code",
   "execution_count": null,
   "metadata": {},
   "outputs": [],
   "source": []
  }
 ],
 "metadata": {
  "kernelspec": {
   "display_name": "Python 3",
   "language": "python",
   "name": "python3"
  },
  "language_info": {
   "codemirror_mode": {
    "name": "ipython",
    "version": 3
   },
   "file_extension": ".py",
   "mimetype": "text/x-python",
   "name": "python",
   "nbconvert_exporter": "python",
   "pygments_lexer": "ipython3",
   "version": "3.6.9"
  }
 },
 "nbformat": 4,
 "nbformat_minor": 2
}
