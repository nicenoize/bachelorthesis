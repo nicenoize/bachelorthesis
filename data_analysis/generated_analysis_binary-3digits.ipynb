{
 "cells": [
  {
   "cell_type": "code",
   "execution_count": 76,
   "metadata": {},
   "outputs": [],
   "source": [
    "import numpy as np \n",
    "from io import StringIO\n",
    "import pandas as pd\n",
    "from pandas import DataFrame\n",
    "import seaborn as sns\n",
    "import matplotlib.pyplot as plt\n",
    "import matplotlib.lines as mlines\n",
    "import matplotlib.transforms as mtransforms\n",
    "import re"
   ]
  },
  {
   "cell_type": "code",
   "execution_count": 77,
   "metadata": {},
   "outputs": [
    {
     "name": "stdout",
     "output_type": "stream",
     "text": [
      "987\n"
     ]
    }
   ],
   "source": [
    "# Inverting dictionaries to map index -> Diagnosiscode\n",
    "binary_3digit_mixed_types = np.load('/Users/nicenoize/Documents/Bachelorarbeit/mimic-iii-clinical-database-1.4/binary_3digit_mixed.types')\n",
    "binary_3digit_mixed_types_inv = {v: k for k, v in binary_3digit_mixed_types.items()}\n",
    "binary_3digit_female_types = np.load('/Users/nicenoize/Documents/Bachelorarbeit/mimic-iii-clinical-database-1.4/binary_3digit_female.types')\n",
    "binary_3digit_female_types_inv = {v: k for k, v in binary_3digit_female_types.items()}\n",
    "binary_3digit_male_types = np.load('/Users/nicenoize/Documents/Bachelorarbeit/mimic-iii-clinical-database-1.4/binary_3digit_male.types')\n",
    "binary_3digit_male_types_inv = {v: k for k, v in binary_3digit_male_types.items()}\n",
    "print(len(binary_3digit_female_types))"
   ]
  },
  {
   "cell_type": "code",
   "execution_count": 78,
   "metadata": {},
   "outputs": [],
   "source": [
    "mixed_dataset = np.load('/Users/nicenoize/Documents/Bachelorarbeit/mimic-iii-clinical-database-1.4/binary_3digit_mixed.matrix')\n",
    "female_dataset = np.load('/Users/nicenoize/Documents/Bachelorarbeit/mimic-iii-clinical-database-1.4/binary_3digit_female.matrix')\n",
    "male_dataset = np.load('/Users/nicenoize/Documents/Bachelorarbeit/mimic-iii-clinical-database-1.4/binary_3digit_male.matrix')\n",
    "mixed_generated = np.load('/Users/nicenoize/Documents/Bachelorarbeit/binary_3digit_mixed_full.npy')\n",
    "female_generated = np.load('/Users/nicenoize/Documents/Bachelorarbeit/binary_3digit_female_full.npy')\n",
    "male_generated = np.load('/Users/nicenoize/Documents/Bachelorarbeit/binary_3digit_male_full.npy')\n"
   ]
  },
  {
   "cell_type": "code",
   "execution_count": 79,
   "metadata": {},
   "outputs": [
    {
     "name": "stdout",
     "output_type": "stream",
     "text": [
      "(46520, 1071)\n",
      "(46000, 1071)\n",
      "(20399, 987)\n",
      "(20000, 987)\n",
      "(26121, 966)\n",
      "(26000, 966)\n"
     ]
    }
   ],
   "source": [
    "# Shape before\n",
    "print(mixed_dataset.shape)\n",
    "print(mixed_generated.shape)\n",
    "print(female_dataset.shape)\n",
    "print(female_generated.shape)\n",
    "print(male_dataset.shape)\n",
    "print(male_generated.shape)"
   ]
  },
  {
   "cell_type": "code",
   "execution_count": 80,
   "metadata": {},
   "outputs": [],
   "source": [
    "mixed_dataset = mixed_dataset[520:]\n",
    "female_dataset = female_dataset[399:]\n",
    "male_dataset = male_dataset[121:]"
   ]
  },
  {
   "cell_type": "code",
   "execution_count": 81,
   "metadata": {},
   "outputs": [
    {
     "name": "stdout",
     "output_type": "stream",
     "text": [
      "(46000, 1071)\n",
      "(46000, 1071)\n",
      "(20000, 987)\n",
      "(20000, 987)\n",
      "(26000, 966)\n",
      "(26000, 966)\n"
     ]
    }
   ],
   "source": [
    "# Shape after\n",
    "print(mixed_dataset.shape)\n",
    "print(mixed_generated.shape)\n",
    "print(female_dataset.shape)\n",
    "print(female_generated.shape)\n",
    "print(male_dataset.shape)\n",
    "print(male_generated.shape)"
   ]
  },
  {
   "cell_type": "code",
   "execution_count": null,
   "metadata": {},
   "outputs": [
    {
     "name": "stdout",
     "output_type": "stream",
     "text": [
      "(46000, 1071)\n"
     ]
    }
   ],
   "source": [
    "binary_3digit_mixed_patients = np.load('/Users/nicenoize/Documents/Bachelorarbeit/binary_3digit_mixed_full.npy')\n",
    "binary_3digit_mixed_patients = np.rint(binary_3digit_mixed_patients)\n",
    "print(binary_3digit_mixed_patients.shape)\n",
    "#male_generated_patients = np.array_str(male_generated_patients)\n",
    "#for x in np.nditer(male_generated_patients, op_flags=['readwrite'], flags=['multi_index']):\n",
    "#        if(x==1): x = males_types[x]\n",
    "binary_3digit_mixed_patients_icd = np.chararray(binary_3digit_mixed_patients.shape, itemsize=8)            \n",
    "it = np.nditer(binary_3digit_mixed_patients, flags=['multi_index'])\n",
    "while not it.finished:\n",
    "    #print (\"%d <%s>\" % (it[0], it.multi_index)),\n",
    "    if(it[0] == 1): binary_3digit_mixed_patients_icd[it.multi_index] = binary_3digit_mixed_types_inv[it.multi_index[1]]\n",
    "    #print()\n",
    "    it.iternext()\n",
    "    \n",
    "# Save mixed patients to csv\n",
    "pd.DataFrame(binary_3digit_mixed_patients_icd).to_csv(\"/Users/nicenoize/Documents/Bachelorarbeit/mimic-iii-clinical-database-1.4/BINARY_PATIENTS/binary_3digit_mixed.csv\")\n"
   ]
  },
  {
   "cell_type": "code",
   "execution_count": null,
   "metadata": {},
   "outputs": [],
   "source": [
    "binary_3digit_female_patients = np.load('/Users/nicenoize/Documents/Bachelorarbeit/binary_3digit_female_full.npy')\n",
    "binary_3digit_female_patients = np.rint(binary_3digit_female_patients)\n",
    "print(binary_3digit_female_patients.shape)\n",
    "#male_generated_patients = np.array_str(male_generated_patients)\n",
    "#for x in np.nditer(male_generated_patients, op_flags=['readwrite'], flags=['multi_index']):\n",
    "#        if(x==1): x = males_types[x]\n",
    "binary_3digit_female_patients_icd = np.chararray(binary_3digit_female_patients.shape, itemsize=8)            \n",
    "it = np.nditer(binary_3digit_female_patients, flags=['multi_index'])\n",
    "while not it.finished:\n",
    "    #print (\"%d <%s>\" % (it[0], it.multi_index)),\n",
    "    if(it[0] == 1): binary_3digit_female_patients_icd[it.multi_index] = binary_3digit_female_types_inv[it.multi_index[1]]\n",
    "    #print()\n",
    "    it.iternext()\n",
    "    \n",
    "# Save female patients to csv\n",
    "pd.DataFrame(binary_3digit_female_patients_icd).to_csv(\"/Users/nicenoize/Documents/Bachelorarbeit/mimic-iii-clinical-database-1.4/BINARY_PATIENTS/binary_3digit_female.csv\")\n"
   ]
  },
  {
   "cell_type": "code",
   "execution_count": null,
   "metadata": {},
   "outputs": [],
   "source": [
    "binary_3digit_male_patients = np.load('/Users/nicenoize/Documents/Bachelorarbeit/binary_3digit_male_full.npy')\n",
    "binary_3digit_male_patients = np.rint(binary_3digit_male_patients)\n",
    "print(binary_3digit_male_patients.shape)\n",
    "#male_generated_patients = np.array_str(male_generated_patients)\n",
    "#for x in np.nditer(male_generated_patients, op_flags=['readwrite'], flags=['multi_index']):\n",
    "#        if(x==1): x = males_types[x]\n",
    "binary_3digit_male_patients_icd = np.chararray(binary_3digit_male_patients.shape, itemsize=8)            \n",
    "it = np.nditer(binary_3digit_male_patients, flags=['multi_index'])\n",
    "while not it.finished:\n",
    "    #print (\"%d <%s>\" % (it[0], it.multi_index)),\n",
    "    if(it[0] == 1): binary_3digit_male_patients_icd[it.multi_index] = binary_3digit_male_types_inv[it.multi_index[1]]\n",
    "    #print()\n",
    "    it.iternext()\n",
    "    \n",
    "# Save male patients to csv\n",
    "pd.DataFrame(binary_3digit_male_patients_icd).to_csv(\"/Users/nicenoize/Documents/Bachelorarbeit/mimic-iii-clinical-database-1.4/BINARY_PATIENTS/binary_3digit_male.csv\")\n"
   ]
  },
  {
   "cell_type": "code",
   "execution_count": null,
   "metadata": {},
   "outputs": [],
   "source": []
  },
  {
   "cell_type": "code",
   "execution_count": 259,
   "metadata": {},
   "outputs": [],
   "source": [
    "# Binary\n",
    "binary_3digit_mixed = pd.read_csv('/Users/nicenoize/Documents/Bachelorarbeit/mimic-iii-clinical-database-1.4/BINARY_PATIENTS/binary_3digit_mixed.csv')\n",
    "binary_3digit_female = pd.read_csv('/Users/nicenoize/Documents/Bachelorarbeit/mimic-iii-clinical-database-1.4/BINARY_PATIENTS/binary_3digit_female.csv')\n",
    "binary_3digit_male = pd.read_csv('/Users/nicenoize/Documents/Bachelorarbeit/mimic-iii-clinical-database-1.4/BINARY_PATIENTS/binary_3digit_male.csv')"
   ]
  },
  {
   "cell_type": "code",
   "execution_count": null,
   "metadata": {},
   "outputs": [],
   "source": [
    "# Invert\n",
    "#males = males.T\n",
    "#females = females.T\n",
    "#mixed = mixed.T"
   ]
  },
  {
   "cell_type": "code",
   "execution_count": null,
   "metadata": {},
   "outputs": [],
   "source": [
    "#for i in range(855):\n",
    "#    females.rename(columns={ females.columns[i]: \"DIAGNOSIS_ICD\" }, inplace = True)\n",
    "#females.rename(columns={females.columns[0]: \"DIAGNOSIS_ICD\" }, inplace = True)\n",
    "#males.rename(columns={females.columns[0]: \"DIAGNOSIS_ICD\" }, inplace = True)\n",
    "\n",
    "#females.head()"
   ]
  },
  {
   "cell_type": "code",
   "execution_count": 260,
   "metadata": {},
   "outputs": [],
   "source": [
    "# Binary\n",
    "binary_3digit_mixed.rename(columns={binary_3digit_mixed.columns[0]: \"SUBJECT_ID\"}, inplace = True)\n",
    "binary_3digit_female.rename(columns={binary_3digit_female.columns[0]: \"SUBJECT_ID\"}, inplace = True)\n",
    "binary_3digit_male.rename(columns={binary_3digit_male.columns[0]: \"SUBJECT_ID\"}, inplace = True)"
   ]
  },
  {
   "cell_type": "code",
   "execution_count": 261,
   "metadata": {},
   "outputs": [],
   "source": [
    "# Binary\n",
    "binary_3digit_mixed = pd.melt(binary_3digit_mixed, id_vars=[\"SUBJECT_ID\"])\n",
    "binary_3digit_female = pd.melt(binary_3digit_female, id_vars=[\"SUBJECT_ID\"])\n",
    "binary_3digit_male = pd.melt(binary_3digit_male, id_vars=[\"SUBJECT_ID\"])"
   ]
  },
  {
   "cell_type": "code",
   "execution_count": 262,
   "metadata": {},
   "outputs": [
    {
     "name": "stdout",
     "output_type": "stream",
     "text": [
      "[[0 '0' \"b''\"]\n",
      " [1 '0' \"b''\"]\n",
      " [2 '0' \"b''\"]\n",
      " ...\n",
      " [19997 '986' \"b''\"]\n",
      " [19998 '986' \"b''\"]\n",
      " [19999 '986' \"b''\"]]\n"
     ]
    }
   ],
   "source": [
    "# Find patient by SUBJECT_ID\n",
    "#print(females_transformed.loc[females_transformed['SUBJECT_ID'] == 3])\n",
    "print(binary_3digit_female.values)"
   ]
  },
  {
   "cell_type": "code",
   "execution_count": 263,
   "metadata": {},
   "outputs": [
    {
     "name": "stdout",
     "output_type": "stream",
     "text": [
      "          SUBJECT_ID variable value\n",
      "0                  0        0   b''\n",
      "2800000            0      140   b''\n",
      "16940000           0      847   b''\n",
      "1680000            0       84   b''\n",
      "11380000           0      569   b''\n",
      "...              ...      ...   ...\n",
      "4359999        19999      217   b''\n",
      "15379999       19999      768   b''\n",
      "4339999        19999      216   b''\n",
      "4319999        19999      215   b''\n",
      "19739999       19999      986   b''\n",
      "\n",
      "[19740000 rows x 3 columns]\n"
     ]
    }
   ],
   "source": [
    "# Sort rows by SUBJECT ID\n",
    "binary_3digit_mixed_diagnoses = binary_3digit_mixed.sort_values(by=['SUBJECT_ID'], ascending = True)\n",
    "binary_3digit_female_diagnoses = binary_3digit_female.sort_values(by=['SUBJECT_ID'], ascending = True)\n",
    "binary_3digit_male_diagnoses = binary_3digit_male.sort_values(by=['SUBJECT_ID'], ascending = True)\n",
    "\n",
    "\n",
    "# Drop NaN rows\n",
    "binary_3digit_mixed_diagnoses = binary_3digit_mixed_diagnoses.dropna()\n",
    "binary_3digit_female_diagnoses = binary_3digit_female_diagnoses.dropna()\n",
    "binary_3digit_male_diagnoses = binary_3digit_male_diagnoses.dropna()\n",
    "\n",
    "print(binary_3digit_female_diagnoses)"
   ]
  },
  {
   "cell_type": "code",
   "execution_count": 265,
   "metadata": {},
   "outputs": [
    {
     "name": "stdout",
     "output_type": "stream",
     "text": [
      "11352\n"
     ]
    }
   ],
   "source": [
    "# Filter mixed patients with 3 digits codes for with ischemic diseases, heart diseases, diabetes and cardiovascular ones\n",
    "# also getting the SUBJECT IDs of each\n",
    "mixed_ischemic_3digits = binary_3digit_mixed_diagnoses[binary_3digit_mixed_diagnoses.value.str.contains(\"^b'D_4.+\", regex=True, na=False)]\n",
    "mixed_CAD = binary_3digit_mixed_diagnoses[binary_3digit_mixed_diagnoses.value.str.contains(\"^b'D_414+\", regex=True, na=False)]\n",
    "mixed_heart_disease_3digits = binary_3digit_mixed_diagnoses[binary_3digit_mixed_diagnoses.value.str.contains(\"b'D_429\", regex=True, na=False)]\n",
    "mixed_diabetes_3digits = binary_3digit_mixed_diagnoses[binary_3digit_mixed_diagnoses.value.str.contains(\"^b'D_250\", na=False)]\n",
    "mixed_ischemic_ids_3digits = mixed_ischemic_3digits[\"SUBJECT_ID\"].tolist()\n",
    "mixed_CAD_ids = mixed_CAD[\"SUBJECT_ID\"].tolist()\n",
    "mixed_heart_disease_ids_3digits = mixed_heart_disease_3digits[\"SUBJECT_ID\"].tolist()\n",
    "mixed_diabetes_ids_3digits = mixed_diabetes_3digits[\"SUBJECT_ID\"].tolist()\n",
    "print(mixed_CAD['SUBJECT_ID'].nunique())"
   ]
  },
  {
   "cell_type": "code",
   "execution_count": 270,
   "metadata": {},
   "outputs": [],
   "source": [
    "# Filter female patients with 3 digits codes for with ischemic diseases, heart diseases, diabetes and cardiovascular ones\n",
    "# also getting the SUBJECT IDs of each\n",
    "female_ischemic_3digits = binary_3digit_female_diagnoses[binary_3digit_female_diagnoses.value.str.contains(\"^b'D_4.+\", regex=True, na=False)]\n",
    "female_CAD = binary_3digit_female_diagnoses[binary_3digit_female_diagnoses.value.str.contains(\"^b'D_414+\", regex=True, na=False)]\n",
    "female_heart_disease_3digits = binary_3digit_female_diagnoses[binary_3digit_female_diagnoses.value.str.contains(\"b'D_429\", regex=True, na=False)]\n",
    "female_diabetes_3digits = binary_3digit_female_diagnoses[binary_3digit_female_diagnoses.value.str.contains(\"^b'D_250\", na=False)]\n",
    "female_ischemic_ids_3digits = female_ischemic_3digits[\"SUBJECT_ID\"].tolist()\n",
    "female_CAD_ids = female_CAD[\"SUBJECT_ID\"].tolist()\n",
    "female_heart_disease_ids_3digits = female_heart_disease_3digits[\"SUBJECT_ID\"].tolist()\n",
    "female_diabetes_ids_3digits = female_diabetes_3digits[\"SUBJECT_ID\"].tolist()\n",
    "\n",
    "female_heart_no_diabetes = np.isin(female_heart_disease_ids_3digits, female_diabetes_ids_3digits, invert=True)\n",
    "female_CAD_no_diabetes = np.isin(female_CAD_ids, female_diabetes_ids_3digits, invert=True)"
   ]
  },
  {
   "cell_type": "code",
   "execution_count": 271,
   "metadata": {},
   "outputs": [],
   "source": [
    "# Filter male patients with 3 digits codes for with ischemic diseases, heart diseases, diabetes and cardiovascular ones\n",
    "# also getting the SUBJECT IDs of each\n",
    "male_ischemic_3digits = binary_3digit_male_diagnoses[binary_3digit_male_diagnoses.value.str.contains(\"^b'D_4.+\", regex=True, na=False)]\n",
    "male_CAD = binary_3digit_male_diagnoses[binary_3digit_male_diagnoses.value.str.contains(\"^b'D_414+\", regex=True, na=False)]\n",
    "male_heart_disease_3digits = binary_3digit_male_diagnoses[binary_3digit_male_diagnoses.value.str.contains(\"b'D_429\", regex=True, na=False)]\n",
    "male_diabetes_3digits = binary_3digit_male_diagnoses[binary_3digit_male_diagnoses.value.str.contains(\"^b'D_250\", na=False)]\n",
    "male_ischemic_ids_3digits = male_ischemic_3digits[\"SUBJECT_ID\"].tolist()\n",
    "male_CAD_ids = male_CAD[\"SUBJECT_ID\"].tolist()\n",
    "male_heart_disease_ids_3digits = male_heart_disease_3digits[\"SUBJECT_ID\"].tolist()\n",
    "male_diabetes_ids_3digits = male_diabetes_3digits[\"SUBJECT_ID\"].tolist()\n",
    "\n",
    "male_heart_no_diabetes = np.isin(male_heart_disease_ids_3digits, male_diabetes_ids_3digits, invert=True)\n",
    "male_CAD_no_diabetes = np.isin(male_CAD_ids, male_diabetes_ids_3digits, invert=True)\n"
   ]
  },
  {
   "cell_type": "code",
   "execution_count": 278,
   "metadata": {},
   "outputs": [
    {
     "data": {
      "text/plain": [
       "1481"
      ]
     },
     "execution_count": 278,
     "metadata": {},
     "output_type": "execute_result"
    }
   ],
   "source": [
    "# Get ids of female patients with heart disease + any type of diabetes\n",
    "females_heart_and_diabetes = binary_3digit_female_diagnoses[binary_3digit_female_diagnoses[\"SUBJECT_ID\"].isin(female_ischemic_ids_3digits)]\n",
    "females_heart_and_diabetes = females_heart_and_diabetes[females_heart_and_diabetes [\"SUBJECT_ID\"].isin(female_diabetes_ids_3digits)]\n",
    "female_heart_no_diabetes = np.isin(female_heart_disease_ids_3digits, female_diabetes_ids_3digits, invert=True)\n",
    "\n",
    "\n",
    "females_CAD_diabetes = binary_3digit_female_diagnoses[binary_3digit_female_diagnoses[\"SUBJECT_ID\"].isin(female_CAD_ids)]\n",
    "females_CAD_diabetes = females_CAD_diabetes[females_CAD_diabetes[\"SUBJECT_ID\"].isin(female_diabetes_ids_3digits)]\n",
    "females_CAD_diabetes[\"SUBJECT_ID\"].nunique() "
   ]
  },
  {
   "cell_type": "code",
   "execution_count": 281,
   "metadata": {},
   "outputs": [
    {
     "data": {
      "text/plain": [
       "2367"
      ]
     },
     "execution_count": 281,
     "metadata": {},
     "output_type": "execute_result"
    }
   ],
   "source": [
    "# Get ids of male patients with heart disease + any type of diabetes\n",
    "males_heart_and_diabetes = binary_3digit_male_diagnoses[binary_3digit_male_diagnoses[\"SUBJECT_ID\"].isin(male_ischemic_ids_3digits)]\n",
    "males_heart_and_diabetes = males_heart_and_diabetes[males_heart_and_diabetes[\"SUBJECT_ID\"].isin(male_diabetes_ids_3digits)]\n",
    "male_heart_no_diabetes = np.isin(male_heart_disease_ids_3digits, male_diabetes_ids_3digits, invert=True)\n",
    "\n",
    "males_CAD_diabetes = binary_3digit_male_diagnoses[binary_3digit_male_diagnoses[\"SUBJECT_ID\"].isin(male_CAD_ids)]\n",
    "males_CAD_diabetes = males_CAD_diabetes[males_CAD_diabetes[\"SUBJECT_ID\"].isin(male_diabetes_ids_3digits)]\n",
    "male_CAD_no_diabetes = np.isin(male_CAD_ids, male_diabetes_ids_3digits, invert=True)\n",
    "\n",
    "males_CAD_diabetes[\"SUBJECT_ID\"].nunique() "
   ]
  },
  {
   "cell_type": "code",
   "execution_count": 311,
   "metadata": {},
   "outputs": [
    {
     "data": {
      "text/plain": [
       "7236"
      ]
     },
     "execution_count": 311,
     "metadata": {},
     "output_type": "execute_result"
    }
   ],
   "source": [
    "len(male_CAD)"
   ]
  },
  {
   "cell_type": "code",
   "execution_count": 312,
   "metadata": {},
   "outputs": [
    {
     "data": {
      "text/plain": [
       "4074"
      ]
     },
     "execution_count": 312,
     "metadata": {},
     "output_type": "execute_result"
    }
   ],
   "source": [
    "len(female_CAD)"
   ]
  },
  {
   "cell_type": "code",
   "execution_count": 302,
   "metadata": {},
   "outputs": [
    {
     "name": "stdout",
     "output_type": "stream",
     "text": [
      "283\n"
     ]
    }
   ],
   "source": [
    "print(len(female_heart_disease_3digits))"
   ]
  },
  {
   "cell_type": "code",
   "execution_count": 303,
   "metadata": {},
   "outputs": [
    {
     "name": "stdout",
     "output_type": "stream",
     "text": [
      "3914\n"
     ]
    }
   ],
   "source": [
    "print(females_heart_and_diabetes[\"SUBJECT_ID\"].nunique())"
   ]
  },
  {
   "cell_type": "code",
   "execution_count": 304,
   "metadata": {},
   "outputs": [
    {
     "name": "stdout",
     "output_type": "stream",
     "text": [
      "49\n"
     ]
    }
   ],
   "source": [
    "print(np.sum(female_heart_no_diabetes))"
   ]
  },
  {
   "cell_type": "code",
   "execution_count": 305,
   "metadata": {},
   "outputs": [
    {
     "name": "stdout",
     "output_type": "stream",
     "text": [
      "4359\n"
     ]
    }
   ],
   "source": [
    "print(males_heart_and_diabetes[\"SUBJECT_ID\"].nunique())"
   ]
  },
  {
   "cell_type": "code",
   "execution_count": 306,
   "metadata": {},
   "outputs": [
    {
     "name": "stdout",
     "output_type": "stream",
     "text": [
      "53\n"
     ]
    }
   ],
   "source": [
    "print(np.sum(male_heart_no_diabetes))\n"
   ]
  },
  {
   "cell_type": "code",
   "execution_count": 307,
   "metadata": {},
   "outputs": [
    {
     "name": "stdout",
     "output_type": "stream",
     "text": [
      "1481\n"
     ]
    }
   ],
   "source": [
    "print(females_CAD_diabetes[\"SUBJECT_ID\"].nunique())\n"
   ]
  },
  {
   "cell_type": "code",
   "execution_count": 308,
   "metadata": {},
   "outputs": [
    {
     "name": "stdout",
     "output_type": "stream",
     "text": [
      "2593\n"
     ]
    }
   ],
   "source": [
    "print(np.sum(female_CAD_no_diabetes))"
   ]
  },
  {
   "cell_type": "code",
   "execution_count": 309,
   "metadata": {},
   "outputs": [
    {
     "name": "stdout",
     "output_type": "stream",
     "text": [
      "4074\n"
     ]
    }
   ],
   "source": [
    "print(len(female_CAD))"
   ]
  },
  {
   "cell_type": "code",
   "execution_count": 310,
   "metadata": {},
   "outputs": [
    {
     "name": "stdout",
     "output_type": "stream",
     "text": [
      "7236\n"
     ]
    }
   ],
   "source": [
    "print(len(male_CAD))"
   ]
  },
  {
   "cell_type": "code",
   "execution_count": 297,
   "metadata": {},
   "outputs": [
    {
     "name": "stdout",
     "output_type": "stream",
     "text": [
      "2367\n"
     ]
    }
   ],
   "source": [
    "print(males_CAD_diabetes[\"SUBJECT_ID\"].nunique())\n"
   ]
  },
  {
   "cell_type": "code",
   "execution_count": 298,
   "metadata": {},
   "outputs": [
    {
     "name": "stdout",
     "output_type": "stream",
     "text": [
      "4869\n"
     ]
    }
   ],
   "source": [
    "print(np.sum(male_CAD_no_diabetes))"
   ]
  },
  {
   "cell_type": "code",
   "execution_count": null,
   "metadata": {},
   "outputs": [],
   "source": [
    "print(mixed_CAD['SUBJECT_ID'].nunique())\n",
    "print(female_CAD['SUBJECT_ID'].nunique())\n",
    "print(male_CAD['SUBJECT_ID'].nunique())"
   ]
  },
  {
   "cell_type": "code",
   "execution_count": null,
   "metadata": {},
   "outputs": [],
   "source": [
    "# get top 10 most ICD9-Codes for mixed patients\n",
    "n = 10\n",
    "mixed_3digit_diagnoses_top10 = binary_3digit_mixed_diagnoses['value'].value_counts()[:n]\n",
    "print(mixed_3digit_diagnoses_top10)"
   ]
  },
  {
   "cell_type": "code",
   "execution_count": null,
   "metadata": {},
   "outputs": [],
   "source": [
    "# get top 10 most ICD9-Codes for female patients\n",
    "n = 10\n",
    "female_3digit_diagnoses_top10 = binary_3digit_female_diagnoses['value'].value_counts()[:n]\n",
    "print(female_3digit_diagnoses_top10)"
   ]
  },
  {
   "cell_type": "code",
   "execution_count": null,
   "metadata": {},
   "outputs": [],
   "source": [
    "# get top 10 most ICD9-Codes for male patients\n",
    "n = 20\n",
    "male_3digit_diagnoses_top10 = binary_3digit_male_diagnoses['value'].value_counts()[:n]\n",
    "print(male_3digit_diagnoses_top10)"
   ]
  },
  {
   "cell_type": "code",
   "execution_count": null,
   "metadata": {},
   "outputs": [],
   "source": [
    "# get top 10 most ICD9-codes for ischemic diseases for mixed patients\n",
    "n = 10\n",
    "mixed_3digit_ischemic_top10 = mixed_ischemic_3digits['value'].value_counts()[:n]\n",
    "print(mixed_3digit_ischemic_top10)"
   ]
  },
  {
   "cell_type": "code",
   "execution_count": null,
   "metadata": {},
   "outputs": [],
   "source": [
    "# get top 10 most ICD9-codes for ischemic diseases for female patients\n",
    "n = 10\n",
    "female_3digit_ischemic_top10 = female_ischemic_3digits['value'].value_counts()[:n]\n",
    "print(female_3digit_ischemic_top10)"
   ]
  },
  {
   "cell_type": "code",
   "execution_count": null,
   "metadata": {},
   "outputs": [],
   "source": [
    "# get top 10 most ICD9-codes for ischemic diseases for male patients\n",
    "n = 10\n",
    "male_3digit_ischemic_top10 = male_ischemic_3digits['value'].value_counts()[:n]\n",
    "print(male_3digit_ischemic_top10)"
   ]
  },
  {
   "cell_type": "code",
   "execution_count": null,
   "metadata": {},
   "outputs": [],
   "source": [
    "# get top 10 most ICD9-codes for diabetic diseases for mixed patients\n",
    "n = 10\n",
    "mixed_3digit_diabetic_top10 = mixed_diabetes_3digits['value'].value_counts()[:n]\n",
    "print(mixed_3digit_diabetic_top10)"
   ]
  },
  {
   "cell_type": "code",
   "execution_count": null,
   "metadata": {},
   "outputs": [],
   "source": [
    "# get top 10 most ICD9-codes for diabetic diseases for female patients\n",
    "n = 10\n",
    "female_3digit_diabetic_top10 = female_diabetes_3digits['value'].value_counts()[:n]\n",
    "print(female_3digit_diabetic_top10)"
   ]
  },
  {
   "cell_type": "code",
   "execution_count": null,
   "metadata": {},
   "outputs": [],
   "source": [
    "# get top 10 most ICD9-codes for diabetic diseases for male patients\n",
    "n = 10\n",
    "male_3digit_diabetic_top10 = male_diabetes_3digits['value'].value_counts()[:n]\n",
    "print(male_3digit_diabetic_top10)"
   ]
  },
  {
   "cell_type": "code",
   "execution_count": null,
   "metadata": {},
   "outputs": [],
   "source": [
    "# Compare top n ICD9-Codes occurences for ischemic diseases\n",
    "n = 10\n",
    "\n",
    "graph_df = mixed_ischemic_3digits['value'].value_counts(normalize=True)[:n].rename('MIXED ICD').to_frame()\\\n",
    "            .join(female_ischemic_3digits['value'].value_counts(normalize=True)[:n].rename('FEMALE ICD').to_frame())\\\n",
    "               .join(male_ischemic_3digits['value'].value_counts(normalize=True)[:n].rename('MALE ICD').to_frame())\n",
    "\n",
    "graph_df.plot(kind='bar',figsize=(16, 8))"
   ]
  },
  {
   "cell_type": "code",
   "execution_count": null,
   "metadata": {},
   "outputs": [],
   "source": [
    "# Compare top n ICD9-Codes occurences for diabetic diseases\n",
    "n = 10\n",
    "\n",
    "graph_df = mixed_diabetes_3digits['value'].value_counts(normalize=False)[:n].rename('MIXED ICD').to_frame()\\\n",
    "            .join(female_diabetes_3digits['value'].value_counts(normalize=False)[:n].rename('FEMALE ICD').to_frame())\\\n",
    "               .join(male_diabetes_3digits['value'].value_counts(normalize=False)[:n].rename('MALE ICD').to_frame())\n",
    "\n",
    "graph_df.plot(kind='bar',figsize=(16, 8))"
   ]
  },
  {
   "cell_type": "code",
   "execution_count": null,
   "metadata": {},
   "outputs": [],
   "source": []
  },
  {
   "cell_type": "code",
   "execution_count": null,
   "metadata": {},
   "outputs": [],
   "source": [
    "# Get ids of mixed patients with heart disease + any type of diabetes\n",
    "mixed_heart_and_diabetes = binary_3digit_mixed_diagnoses[binary_3digit_mixed_diagnoses[\"SUBJECT_ID\"].isin(mixed_ischemic_ids_3digits)]\n",
    "mixed_heart_and_diabetes = mixed_heart_and_diabetes[mixed_heart_and_diabetes [\"SUBJECT_ID\"].isin(mixed_diabetes_ids_3digits)]\n",
    "mixed_CAD_diabetes = binary_3digit_mixed_diagnoses[binary_3digit_mixed_diagnoses[\"SUBJECT_ID\"].isin(mixed_CAD_ids)]\n",
    "mixed_CAD_diabetes = mixed_CAD_diabetes[mixed_CAD_diabetes[\"SUBJECT_ID\"].isin(mixed_diabetes_ids_3digits)]\n",
    "mixed_CAD_diabetes[\"SUBJECT_ID\"].nunique() "
   ]
  },
  {
   "cell_type": "code",
   "execution_count": null,
   "metadata": {},
   "outputs": [],
   "source": [
    "# Get ids of male patients with heart disease + any type of diabetes\n",
    "males_heart_and_diabetes = binary_3digit_male_diagnoses[binary_3digit_male_diagnoses[\"SUBJECT_ID\"].isin(male_ischemic_ids_3digits)]\n",
    "males_heart_and_diabetes = males_heart_and_diabetes[males_heart_and_diabetes[\"SUBJECT_ID\"].isin(male_diabetes_ids_3digits)]\n",
    "male_heart_no_diabetes = np.isin(males_heart_disease_ids_3digits, males_diabetes_ids_3digits, invert=True)\n",
    "\n",
    "males_CAD_diabetes = binary_3digit_male_diagnoses[binary_3digit_male_diagnoses[\"SUBJECT_ID\"].isin(male_CAD_ids)]\n",
    "males_CAD_diabetes = males_CAD_diabetes[males_CAD_diabetes[\"SUBJECT_ID\"].isin(male_diabetes_ids_3digits)]\n",
    "male_CAD_no_diabetes = np.isin(males_CAD_ids_3, males_diabetes_ids, invert=True)\n",
    "\n",
    "males_CAD_diabetes[\"SUBJECT_ID\"].nunique() "
   ]
  },
  {
   "cell_type": "code",
   "execution_count": null,
   "metadata": {},
   "outputs": [],
   "source": [
    "# Get ids of female patients with heart disease + any type of diabetes\n",
    "females_heart_and_diabetes = binary_3digit_female_diagnoses[binary_3digit_female_diagnoses[\"SUBJECT_ID\"].isin(female_ischemic_ids_3digits)]\n",
    "females_heart_and_diabetes = females_heart_and_diabetes[females_heart_and_diabetes [\"SUBJECT_ID\"].isin(female_diabetes_ids_3digits)]\n",
    "females_CAD_diabetes = binary_3digit_female_diagnoses[binary_3digit_female_diagnoses[\"SUBJECT_ID\"].isin(female_CAD_ids)]\n",
    "females_CAD_diabetes = females_CAD_diabetes[females_CAD_diabetes[\"SUBJECT_ID\"].isin(female_diabetes_ids_3digits)]\n",
    "females_CAD_diabetes[\"SUBJECT_ID\"].nunique() "
   ]
  },
  {
   "cell_type": "code",
   "execution_count": null,
   "metadata": {},
   "outputs": [],
   "source": [
    "# Original data\n",
    "diagnoses_icd = pd.read_csv('/Users/nicenoize/Documents/Bachelorarbeit/mimic-iii-clinical-database-1.4/DIAGNOSES_ICD.csv')"
   ]
  },
  {
   "cell_type": "code",
   "execution_count": null,
   "metadata": {},
   "outputs": [],
   "source": [
    "diagnoses_icd[\"ICD9_CODE\"].value_counts()"
   ]
  },
  {
   "cell_type": "code",
   "execution_count": null,
   "metadata": {},
   "outputs": [],
   "source": [
    "print(mixed_diagnoses_icd['value'].value_counts())"
   ]
  },
  {
   "cell_type": "code",
   "execution_count": null,
   "metadata": {},
   "outputs": [],
   "source": [
    "print(male_diagnoses_icd['value'].value_counts())"
   ]
  },
  {
   "cell_type": "code",
   "execution_count": null,
   "metadata": {},
   "outputs": [],
   "source": [
    "print(female_diagnoses_icd['value'].value_counts())"
   ]
  },
  {
   "cell_type": "code",
   "execution_count": null,
   "metadata": {},
   "outputs": [],
   "source": [
    "mixed_generated_patients = np.load('/Users/nicenoize/Documents/Bachelorarbeit/mimic-iii-clinical-database-1.4/BINARY_PATIENTS/binary_5digit_mixed.npy')\n",
    "female_generated_patients = np.load('/Users/nicenoize/Documents/Bachelorarbeit/mimic-iii-clinical-database-1.4/BINARY_PATIENTS/binary_5digit_female.npy')\n",
    "male_generated_patients = np.load('/Users/nicenoize/Documents/Bachelorarbeit/mimic-iii-clinical-database-1.4/BINARY_PATIENTS/binary_5digit_male.npy')\n",
    "mixed_dataset = np.load('/Users/nicenoize/Documents/Bachelorarbeit/mimic-iii-clinical-database-1.4/binary_5digit_mixed.matrix')\n",
    "female_dataset = np.load('/Users/nicenoize/Documents/Bachelorarbeit/mimic-iii-clinical-database-1.4/binary_5digit_female.matrix')\n",
    "male_dataset = np.load('/Users/nicenoize/Documents/Bachelorarbeit/mimic-iii-clinical-database-1.4/binary_5digit_male.matrix')\n",
    "mixed_full = np.load('/Users/nicenoize/Documents/Bachelorarbeit/binary_5digit_mixed_full.npy')\n",
    "female_full = np.load('/Users/nicenoize/Documents/Bachelorarbeit/binary_5digit_female_full.npy')\n",
    "male_full = np.load('/Users/nicenoize/Documents/Bachelorarbeit/binary_5digit_male_full.npy')\n",
    "print(mixed_full.shape)\n",
    "#print(mixed_dataset.shape)\n",
    "print(female_full.shape)\n",
    "print(female_dataset.shape)\n",
    "print(male_full.shape)\n",
    "print(male_dataset.shape)"
   ]
  },
  {
   "cell_type": "code",
   "execution_count": null,
   "metadata": {},
   "outputs": [],
   "source": [
    "male_dataset = np.delete(male_dataset, 119, axis=0)\n",
    "print(male_dataset.shape)"
   ]
  },
  {
   "cell_type": "code",
   "execution_count": null,
   "metadata": {},
   "outputs": [],
   "source": [
    "test = np.load('/Users/nicenoize/Documents/Bachelorarbeit/mimic-iii-clinical-database-1.4/binary_5digit_mixed.matrix')\n",
    "print(test)"
   ]
  },
  {
   "cell_type": "code",
   "execution_count": null,
   "metadata": {},
   "outputs": [],
   "source": [
    "print(mixed_dataset.shape)\n",
    "print(mixed_generated.shape)\n",
    "print(female_dataset.shape)\n",
    "print(female_generated.shape)\n",
    "print(male_dataset.shape)\n",
    "print(male_generated.shape)"
   ]
  },
  {
   "cell_type": "code",
   "execution_count": null,
   "metadata": {},
   "outputs": [],
   "source": [
    "orphan_codes = pd.read_csv('/Users/nicenoize/Documents/Bachelorarbeit/mimic-iii-clinical-database-1.4/orphandiseases.csv')\n",
    "# Drop all rows where orpha is NaN\n",
    "orphan_codes = orphan_codes[np.isfinite(orphan_codes['orpha'])]\n",
    "# Generates list of orphan diseases\n",
    "# with 962 ICD9 Codes\n",
    "orphan_codes_icd = orphan_codes['icd9'].tolist()\n",
    "# List of ICD9 Codes from dataset\n",
    "#diagnoses_icd = diagnoses_icd['ICD9_CODE'].unique()"
   ]
  },
  {
   "cell_type": "code",
   "execution_count": null,
   "metadata": {},
   "outputs": [],
   "source": [
    "mixed_codes = binary_3digit_mixed_diagnoses.value.tolist()\n",
    "print(mixed_codes)"
   ]
  },
  {
   "cell_type": "code",
   "execution_count": null,
   "metadata": {},
   "outputs": [],
   "source": [
    "orphan_dataset_mixed = set(binary_3digit_mixed_diagnoses.value.tolist()).intersection(orphan_codes_icd)\n",
    "orphan_dataset_female = set(binary_3digit_female_diagnoses).intersection(orphan_codes_icd)\n",
    "orphan_dataset_male = set(binary_3digit_male_diagnoses).intersection(orphan_codes_icd)"
   ]
  },
  {
   "cell_type": "code",
   "execution_count": null,
   "metadata": {},
   "outputs": [],
   "source": [
    "print(orphan_dataset_mixed)\n",
    "print(orphan_dataset_female)\n",
    "print(orphan_dataset_male)"
   ]
  },
  {
   "cell_type": "code",
   "execution_count": null,
   "metadata": {},
   "outputs": [],
   "source": [
    "mixed_types = np.load('/Users/nicenoize/Documents/Bachelorarbeit/mimic-iii-clinical-database-1.4/binary_3digit_mixed.types')\n",
    "mixed_types_inv = {v: k for k, v in binary_3digit_mixed_types.items()}\n",
    "mixed_codes = list(mixed_types_inv.values())\n",
    "female_types = np.load('/Users/nicenoize/Documents/Bachelorarbeit/mimic-iii-clinical-database-1.4/binary_3digit_female.types')\n",
    "female_types_inv = {v: k for k, v in binary_3digit_female_types.items()}\n",
    "female_codes = list(female_types_inv.values())\n",
    "male_types = np.load('/Users/nicenoize/Documents/Bachelorarbeit/mimic-iii-clinical-database-1.4/binary_3digit_male.types')\n",
    "male_types_inv = {v: k for k, v in binary_3digit_male_types.items()}\n",
    "male_codes = list(male_types_inv.values())\n",
    "print(mixed_codes)"
   ]
  },
  {
   "cell_type": "code",
   "execution_count": null,
   "metadata": {},
   "outputs": [],
   "source": [
    "print(mixed_generated)"
   ]
  },
  {
   "cell_type": "code",
   "execution_count": null,
   "metadata": {},
   "outputs": [],
   "source": []
  },
  {
   "cell_type": "code",
   "execution_count": null,
   "metadata": {},
   "outputs": [],
   "source": []
  }
 ],
 "metadata": {
  "kernelspec": {
   "display_name": "Python 3",
   "language": "python",
   "name": "python3"
  },
  "language_info": {
   "codemirror_mode": {
    "name": "ipython",
    "version": 3
   },
   "file_extension": ".py",
   "mimetype": "text/x-python",
   "name": "python",
   "nbconvert_exporter": "python",
   "pygments_lexer": "ipython3",
   "version": "3.6.9"
  }
 },
 "nbformat": 4,
 "nbformat_minor": 2
}
