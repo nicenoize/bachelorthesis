{
 "cells": [
  {
   "cell_type": "code",
   "execution_count": 69,
   "metadata": {},
   "outputs": [],
   "source": [
    "import numpy as np \n",
    "from io import StringIO\n",
    "import pandas as pd\n",
    "from pandas import DataFrame\n",
    "import seaborn as sns\n",
    "import matplotlib.pyplot as plt\n",
    "import re"
   ]
  },
  {
   "cell_type": "code",
   "execution_count": 76,
   "metadata": {},
   "outputs": [
    {
     "name": "stdout",
     "output_type": "stream",
     "text": [
      "6985\n",
      "848\n",
      "857\n"
     ]
    }
   ],
   "source": [
    "# Inverting dictionaries to map index -> Diagnosiscode\n",
    "female_binary_types = np.load('/Users/nicenoize/Documents/Bachelorarbeit/mimic-iii-clinical-database-1.4/processed_mimic_female.types')\n",
    "female_binary_types_inv = {v: k for k, v in female_binary_types.items()}\n",
    "male_binary_types = np.load('/Users/nicenoize/Documents/Bachelorarbeit/mimic-iii-clinical-database-1.4/processed_mimic_male.types')\n",
    "male_binary_types_inv = {v: k for k, v in male_binary_types.items()}\n",
    "mixed_binary_types = np.load('/Users/nicenoize/Documents/Bachelorarbeit/mimic-iii-clinical-database-1.4/processed_mimic_mixed.types')\n",
    "mixed_binary_types_inv = {v: k for k, v in mixed_binary_types.items()}\n",
    "print(len(mixed_binary_types))\n",
    "print(len(male_binary_types))\n",
    "print(len(female_binary_types))"
   ]
  },
  {
   "cell_type": "code",
   "execution_count": 73,
   "metadata": {
    "scrolled": true
   },
   "outputs": [
    {
     "name": "stdout",
     "output_type": "stream",
     "text": [
      "(10000, 848)\n"
     ]
    }
   ],
   "source": [
    "\n",
    "male_generated_patients = np.load('/Users/nicenoize/Documents/Bachelorarbeit/mimic-iii-clinical-database-1.4/male_binary.npy')\n",
    "male_generated_patients = np.rint(male_generated_patients)\n",
    "print(male_generated_patients.shape)\n",
    "#male_generated_patients = np.array_str(male_generated_patients)\n",
    "#for x in np.nditer(male_generated_patients, op_flags=['readwrite'], flags=['multi_index']):\n",
    "#        if(x==1): x = males_types[x]\n",
    "male_generated_patients_icd = np.chararray(male_generated_patients.shape, itemsize=8)            \n",
    "it = np.nditer(male_generated_patients, flags=['multi_index'])\n",
    "while not it.finished:\n",
    "    #print (\"%d <%s>\" % (it[0], it.multi_index)),\n",
    "    if(it[0] == 1): male_generated_patients_icd[it.multi_index] = male_binary_types_inv[it.multi_index[1]]\n",
    "    #print()\n",
    "    it.iternext()\n",
    "    \n",
    "# Save male patients to csv\n",
    "pd.DataFrame(male_generated_patients_icd).to_csv(\"/Users/nicenoize/Documents/Bachelorarbeit/mimic-iii-clinical-database-1.4/male_binary.csv\")\n"
   ]
  },
  {
   "cell_type": "code",
   "execution_count": 46,
   "metadata": {},
   "outputs": [
    {
     "name": "stdout",
     "output_type": "stream",
     "text": [
      "(10000, 857)\n"
     ]
    }
   ],
   "source": [
    "# NPY to CSV  mixed_binary_cp_801.npy\n",
    "female_generated_patients = np.load('/Users/nicenoize/Documents/Bachelorarbeit/mimic-iii-clinical-database-1.4/female_binary.npy')\n",
    "female_generated_patients = np.rint(female_generated_patients)\n",
    "print(female_generated_patients.shape)\n",
    "#male_generated_patients = np.array_str(male_generated_patients)\n",
    "#for x in np.nditer(male_generated_patients, op_flags=['readwrite'], flags=['multi_index']):\n",
    "#        if(x==1): x = males_types[x]\n",
    "female_generated_patients_icd = np.chararray(female_generated_patients.shape, itemsize=8)            \n",
    "it = np.nditer(female_generated_patients, flags=['multi_index'])\n",
    "while not it.finished:\n",
    "    #print (\"%d <%s>\" % (it[0], it.multi_index)),\n",
    "    if(it[0] == 1): female_generated_patients_icd[it.multi_index] = female_binary_types_inv[it.multi_index[1]]\n",
    "    #print()\n",
    "    it.iternext()\n",
    "    \n",
    "# Save female patients to csv\n",
    "pd.DataFrame(female_generated_patients_icd).to_csv(\"/Users/nicenoize/Documents/Bachelorarbeit/mimic-iii-clinical-database-1.4/female_binary.csv\")\n"
   ]
  },
  {
   "cell_type": "code",
   "execution_count": 47,
   "metadata": {},
   "outputs": [
    {
     "name": "stdout",
     "output_type": "stream",
     "text": [
      "(10000, 906)\n"
     ]
    }
   ],
   "source": [
    "mixed_generated_patients = np.load('/Users/nicenoize/Documents/Bachelorarbeit/mimic-iii-clinical-database-1.4/mixed_binary.npy')\n",
    "mixed_generated_patients = np.rint(mixed_generated_patients)\n",
    "print(mixed_generated_patients.shape)\n",
    "#male_generated_patients = np.array_str(male_generated_patients)\n",
    "#for x in np.nditer(male_generated_patients, op_flags=['readwrite'], flags=['multi_index']):\n",
    "#        if(x==1): x = males_types[x]\n",
    "mixed_generated_patients_icd = np.chararray(mixed_generated_patients.shape, itemsize=8)            \n",
    "it = np.nditer(mixed_generated_patients, flags=['multi_index'])\n",
    "while not it.finished:\n",
    "    #print (\"%d <%s>\" % (it[0], it.multi_index)),\n",
    "    if(it[0] == 1): mixed_generated_patients_icd[it.multi_index] = mixed_binary_types_inv[it.multi_index[1]]\n",
    "    #print()\n",
    "    it.iternext()\n",
    "    \n",
    "# Save mixed patients to csv\n",
    "pd.DataFrame(mixed_generated_patients_icd).to_csv(\"/Users/nicenoize/Documents/Bachelorarbeit/mimic-iii-clinical-database-1.4/mixed_binary.csv\")\n"
   ]
  },
  {
   "cell_type": "code",
   "execution_count": 18,
   "metadata": {},
   "outputs": [],
   "source": [
    "# Binary\n",
    "mixed_binary = pd.read_csv('/Users/nicenoize/Documents/Bachelorarbeit/mimic-iii-clinical-database-1.4/mixed_binary.csv')\n",
    "male_binary = pd.read_csv('/Users/nicenoize/Documents/Bachelorarbeit/mimic-iii-clinical-database-1.4/male_binary.csv')\n",
    "female_binary = pd.read_csv('/Users/nicenoize/Documents/Bachelorarbeit/mimic-iii-clinical-database-1.4/female_binary.csv')"
   ]
  },
  {
   "cell_type": "code",
   "execution_count": 19,
   "metadata": {},
   "outputs": [],
   "source": [
    "# Invert\n",
    "#males = males.T\n",
    "#females = females.T\n",
    "#mixed = mixed.T"
   ]
  },
  {
   "cell_type": "code",
   "execution_count": 20,
   "metadata": {},
   "outputs": [],
   "source": [
    "#for i in range(855):\n",
    "#    females.rename(columns={ females.columns[i]: \"DIAGNOSIS_ICD\" }, inplace = True)\n",
    "#females.rename(columns={females.columns[0]: \"DIAGNOSIS_ICD\" }, inplace = True)\n",
    "#males.rename(columns={females.columns[0]: \"DIAGNOSIS_ICD\" }, inplace = True)\n",
    "\n",
    "#females.head()"
   ]
  },
  {
   "cell_type": "code",
   "execution_count": 21,
   "metadata": {},
   "outputs": [],
   "source": [
    "# Binary\n",
    "mixed_binary.rename(columns={mixed_binary.columns[0]: \"SUBJECT_ID\"}, inplace = True)\n",
    "male_binary.rename(columns={male_binary.columns[0]: \"SUBJECT_ID\"}, inplace = True)\n",
    "female_binary.rename(columns={female_binary.columns[0]: \"SUBJECT_ID\"}, inplace = True)"
   ]
  },
  {
   "cell_type": "code",
   "execution_count": 22,
   "metadata": {},
   "outputs": [],
   "source": [
    "# Binary\n",
    "mixed_binary = pd.melt(mixed_binary, id_vars=[\"SUBJECT_ID\"])\n",
    "male_binary = pd.melt(male_binary, id_vars=[\"SUBJECT_ID\"])\n",
    "female_binary = pd.melt(female_binary, id_vars=[\"SUBJECT_ID\"])"
   ]
  },
  {
   "cell_type": "code",
   "execution_count": 23,
   "metadata": {},
   "outputs": [],
   "source": [
    "# Find patient by SUBJECT_ID\n",
    "#print(females_transformed.loc[females_transformed['SUBJECT_ID'] == 3])"
   ]
  },
  {
   "cell_type": "code",
   "execution_count": 24,
   "metadata": {},
   "outputs": [
    {
     "name": "stdout",
     "output_type": "stream",
     "text": [
      "         SUBJECT_ID variable value\n",
      "0                 0        0   b''\n",
      "1                 1        0   b''\n",
      "2                 2        0   b''\n",
      "3                 3        0   b''\n",
      "4                 4        0   b''\n",
      "...             ...      ...   ...\n",
      "9059995        9995      905   b''\n",
      "9059996        9996      905   b''\n",
      "9059997        9997      905   b''\n",
      "9059998        9998      905   b''\n",
      "9059999        9999      905   b''\n",
      "\n",
      "[9060000 rows x 3 columns]\n"
     ]
    }
   ],
   "source": [
    "# Sort rows by SUBJECT ID\n",
    "mixed_diagnoses_icd = mixed_binary.sort_values(by=['SUBJECT_ID'], ascending = True)\n",
    "male_diagnoses_icd = male_binary.sort_values(by=['SUBJECT_ID'], ascending = True)\n",
    "female_diagnoses_icd = female_binary.sort_values(by=['SUBJECT_ID'], ascending = True)\n",
    "\n",
    "# Drop NaN rows\n",
    "mixed_diagnoses_icd = mixed_binary.dropna()\n",
    "male_diagnoses_icd = male_binary.dropna()\n",
    "female_diagnoses_icd = female_binary.dropna()\n",
    "print(mixed_binary)"
   ]
  },
  {
   "cell_type": "code",
   "execution_count": 26,
   "metadata": {},
   "outputs": [],
   "source": [
    "# Filter mixed patients for with ischemic diseases, heart diseases, diabetes and cardiovascular ones\n",
    "# also getting the SUBJECT IDs of each\n",
    "mixed_ischemic = mixed_diagnoses_icd[mixed_diagnoses_icd.value.str.contains(\"^b'D_41.+\", regex=True, na=False)]\n",
    "mixed_heart_disease = mixed_diagnoses_icd[mixed_diagnoses_icd.value.str.contains(\"b'D_429\", regex=True, na=False)]\n",
    "mixed_diabetes = mixed_diagnoses_icd[mixed_diagnoses_icd.value.str.contains(\"^b'D_25\", na=False)]\n",
    "mixed_ischemic_ids = mixed_ischemic[\"SUBJECT_ID\"].tolist()\n",
    "mixed_heart_disease_ids = mixed_heart_disease[\"SUBJECT_ID\"].tolist()\n",
    "mixed_diabetes_ids = mixed_diabetes[\"SUBJECT_ID\"].tolist()"
   ]
  },
  {
   "cell_type": "code",
   "execution_count": 27,
   "metadata": {},
   "outputs": [],
   "source": [
    "# Filter female patients for with ischemic diseases, heart diseases, diabetes and cardiovascular ones\n",
    "# also getting the SUBJECT IDs of each\n",
    "females_ischemic = female_diagnoses_icd[female_diagnoses_icd.value.str.contains(\"^b'D_41.+\", regex=True, na=False)]\n",
    "females_heart_disease = female_diagnoses_icd[female_diagnoses_icd.value.str.contains(\"b'D_429\", regex=True, na=False)]\n",
    "females_diabetes = female_diagnoses_icd[female_diagnoses_icd.value.str.contains(\"^b'D_25\", na=False)]\n",
    "females_ischemic_ids = females_ischemic[\"SUBJECT_ID\"].tolist()\n",
    "females_heart_disease_ids = females_heart_disease[\"SUBJECT_ID\"].tolist()\n",
    "females_diabetes_ids = females_diabetes[\"SUBJECT_ID\"].tolist()"
   ]
  },
  {
   "cell_type": "code",
   "execution_count": 28,
   "metadata": {},
   "outputs": [],
   "source": [
    "# Filter male patients for with ischemic diseases, heart diseases, diabetes and cardiovascular ones\n",
    "# also getting the SUBJECT IDs of each\n",
    "males_ischemic = male_diagnoses_icd[male_diagnoses_icd.value.str.contains(\"^b'D_41.+\", regex=True, na=False)]\n",
    "males_heart_disease = male_diagnoses_icd[male_diagnoses_icd.value.str.contains(\"b'D_429\", regex=True, na=False)]\n",
    "males_diabetes = male_diagnoses_icd[male_diagnoses_icd.value.str.contains(\"^b'D_25\", na=False)]\n",
    "males_ischemic_ids = males_ischemic[\"SUBJECT_ID\"].tolist()\n",
    "males_heart_disease_ids = males_heart_disease[\"SUBJECT_ID\"].tolist()\n",
    "males_diabetes_ids = males_diabetes[\"SUBJECT_ID\"].tolist()"
   ]
  },
  {
   "cell_type": "code",
   "execution_count": 29,
   "metadata": {},
   "outputs": [
    {
     "name": "stdout",
     "output_type": "stream",
     "text": [
      "b''            8951914\n",
      "b'D_296.20'       3612\n",
      "b'D_V45.82'       3089\n",
      "b'D_997.39'       2691\n",
      "b'D_401.9'        2620\n",
      "b'D_715.90'       2618\n",
      "b'D_596.8'        2391\n",
      "b'D_410.71'       2102\n",
      "b'D_774.2'        2055\n",
      "b'D_250.11'       2050\n",
      "b'D_593.9'        1990\n",
      "b'D_996.74'       1611\n",
      "b'D_996.04'       1469\n",
      "b'D_518.5'        1412\n",
      "b'D_428.0'        1382\n",
      "b'D_412'          1373\n",
      "b'D_V45.79'       1317\n",
      "b'D_795.89'       1271\n",
      "b'D_396.2'        1206\n",
      "b'D_411.1'        1173\n",
      "Name: value, dtype: int64\n"
     ]
    }
   ],
   "source": [
    "# get top 10 most ICD9-Codes for mixed patients\n",
    "n = 20\n",
    "mixed_diagnoses_top10 = mixed_diagnoses_icd['value'].value_counts()[:n]\n",
    "print(mixed_diagnoses_top10)"
   ]
  },
  {
   "cell_type": "code",
   "execution_count": 30,
   "metadata": {},
   "outputs": [
    {
     "name": "stdout",
     "output_type": "stream",
     "text": [
      "b''            8951914\n",
      "b'D_296.20'       3612\n",
      "b'D_V45.82'       3089\n",
      "b'D_997.39'       2691\n",
      "b'D_401.9'        2620\n",
      "b'D_715.90'       2618\n",
      "b'D_596.8'        2391\n",
      "b'D_410.71'       2102\n",
      "b'D_774.2'        2055\n",
      "b'D_250.11'       2050\n",
      "b'D_593.9'        1990\n",
      "b'D_996.74'       1611\n",
      "b'D_996.04'       1469\n",
      "b'D_518.5'        1412\n",
      "b'D_428.0'        1382\n",
      "b'D_412'          1373\n",
      "b'D_V45.79'       1317\n",
      "b'D_795.89'       1271\n",
      "b'D_396.2'        1206\n",
      "b'D_411.1'        1173\n",
      "Name: value, dtype: int64\n"
     ]
    }
   ],
   "source": [
    "# get top 10 most ICD9-Codes for male patients\n",
    "n = 20\n",
    "males_ischemic_top10 = male_diagnoses_icd['value'].value_counts()[:n]\n",
    "print(males_ischemic_top10)"
   ]
  },
  {
   "cell_type": "code",
   "execution_count": 31,
   "metadata": {},
   "outputs": [
    {
     "name": "stdout",
     "output_type": "stream",
     "text": [
      "b''                                 106229\n",
      "b'\\x00\\x00\\x00\\x00\\x00\\x00\\x003'      7135\n",
      "b'\\x00\\x00\\x003'                      6756\n",
      "b'\\x00\\x00\\x00\\x00\\x00\\x00\\xc03'      5697\n",
      "b'\\x00\\x00\\x00\\x00\\x00\\x00\\x803'      5652\n",
      "b'\\x00\\x00\\x803'                      5423\n",
      "b'\\x00\\x00\\xc03'                      5412\n",
      "b'\\x00\\x00\\x00\\x00\\x00\\x00\\x004'      4534\n",
      "b'\\x00\\x00\\x004'                      4267\n",
      "b'D_72'                               3209\n",
      "b'D_85'                               3159\n",
      "b'D_01'                               3121\n",
      "b'\\x00\\x00\\x00\\x00\\x00\\x00@4'         2945\n",
      "b'\\x00\\x00\\x00\\x00\\x00\\x00 4'         2917\n",
      "b'\\x00\\x00@4'                         2880\n",
      "b'D_84'                               2716\n",
      "b'\\x00\\x00 4'                         2681\n",
      "b'\\x00\\x00\\x00\\x00\\x00\\x00`4'         2527\n",
      "b'\\x00\\x00\\x00\\x00\\x00\\x00\\x804'      2364\n",
      "b'D_28'                               2324\n",
      "Name: value, dtype: int64\n"
     ]
    }
   ],
   "source": [
    "# get top 10 most ICD9-Codes for female patients\n",
    "n = 20\n",
    "females_diagnoses_top10 = female_diagnoses_icd['value'].value_counts()[:n]\n",
    "print(females_diagnoses_top10)"
   ]
  },
  {
   "cell_type": "code",
   "execution_count": 32,
   "metadata": {},
   "outputs": [
    {
     "data": {
      "text/plain": [
       "<matplotlib.axes._subplots.AxesSubplot at 0x10d499a90>"
      ]
     },
     "execution_count": 32,
     "metadata": {},
     "output_type": "execute_result"
    },
    {
     "data": {
      "image/png": "[encoded data removed]",
      "text/plain": [
       "<Figure size 1152x576 with 1 Axes>"
      ]
     },
     "metadata": {
      "needs_background": "light"
     },
     "output_type": "display_data"
    }
   ],
   "source": [
    "# Compare top n ICD9-Codes occurences for ischemic diseases\n",
    "n = 50\n",
    "\n",
    "graph_df = mixed_ischemic['value'].value_counts(normalize=False)[:n].rename('MIXED ICD').to_frame()\\\n",
    "            .join(females_ischemic['value'].value_counts(normalize=False)[:n].rename('FEMALE ICD').to_frame())\\\n",
    "               .join(males_ischemic['value'].value_counts(normalize=False)[:n].rename('MALE ICD').to_frame())\n",
    "\n",
    "graph_df.plot(kind='bar',figsize=(16, 8))"
   ]
  },
  {
   "cell_type": "code",
   "execution_count": 33,
   "metadata": {},
   "outputs": [
    {
     "data": {
      "text/plain": [
       "<matplotlib.axes._subplots.AxesSubplot at 0x1a23bf4e10>"
      ]
     },
     "execution_count": 33,
     "metadata": {},
     "output_type": "execute_result"
    },
    {
     "data": {
      "image/png": "[encoded data removed]",
      "text/plain": [
       "<Figure size 1152x576 with 1 Axes>"
      ]
     },
     "metadata": {
      "needs_background": "light"
     },
     "output_type": "display_data"
    }
   ],
   "source": [
    "# Compare top n ICD9-Codes occurences for diabetic diseases\n",
    "n = 50\n",
    "\n",
    "graph_df = mixed_diabetes['value'].value_counts(normalize=False)[:n].rename('MIXED ICD').to_frame()\\\n",
    "            .join(females_diabetes['value'].value_counts(normalize=False)[:n].rename('FEMALE ICD').to_frame())\\\n",
    "               .join(males_diabetes['value'].value_counts(normalize=False)[:n].rename('MALE ICD').to_frame())\n",
    "\n",
    "graph_df.plot(kind='bar',figsize=(16, 8))"
   ]
  },
  {
   "cell_type": "code",
   "execution_count": 34,
   "metadata": {},
   "outputs": [
    {
     "data": {
      "text/plain": [
       "1653"
      ]
     },
     "execution_count": 34,
     "metadata": {},
     "output_type": "execute_result"
    }
   ],
   "source": [
    "# Get ids of mixed patients with heart disease + any type of diabetes\n",
    "mixed_heart_and_diabetes = mixed_diagnoses_icd[mixed_diagnoses_icd[\"SUBJECT_ID\"].isin(mixed_ischemic_ids)]\n",
    "mixed_heart_and_diabetes = mixed_heart_and_diabetes[mixed_heart_and_diabetes [\"SUBJECT_ID\"].isin(mixed_diabetes_ids)]\n",
    "mixed_heart_and_diabetes[\"SUBJECT_ID\"].nunique() "
   ]
  },
  {
   "cell_type": "code",
   "execution_count": 35,
   "metadata": {},
   "outputs": [
    {
     "data": {
      "text/plain": [
       "1653"
      ]
     },
     "execution_count": 35,
     "metadata": {},
     "output_type": "execute_result"
    }
   ],
   "source": [
    "# Get ids of male patients with heart disease + any type of diabetes\n",
    "males_heart_and_diabetes = male_diagnoses_icd[male_diagnoses_icd[\"SUBJECT_ID\"].isin(males_ischemic_ids)]\n",
    "males_heart_and_diabetes = males_heart_and_diabetes[males_heart_and_diabetes [\"SUBJECT_ID\"].isin(males_diabetes_ids)]\n",
    "males_heart_and_diabetes[\"SUBJECT_ID\"].nunique() "
   ]
  },
  {
   "cell_type": "code",
   "execution_count": 36,
   "metadata": {},
   "outputs": [
    {
     "data": {
      "text/plain": [
       "192"
      ]
     },
     "execution_count": 36,
     "metadata": {},
     "output_type": "execute_result"
    }
   ],
   "source": [
    "# Get ids of female patients with heart disease + any type of diabetes\n",
    "females_heart_and_diabetes = female_diagnoses_icd[female_diagnoses_icd[\"SUBJECT_ID\"].isin(females_ischemic_ids)]\n",
    "females_heart_and_diabetes = females_heart_and_diabetes[females_heart_and_diabetes [\"SUBJECT_ID\"].isin(females_diabetes_ids)]\n",
    "females_heart_and_diabetes[\"SUBJECT_ID\"].nunique() "
   ]
  },
  {
   "cell_type": "code",
   "execution_count": 37,
   "metadata": {},
   "outputs": [
    {
     "ename": "NameError",
     "evalue": "name 'mixed_transformed' is not defined",
     "output_type": "error",
     "traceback": [
      "\u001b[0;31m---------------------------------------------------------------------------\u001b[0m",
      "\u001b[0;31mNameError\u001b[0m                                 Traceback (most recent call last)",
      "\u001b[0;32m<ipython-input-37-ff5c29b539c4>\u001b[0m in \u001b[0;36m<module>\u001b[0;34m\u001b[0m\n\u001b[0;32m----> 1\u001b[0;31m \u001b[0mmixed_transformed\u001b[0m\u001b[0;34m.\u001b[0m\u001b[0mshape\u001b[0m\u001b[0;34m\u001b[0m\u001b[0;34m\u001b[0m\u001b[0m\n\u001b[0m",
      "\u001b[0;31mNameError\u001b[0m: name 'mixed_transformed' is not defined"
     ]
    }
   ],
   "source": [
    "mixed_transformed.shape"
   ]
  },
  {
   "cell_type": "code",
   "execution_count": null,
   "metadata": {},
   "outputs": [],
   "source": []
  },
  {
   "cell_type": "code",
   "execution_count": null,
   "metadata": {},
   "outputs": [],
   "source": []
  }
 ],
 "metadata": {
  "kernelspec": {
   "display_name": "Python 3",
   "language": "python",
   "name": "python3"
  },
  "language_info": {
   "codemirror_mode": {
    "name": "ipython",
    "version": 3
   },
   "file_extension": ".py",
   "mimetype": "text/x-python",
   "name": "python",
   "nbconvert_exporter": "python",
   "pygments_lexer": "ipython3",
   "version": "3.6.9"
  }
 },
 "nbformat": 4,
 "nbformat_minor": 2
}
