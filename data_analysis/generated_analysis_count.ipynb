{
 "cells": [
  {
   "cell_type": "code",
   "execution_count": 1,
   "metadata": {},
   "outputs": [],
   "source": [
    "import numpy as np \n",
    "from io import StringIO\n",
    "import pandas as pd\n",
    "from pandas import DataFrame\n",
    "import seaborn as sns\n",
    "import matplotlib.pyplot as plt\n",
    "import re"
   ]
  },
  {
   "cell_type": "code",
   "execution_count": 2,
   "metadata": {},
   "outputs": [],
   "source": [
    "# Inverting dictionaries to map index -> Diagnosiscode\n",
    "female_types = np.load('/Users/nicenoize/Documents/Bachelorarbeit/mimic-iii-clinical-database-1.4/COUNT_PATIENTS/female_count.types')\n",
    "female_types_inv = {v: k for k, v in female_types.items()}\n",
    "male_types = np.load('/Users/nicenoize/Documents/Bachelorarbeit/mimic-iii-clinical-database-1.4/COUNT_PATIENTS/male_count.types')\n",
    "male_types_inv = {v: k for k, v in male_types.items()}\n",
    "mixed_types = np.load('/Users/nicenoize/Documents/Bachelorarbeit/mimic-iii-clinical-database-1.4/COUNT_PATIENTS/mixed_count.types')\n",
    "mixed_types_inv = {v: k for k, v in mixed_types.items()}"
   ]
  },
  {
   "cell_type": "code",
   "execution_count": 3,
   "metadata": {},
   "outputs": [
    {
     "data": {
      "text/plain": [
       "857"
      ]
     },
     "execution_count": 3,
     "metadata": {},
     "output_type": "execute_result"
    }
   ],
   "source": [
    "len(female_types)"
   ]
  },
  {
   "cell_type": "code",
   "execution_count": 4,
   "metadata": {},
   "outputs": [
    {
     "name": "stdout",
     "output_type": "stream",
     "text": [
      "      0    1    2    3    4    5    6    7    8    9    ...  847  848  849  \\\n",
      "0     b''  b''  b''  b''  b''  b''  b''  b''  b''  b''  ...  b''  b''  b''   \n",
      "1     b''  b''  b''  b''  b''  b''  b''  b''  b''  b''  ...  b''  b''  b''   \n",
      "2     b''  b''  b''  b''  b''  b''  b''  b''  b''  b''  ...  b''  b''  b''   \n",
      "3     b''  b''  b''  b''  b''  b''  b''  b''  b''  b''  ...  b''  b''  b''   \n",
      "4     b''  b''  b''  b''  b''  b''  b''  b''  b''  b''  ...  b''  b''  b''   \n",
      "...   ...  ...  ...  ...  ...  ...  ...  ...  ...  ...  ...  ...  ...  ...   \n",
      "9995  b''  b''  b''  b''  b''  b''  b''  b''  b''  b''  ...  b''  b''  b''   \n",
      "9996  b''  b''  b''  b''  b''  b''  b''  b''  b''  b''  ...  b''  b''  b''   \n",
      "9997  b''  b''  b''  b''  b''  b''  b''  b''  b''  b''  ...  b''  b''  b''   \n",
      "9998  b''  b''  b''  b''  b''  b''  b''  b''  b''  b''  ...  b''  b''  b''   \n",
      "9999  b''  b''  b''  b''  b''  b''  b''  b''  b''  b''  ...  b''  b''  b''   \n",
      "\n",
      "      850  851  852  853  854  855  856  \n",
      "0     b''  b''  b''  b''  b''  b''  b''  \n",
      "1     b''  b''  b''  b''  b''  b''  b''  \n",
      "2     b''  b''  b''  b''  b''  b''  b''  \n",
      "3     b''  b''  b''  b''  b''  b''  b''  \n",
      "4     b''  b''  b''  b''  b''  b''  b''  \n",
      "...   ...  ...  ...  ...  ...  ...  ...  \n",
      "9995  b''  b''  b''  b''  b''  b''  b''  \n",
      "9996  b''  b''  b''  b''  b''  b''  b''  \n",
      "9997  b''  b''  b''  b''  b''  b''  b''  \n",
      "9998  b''  b''  b''  b''  b''  b''  b''  \n",
      "9999  b''  b''  b''  b''  b''  b''  b''  \n",
      "\n",
      "[10000 rows x 857 columns]\n"
     ]
    }
   ],
   "source": [
    "female_count = np.load('/Users/nicenoize/Documents/Bachelorarbeit/mimic-iii-clinical-database-1.4/COUNT_PATIENTS/female_count.npy')\n",
    "female_count = np.rint(female_count)\n",
    "#male_generated_patients = np.array_str(male_generated_patients)\n",
    "#for x in np.nditer(male_generated_patients, op_flags=['readwrite'], flags=['multi_index']):\n",
    "#        if(x==1): x = males_types[x]\n",
    "female_count_icd = np.chararray(female_count.shape, itemsize=8)            \n",
    "it = np.nditer(female_count, flags=['multi_index'])\n",
    "while not it.finished:\n",
    "    #print (\"%d <%s>\" % (it[0], it.multi_index)),\n",
    "    if(it[0] == 1): female_count_icd[it.multi_index] = female_types_inv[it.multi_index[1]]\n",
    "    #print()\n",
    "    it.iternext()\n",
    "female_count = pd.DataFrame(female_count_icd)\n",
    "female_count.rename(columns=female_types_inv)\n",
    "print(female_count)\n",
    "# Save mixed patients to csv\n",
    "pd.DataFrame(female_count).to_csv(\"/Users/nicenoize/Documents/Bachelorarbeit/mimic-iii-clinical-database-1.4/COUNT_PATIENTS/female_count.csv\")"
   ]
  },
  {
   "cell_type": "code",
   "execution_count": 6,
   "metadata": {},
   "outputs": [],
   "source": [
    "female_count = np.load('/Users/nicenoize/Documents/Bachelorarbeit/mimic-iii-clinical-database-1.4/COUNT_PATIENTS/female_count.npy')\n",
    "female_count = np.rint(female_count)\n",
    "df_female = pd.DataFrame(female_count)\n",
    "df_female = df_female.rename(columns=female_types_inv)\n",
    "pd.DataFrame(df_female).to_csv(\"/Users/nicenoize/Documents/Bachelorarbeit/mimic-iii-clinical-database-1.4/COUNT_PATIENTS/female_count.csv\")"
   ]
  },
  {
   "cell_type": "code",
   "execution_count": 7,
   "metadata": {},
   "outputs": [],
   "source": [
    "male_count = np.load('/Users/nicenoize/Documents/Bachelorarbeit/mimic-iii-clinical-database-1.4/COUNT_PATIENTS/male_count.npy')\n",
    "male_count = np.rint(male_count)\n",
    "df_male = pd.DataFrame(male_count)\n",
    "df_male = df_male.rename(columns=male_types_inv)\n",
    "pd.DataFrame(df_male).to_csv(\"/Users/nicenoize/Documents/Bachelorarbeit/mimic-iii-clinical-database-1.4/COUNT_PATIENTS/male_count.csv\")"
   ]
  },
  {
   "cell_type": "code",
   "execution_count": 8,
   "metadata": {},
   "outputs": [],
   "source": [
    "mixed_count = np.load('/Users/nicenoize/Documents/Bachelorarbeit/mimic-iii-clinical-database-1.4/COUNT_PATIENTS/mixed_count.npy')\n",
    "mixed_count = np.rint(mixed_count)\n",
    "df_mixed = pd.DataFrame(mixed_count)\n",
    "df_mixed = df_mixed.rename(columns=mixed_types_inv)\n",
    "pd.DataFrame(df_mixed).to_csv(\"/Users/nicenoize/Documents/Bachelorarbeit/mimic-iii-clinical-database-1.4/COUNT_PATIENTS/mixed_count.csv\")"
   ]
  },
  {
   "cell_type": "code",
   "execution_count": 93,
   "metadata": {},
   "outputs": [
    {
     "data": {
      "text/plain": [
       "857"
      ]
     },
     "execution_count": 93,
     "metadata": {},
     "output_type": "execute_result"
    }
   ],
   "source": [
    "len(female_types)"
   ]
  },
  {
   "cell_type": "code",
   "execution_count": 6,
   "metadata": {},
   "outputs": [
    {
     "name": "stdout",
     "output_type": "stream",
     "text": [
      "(10000, 906)\n"
     ]
    }
   ],
   "source": [
    "mixed_count = np.load('/Users/nicenoize/Documents/Bachelorarbeit/mimic-iii-clinical-database-1.4/COUNT_PATIENTS/mixed_count.npy')\n",
    "mixed_count = np.rint(mixed_count)\n",
    "print(mixed_count.shape)\n",
    "#male_generated_patients = np.array_str(male_generated_patients)\n",
    "#for x in np.nditer(male_generated_patients, op_flags=['readwrite'], flags=['multi_index']):\n",
    "#        if(x==1): x = males_types[x]\n",
    "mixed_count_icd = np.chararray(mixed_count.shape, itemsize=7)            \n",
    "it = np.nditer(mixed_count, flags=['multi_index'])\n",
    "while not it.finished:\n",
    "    #print (\"%d <%s>\" % (it[0], it.multi_index)),\n",
    "    if(it[0] == 1): mixed_count_icd[it.multi_index] = mixed_types_inv[it.multi_index[1]]\n",
    "    #print()\n",
    "    it.iternext()\n",
    "    \n",
    "# Save mixed patients to csv\n",
    "pd.DataFrame(mixed_count_icd).to_csv(\"/Users/nicenoize/Documents/Bachelorarbeit/mimic-iii-clinical-database-1.4/COUNT_PATIENTS/mixed_count.csv\")"
   ]
  },
  {
   "cell_type": "code",
   "execution_count": 17,
   "metadata": {},
   "outputs": [],
   "source": [
    "# Count\n",
    "mixed_count = pd.read_csv('/Users/nicenoize/Documents/Bachelorarbeit/mimic-iii-clinical-database-1.4/COUNT_PATIENTS/mixed_count.csv')\n",
    "male_count = pd.read_csv('/Users/nicenoize/Documents/Bachelorarbeit/mimic-iii-clinical-database-1.4/COUNT_PATIENTS/male_count.csv')\n",
    "female_count = pd.read_csv('/Users/nicenoize/Documents/Bachelorarbeit/mimic-iii-clinical-database-1.4/COUNT_PATIENTS/female_count.csv')"
   ]
  },
  {
   "cell_type": "code",
   "execution_count": 18,
   "metadata": {},
   "outputs": [
    {
     "data": {
      "text/html": [
       "<div>\n",
       "<style scoped>\n",
       "    .dataframe tbody tr th:only-of-type {\n",
       "        vertical-align: middle;\n",
       "    }\n",
       "\n",
       "    .dataframe tbody tr th {\n",
       "        vertical-align: top;\n",
       "    }\n",
       "\n",
       "    .dataframe thead th {\n",
       "        text-align: right;\n",
       "    }\n",
       "</style>\n",
       "<table border=\"1\" class=\"dataframe\">\n",
       "  <thead>\n",
       "    <tr style=\"text-align: right;\">\n",
       "      <th></th>\n",
       "      <th>Unnamed: 0</th>\n",
       "      <th>D_67</th>\n",
       "      <th>D_69</th>\n",
       "      <th>D_950</th>\n",
       "      <th>D_48</th>\n",
       "      <th>D_962</th>\n",
       "      <th>D_01</th>\n",
       "      <th>D_300</th>\n",
       "      <th>D_70</th>\n",
       "      <th>D_29</th>\n",
       "      <th>...</th>\n",
       "      <th>D_827</th>\n",
       "      <th>D_365</th>\n",
       "      <th>D_198</th>\n",
       "      <th>D_193</th>\n",
       "      <th>D_248</th>\n",
       "      <th>D_112</th>\n",
       "      <th>D_342</th>\n",
       "      <th>D_093</th>\n",
       "      <th>D_775</th>\n",
       "      <th>D_513</th>\n",
       "    </tr>\n",
       "  </thead>\n",
       "  <tbody>\n",
       "    <tr>\n",
       "      <td>0</td>\n",
       "      <td>0</td>\n",
       "      <td>0.0</td>\n",
       "      <td>0.0</td>\n",
       "      <td>0.0</td>\n",
       "      <td>0.0</td>\n",
       "      <td>0.0</td>\n",
       "      <td>0.0</td>\n",
       "      <td>0.0</td>\n",
       "      <td>0.0</td>\n",
       "      <td>0.0</td>\n",
       "      <td>...</td>\n",
       "      <td>0.0</td>\n",
       "      <td>0.0</td>\n",
       "      <td>0.0</td>\n",
       "      <td>0.0</td>\n",
       "      <td>0.0</td>\n",
       "      <td>0.0</td>\n",
       "      <td>0.0</td>\n",
       "      <td>0.0</td>\n",
       "      <td>0.0</td>\n",
       "      <td>0.0</td>\n",
       "    </tr>\n",
       "    <tr>\n",
       "      <td>1</td>\n",
       "      <td>1</td>\n",
       "      <td>0.0</td>\n",
       "      <td>0.0</td>\n",
       "      <td>0.0</td>\n",
       "      <td>0.0</td>\n",
       "      <td>0.0</td>\n",
       "      <td>2.0</td>\n",
       "      <td>0.0</td>\n",
       "      <td>0.0</td>\n",
       "      <td>0.0</td>\n",
       "      <td>...</td>\n",
       "      <td>0.0</td>\n",
       "      <td>0.0</td>\n",
       "      <td>0.0</td>\n",
       "      <td>0.0</td>\n",
       "      <td>0.0</td>\n",
       "      <td>0.0</td>\n",
       "      <td>0.0</td>\n",
       "      <td>0.0</td>\n",
       "      <td>0.0</td>\n",
       "      <td>0.0</td>\n",
       "    </tr>\n",
       "    <tr>\n",
       "      <td>2</td>\n",
       "      <td>2</td>\n",
       "      <td>0.0</td>\n",
       "      <td>0.0</td>\n",
       "      <td>0.0</td>\n",
       "      <td>0.0</td>\n",
       "      <td>0.0</td>\n",
       "      <td>2.0</td>\n",
       "      <td>0.0</td>\n",
       "      <td>0.0</td>\n",
       "      <td>0.0</td>\n",
       "      <td>...</td>\n",
       "      <td>0.0</td>\n",
       "      <td>0.0</td>\n",
       "      <td>0.0</td>\n",
       "      <td>0.0</td>\n",
       "      <td>0.0</td>\n",
       "      <td>0.0</td>\n",
       "      <td>0.0</td>\n",
       "      <td>0.0</td>\n",
       "      <td>0.0</td>\n",
       "      <td>0.0</td>\n",
       "    </tr>\n",
       "    <tr>\n",
       "      <td>3</td>\n",
       "      <td>3</td>\n",
       "      <td>0.0</td>\n",
       "      <td>0.0</td>\n",
       "      <td>0.0</td>\n",
       "      <td>0.0</td>\n",
       "      <td>0.0</td>\n",
       "      <td>0.0</td>\n",
       "      <td>0.0</td>\n",
       "      <td>0.0</td>\n",
       "      <td>0.0</td>\n",
       "      <td>...</td>\n",
       "      <td>0.0</td>\n",
       "      <td>0.0</td>\n",
       "      <td>0.0</td>\n",
       "      <td>0.0</td>\n",
       "      <td>0.0</td>\n",
       "      <td>0.0</td>\n",
       "      <td>0.0</td>\n",
       "      <td>0.0</td>\n",
       "      <td>0.0</td>\n",
       "      <td>0.0</td>\n",
       "    </tr>\n",
       "    <tr>\n",
       "      <td>4</td>\n",
       "      <td>4</td>\n",
       "      <td>0.0</td>\n",
       "      <td>0.0</td>\n",
       "      <td>0.0</td>\n",
       "      <td>0.0</td>\n",
       "      <td>0.0</td>\n",
       "      <td>0.0</td>\n",
       "      <td>0.0</td>\n",
       "      <td>0.0</td>\n",
       "      <td>0.0</td>\n",
       "      <td>...</td>\n",
       "      <td>0.0</td>\n",
       "      <td>0.0</td>\n",
       "      <td>0.0</td>\n",
       "      <td>0.0</td>\n",
       "      <td>0.0</td>\n",
       "      <td>0.0</td>\n",
       "      <td>0.0</td>\n",
       "      <td>0.0</td>\n",
       "      <td>0.0</td>\n",
       "      <td>0.0</td>\n",
       "    </tr>\n",
       "    <tr>\n",
       "      <td>...</td>\n",
       "      <td>...</td>\n",
       "      <td>...</td>\n",
       "      <td>...</td>\n",
       "      <td>...</td>\n",
       "      <td>...</td>\n",
       "      <td>...</td>\n",
       "      <td>...</td>\n",
       "      <td>...</td>\n",
       "      <td>...</td>\n",
       "      <td>...</td>\n",
       "      <td>...</td>\n",
       "      <td>...</td>\n",
       "      <td>...</td>\n",
       "      <td>...</td>\n",
       "      <td>...</td>\n",
       "      <td>...</td>\n",
       "      <td>...</td>\n",
       "      <td>...</td>\n",
       "      <td>...</td>\n",
       "      <td>...</td>\n",
       "      <td>...</td>\n",
       "    </tr>\n",
       "    <tr>\n",
       "      <td>9995</td>\n",
       "      <td>9995</td>\n",
       "      <td>0.0</td>\n",
       "      <td>0.0</td>\n",
       "      <td>0.0</td>\n",
       "      <td>0.0</td>\n",
       "      <td>0.0</td>\n",
       "      <td>0.0</td>\n",
       "      <td>0.0</td>\n",
       "      <td>0.0</td>\n",
       "      <td>0.0</td>\n",
       "      <td>...</td>\n",
       "      <td>0.0</td>\n",
       "      <td>0.0</td>\n",
       "      <td>0.0</td>\n",
       "      <td>0.0</td>\n",
       "      <td>0.0</td>\n",
       "      <td>0.0</td>\n",
       "      <td>0.0</td>\n",
       "      <td>0.0</td>\n",
       "      <td>0.0</td>\n",
       "      <td>0.0</td>\n",
       "    </tr>\n",
       "    <tr>\n",
       "      <td>9996</td>\n",
       "      <td>9996</td>\n",
       "      <td>0.0</td>\n",
       "      <td>0.0</td>\n",
       "      <td>0.0</td>\n",
       "      <td>0.0</td>\n",
       "      <td>0.0</td>\n",
       "      <td>0.0</td>\n",
       "      <td>0.0</td>\n",
       "      <td>0.0</td>\n",
       "      <td>0.0</td>\n",
       "      <td>...</td>\n",
       "      <td>0.0</td>\n",
       "      <td>0.0</td>\n",
       "      <td>0.0</td>\n",
       "      <td>0.0</td>\n",
       "      <td>0.0</td>\n",
       "      <td>0.0</td>\n",
       "      <td>0.0</td>\n",
       "      <td>0.0</td>\n",
       "      <td>0.0</td>\n",
       "      <td>0.0</td>\n",
       "    </tr>\n",
       "    <tr>\n",
       "      <td>9997</td>\n",
       "      <td>9997</td>\n",
       "      <td>0.0</td>\n",
       "      <td>0.0</td>\n",
       "      <td>0.0</td>\n",
       "      <td>0.0</td>\n",
       "      <td>0.0</td>\n",
       "      <td>0.0</td>\n",
       "      <td>0.0</td>\n",
       "      <td>0.0</td>\n",
       "      <td>0.0</td>\n",
       "      <td>...</td>\n",
       "      <td>0.0</td>\n",
       "      <td>0.0</td>\n",
       "      <td>0.0</td>\n",
       "      <td>0.0</td>\n",
       "      <td>0.0</td>\n",
       "      <td>0.0</td>\n",
       "      <td>0.0</td>\n",
       "      <td>0.0</td>\n",
       "      <td>0.0</td>\n",
       "      <td>0.0</td>\n",
       "    </tr>\n",
       "    <tr>\n",
       "      <td>9998</td>\n",
       "      <td>9998</td>\n",
       "      <td>0.0</td>\n",
       "      <td>0.0</td>\n",
       "      <td>0.0</td>\n",
       "      <td>0.0</td>\n",
       "      <td>0.0</td>\n",
       "      <td>0.0</td>\n",
       "      <td>0.0</td>\n",
       "      <td>0.0</td>\n",
       "      <td>0.0</td>\n",
       "      <td>...</td>\n",
       "      <td>0.0</td>\n",
       "      <td>0.0</td>\n",
       "      <td>0.0</td>\n",
       "      <td>0.0</td>\n",
       "      <td>0.0</td>\n",
       "      <td>0.0</td>\n",
       "      <td>0.0</td>\n",
       "      <td>0.0</td>\n",
       "      <td>0.0</td>\n",
       "      <td>0.0</td>\n",
       "    </tr>\n",
       "    <tr>\n",
       "      <td>9999</td>\n",
       "      <td>9999</td>\n",
       "      <td>0.0</td>\n",
       "      <td>0.0</td>\n",
       "      <td>0.0</td>\n",
       "      <td>0.0</td>\n",
       "      <td>0.0</td>\n",
       "      <td>0.0</td>\n",
       "      <td>0.0</td>\n",
       "      <td>0.0</td>\n",
       "      <td>0.0</td>\n",
       "      <td>...</td>\n",
       "      <td>0.0</td>\n",
       "      <td>0.0</td>\n",
       "      <td>0.0</td>\n",
       "      <td>0.0</td>\n",
       "      <td>0.0</td>\n",
       "      <td>0.0</td>\n",
       "      <td>0.0</td>\n",
       "      <td>0.0</td>\n",
       "      <td>0.0</td>\n",
       "      <td>0.0</td>\n",
       "    </tr>\n",
       "  </tbody>\n",
       "</table>\n",
       "<p>10000 rows × 858 columns</p>\n",
       "</div>"
      ],
      "text/plain": [
       "      Unnamed: 0  D_67  D_69  D_950  D_48  D_962  D_01  D_300  D_70  D_29  \\\n",
       "0              0   0.0   0.0    0.0   0.0    0.0   0.0    0.0   0.0   0.0   \n",
       "1              1   0.0   0.0    0.0   0.0    0.0   2.0    0.0   0.0   0.0   \n",
       "2              2   0.0   0.0    0.0   0.0    0.0   2.0    0.0   0.0   0.0   \n",
       "3              3   0.0   0.0    0.0   0.0    0.0   0.0    0.0   0.0   0.0   \n",
       "4              4   0.0   0.0    0.0   0.0    0.0   0.0    0.0   0.0   0.0   \n",
       "...          ...   ...   ...    ...   ...    ...   ...    ...   ...   ...   \n",
       "9995        9995   0.0   0.0    0.0   0.0    0.0   0.0    0.0   0.0   0.0   \n",
       "9996        9996   0.0   0.0    0.0   0.0    0.0   0.0    0.0   0.0   0.0   \n",
       "9997        9997   0.0   0.0    0.0   0.0    0.0   0.0    0.0   0.0   0.0   \n",
       "9998        9998   0.0   0.0    0.0   0.0    0.0   0.0    0.0   0.0   0.0   \n",
       "9999        9999   0.0   0.0    0.0   0.0    0.0   0.0    0.0   0.0   0.0   \n",
       "\n",
       "      ...  D_827  D_365  D_198  D_193  D_248  D_112  D_342  D_093  D_775  \\\n",
       "0     ...    0.0    0.0    0.0    0.0    0.0    0.0    0.0    0.0    0.0   \n",
       "1     ...    0.0    0.0    0.0    0.0    0.0    0.0    0.0    0.0    0.0   \n",
       "2     ...    0.0    0.0    0.0    0.0    0.0    0.0    0.0    0.0    0.0   \n",
       "3     ...    0.0    0.0    0.0    0.0    0.0    0.0    0.0    0.0    0.0   \n",
       "4     ...    0.0    0.0    0.0    0.0    0.0    0.0    0.0    0.0    0.0   \n",
       "...   ...    ...    ...    ...    ...    ...    ...    ...    ...    ...   \n",
       "9995  ...    0.0    0.0    0.0    0.0    0.0    0.0    0.0    0.0    0.0   \n",
       "9996  ...    0.0    0.0    0.0    0.0    0.0    0.0    0.0    0.0    0.0   \n",
       "9997  ...    0.0    0.0    0.0    0.0    0.0    0.0    0.0    0.0    0.0   \n",
       "9998  ...    0.0    0.0    0.0    0.0    0.0    0.0    0.0    0.0    0.0   \n",
       "9999  ...    0.0    0.0    0.0    0.0    0.0    0.0    0.0    0.0    0.0   \n",
       "\n",
       "      D_513  \n",
       "0       0.0  \n",
       "1       0.0  \n",
       "2       0.0  \n",
       "3       0.0  \n",
       "4       0.0  \n",
       "...     ...  \n",
       "9995    0.0  \n",
       "9996    0.0  \n",
       "9997    0.0  \n",
       "9998    0.0  \n",
       "9999    0.0  \n",
       "\n",
       "[10000 rows x 858 columns]"
      ]
     },
     "execution_count": 18,
     "metadata": {},
     "output_type": "execute_result"
    }
   ],
   "source": [
    "# Invert\n",
    "#males = males.T\n",
    "#females = females.T\n",
    "#mixed = mixed.T\n",
    "patient_1 =female_count"
   ]
  },
  {
   "cell_type": "code",
   "execution_count": 86,
   "metadata": {},
   "outputs": [],
   "source": [
    "#for i in range(855):\n",
    "#    females.rename(columns={ females.columns[i]: \"DIAGNOSIS_ICD\" }, inplace = True)\n",
    "#females.rename(columns={females.columns[0]: \"DIAGNOSIS_ICD\" }, inplace = True)\n",
    "#males.rename(columns={females.columns[0]: \"DIAGNOSIS_ICD\" }, inplace = True)\n",
    "\n",
    "#females.head()"
   ]
  },
  {
   "cell_type": "code",
   "execution_count": 87,
   "metadata": {},
   "outputs": [],
   "source": [
    "# Count\n",
    "mixed_count.rename(columns={mixed_count.columns[0]: \"SUBJECT_ID\"}, inplace = True)\n",
    "male_count.rename(columns={male_count.columns[0]: \"SUBJECT_ID\"}, inplace = True)\n",
    "female_count.rename(columns={female_count.columns[0]: \"SUBJECT_ID\"}, inplace = True)"
   ]
  },
  {
   "cell_type": "code",
   "execution_count": 88,
   "metadata": {},
   "outputs": [],
   "source": [
    "# Count\n",
    "mixed_count = pd.melt(mixed_count, id_vars=[\"SUBJECT_ID\"])\n",
    "male_count = pd.melt(male_count, id_vars=[\"SUBJECT_ID\"])\n",
    "female_count = pd.melt(female_count, id_vars=[\"SUBJECT_ID\"])"
   ]
  },
  {
   "cell_type": "code",
   "execution_count": 89,
   "metadata": {},
   "outputs": [],
   "source": [
    "# Find patient by SUBJECT_ID\n",
    "#print(females_transformed.loc[females_transformed['SUBJECT_ID'] == 3])"
   ]
  },
  {
   "cell_type": "code",
   "execution_count": 90,
   "metadata": {},
   "outputs": [],
   "source": [
    "# Sort rows by SUBJECT ID\n",
    "mixed_count = mixed_count.sort_values(by=['SUBJECT_ID'], ascending = True)\n",
    "male_count = male_count.sort_values(by=['SUBJECT_ID'], ascending = True)\n",
    "female_count = female_count.sort_values(by=['SUBJECT_ID'], ascending = True)\n",
    "\n",
    "# Drop NaN rows\n",
    "mixed_count_icd = mixed_count.dropna()\n",
    "male_count_icd = male_count.dropna()\n",
    "female_count_icd = female_count.dropna()"
   ]
  },
  {
   "cell_type": "code",
   "execution_count": 91,
   "metadata": {},
   "outputs": [],
   "source": [
    "# Filter mixed patients for with ischemic diseases, heart diseases, diabetes and cardiovascular ones\n",
    "# also getting the SUBJECT IDs of each\n",
    "mixed_ischemic = mixed_count_icd[mixed_count_icd.value.str.contains(\"^b'D_41.+\", regex=True, na=False)]\n",
    "mixed_heart_disease = mixed_count_icd[mixed_count_icd.value.str.contains(\"b'D_429\", regex=True, na=False)]\n",
    "mixed_diabetes = mixed_count_icd[mixed_count_icd.value.str.contains(\"^b'D_25\", na=False)]\n",
    "mixed_ischemic_ids = mixed_ischemic[\"SUBJECT_ID\"].tolist()\n",
    "mixed_heart_disease_ids = mixed_heart_disease[\"SUBJECT_ID\"].tolist()\n",
    "mixed_diabetes_ids = mixed_diabetes[\"SUBJECT_ID\"].tolist()"
   ]
  },
  {
   "cell_type": "code",
   "execution_count": 92,
   "metadata": {},
   "outputs": [],
   "source": [
    "# Filter female patients for with ischemic diseases, heart diseases, diabetes and cardiovascular ones\n",
    "# also getting the SUBJECT IDs of each\n",
    "females_ischemic = female_count_icd[female_count_icd.value.str.contains(\"^b'D_41.+\", regex=True, na=False)]\n",
    "females_heart_disease = female_count_icd[female_count_icd.value.str.contains(\"b'D_429\", regex=True, na=False)]\n",
    "females_diabetes = female_count_icd[female_count_icd.value.str.contains(\"^b'D_25\", na=False)]\n",
    "females_ischemic_ids = females_ischemic[\"SUBJECT_ID\"].tolist()\n",
    "females_heart_disease_ids = females_heart_disease[\"SUBJECT_ID\"].tolist()\n",
    "females_diabetes_ids = females_diabetes[\"SUBJECT_ID\"].tolist()"
   ]
  },
  {
   "cell_type": "code",
   "execution_count": 93,
   "metadata": {},
   "outputs": [],
   "source": [
    "# Filter male patients for with ischemic diseases, heart diseases, diabetes and cardiovascular ones\n",
    "# also getting the SUBJECT IDs of each\n",
    "males_ischemic = male_count_icd[male_count_icd.value.str.contains(\"^b'D_41.+\", regex=True, na=False)]\n",
    "males_heart_disease = male_count_icd[male_count_icd.value.str.contains(\"b'D_429\", regex=True, na=False)]\n",
    "males_diabetes = male_count_icd[male_count_icd.value.str.contains(\"^b'D_25\", na=False)]\n",
    "males_ischemic_ids = males_ischemic[\"SUBJECT_ID\"].tolist()\n",
    "males_heart_disease_ids = males_heart_disease[\"SUBJECT_ID\"].tolist()\n",
    "males_diabetes_ids = males_diabetes[\"SUBJECT_ID\"].tolist()"
   ]
  },
  {
   "cell_type": "code",
   "execution_count": 94,
   "metadata": {},
   "outputs": [
    {
     "name": "stdout",
     "output_type": "stream",
     "text": [
      "b''                             8758248\n",
      "b'?'                               6195\n",
      "b'>'                               4993\n",
      "b'\\x00\\x00\\x00\\x00\\x00\\x00D'       3591\n",
      "b'\\x00\\x00\\x00\\x00\\x00D_'          3358\n",
      "b'='                               1908\n",
      "b'D_01'                            1780\n",
      "b'D_05'                            1405\n",
      "b'D_72'                            1255\n",
      "b'D_300'                           1242\n",
      "b'D_140'                           1095\n",
      "b'D_29'                             954\n",
      "b'@'                                908\n",
      "b'D_76'                             902\n",
      "b'D_24'                             899\n",
      "b'D_85'                             832\n",
      "b'D_273'                            807\n",
      "b'D_500'                            788\n",
      "b'D_308'                            710\n",
      "b'D_28'                             710\n",
      "Name: value, dtype: int64\n"
     ]
    }
   ],
   "source": [
    "# get top 10 most ICD9-Codes for mixed patients\n",
    "n = 20\n",
    "mixed_diagnoses_top10 = mixed_count_icd['value'].value_counts()[:n]\n",
    "print(mixed_diagnoses_top10)"
   ]
  },
  {
   "cell_type": "code",
   "execution_count": 95,
   "metadata": {},
   "outputs": [
    {
     "name": "stdout",
     "output_type": "stream",
     "text": [
      "b''                                 5148731\n",
      "b'\\x00\\x00\\x80?'                      26534\n",
      "b'\\x00\\x00\\x00\\x00\\x00\\x00\\x80?'      25468\n",
      "b'\\x00\\x00\\x00\\x00\\x00\\x00\\x00@'       8029\n",
      "b'\\x00\\x00\\x00@'                       7572\n",
      "b'D_01'                                3219\n",
      "b'\\x00\\x00\\x80?\\x00\\x00\\x80?'          3182\n",
      "b'D_72'                                2438\n",
      "b'\\x00\\x00\\x00\\x00\\x00\\x00@@'          2381\n",
      "b'D_140'                               2251\n",
      "b'\\x00\\x00@@'                          2119\n",
      "b'\\x00\\x00\\x00@\\x00\\x00\\x80?'          1465\n",
      "b'\\x00\\x00\\x80?\\x00\\x00\\x00@'          1420\n",
      "b'D_273'                               1372\n",
      "b'D_84'                                1369\n",
      "b'D_05'                                1361\n",
      "b'D_28'                                1319\n",
      "b'D_85'                                1287\n",
      "b'D_500'                               1277\n",
      "b'D_76'                                1126\n",
      "Name: value, dtype: int64\n"
     ]
    }
   ],
   "source": [
    "# get top 10 most ICD9-Codes for male patients\n",
    "n = 20\n",
    "males_ischemic_top10 = male_count_icd['value'].value_counts()[:n]\n",
    "print(males_ischemic_top10)"
   ]
  },
  {
   "cell_type": "code",
   "execution_count": 96,
   "metadata": {},
   "outputs": [
    {
     "name": "stdout",
     "output_type": "stream",
     "text": [
      "b''         8518556\n",
      "b'D_300'       1371\n",
      "b'D_01'        1329\n",
      "b'D_72'         891\n",
      "b'D_24'         843\n",
      "b'D_84'         791\n",
      "b'D_29'         775\n",
      "b'D_85'         775\n",
      "b'D_140'        725\n",
      "b'D_28'         653\n",
      "b'D_76'         623\n",
      "b'D_05'         615\n",
      "b'D_939'        531\n",
      "b'D_500'        525\n",
      "b'D_44'         525\n",
      "b'D_273'        493\n",
      "b'D_8'          474\n",
      "b'D_308'        444\n",
      "b'D_16'         430\n",
      "b'D_1'          425\n",
      "Name: value, dtype: int64\n"
     ]
    }
   ],
   "source": [
    "# get top 10 most ICD9-Codes for female patients\n",
    "n = 20\n",
    "females_ischemic_top10 = female_count_icd['value'].value_counts()[:n]\n",
    "print(females_ischemic_top10)"
   ]
  },
  {
   "cell_type": "code",
   "execution_count": 97,
   "metadata": {},
   "outputs": [
    {
     "data": {
      "text/plain": [
       "<matplotlib.axes._subplots.AxesSubplot at 0x1a5813c630>"
      ]
     },
     "execution_count": 97,
     "metadata": {},
     "output_type": "execute_result"
    },
    {
     "data": {
      "image/png": "[encoded data removed]",
      "text/plain": [
       "<Figure size 1152x576 with 1 Axes>"
      ]
     },
     "metadata": {
      "needs_background": "light"
     },
     "output_type": "display_data"
    }
   ],
   "source": [
    "# Compare top n ICD9-Codes occurences for ischemic diseases\n",
    "n = 50\n",
    "\n",
    "graph_df = mixed_ischemic['value'].value_counts(normalize=False)[:n].rename('MIXED ICD').to_frame()\\\n",
    "            .join(females_ischemic['value'].value_counts(normalize=False)[:n].rename('FEMALE ICD').to_frame())\\\n",
    "               .join(males_ischemic['value'].value_counts(normalize=False)[:n].rename('MALE ICD').to_frame())\n",
    "\n",
    "graph_df.plot(kind='bar',figsize=(16, 8))"
   ]
  },
  {
   "cell_type": "code",
   "execution_count": 98,
   "metadata": {},
   "outputs": [
    {
     "data": {
      "text/plain": [
       "<matplotlib.axes._subplots.AxesSubplot at 0x1a3af687f0>"
      ]
     },
     "execution_count": 98,
     "metadata": {},
     "output_type": "execute_result"
    },
    {
     "data": {
      "image/png": "[encoded data removed]",
      "text/plain": [
       "<Figure size 1152x576 with 1 Axes>"
      ]
     },
     "metadata": {
      "needs_background": "light"
     },
     "output_type": "display_data"
    }
   ],
   "source": [
    "# Compare top n ICD9-Codes occurences for diabetic diseases\n",
    "n = 50\n",
    "\n",
    "graph_df = mixed_diabetes['value'].value_counts(normalize=False)[:n].rename('MIXED ICD').to_frame()\\\n",
    "            .join(females_diabetes['value'].value_counts(normalize=False)[:n].rename('FEMALE ICD').to_frame())\\\n",
    "               .join(males_diabetes['value'].value_counts(normalize=False)[:n].rename('MALE ICD').to_frame())\n",
    "\n",
    "graph_df.plot(kind='bar',figsize=(16, 8))"
   ]
  },
  {
   "cell_type": "code",
   "execution_count": 99,
   "metadata": {},
   "outputs": [
    {
     "ename": "NameError",
     "evalue": "name 'mixed_diagnoses_icd' is not defined",
     "output_type": "error",
     "traceback": [
      "\u001b[0;31m---------------------------------------------------------------------------\u001b[0m",
      "\u001b[0;31mNameError\u001b[0m                                 Traceback (most recent call last)",
      "\u001b[0;32m<ipython-input-99-9504a1bddef8>\u001b[0m in \u001b[0;36m<module>\u001b[0;34m\u001b[0m\n\u001b[1;32m      1\u001b[0m \u001b[0;31m# Get ids of mixed patients with heart disease + any type of diabetes\u001b[0m\u001b[0;34m\u001b[0m\u001b[0;34m\u001b[0m\u001b[0;34m\u001b[0m\u001b[0m\n\u001b[0;32m----> 2\u001b[0;31m \u001b[0mmixed_heart_and_diabetes\u001b[0m \u001b[0;34m=\u001b[0m \u001b[0mmixed_diagnoses_icd\u001b[0m\u001b[0;34m[\u001b[0m\u001b[0mmixed_diagnoses_icd\u001b[0m\u001b[0;34m[\u001b[0m\u001b[0;34m\"SUBJECT_ID\"\u001b[0m\u001b[0;34m]\u001b[0m\u001b[0;34m.\u001b[0m\u001b[0misin\u001b[0m\u001b[0;34m(\u001b[0m\u001b[0mmixed_ischemic_ids\u001b[0m\u001b[0;34m)\u001b[0m\u001b[0;34m]\u001b[0m\u001b[0;34m\u001b[0m\u001b[0;34m\u001b[0m\u001b[0m\n\u001b[0m\u001b[1;32m      3\u001b[0m \u001b[0mmixed_heart_and_diabetes\u001b[0m \u001b[0;34m=\u001b[0m \u001b[0mmixed_heart_and_diabetes\u001b[0m\u001b[0;34m[\u001b[0m\u001b[0mmixed_heart_and_diabetes\u001b[0m \u001b[0;34m[\u001b[0m\u001b[0;34m\"SUBJECT_ID\"\u001b[0m\u001b[0;34m]\u001b[0m\u001b[0;34m.\u001b[0m\u001b[0misin\u001b[0m\u001b[0;34m(\u001b[0m\u001b[0mmixed_diabetes_ids\u001b[0m\u001b[0;34m)\u001b[0m\u001b[0;34m]\u001b[0m\u001b[0;34m\u001b[0m\u001b[0;34m\u001b[0m\u001b[0m\n\u001b[1;32m      4\u001b[0m \u001b[0mmixed_heart_and_diabetes\u001b[0m\u001b[0;34m[\u001b[0m\u001b[0;34m\"SUBJECT_ID\"\u001b[0m\u001b[0;34m]\u001b[0m\u001b[0;34m.\u001b[0m\u001b[0mnunique\u001b[0m\u001b[0;34m(\u001b[0m\u001b[0;34m)\u001b[0m\u001b[0;34m\u001b[0m\u001b[0;34m\u001b[0m\u001b[0m\n",
      "\u001b[0;31mNameError\u001b[0m: name 'mixed_diagnoses_icd' is not defined"
     ]
    }
   ],
   "source": [
    "# Get ids of mixed patients with heart disease + any type of diabetes\n",
    "mixed_heart_and_diabetes = mixed_diagnoses_icd[mixed_diagnoses_icd[\"SUBJECT_ID\"].isin(mixed_ischemic_ids)]\n",
    "mixed_heart_and_diabetes = mixed_heart_and_diabetes[mixed_heart_and_diabetes [\"SUBJECT_ID\"].isin(mixed_diabetes_ids)]\n",
    "mixed_heart_and_diabetes[\"SUBJECT_ID\"].nunique() "
   ]
  },
  {
   "cell_type": "code",
   "execution_count": null,
   "metadata": {},
   "outputs": [],
   "source": [
    "# Get ids of male patients with heart disease + any type of diabetes\n",
    "males_heart_and_diabetes = males_diagnoses_icd[male_diagnoses_icd[\"SUBJECT_ID\"].isin(males_ischemic_ids)]\n",
    "males_heart_and_diabetes = males_heart_and_diabetes[male_heart_and_diabetes [\"SUBJECT_ID\"].isin(males_diabetes_ids)]\n",
    "males_heart_and_diabetes[\"SUBJECT_ID\"].nunique() "
   ]
  },
  {
   "cell_type": "code",
   "execution_count": null,
   "metadata": {},
   "outputs": [],
   "source": [
    "# Get ids of female patients with heart disease + any type of diabetes\n",
    "females_heart_and_diabetes = females_diagnoses_icd[females_diagnoses_icd[\"SUBJECT_ID\"].isin(females_ischemic_ids)]\n",
    "females_heart_and_diabetes = females_heart_and_diabetes[females_heart_and_diabetes [\"SUBJECT_ID\"].isin(females_diabetes_ids)]\n",
    "females_heart_and_diabetes[\"SUBJECT_ID\"].nunique() "
   ]
  },
  {
   "cell_type": "code",
   "execution_count": null,
   "metadata": {},
   "outputs": [],
   "source": []
  },
  {
   "cell_type": "code",
   "execution_count": 277,
   "metadata": {},
   "outputs": [
    {
     "data": {
      "text/plain": [
       "(9060000, 3)"
      ]
     },
     "execution_count": 277,
     "metadata": {},
     "output_type": "execute_result"
    }
   ],
   "source": [
    "mixed_transformed.shape"
   ]
  },
  {
   "cell_type": "code",
   "execution_count": 96,
   "metadata": {},
   "outputs": [
    {
     "data": {
      "text/plain": [
       "(46520, 906)"
      ]
     },
     "execution_count": 96,
     "metadata": {},
     "output_type": "execute_result"
    }
   ],
   "source": [
    "test = np.load('/Users/nicenoize/Documents/Bachelorarbeit/mimic-iii-clinical-database-1.4/mixed_binary_3digit.matrix')\n",
    "test.shape"
   ]
  },
  {
   "cell_type": "code",
   "execution_count": null,
   "metadata": {},
   "outputs": [],
   "source": []
  }
 ],
 "metadata": {
  "kernelspec": {
   "display_name": "Python 3",
   "language": "python",
   "name": "python3"
  },
  "language_info": {
   "codemirror_mode": {
    "name": "ipython",
    "version": 3
   },
   "file_extension": ".py",
   "mimetype": "text/x-python",
   "name": "python",
   "nbconvert_exporter": "python",
   "pygments_lexer": "ipython3",
   "version": "3.6.9"
  }
 },
 "nbformat": 4,
 "nbformat_minor": 2
}
