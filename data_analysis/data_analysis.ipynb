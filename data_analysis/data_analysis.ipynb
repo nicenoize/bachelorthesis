{
 "cells": [
  {
   "cell_type": "code",
   "execution_count": 3,
   "metadata": {},
   "outputs": [
    {
     "name": "stdout",
     "output_type": "stream",
     "text": [
      "1.16.2\n"
     ]
    }
   ],
   "source": [
    "import numpy as np \n",
    "from io import StringIO\n",
    "import pandas as pd\n",
    "from pandas import DataFrame\n",
    "import seaborn as sns\n",
    "import matplotlib.pyplot as plt\n",
    "import re\n",
    "print(np.__version__)"
   ]
  },
  {
   "cell_type": "code",
   "execution_count": 4,
   "metadata": {},
   "outputs": [],
   "source": [
    "patients = pd.read_csv('/Users/nicenoize/Documents/Bachelorarbeit/mimic-iii-clinical-database-1.4/PATIENTS.csv')\n",
    "admissions = pd.read_csv('/Users/nicenoize/Documents/Bachelorarbeit/mimic-iii-clinical-database-1.4/ADMISSIONS.csv')\n",
    "diagnoses_icd = pd.read_csv('/Users/nicenoize/Documents/Bachelorarbeit/mimic-iii-clinical-database-1.4/DIAGNOSES_ICD.csv')"
   ]
  },
  {
   "cell_type": "code",
   "execution_count": 5,
   "metadata": {},
   "outputs": [
    {
     "name": "stdout",
     "output_type": "stream",
     "text": [
      "Patients shape:  (46520, 8)\n",
      "Admisssions shape:  (58976, 19)\n",
      "Diagnoses shape:  (651047, 5)\n"
     ]
    }
   ],
   "source": [
    "print(\"Patients shape: \", patients.shape)\n",
    "print(\"Admisssions shape: \", admissions.shape)\n",
    "print(\"Diagnoses shape: \", diagnoses_icd.shape)"
   ]
  },
  {
   "cell_type": "code",
   "execution_count": 6,
   "metadata": {},
   "outputs": [
    {
     "data": {
      "text/html": [
       "<div>\n",
       "<style scoped>\n",
       "    .dataframe tbody tr th:only-of-type {\n",
       "        vertical-align: middle;\n",
       "    }\n",
       "\n",
       "    .dataframe tbody tr th {\n",
       "        vertical-align: top;\n",
       "    }\n",
       "\n",
       "    .dataframe thead th {\n",
       "        text-align: right;\n",
       "    }\n",
       "</style>\n",
       "<table border=\"1\" class=\"dataframe\">\n",
       "  <thead>\n",
       "    <tr style=\"text-align: right;\">\n",
       "      <th></th>\n",
       "      <th>ROW_ID</th>\n",
       "      <th>SUBJECT_ID</th>\n",
       "      <th>GENDER</th>\n",
       "      <th>DOB</th>\n",
       "      <th>DOD</th>\n",
       "      <th>DOD_HOSP</th>\n",
       "      <th>DOD_SSN</th>\n",
       "      <th>EXPIRE_FLAG</th>\n",
       "    </tr>\n",
       "  </thead>\n",
       "  <tbody>\n",
       "    <tr>\n",
       "      <td>0</td>\n",
       "      <td>234</td>\n",
       "      <td>249</td>\n",
       "      <td>F</td>\n",
       "      <td>2075-03-13 00:00:00</td>\n",
       "      <td>NaN</td>\n",
       "      <td>NaN</td>\n",
       "      <td>NaN</td>\n",
       "      <td>0</td>\n",
       "    </tr>\n",
       "    <tr>\n",
       "      <td>1</td>\n",
       "      <td>235</td>\n",
       "      <td>250</td>\n",
       "      <td>F</td>\n",
       "      <td>2164-12-27 00:00:00</td>\n",
       "      <td>2188-11-22 00:00:00</td>\n",
       "      <td>2188-11-22 00:00:00</td>\n",
       "      <td>NaN</td>\n",
       "      <td>1</td>\n",
       "    </tr>\n",
       "    <tr>\n",
       "      <td>2</td>\n",
       "      <td>236</td>\n",
       "      <td>251</td>\n",
       "      <td>M</td>\n",
       "      <td>2090-03-15 00:00:00</td>\n",
       "      <td>NaN</td>\n",
       "      <td>NaN</td>\n",
       "      <td>NaN</td>\n",
       "      <td>0</td>\n",
       "    </tr>\n",
       "    <tr>\n",
       "      <td>3</td>\n",
       "      <td>237</td>\n",
       "      <td>252</td>\n",
       "      <td>M</td>\n",
       "      <td>2078-03-06 00:00:00</td>\n",
       "      <td>NaN</td>\n",
       "      <td>NaN</td>\n",
       "      <td>NaN</td>\n",
       "      <td>0</td>\n",
       "    </tr>\n",
       "    <tr>\n",
       "      <td>4</td>\n",
       "      <td>238</td>\n",
       "      <td>253</td>\n",
       "      <td>F</td>\n",
       "      <td>2089-11-26 00:00:00</td>\n",
       "      <td>NaN</td>\n",
       "      <td>NaN</td>\n",
       "      <td>NaN</td>\n",
       "      <td>0</td>\n",
       "    </tr>\n",
       "  </tbody>\n",
       "</table>\n",
       "</div>"
      ],
      "text/plain": [
       "   ROW_ID  SUBJECT_ID GENDER                  DOB                  DOD  \\\n",
       "0     234         249      F  2075-03-13 00:00:00                  NaN   \n",
       "1     235         250      F  2164-12-27 00:00:00  2188-11-22 00:00:00   \n",
       "2     236         251      M  2090-03-15 00:00:00                  NaN   \n",
       "3     237         252      M  2078-03-06 00:00:00                  NaN   \n",
       "4     238         253      F  2089-11-26 00:00:00                  NaN   \n",
       "\n",
       "              DOD_HOSP DOD_SSN  EXPIRE_FLAG  \n",
       "0                  NaN     NaN            0  \n",
       "1  2188-11-22 00:00:00     NaN            1  \n",
       "2                  NaN     NaN            0  \n",
       "3                  NaN     NaN            0  \n",
       "4                  NaN     NaN            0  "
      ]
     },
     "execution_count": 6,
     "metadata": {},
     "output_type": "execute_result"
    }
   ],
   "source": [
    "patients.head()"
   ]
  },
  {
   "cell_type": "code",
   "execution_count": 7,
   "metadata": {},
   "outputs": [
    {
     "data": {
      "text/plain": [
       "M    26121\n",
       "F    20399\n",
       "Name: GENDER, dtype: int64"
      ]
     },
     "execution_count": 7,
     "metadata": {},
     "output_type": "execute_result"
    }
   ],
   "source": [
    "patients['GENDER'].value_counts()"
   ]
  },
  {
   "cell_type": "code",
   "execution_count": 8,
   "metadata": {},
   "outputs": [
    {
     "data": {
      "text/html": [
       "<div>\n",
       "<style scoped>\n",
       "    .dataframe tbody tr th:only-of-type {\n",
       "        vertical-align: middle;\n",
       "    }\n",
       "\n",
       "    .dataframe tbody tr th {\n",
       "        vertical-align: top;\n",
       "    }\n",
       "\n",
       "    .dataframe thead th {\n",
       "        text-align: right;\n",
       "    }\n",
       "</style>\n",
       "<table border=\"1\" class=\"dataframe\">\n",
       "  <thead>\n",
       "    <tr style=\"text-align: right;\">\n",
       "      <th></th>\n",
       "      <th>ROW_ID</th>\n",
       "      <th>SUBJECT_ID</th>\n",
       "      <th>HADM_ID</th>\n",
       "      <th>ADMITTIME</th>\n",
       "      <th>DISCHTIME</th>\n",
       "      <th>DEATHTIME</th>\n",
       "      <th>ADMISSION_TYPE</th>\n",
       "      <th>ADMISSION_LOCATION</th>\n",
       "      <th>DISCHARGE_LOCATION</th>\n",
       "      <th>INSURANCE</th>\n",
       "      <th>LANGUAGE</th>\n",
       "      <th>RELIGION</th>\n",
       "      <th>MARITAL_STATUS</th>\n",
       "      <th>ETHNICITY</th>\n",
       "      <th>EDREGTIME</th>\n",
       "      <th>EDOUTTIME</th>\n",
       "      <th>DIAGNOSIS</th>\n",
       "      <th>HOSPITAL_EXPIRE_FLAG</th>\n",
       "      <th>HAS_CHARTEVENTS_DATA</th>\n",
       "    </tr>\n",
       "  </thead>\n",
       "  <tbody>\n",
       "    <tr>\n",
       "      <td>0</td>\n",
       "      <td>21</td>\n",
       "      <td>22</td>\n",
       "      <td>165315</td>\n",
       "      <td>2196-04-09 12:26:00</td>\n",
       "      <td>2196-04-10 15:54:00</td>\n",
       "      <td>NaN</td>\n",
       "      <td>EMERGENCY</td>\n",
       "      <td>EMERGENCY ROOM ADMIT</td>\n",
       "      <td>DISC-TRAN CANCER/CHLDRN H</td>\n",
       "      <td>Private</td>\n",
       "      <td>NaN</td>\n",
       "      <td>UNOBTAINABLE</td>\n",
       "      <td>MARRIED</td>\n",
       "      <td>WHITE</td>\n",
       "      <td>2196-04-09 10:06:00</td>\n",
       "      <td>2196-04-09 13:24:00</td>\n",
       "      <td>BENZODIAZEPINE OVERDOSE</td>\n",
       "      <td>0</td>\n",
       "      <td>1</td>\n",
       "    </tr>\n",
       "    <tr>\n",
       "      <td>1</td>\n",
       "      <td>22</td>\n",
       "      <td>23</td>\n",
       "      <td>152223</td>\n",
       "      <td>2153-09-03 07:15:00</td>\n",
       "      <td>2153-09-08 19:10:00</td>\n",
       "      <td>NaN</td>\n",
       "      <td>ELECTIVE</td>\n",
       "      <td>PHYS REFERRAL/NORMAL DELI</td>\n",
       "      <td>HOME HEALTH CARE</td>\n",
       "      <td>Medicare</td>\n",
       "      <td>NaN</td>\n",
       "      <td>CATHOLIC</td>\n",
       "      <td>MARRIED</td>\n",
       "      <td>WHITE</td>\n",
       "      <td>NaN</td>\n",
       "      <td>NaN</td>\n",
       "      <td>CORONARY ARTERY DISEASE\\CORONARY ARTERY BYPASS...</td>\n",
       "      <td>0</td>\n",
       "      <td>1</td>\n",
       "    </tr>\n",
       "    <tr>\n",
       "      <td>2</td>\n",
       "      <td>23</td>\n",
       "      <td>23</td>\n",
       "      <td>124321</td>\n",
       "      <td>2157-10-18 19:34:00</td>\n",
       "      <td>2157-10-25 14:00:00</td>\n",
       "      <td>NaN</td>\n",
       "      <td>EMERGENCY</td>\n",
       "      <td>TRANSFER FROM HOSP/EXTRAM</td>\n",
       "      <td>HOME HEALTH CARE</td>\n",
       "      <td>Medicare</td>\n",
       "      <td>ENGL</td>\n",
       "      <td>CATHOLIC</td>\n",
       "      <td>MARRIED</td>\n",
       "      <td>WHITE</td>\n",
       "      <td>NaN</td>\n",
       "      <td>NaN</td>\n",
       "      <td>BRAIN MASS</td>\n",
       "      <td>0</td>\n",
       "      <td>1</td>\n",
       "    </tr>\n",
       "    <tr>\n",
       "      <td>3</td>\n",
       "      <td>24</td>\n",
       "      <td>24</td>\n",
       "      <td>161859</td>\n",
       "      <td>2139-06-06 16:14:00</td>\n",
       "      <td>2139-06-09 12:48:00</td>\n",
       "      <td>NaN</td>\n",
       "      <td>EMERGENCY</td>\n",
       "      <td>TRANSFER FROM HOSP/EXTRAM</td>\n",
       "      <td>HOME</td>\n",
       "      <td>Private</td>\n",
       "      <td>NaN</td>\n",
       "      <td>PROTESTANT QUAKER</td>\n",
       "      <td>SINGLE</td>\n",
       "      <td>WHITE</td>\n",
       "      <td>NaN</td>\n",
       "      <td>NaN</td>\n",
       "      <td>INTERIOR MYOCARDIAL INFARCTION</td>\n",
       "      <td>0</td>\n",
       "      <td>1</td>\n",
       "    </tr>\n",
       "    <tr>\n",
       "      <td>4</td>\n",
       "      <td>25</td>\n",
       "      <td>25</td>\n",
       "      <td>129635</td>\n",
       "      <td>2160-11-02 02:06:00</td>\n",
       "      <td>2160-11-05 14:55:00</td>\n",
       "      <td>NaN</td>\n",
       "      <td>EMERGENCY</td>\n",
       "      <td>EMERGENCY ROOM ADMIT</td>\n",
       "      <td>HOME</td>\n",
       "      <td>Private</td>\n",
       "      <td>NaN</td>\n",
       "      <td>UNOBTAINABLE</td>\n",
       "      <td>MARRIED</td>\n",
       "      <td>WHITE</td>\n",
       "      <td>2160-11-02 01:01:00</td>\n",
       "      <td>2160-11-02 04:27:00</td>\n",
       "      <td>ACUTE CORONARY SYNDROME</td>\n",
       "      <td>0</td>\n",
       "      <td>1</td>\n",
       "    </tr>\n",
       "  </tbody>\n",
       "</table>\n",
       "</div>"
      ],
      "text/plain": [
       "   ROW_ID  SUBJECT_ID  HADM_ID            ADMITTIME            DISCHTIME  \\\n",
       "0      21          22   165315  2196-04-09 12:26:00  2196-04-10 15:54:00   \n",
       "1      22          23   152223  2153-09-03 07:15:00  2153-09-08 19:10:00   \n",
       "2      23          23   124321  2157-10-18 19:34:00  2157-10-25 14:00:00   \n",
       "3      24          24   161859  2139-06-06 16:14:00  2139-06-09 12:48:00   \n",
       "4      25          25   129635  2160-11-02 02:06:00  2160-11-05 14:55:00   \n",
       "\n",
       "  DEATHTIME ADMISSION_TYPE         ADMISSION_LOCATION  \\\n",
       "0       NaN      EMERGENCY       EMERGENCY ROOM ADMIT   \n",
       "1       NaN       ELECTIVE  PHYS REFERRAL/NORMAL DELI   \n",
       "2       NaN      EMERGENCY  TRANSFER FROM HOSP/EXTRAM   \n",
       "3       NaN      EMERGENCY  TRANSFER FROM HOSP/EXTRAM   \n",
       "4       NaN      EMERGENCY       EMERGENCY ROOM ADMIT   \n",
       "\n",
       "          DISCHARGE_LOCATION INSURANCE LANGUAGE           RELIGION  \\\n",
       "0  DISC-TRAN CANCER/CHLDRN H   Private      NaN       UNOBTAINABLE   \n",
       "1           HOME HEALTH CARE  Medicare      NaN           CATHOLIC   \n",
       "2           HOME HEALTH CARE  Medicare     ENGL           CATHOLIC   \n",
       "3                       HOME   Private      NaN  PROTESTANT QUAKER   \n",
       "4                       HOME   Private      NaN       UNOBTAINABLE   \n",
       "\n",
       "  MARITAL_STATUS ETHNICITY            EDREGTIME            EDOUTTIME  \\\n",
       "0        MARRIED     WHITE  2196-04-09 10:06:00  2196-04-09 13:24:00   \n",
       "1        MARRIED     WHITE                  NaN                  NaN   \n",
       "2        MARRIED     WHITE                  NaN                  NaN   \n",
       "3         SINGLE     WHITE                  NaN                  NaN   \n",
       "4        MARRIED     WHITE  2160-11-02 01:01:00  2160-11-02 04:27:00   \n",
       "\n",
       "                                           DIAGNOSIS  HOSPITAL_EXPIRE_FLAG  \\\n",
       "0                            BENZODIAZEPINE OVERDOSE                     0   \n",
       "1  CORONARY ARTERY DISEASE\\CORONARY ARTERY BYPASS...                     0   \n",
       "2                                         BRAIN MASS                     0   \n",
       "3                     INTERIOR MYOCARDIAL INFARCTION                     0   \n",
       "4                            ACUTE CORONARY SYNDROME                     0   \n",
       "\n",
       "   HAS_CHARTEVENTS_DATA  \n",
       "0                     1  \n",
       "1                     1  \n",
       "2                     1  \n",
       "3                     1  \n",
       "4                     1  "
      ]
     },
     "execution_count": 8,
     "metadata": {},
     "output_type": "execute_result"
    }
   ],
   "source": [
    "admissions.head()"
   ]
  },
  {
   "cell_type": "code",
   "execution_count": 9,
   "metadata": {},
   "outputs": [
    {
     "data": {
      "text/html": [
       "<div>\n",
       "<style scoped>\n",
       "    .dataframe tbody tr th:only-of-type {\n",
       "        vertical-align: middle;\n",
       "    }\n",
       "\n",
       "    .dataframe tbody tr th {\n",
       "        vertical-align: top;\n",
       "    }\n",
       "\n",
       "    .dataframe thead th {\n",
       "        text-align: right;\n",
       "    }\n",
       "</style>\n",
       "<table border=\"1\" class=\"dataframe\">\n",
       "  <thead>\n",
       "    <tr style=\"text-align: right;\">\n",
       "      <th></th>\n",
       "      <th>ROW_ID</th>\n",
       "      <th>SUBJECT_ID</th>\n",
       "      <th>HADM_ID</th>\n",
       "      <th>SEQ_NUM</th>\n",
       "      <th>ICD9_CODE</th>\n",
       "    </tr>\n",
       "  </thead>\n",
       "  <tbody>\n",
       "    <tr>\n",
       "      <td>0</td>\n",
       "      <td>1297</td>\n",
       "      <td>109</td>\n",
       "      <td>172335</td>\n",
       "      <td>1.0</td>\n",
       "      <td>40301</td>\n",
       "    </tr>\n",
       "    <tr>\n",
       "      <td>1</td>\n",
       "      <td>1298</td>\n",
       "      <td>109</td>\n",
       "      <td>172335</td>\n",
       "      <td>2.0</td>\n",
       "      <td>486</td>\n",
       "    </tr>\n",
       "    <tr>\n",
       "      <td>2</td>\n",
       "      <td>1299</td>\n",
       "      <td>109</td>\n",
       "      <td>172335</td>\n",
       "      <td>3.0</td>\n",
       "      <td>58281</td>\n",
       "    </tr>\n",
       "    <tr>\n",
       "      <td>3</td>\n",
       "      <td>1300</td>\n",
       "      <td>109</td>\n",
       "      <td>172335</td>\n",
       "      <td>4.0</td>\n",
       "      <td>5855</td>\n",
       "    </tr>\n",
       "    <tr>\n",
       "      <td>4</td>\n",
       "      <td>1301</td>\n",
       "      <td>109</td>\n",
       "      <td>172335</td>\n",
       "      <td>5.0</td>\n",
       "      <td>4254</td>\n",
       "    </tr>\n",
       "  </tbody>\n",
       "</table>\n",
       "</div>"
      ],
      "text/plain": [
       "   ROW_ID  SUBJECT_ID  HADM_ID  SEQ_NUM ICD9_CODE\n",
       "0    1297         109   172335      1.0     40301\n",
       "1    1298         109   172335      2.0       486\n",
       "2    1299         109   172335      3.0     58281\n",
       "3    1300         109   172335      4.0      5855\n",
       "4    1301         109   172335      5.0      4254"
      ]
     },
     "execution_count": 9,
     "metadata": {},
     "output_type": "execute_result"
    }
   ],
   "source": [
    "diagnoses_icd.head()"
   ]
  },
  {
   "cell_type": "code",
   "execution_count": 10,
   "metadata": {},
   "outputs": [
    {
     "data": {
      "text/plain": [
       "4019     20703\n",
       "4280     13111\n",
       "42731    12891\n",
       "41401    12429\n",
       "5849      9119\n",
       "         ...  \n",
       "96901        1\n",
       "1329         1\n",
       "20047        1\n",
       "2972         1\n",
       "80662        1\n",
       "Name: ICD9_CODE, Length: 6985, dtype: int64"
      ]
     },
     "execution_count": 10,
     "metadata": {},
     "output_type": "execute_result"
    }
   ],
   "source": [
    "diagnoses_icd[\"ICD9_CODE\"].value_counts()"
   ]
  },
  {
   "cell_type": "code",
   "execution_count": 11,
   "metadata": {},
   "outputs": [
    {
     "data": {
      "text/plain": [
       "6985"
      ]
     },
     "execution_count": 11,
     "metadata": {},
     "output_type": "execute_result"
    }
   ],
   "source": [
    "diagnoses_icd[\"ICD9_CODE\"].nunique()"
   ]
  },
  {
   "cell_type": "code",
   "execution_count": 12,
   "metadata": {},
   "outputs": [],
   "source": [
    "def convert_to_icd9(dxStr):\n",
    "    if dxStr.startswith('E'):\n",
    "        if len(dxStr) > 4: return dxStr[:4] + '.' + dxStr[4:]\n",
    "        else: return dxStr\n",
    "    else:\n",
    "        if len(dxStr) > 3: return dxStr[:3] + '.' + dxStr[3:]\n",
    "        else: return dxStr"
   ]
  },
  {
   "cell_type": "code",
   "execution_count": 13,
   "metadata": {},
   "outputs": [],
   "source": [
    "def convert_to_3digit_icd9(dxStr):\n",
    "    if dxStr.startswith('E'):\n",
    "        if len(dxStr) > 4: return dxStr[:4]\n",
    "        else: return dxStr\n",
    "    else:\n",
    "        if len(dxStr) > 3: return dxStr[:3]\n",
    "        else: return dxStr"
   ]
  },
  {
   "cell_type": "code",
   "execution_count": 14,
   "metadata": {},
   "outputs": [],
   "source": [
    "diagnoses_icd[\"ICD9_CODE\"] = diagnoses_icd[\"ICD9_CODE\"].astype(str)"
   ]
  },
  {
   "cell_type": "code",
   "execution_count": 15,
   "metadata": {},
   "outputs": [],
   "source": [
    "diagnoses_icd[\"ICD9_CODE\"] = diagnoses_icd[\"ICD9_CODE\"].astype(str)\n",
    "diagnoses_3digit = diagnoses_icd[\"ICD9_CODE\"].apply(convert_to_3digit_icd9)"
   ]
  },
  {
   "cell_type": "code",
   "execution_count": 16,
   "metadata": {},
   "outputs": [
    {
     "data": {
      "text/html": [
       "<div>\n",
       "<style scoped>\n",
       "    .dataframe tbody tr th:only-of-type {\n",
       "        vertical-align: middle;\n",
       "    }\n",
       "\n",
       "    .dataframe tbody tr th {\n",
       "        vertical-align: top;\n",
       "    }\n",
       "\n",
       "    .dataframe thead th {\n",
       "        text-align: right;\n",
       "    }\n",
       "</style>\n",
       "<table border=\"1\" class=\"dataframe\">\n",
       "  <thead>\n",
       "    <tr style=\"text-align: right;\">\n",
       "      <th></th>\n",
       "      <th>ROW_ID</th>\n",
       "      <th>SUBJECT_ID</th>\n",
       "      <th>HADM_ID</th>\n",
       "      <th>SEQ_NUM</th>\n",
       "      <th>ICD9_CODE</th>\n",
       "    </tr>\n",
       "  </thead>\n",
       "  <tbody>\n",
       "    <tr>\n",
       "      <td>0</td>\n",
       "      <td>1297</td>\n",
       "      <td>109</td>\n",
       "      <td>172335</td>\n",
       "      <td>1.0</td>\n",
       "      <td>40301</td>\n",
       "    </tr>\n",
       "    <tr>\n",
       "      <td>1</td>\n",
       "      <td>1298</td>\n",
       "      <td>109</td>\n",
       "      <td>172335</td>\n",
       "      <td>2.0</td>\n",
       "      <td>486</td>\n",
       "    </tr>\n",
       "    <tr>\n",
       "      <td>2</td>\n",
       "      <td>1299</td>\n",
       "      <td>109</td>\n",
       "      <td>172335</td>\n",
       "      <td>3.0</td>\n",
       "      <td>58281</td>\n",
       "    </tr>\n",
       "    <tr>\n",
       "      <td>3</td>\n",
       "      <td>1300</td>\n",
       "      <td>109</td>\n",
       "      <td>172335</td>\n",
       "      <td>4.0</td>\n",
       "      <td>5855</td>\n",
       "    </tr>\n",
       "    <tr>\n",
       "      <td>4</td>\n",
       "      <td>1301</td>\n",
       "      <td>109</td>\n",
       "      <td>172335</td>\n",
       "      <td>5.0</td>\n",
       "      <td>4254</td>\n",
       "    </tr>\n",
       "  </tbody>\n",
       "</table>\n",
       "</div>"
      ],
      "text/plain": [
       "   ROW_ID  SUBJECT_ID  HADM_ID  SEQ_NUM ICD9_CODE\n",
       "0    1297         109   172335      1.0     40301\n",
       "1    1298         109   172335      2.0       486\n",
       "2    1299         109   172335      3.0     58281\n",
       "3    1300         109   172335      4.0      5855\n",
       "4    1301         109   172335      5.0      4254"
      ]
     },
     "execution_count": 16,
     "metadata": {},
     "output_type": "execute_result"
    }
   ],
   "source": [
    "diagnoses_icd.head()"
   ]
  },
  {
   "cell_type": "code",
   "execution_count": 17,
   "metadata": {},
   "outputs": [
    {
     "data": {
      "text/plain": [
       "1071"
      ]
     },
     "execution_count": 17,
     "metadata": {},
     "output_type": "execute_result"
    }
   ],
   "source": [
    "diagnoses_3digit.nunique()"
   ]
  },
  {
   "cell_type": "code",
   "execution_count": 67,
   "metadata": {},
   "outputs": [
    {
     "data": {
      "text/plain": [
       "4019     20703\n",
       "4280     13111\n",
       "42731    12891\n",
       "41401    12429\n",
       "5849      9119\n",
       "25000     9058\n",
       "2724      8690\n",
       "51881     7497\n",
       "5990      6555\n",
       "53081     6326\n",
       "Name: ICD9_CODE, dtype: int64"
      ]
     },
     "execution_count": 67,
     "metadata": {},
     "output_type": "execute_result"
    }
   ],
   "source": [
    "n = 10\n",
    "diagnoses_icd[\"ICD9_CODE\"].value_counts()[:n]"
   ]
  },
  {
   "cell_type": "code",
   "execution_count": 118,
   "metadata": {},
   "outputs": [],
   "source": [
    "# Filter patients for TOP10, heart diseases, diabetes and cardiovascular ones\n",
    "# also getting the SUBJECT IDs of each\n",
    "diagnosesTOP_1 = diagnoses_icd[diagnoses_icd.ICD9_CODE.str.contains(\"^4019\", regex=True, na=False)]\n",
    "diagnosesTOP_2 = diagnoses_icd[diagnoses_icd.ICD9_CODE.str.contains(\"^4280\", regex=True, na=False)]\n",
    "diagnosesTOP_3 = diagnoses_icd[diagnoses_icd.ICD9_CODE.str.contains(\"^42731\", regex=True, na=False)]\n",
    "diagnosesTOP_4 = diagnoses_icd[diagnoses_icd.ICD9_CODE.str.contains(\"^41401\", na=False)]\n",
    "diagnosesTOP_5 = diagnoses_icd[diagnoses_icd.ICD9_CODE.str.contains(\"^5849\", na=False)]\n",
    "diagnosesTOP_6 = diagnoses_icd[diagnoses_icd.ICD9_CODE.str.contains(\"^25000\", na=False)]\n",
    "diagnosesTOP_7 = diagnoses_icd[diagnoses_icd.ICD9_CODE.str.contains(\"^2724\", na=False)]\n",
    "diagnosesTOP_8 = diagnoses_icd[diagnoses_icd.ICD9_CODE.str.contains(\"^51881\", na=False)]\n",
    "diagnosesTOP_9 = diagnoses_icd[diagnoses_icd.ICD9_CODE.str.contains(\"^5990\", na=False)]\n",
    "diagnosesTOP_10 = diagnoses_icd[diagnoses_icd.ICD9_CODE.str.contains(\"^53081\", na=False)]"
   ]
  },
  {
   "cell_type": "code",
   "execution_count": 120,
   "metadata": {},
   "outputs": [
    {
     "data": {
      "text/plain": [
       "17613"
      ]
     },
     "execution_count": 120,
     "metadata": {},
     "output_type": "execute_result"
    }
   ],
   "source": [
    "# Filter patients for TOP10, heart diseases, diabetes and cardiovascular ones\n",
    "# also getting the SUBJECT IDs of each\n",
    "diagnosesTOP_1[\"SUBJECT_ID\"].nunique()\n"
   ]
  },
  {
   "cell_type": "code",
   "execution_count": 121,
   "metadata": {},
   "outputs": [
    {
     "data": {
      "text/plain": [
       "9843"
      ]
     },
     "execution_count": 121,
     "metadata": {},
     "output_type": "execute_result"
    }
   ],
   "source": [
    "diagnosesTOP_2[\"SUBJECT_ID\"].nunique()\n"
   ]
  },
  {
   "cell_type": "code",
   "execution_count": 122,
   "metadata": {},
   "outputs": [
    {
     "data": {
      "text/plain": [
       "10271"
      ]
     },
     "execution_count": 122,
     "metadata": {},
     "output_type": "execute_result"
    }
   ],
   "source": [
    "diagnosesTOP_3[\"SUBJECT_ID\"].nunique()\n"
   ]
  },
  {
   "cell_type": "code",
   "execution_count": 123,
   "metadata": {},
   "outputs": [
    {
     "data": {
      "text/plain": [
       "10775"
      ]
     },
     "execution_count": 123,
     "metadata": {},
     "output_type": "execute_result"
    }
   ],
   "source": [
    "diagnosesTOP_4[\"SUBJECT_ID\"].nunique()\n"
   ]
  },
  {
   "cell_type": "code",
   "execution_count": 124,
   "metadata": {},
   "outputs": [
    {
     "data": {
      "text/plain": [
       "7687"
      ]
     },
     "execution_count": 124,
     "metadata": {},
     "output_type": "execute_result"
    }
   ],
   "source": [
    "diagnosesTOP_5[\"SUBJECT_ID\"].nunique()\n"
   ]
  },
  {
   "cell_type": "code",
   "execution_count": 125,
   "metadata": {},
   "outputs": [
    {
     "data": {
      "text/plain": [
       "7370"
      ]
     },
     "execution_count": 125,
     "metadata": {},
     "output_type": "execute_result"
    }
   ],
   "source": [
    "diagnosesTOP_6[\"SUBJECT_ID\"].nunique()\n"
   ]
  },
  {
   "cell_type": "code",
   "execution_count": 126,
   "metadata": {},
   "outputs": [
    {
     "data": {
      "text/plain": [
       "7465"
      ]
     },
     "execution_count": 126,
     "metadata": {},
     "output_type": "execute_result"
    }
   ],
   "source": [
    "diagnosesTOP_7[\"SUBJECT_ID\"].nunique()\n"
   ]
  },
  {
   "cell_type": "code",
   "execution_count": 127,
   "metadata": {},
   "outputs": [
    {
     "data": {
      "text/plain": [
       "6719"
      ]
     },
     "execution_count": 127,
     "metadata": {},
     "output_type": "execute_result"
    }
   ],
   "source": [
    "diagnosesTOP_8[\"SUBJECT_ID\"].nunique()\n"
   ]
  },
  {
   "cell_type": "code",
   "execution_count": 128,
   "metadata": {},
   "outputs": [
    {
     "data": {
      "text/plain": [
       "5779"
      ]
     },
     "execution_count": 128,
     "metadata": {},
     "output_type": "execute_result"
    }
   ],
   "source": [
    "diagnosesTOP_9[\"SUBJECT_ID\"].nunique()\n"
   ]
  },
  {
   "cell_type": "code",
   "execution_count": 129,
   "metadata": {},
   "outputs": [
    {
     "data": {
      "text/plain": [
       "5272"
      ]
     },
     "execution_count": 129,
     "metadata": {},
     "output_type": "execute_result"
    }
   ],
   "source": [
    "diagnosesTOP_10[\"SUBJECT_ID\"].nunique()"
   ]
  },
  {
   "cell_type": "code",
   "execution_count": 116,
   "metadata": {},
   "outputs": [
    {
     "name": "stdout",
     "output_type": "stream",
     "text": [
      "        ROW_ID  SUBJECT_ID  HADM_ID  SEQ_NUM ICD9_CODE\n",
      "53        1513         115   114585     12.0      4019\n",
      "70        1530         117   140784      8.0      4019\n",
      "89        1549         117   164853     18.0      4019\n",
      "112       1572         123   195632      3.0      4019\n",
      "122       1582         124   112906      8.0      4019\n",
      "...        ...         ...      ...      ...       ...\n",
      "650950  638458       97158   152158     22.0      4019\n",
      "650966  638474       97164   109302      7.0      4019\n",
      "650986  639742       97484   172304      4.0      4019\n",
      "650994  639750       97488   152542      6.0      4019\n",
      "651012  639768       97488   161999     13.0      4019\n",
      "\n",
      "[20703 rows x 5 columns]\n"
     ]
    }
   ],
   "source": [
    "print(diagnosesTOP_1)"
   ]
  },
  {
   "cell_type": "code",
   "execution_count": 68,
   "metadata": {},
   "outputs": [
    {
     "data": {
      "text/plain": [
       "46520"
      ]
     },
     "execution_count": 68,
     "metadata": {},
     "output_type": "execute_result"
    }
   ],
   "source": [
    "diagnoses_icd[\"SUBJECT_ID\"].nunique()"
   ]
  },
  {
   "cell_type": "code",
   "execution_count": 69,
   "metadata": {},
   "outputs": [
    {
     "data": {
      "image/png": "[encoded data removed]",
      "text/plain": [
       "<Figure size 432x288 with 1 Axes>"
      ]
     },
     "metadata": {
      "needs_background": "light"
     },
     "output_type": "display_data"
    }
   ],
   "source": [
    "ax = sns.countplot(x=\"ICD9_CODE\", data = diagnoses_icd)"
   ]
  },
  {
   "cell_type": "code",
   "execution_count": 70,
   "metadata": {},
   "outputs": [
    {
     "data": {
      "text/plain": [
       "<matplotlib.axes._subplots.AxesSubplot at 0x1a4f11a8d0>"
      ]
     },
     "execution_count": 70,
     "metadata": {},
     "output_type": "execute_result"
    },
    {
     "data": {
      "image/png": "[encoded data removed]",
      "text/plain": [
       "<Figure size 432x288 with 1 Axes>"
      ]
     },
     "metadata": {
      "needs_background": "light"
     },
     "output_type": "display_data"
    }
   ],
   "source": [
    "sns.countplot(x=\"GENDER\", data = patients)"
   ]
  },
  {
   "cell_type": "code",
   "execution_count": 18,
   "metadata": {},
   "outputs": [
    {
     "data": {
      "text/plain": [
       "(46520, 8)"
      ]
     },
     "execution_count": 18,
     "metadata": {},
     "output_type": "execute_result"
    }
   ],
   "source": [
    "patients.shape"
   ]
  },
  {
   "cell_type": "code",
   "execution_count": 19,
   "metadata": {},
   "outputs": [],
   "source": [
    "patients_m = patients[patients.GENDER == \"M\"]\n",
    "male_subject_ids = patients_m[\"SUBJECT_ID\"].tolist()\n",
    "#male_subject_ids.nunique()"
   ]
  },
  {
   "cell_type": "code",
   "execution_count": 20,
   "metadata": {},
   "outputs": [],
   "source": [
    "patients_f = patients[patients.GENDER == \"F\"]\n",
    "female_subject_ids = patients_f[\"SUBJECT_ID\"].tolist()"
   ]
  },
  {
   "cell_type": "code",
   "execution_count": 21,
   "metadata": {},
   "outputs": [
    {
     "data": {
      "text/html": [
       "<div>\n",
       "<style scoped>\n",
       "    .dataframe tbody tr th:only-of-type {\n",
       "        vertical-align: middle;\n",
       "    }\n",
       "\n",
       "    .dataframe tbody tr th {\n",
       "        vertical-align: top;\n",
       "    }\n",
       "\n",
       "    .dataframe thead th {\n",
       "        text-align: right;\n",
       "    }\n",
       "</style>\n",
       "<table border=\"1\" class=\"dataframe\">\n",
       "  <thead>\n",
       "    <tr style=\"text-align: right;\">\n",
       "      <th></th>\n",
       "      <th>ROW_ID</th>\n",
       "      <th>SUBJECT_ID</th>\n",
       "      <th>GENDER</th>\n",
       "      <th>DOB</th>\n",
       "      <th>DOD</th>\n",
       "      <th>DOD_HOSP</th>\n",
       "      <th>DOD_SSN</th>\n",
       "      <th>EXPIRE_FLAG</th>\n",
       "    </tr>\n",
       "  </thead>\n",
       "  <tbody>\n",
       "    <tr>\n",
       "      <td>2</td>\n",
       "      <td>236</td>\n",
       "      <td>251</td>\n",
       "      <td>M</td>\n",
       "      <td>2090-03-15 00:00:00</td>\n",
       "      <td>NaN</td>\n",
       "      <td>NaN</td>\n",
       "      <td>NaN</td>\n",
       "      <td>0</td>\n",
       "    </tr>\n",
       "    <tr>\n",
       "      <td>3</td>\n",
       "      <td>237</td>\n",
       "      <td>252</td>\n",
       "      <td>M</td>\n",
       "      <td>2078-03-06 00:00:00</td>\n",
       "      <td>NaN</td>\n",
       "      <td>NaN</td>\n",
       "      <td>NaN</td>\n",
       "      <td>0</td>\n",
       "    </tr>\n",
       "    <tr>\n",
       "      <td>5</td>\n",
       "      <td>239</td>\n",
       "      <td>255</td>\n",
       "      <td>M</td>\n",
       "      <td>2109-08-05 00:00:00</td>\n",
       "      <td>NaN</td>\n",
       "      <td>NaN</td>\n",
       "      <td>NaN</td>\n",
       "      <td>0</td>\n",
       "    </tr>\n",
       "    <tr>\n",
       "      <td>6</td>\n",
       "      <td>240</td>\n",
       "      <td>256</td>\n",
       "      <td>M</td>\n",
       "      <td>2086-07-31 00:00:00</td>\n",
       "      <td>NaN</td>\n",
       "      <td>NaN</td>\n",
       "      <td>NaN</td>\n",
       "      <td>0</td>\n",
       "    </tr>\n",
       "    <tr>\n",
       "      <td>10</td>\n",
       "      <td>244</td>\n",
       "      <td>261</td>\n",
       "      <td>M</td>\n",
       "      <td>2025-08-04 00:00:00</td>\n",
       "      <td>2102-06-29 00:00:00</td>\n",
       "      <td>2102-06-29 00:00:00</td>\n",
       "      <td>2102-06-29 00:00:00</td>\n",
       "      <td>1</td>\n",
       "    </tr>\n",
       "  </tbody>\n",
       "</table>\n",
       "</div>"
      ],
      "text/plain": [
       "    ROW_ID  SUBJECT_ID GENDER                  DOB                  DOD  \\\n",
       "2      236         251      M  2090-03-15 00:00:00                  NaN   \n",
       "3      237         252      M  2078-03-06 00:00:00                  NaN   \n",
       "5      239         255      M  2109-08-05 00:00:00                  NaN   \n",
       "6      240         256      M  2086-07-31 00:00:00                  NaN   \n",
       "10     244         261      M  2025-08-04 00:00:00  2102-06-29 00:00:00   \n",
       "\n",
       "               DOD_HOSP              DOD_SSN  EXPIRE_FLAG  \n",
       "2                   NaN                  NaN            0  \n",
       "3                   NaN                  NaN            0  \n",
       "5                   NaN                  NaN            0  \n",
       "6                   NaN                  NaN            0  \n",
       "10  2102-06-29 00:00:00  2102-06-29 00:00:00            1  "
      ]
     },
     "execution_count": 21,
     "metadata": {},
     "output_type": "execute_result"
    }
   ],
   "source": [
    "patients_m.head()"
   ]
  },
  {
   "cell_type": "code",
   "execution_count": null,
   "metadata": {
    "scrolled": true
   },
   "outputs": [],
   "source": []
  },
  {
   "cell_type": "code",
   "execution_count": 75,
   "metadata": {},
   "outputs": [
    {
     "name": "stderr",
     "output_type": "stream",
     "text": [
      "/Users/nicenoize/anaconda3/lib/python3.6/site-packages/numpy/lib/histograms.py:824: RuntimeWarning: invalid value encountered in greater_equal\n",
      "  keep = (tmp_a >= first_edge)\n",
      "/Users/nicenoize/anaconda3/lib/python3.6/site-packages/numpy/lib/histograms.py:825: RuntimeWarning: invalid value encountered in less_equal\n",
      "  keep &= (tmp_a <= last_edge)\n",
      "/Users/nicenoize/anaconda3/lib/python3.6/site-packages/statsmodels/nonparametric/kde.py:447: RuntimeWarning: invalid value encountered in greater\n",
      "  X = X[np.logical_and(X > clip[0], X < clip[1])] # won't work for two columns.\n",
      "/Users/nicenoize/anaconda3/lib/python3.6/site-packages/statsmodels/nonparametric/kde.py:447: RuntimeWarning: invalid value encountered in less\n",
      "  X = X[np.logical_and(X > clip[0], X < clip[1])] # won't work for two columns.\n"
     ]
    },
    {
     "data": {
      "image/png": "[encoded data removed]",
      "text/plain": [
       "<Figure size 432x288 with 1 Axes>"
      ]
     },
     "metadata": {
      "needs_background": "light"
     },
     "output_type": "display_data"
    }
   ],
   "source": [
    "sns.distplot(diagnoses_icd['SEQ_NUM'], color='g', bins=100, hist_kws={'alpha': 0.4});"
   ]
  },
  {
   "cell_type": "code",
   "execution_count": 76,
   "metadata": {},
   "outputs": [],
   "source": [
    "#sns.countplot(x=\"ICD9_CODE\", data=diagnoses_icd)"
   ]
  },
  {
   "cell_type": "code",
   "execution_count": 77,
   "metadata": {},
   "outputs": [
    {
     "name": "stdout",
     "output_type": "stream",
     "text": [
      "[251, 252, 255, 256, 261, 262, 263, 265, 269, 270, 665, 669, 670, 671, 672, 673, 676, 677, 687, 688, 690, 697, 699, 700, 702, 703, 704, 705, 708, 711, 712, 716, 718, 719, 721, 724, 725, 728, 730, 733, 738, 741, 743, 744, 745, 746, 747, 748, 749, 751, 759, 760, 763, 767, 771, 772, 773, 774, 775, 776, 779, 782, 786, 795, 796, 797, 798, 802, 804, 805, 806, 807, 809, 811, 812, 813, 814, 815, 819, 820, 822, 824, 825, 828, 830, 833, 834, 835, 836, 843, 845, 846, 849, 852, 853, 854, 856, 857, 858, 862, 863, 864, 646, 647, 648, 649, 650, 651, 652, 653, 657, 659, 662, 2, 3, 5, 8, 9, 12, 16, 18, 19, 21, 23, 24, 25, 26, 28, 30, 31, 32, 33, 34, 36, 37, 38, 41, 42, 43, 44, 45, 46, 49, 50, 51, 52, 53, 61, 62, 63, 65, 67, 72, 77, 78, 79, 80, 81, 82, 85, 87, 88, 94, 95, 96, 97, 99, 101, 102, 104, 106, 107, 108, 110, 112, 113, 114, 116, 119, 122, 123, 124, 129, 130, 131, 133, 134, 135, 136, 137, 138, 140, 141, 143, 144, 146, 147, 152, 154, 155, 156, 157, 158, 159, 161, 163, 164, 165, 168, 169, 171, 172, 175, 176, 177, 178, 179, 180, 181, 183, 184, 185, 188, 191, 192, 194, 197, 199, 200, 201, 203, 208, 209, 212, 213, 214, 215, 217, 219, 220, 221, 223, 224, 225, 227, 229, 231, 232, 234, 235, 236, 238, 239, 243, 245, 246, 272, 273, 274, 275, 276, 277, 279, 280, 283, 285, 287, 290, 294, 296, 297, 299, 301, 302, 303, 309, 310, 312, 315, 316, 317, 318, 320, 323, 324, 326, 328, 329, 330, 331, 334, 338, 341, 347, 349, 352, 353, 354, 355, 356, 357, 359, 361, 364, 365, 366, 368, 371, 372, 373, 378, 379, 385, 386, 387, 388, 391, 393, 396, 397, 398, 400, 403, 404, 405, 408, 409, 411, 412, 413, 414, 415, 421, 422, 424, 426, 427, 428, 431, 434, 440, 442, 443, 447, 448, 451, 452, 453, 454, 455, 456, 457, 458, 459, 461, 462, 466, 467, 468, 469, 470, 473, 477, 478, 480, 481, 483, 487, 490, 491, 492, 495, 497, 498, 499, 500, 502, 505, 506, 507, 508, 512, 515, 518, 525, 527, 528, 530, 531, 533, 536, 537, 540, 541, 542, 543, 547, 550, 551, 552, 554, 556, 558, 559, 561, 562, 563, 564, 566, 567, 568, 569, 570, 571, 573, 575, 576, 577, 582, 583, 586, 587, 588, 589, 590, 591, 592, 596, 600, 602, 603, 604, 608, 610, 611, 613, 614, 616, 617, 618, 620, 623, 625, 629, 630, 631, 633, 634, 635, 636, 640, 641, 643, 1652, 1654, 1655, 1656, 1657, 1660, 1663, 1665, 1666, 1667, 1668, 1671, 1672, 1674, 1675, 1676, 1678, 1682, 1683, 1684, 1685, 1688, 1689, 1690, 1692, 1693, 1695, 1697, 1699, 1703, 1704, 1309, 1310, 1311, 1312, 1313, 1314, 1319, 1320, 1321, 1322, 1324, 1325, 1329, 1332, 1333, 1334, 1335, 1336, 1341, 1343, 1345, 1351, 1352, 1353, 1354, 1355, 1357, 1359, 1360, 1362, 1365, 1366, 1367, 1368, 1369, 1371, 1372, 1374, 1377, 1380, 1382, 1384, 1385, 1386, 1389, 1393, 1394, 1395, 1396, 1397, 1399, 1402, 1403, 1407, 1408, 1411, 1412, 1413, 1415, 1417, 1419, 1420, 1423, 1424, 1426, 1430, 1431, 1432, 1433, 1435, 1436, 1437, 925, 926, 927, 928, 929, 931, 932, 935, 937, 942, 946, 949, 950, 951, 952, 953, 954, 955, 956, 957, 960, 961, 965, 966, 969, 970, 971, 974, 975, 976, 977, 978, 981, 984, 989, 247, 2089, 2090, 2091, 2092, 2094, 2096, 2097, 2098, 2100, 2101, 2103, 2104, 2105, 2108, 2109, 2111, 2112, 2114, 2117, 2121, 2122, 2123, 2126, 2129, 2130, 2131, 2133, 2135, 2136, 2137, 2139, 2141, 2142, 2143, 2146, 2148, 2149, 2151, 2152, 2153, 2155, 2156, 2157, 2158, 2161, 2162, 2165, 2166, 2167, 2168, 2169, 2170, 2172, 2176, 2180, 2181, 2184, 2185, 2187, 2188, 2192, 2193, 2197, 2199, 2201, 2202, 2204, 2206, 2207, 2208, 2211, 2212, 2213, 2217, 2219, 2222, 2223, 2224, 2225, 2226, 2361, 2362, 2363, 2368, 2369, 2372, 2373, 2375, 2377, 2382, 2383, 2384, 2386, 2387, 2393, 2394, 2397, 2398, 2399, 2400, 2403, 2404, 2409, 2410, 2412, 2414, 2415, 2421, 2423, 2424, 2425, 2428, 2431, 2432, 2433, 2435, 2437, 2439, 2441, 2442, 2443, 2444, 2445, 2446, 2451, 2452, 2453, 2454, 2455, 2456, 2458, 2459, 2461, 2462, 2465, 2467, 2470, 2473, 2475, 2478, 2480, 2482, 2483, 2486, 2489, 2491, 2493, 2494, 2496, 2498, 2499, 2500, 2502, 2503, 2508, 2510, 2511, 2512, 2513, 2514, 2515, 2516, 2519, 2520, 2523, 2526, 2527, 2528, 2530, 2532, 3547, 3552, 3553, 3555, 3556, 3562, 3563, 3565, 3566, 3569, 3570, 3571, 3572, 3573, 3577, 3579, 3581, 3582, 3587, 3588, 3589, 3590, 3591, 3592, 3594, 3596, 3597, 3598, 3603, 3605, 3606, 3608, 3609, 3611, 3614, 3616, 3617, 3618, 3619, 3623, 3624, 3627, 3628, 3629, 3632, 3635, 3636, 3637, 3638, 3640, 3645, 3646, 3649, 3650, 3653, 3654, 3655, 3657, 3658, 3659, 3660, 3662, 3665, 3666, 3667, 3668, 3275, 3276, 3279, 3280, 3282, 3283, 3284, 3285, 3289, 3290, 3293, 3294, 3297, 3298, 3299, 3300, 3302, 3303, 3304, 3307, 3309, 3311, 3312, 3314, 3317, 3318, 3320, 3321, 3322, 3323, 3324, 3325, 3328, 3329, 3330, 3333, 3334, 3336, 3340, 3341, 3342, 3344, 3345, 3347, 3349, 3351, 3353, 3355, 3357, 3358, 3359, 3360, 3361, 3367, 3369, 3371, 3373, 3374, 3377, 3378, 3383, 3384, 3385, 3387, 3389, 3394, 3395, 1745, 1747, 1749, 1758, 1759, 1764, 1765, 1766, 1770, 1771, 1773, 1775, 1776, 1779, 1782, 1783, 1784, 1785, 1786, 1787, 1788, 1790, 1791, 1797, 1799, 1802, 1804, 1809, 1811, 1814, 1816, 1817, 1818, 1819, 1822, 1824, 1825, 1828, 1829, 1830, 1832, 1836, 865, 866, 867, 869, 872, 873, 874, 882, 883, 884, 886, 887, 890, 893, 894, 898, 899, 902, 903, 904, 905, 906, 910, 911, 912, 914, 915, 917, 921, 923, 1052, 1054, 1055, 1056, 1060, 1061, 1062, 1069, 1070, 1071, 1072, 1073, 1076, 1077, 1078, 1080, 1083, 1084, 1087, 1088, 1090, 1091, 1092, 1093, 1094, 1095, 1100, 1102, 1103, 1104, 1106, 1107, 1108, 1112, 1113, 1114, 1115, 1116, 1119, 1120, 1121, 1122, 1123, 1124, 1125, 1126, 1128, 1129, 1131, 1133, 1135, 1140, 1141, 1144, 1145, 1147, 1148, 1149, 1150, 1151, 1153, 1159, 1161, 1162, 1163, 1165, 1166, 1170, 1171, 1173, 1174, 1177, 1178, 1181, 1182, 1186, 1187, 1189, 1190, 1192, 1193, 1195, 1196, 1198, 1201, 1204, 1205, 1206, 1207, 1208, 1209, 1211, 1212, 1214, 1215, 1216, 1217, 1218, 1219, 1220, 1221, 1222, 1225, 1226, 1228, 1230, 1231, 1232, 1233, 1234, 1236, 1241, 1242, 1244, 1245, 1246, 1248, 1249, 1255, 1258, 1260, 1261, 1262, 1263, 1264, 1265, 1266, 1267, 1268, 1272, 1273, 1277, 1279, 1281, 1283, 1284, 1286, 1292, 1295, 1296, 1297, 1298, 1299, 1300, 1302, 1303, 1305, 1440, 1443, 1448, 1449, 1451, 1454, 1455, 1456, 1457, 1458, 1459, 1464, 1465, 1466, 1467, 1469, 1470, 1471, 1472, 1473, 1476, 1477, 1479, 1480, 1483, 1486, 1491, 1493, 1494, 1495, 1497, 1498, 1502, 1505, 1507, 1508, 1509, 1512, 1514, 1517, 1519, 1520, 1522, 1525, 1527, 1528, 1529, 1530, 1531, 1534, 1537, 1538, 1541, 1542, 1543, 1544, 1546, 1547, 1549, 1550, 1554, 1558, 1559, 1561, 1563, 1566, 1567, 1568, 1571, 1572, 1573, 1574, 1577, 1582, 1583, 1584, 1585, 1586, 1587, 1588, 1590, 1591, 1592, 1593, 1594, 1597, 1599, 1601, 1602, 1603, 1604, 1606, 1610, 1612, 1614, 1616, 1617, 1618, 1622, 1624, 1628, 1629, 1631, 1633, 1636, 1638, 1646, 1648, 1650, 993, 995, 996, 997, 998, 999, 1000, 1002, 1003, 1005, 1006, 1008, 1012, 1013, 1017, 1019, 1021, 1022, 1024, 1025, 1030, 1033, 1034, 1035, 1038, 1039, 1040, 1041, 1042, 1043, 1045, 1046, 1048, 1049, 1050, 1840, 1843, 1845, 1849, 1850, 1852, 1853, 1855, 1856, 1858, 1861, 1862, 1863, 1864, 1865, 1869, 1870, 1874, 1875, 1877, 1879, 1881, 1882, 1886, 1887, 1888, 1890, 1892, 1894, 1895, 1897, 1900, 1901, 1902, 1903, 1904, 1905, 1906, 1909, 1911, 1912, 1915, 1916, 1918, 1919, 1924, 1926, 1927, 1928, 1931, 1934, 1936, 1937, 1939, 1940, 1941, 1944, 1948, 1950, 1951, 1952, 1953, 1957, 1962, 1965, 1967, 1968, 1969, 1970, 1972, 1979, 1980, 1981, 1982, 1983, 1984, 1986, 1987, 1990, 1992, 1993, 1994, 1997, 1999, 2001, 2002, 2003, 2004, 2007, 2009, 2011, 2012, 2013, 2014, 2015, 2016, 2019, 2020, 2022, 2024, 2025, 2030, 2534, 2535, 2538, 2539, 2540, 2542, 2544, 2550, 2551, 2553, 2554, 2555, 2556, 2559, 2560, 2562, 2563, 2564, 2566, 2567, 2568, 2570, 2579, 2580, 2581, 2582, 2583, 2585, 2587, 2588, 2589, 2590, 2592, 2593, 2596, 2597, 2603, 2604, 2607, 2608, 2609, 2611, 2612, 2613, 2227, 2230, 2231, 2232, 2233, 2234, 2235, 2236, 2238, 2239, 2240, 2241, 2242, 2243, 2244, 2245, 2247, 2248, 2249, 2250, 2252, 2253, 2254, 2255, 2256, 2258, 2259, 2262, 2264, 2265, 2266, 2267, 2268, 2270, 2276, 2278, 2279, 2280, 2283, 2286, 2289, 2294, 2295, 2296, 2299, 2301, 2304, 2305, 2306, 2308, 2310, 2311, 2313, 2317, 2319, 2323, 2325, 2326, 2327, 2329, 2330, 2331, 2334, 2335, 2338, 2340, 2341, 2342, 2343, 2344, 2345, 2347, 2353, 2354, 2355, 1705, 1706, 1707, 1708, 1711, 1712, 1713, 1721, 1730, 1732, 1733, 1734, 1736, 1737, 1739, 1740, 1741, 2032, 2033, 2034, 2035, 2036, 2037, 2038, 2039, 2040, 2043, 2046, 2047, 2050, 2051, 2052, 2053, 2054, 2055, 2057, 2058, 2059, 2060, 2061, 2065, 2069, 2071, 2072, 2075, 2076, 2078, 2081, 2083, 2084, 2086, 2088, 4216, 4217, 4219, 4220, 4221, 4223, 4224, 4225, 4227, 4230, 4231, 4233, 4234, 4236, 4240, 4241, 4242, 4243, 4244, 4247, 4248, 4249, 4250, 4251, 4253, 4254, 4255, 4259, 4260, 4261, 4262, 4266, 4267, 4268, 4269, 4271, 4275, 4041, 4043, 4044, 4045, 4046, 4048, 4053, 4054, 4055, 4056, 4057, 4058, 4059, 4060, 4061, 4062, 4063, 4064, 4065, 4066, 4067, 4070, 4071, 4072, 4074, 4075, 4076, 4078, 4079, 4080, 4081, 4082, 4083, 4084, 4085, 4088, 4090, 4091, 4094, 4095, 4096, 4098, 4099, 4101, 4102, 4103, 4105, 4107, 4108, 4109, 4110, 4115, 4116, 4119, 4120, 4126, 4127, 4128, 4130, 4132, 4134, 4137, 4138, 4139, 4142, 4143, 4144, 4145, 4149, 4150, 4152, 4156, 4159, 4160, 4161, 4162, 4163, 4164, 4165, 4167, 4168, 4169, 4170, 4174, 4176, 4182, 4183, 4184, 4187, 4319, 4322, 4324, 4325, 4327, 4331, 4333, 4334, 4338, 4341, 4342, 4343, 4344, 4345, 4347, 4348, 4350, 4351, 4354, 4355, 4357, 4359, 4362, 4365, 4366, 4369, 4370, 4373, 4374, 4383, 4384, 4385, 4386, 4389, 4391, 4392, 4393, 4395, 4396, 4399, 4400, 4402, 4409, 4414, 4416, 4417, 4419, 4420, 4421, 4428, 4430, 4431, 4432, 4434, 4436, 4437, 4438, 4441, 4445, 4446, 4447, 4454, 4456, 4457, 4458, 4461, 4463, 4464, 4465, 4466, 4467, 4469, 4470, 4473, 4474, 4477, 4480, 4483, 4484, 4486, 4489, 4492, 4494, 4495, 4496, 4497, 4498, 4501, 4502, 4504, 4506, 4507, 4509, 4511, 4514, 4516, 4517, 4519, 4521, 4523, 4524, 4526, 4527, 4528, 4529, 4530, 4531, 4533, 1838, 2622, 2623, 2626, 2627, 2628, 2629, 2630, 2631, 2632, 2634, 2636, 2637, 2638, 2641, 2642, 2647, 2649, 2650, 2652, 2653, 2655, 2656, 2658, 2659, 2661, 2662, 2665, 2671, 2672, 2674, 2676, 2679, 2682, 2683, 2684, 2687, 2689, 2690, 2691, 2698, 2700, 2701, 2705, 2709, 2711, 2712, 2713, 2714, 2715, 2717, 2719, 2724, 2725, 2726, 2728, 2729, 2730, 2734, 2736, 2737, 2739, 2741, 2744, 2746, 2747, 2748, 2752, 2753, 2754, 2756, 2757, 2758, 2759, 2760, 2763, 2765, 2766, 2769, 2772, 2774, 2775, 2778, 2779, 2782, 2783, 2787, 2788, 2789, 2795, 2796, 2799, 2800, 2802, 2803, 2805, 2811, 2813, 2815, 2817, 2818, 2819, 2820, 2822, 2823, 2824, 2825, 2832, 2835, 2836, 2837, 2838, 2840, 2841, 2842, 2843, 2844, 2845, 2851, 2852, 2854, 2857, 2859, 2863, 2869, 2870, 2871, 2872, 2874, 2876, 2877, 2882, 2883, 2884, 3013, 3014, 3015, 3016, 3018, 3022, 3023, 3024, 3026, 3027, 3028, 3030, 3031, 3032, 3033, 3034, 3035, 3036, 3038, 3041, 3042, 3044, 3045, 3046, 3047, 3049, 3050, 3051, 3052, 3053, 3054, 3057, 3058, 3059, 3060, 3065, 3066, 3068, 3069, 3070, 3071, 3076, 3077, 3078, 3085, 3087, 3088, 3089, 3091, 3092, 3093, 3096, 3097, 3099, 3103, 3106, 3109, 3113, 3114, 3115, 3118, 3119, 3120, 3122, 3123, 3124, 3125, 3127, 3128, 3133, 3134, 3135, 3137, 3141, 3142, 3144, 3146, 3147, 3148, 3149, 3151, 3152, 3154, 3156, 3158, 3159, 3166, 3169, 3171, 3172, 3174, 3176, 3178, 3179, 3181, 3183, 3184, 3186, 3188, 3190, 3194, 3196, 3197, 3201, 3202, 3203, 3204, 3206, 3207, 3208, 3212, 3215, 3218, 3220, 3223, 3224, 3225, 3227, 3232, 3236, 3239, 3241, 3251, 3256, 3257, 3258, 3259, 3260, 3261, 3262, 3263, 3265, 3266, 3269, 3271, 3273, 3401, 3402, 3408, 3413, 3414, 3415, 3417, 3418, 3420, 3421, 3422, 3424, 3425, 3426, 3429, 3430, 3431, 3432, 3435, 3437, 3439, 3440, 3441, 3443, 3446, 3448, 3449, 3452, 3453, 3460, 3461, 3463, 3464, 3465, 3467, 3468, 3469, 3473, 3474, 3477, 3478, 3482, 3483, 3484, 3485, 3489, 3490, 3494, 3497, 3499, 3501, 3502, 3505, 3510, 3515, 3516, 3517, 3518, 3521, 3522, 3523, 3525, 3526, 3528, 3529, 3530, 3533, 3534, 3536, 3541, 3543, 3544, 2889, 2892, 2894, 2895, 2896, 2897, 2898, 2899, 2900, 2903, 2904, 2905, 2906, 2909, 2912, 2914, 2915, 2917, 2918, 2919, 2923, 2926, 2928, 2930, 2931, 2933, 2935, 2937, 2938, 2941, 2943, 2944, 2948, 2951, 2952, 2957, 2958, 2960, 2965, 2966, 2969, 2972, 2973, 2974, 2978, 2979, 2980, 2981, 2983, 2985, 2988, 2989, 2990, 2992, 2995, 2996, 2997, 2999, 3000, 3002, 3005, 3007, 3008, 3009, 3010, 3012, 3801, 3802, 3804, 3805, 3807, 3809, 3811, 3813, 3816, 3820, 3823, 3825, 3827, 3829, 3832, 3834, 3835, 3840, 3841, 3842, 3844, 3846, 3850, 3851, 3852, 3853, 3856, 3857, 3862, 3863, 3865, 3866, 3869, 3871, 3874, 3876, 3877, 3879, 3880, 3881, 3883, 3885, 3887, 3888, 3889, 3890, 3891, 3892, 3893, 3894, 3896, 3897, 3899, 3900, 3902, 3906, 3908, 3909, 3910, 3911, 3914, 3915, 3916, 3917, 3918, 3920, 3921, 3924, 3925, 3926, 3929, 3931, 3932, 3933, 3937, 3940, 3941, 3942, 3944, 3945, 3946, 3947, 3948, 3952, 3954, 3956, 3957, 3959, 3961, 3964, 3968, 3971, 3973, 3975, 3976, 3981, 3984, 3986, 3987, 3988, 3990, 3991, 3995, 3996, 3997, 3998, 4002, 4003, 4005, 4006, 4007, 4008, 4009, 4010, 4011, 4012, 4013, 4017, 4018, 4020, 4021, 4023, 4025, 4028, 4029, 4032, 4033, 4034, 4036, 4037, 4039, 4040, 4548, 4550, 4553, 4556, 4558, 4560, 4562, 4563, 4564, 4565, 4570, 4571, 4573, 4574, 4576, 4192, 4193, 4194, 4195, 4196, 4199, 4202, 4203, 4204, 4205, 4208, 4209, 4211, 4212, 4214, 4215, 5150, 5152, 5153, 5155, 5156, 5157, 5160, 5161, 5163, 5164, 5165, 5166, 5167, 5168, 5172, 5174, 5175, 5177, 5179, 5180, 5182, 5183, 5185, 5188, 5189, 5190, 5191, 5192, 5194, 5195, 5196, 5197, 5199, 5203, 5205, 5207, 5209, 5210, 5213, 5216, 5217, 5219, 5225, 5226, 5358, 5359, 5360, 5361, 5362, 5366, 5368, 5369, 5370, 5371, 5373, 5377, 5382, 5384, 5386, 5389, 5391, 5392, 5393, 5395, 5397, 5400, 5402, 5405, 5406, 5407, 5408, 5409, 5412, 5413, 5415, 5420, 5421, 5422, 5424, 5425, 5426, 5282, 5284, 5286, 5287, 5288, 5289, 5290, 5295, 5297, 5300, 5301, 5304, 5306, 5307, 5310, 5313, 5314, 5315, 5317, 5318, 5319, 5324, 5330, 5331, 5335, 5336, 5337, 5338, 5339, 5341, 5345, 5347, 5350, 5354, 4839, 4841, 4842, 4844, 4846, 4847, 4849, 4850, 4852, 4853, 4855, 4859, 4861, 4863, 4864, 4865, 4867, 4868, 4869, 4870, 4871, 4875, 4877, 4878, 4879, 4880, 4881, 4882, 4884, 4885, 4886, 4887, 4888, 4889, 4891, 4892, 4894, 4895, 4898, 4899, 4900, 4901, 4902, 4905, 4906, 4909, 4912, 4913, 4914, 4915, 4919, 4920, 4921, 4922, 4923, 4924, 4925, 4926, 4928, 4931, 4933, 4935, 4936, 4939, 4942, 4944, 4950, 4951, 4952, 4953, 4956, 4960, 5753, 5755, 5761, 5767, 5768, 5769, 5771, 5774, 5775, 5776, 5777, 5778, 5781, 5782, 5783, 5784, 5786, 5788, 5789, 5790, 5791, 5792, 5794, 5795, 5796, 5797, 5798, 5803, 5804, 5805, 5806, 5810, 5812, 5814, 5818, 5819, 5820, 5821, 5822, 5825, 5828, 5829, 5830, 5831, 5834, 5835, 5837, 5840, 5842, 5844, 5848, 5849, 5850, 5852, 5853, 5858, 5861, 5863, 5864, 5865, 5868, 5869, 5870, 5871, 5872, 5874, 5876, 5880, 5882, 5884, 5885, 5886, 5890, 5891, 5896, 5897, 5898, 5900, 5902, 5903, 5904, 5905, 5906, 5909, 5910, 5911, 5916, 5917, 5918, 5919, 6440, 6441, 6445, 6447, 6450, 6451, 6452, 6453, 6454, 6455, 6461, 6462, 6466, 6467, 6469, 6471, 6472, 6473, 6475, 6477, 6478, 6480, 6481, 6483, 6484, 6485, 6489, 6490, 6491, 6492, 6495, 6496, 6497, 6498, 6500, 6501, 6502, 6507, 6509, 6513, 6515, 6517, 6520, 6521, 6523, 6524, 6525, 6526, 6528, 6531, 6532, 6533, 6536, 6539, 6540, 6541, 6139, 6141, 6143, 6146, 6152, 6153, 6157, 6158, 6160, 6161, 6162, 6163, 5921, 5922, 5923, 5924, 5929, 5930, 5931, 5934, 5935, 5937, 5939, 5941, 5942, 5944, 5945, 5946, 5947, 5950, 5951, 5953, 5954, 5956, 5958, 5962, 5963, 5965, 5966, 5968, 5970, 5974, 5976, 5978, 5979, 5983, 5985, 5989, 5990, 5991, 5993, 5995, 5999, 6000, 6003, 6006, 6008, 6010, 6011, 6012, 6014, 6015, 6016, 6018, 6019, 6020, 6023, 6026, 6028, 6031, 6036, 6037, 6041, 6042, 6043, 6045, 6047, 6051, 6052, 6053, 6054, 6055, 6060, 6063, 6064, 6067, 6070, 6071, 6073, 6076, 6078, 6079, 6080, 6081, 6082, 6083, 6085, 6086, 6087, 6088, 6089, 6090, 6092, 6093, 6095, 6096, 6097, 6098, 6099, 6100, 6102, 6104, 6106, 6107, 6108, 6110, 6111, 6112, 6115, 6116, 6122, 6123, 6124, 6128, 6129, 6131, 6132, 6134, 6135, 6136, 6138, 6271, 6272, 6273, 6275, 6277, 6281, 6282, 6284, 4535, 4536, 4537, 4538, 4540, 4543, 4544, 4545, 5427, 5428, 5430, 5431, 5433, 5435, 5438, 5441, 5442, 5443, 5444, 5445, 5447, 5448, 5449, 5451, 5452, 5453, 5455, 5456, 5457, 5458, 5459, 5460, 5464, 5466, 5469, 5472, 5474, 5477, 5478, 5482, 5483, 5486, 5487, 5488, 5489, 5491, 5494, 5495, 5498, 5502, 5503, 5504, 5505, 5506, 5511, 5512, 5517, 5518, 5519, 5521, 5525, 5527, 5528, 5531, 5533, 5534, 5535, 5537, 5541, 5543, 5544, 5545, 5546, 5547, 5550, 5551, 5554, 5556, 5557, 5558, 5560, 5561, 5562, 5564, 5565, 5566, 5568, 5572, 5573, 5575, 5579, 5580, 5581, 5583, 5584, 5586, 5588, 5589, 5591, 5592, 5593, 5596, 5598, 5603, 5604, 5605, 5606, 5607, 5608, 5611, 5612, 5614, 5617, 5618, 5228, 5229, 5230, 5232, 5236, 5237, 5238, 5240, 5241, 5243, 5244, 5246, 5247, 5248, 5251, 5252, 5253, 5255, 5257, 5258, 5260, 5264, 5269, 5270, 5271, 5272, 5273, 5274, 5277, 5278, 5280, 4281, 4283, 4285, 4286, 4289, 4292, 4293, 4294, 4295, 4296, 4298, 4300, 4301, 4303, 4305, 4307, 4308, 4310, 4311, 4312, 4313, 4314, 4315, 4316, 3669, 3670, 3673, 3674, 3675, 3678, 3679, 3680, 3681, 3682, 3683, 3684, 3685, 3686, 3687, 3688, 3690, 3691, 3692, 3695, 3696, 3698, 3699, 3702, 3703, 3704, 3705, 3707, 3708, 3711, 3713, 3716, 3717, 3719, 3720, 3721, 3724, 3725, 3728, 3730, 3731, 3733, 3735, 3736, 3737, 3741, 3742, 3743, 3746, 3748, 3751, 3754, 3755, 3760, 3763, 3764, 3766, 3767, 3768, 3769, 3770, 3774, 3776, 3778, 3780, 3781, 3782, 3784, 3786, 3789, 3792, 3795, 3797, 3798, 4579, 4581, 4582, 4583, 4587, 4588, 4593, 4594, 4595, 4597, 4598, 4599, 4600, 4601, 4602, 4603, 4604, 4606, 4607, 4614, 4615, 4618, 4621, 4622, 4623, 4625, 4626, 4628, 4629, 4630, 4631, 4632, 4633, 4637, 4639, 4641, 4643, 4646, 4649, 4651, 4654, 4656, 4659, 4664, 4666, 4668, 4669, 4670, 4673, 4674, 4675, 4676, 4677, 4680, 4681, 4682, 4683, 4684, 4685, 4686, 4687, 4688, 4689, 4691, 4692, 4694, 4697, 4700, 4702, 4703, 4704, 4705, 4708, 4709, 4712, 4713, 4714, 4715, 4719, 4720, 4724, 4725, 4727, 4728, 4729, 4730, 4732, 4733, 4737, 4740, 4741, 4743, 4744, 4746, 4750, 4752, 4753, 4754, 4757, 4760, 4762, 4763, 4766, 4770, 4771, 4773, 4774, 4776, 4778, 4779, 4782, 4784, 4786, 4787, 4788, 4789, 4790, 4791, 4794, 4795, 4796, 4798, 4799, 4800, 4801, 4802, 4803, 4804, 4807, 4809, 4813, 4814, 4816, 4817, 4821, 4822, 4823, 4824, 4825, 4827, 4828, 4832, 4833, 4835, 4837, 4962, 4964, 4966, 4968, 4969, 4970, 4972, 4973, 4975, 4979, 4982, 4983, 4985, 4987, 4989, 4992, 4996, 4999, 5003, 5005, 5006, 5007, 5008, 5009, 5010, 5011, 5013, 5015, 5016, 5017, 5018, 5021, 5022, 5025, 5027, 5028, 5029, 5031, 5033, 5034, 5035, 5036, 5037, 5038, 5042, 5043, 5044, 5047, 5049, 5051, 5052, 5054, 5056, 5058, 5059, 5060, 5061, 5062, 5065, 5066, 5067, 5069, 5071, 5072, 5073, 5076, 5078, 5079, 5080, 5085, 5086, 5087, 5088, 5089, 5090, 5091, 5092, 5094, 5096, 5097, 5098, 5102, 5104, 5105, 5106, 5109, 5110, 5111, 5113, 5116, 5120, 5121, 5122, 5123, 5127, 5128, 5136, 5137, 5139, 5140, 5142, 5145, 5146, 5147, 7148, 7150, 7151, 7152, 7155, 7156, 7157, 7158, 7159, 7160, 7161, 7162, 7163, 7165, 7166, 7171, 7172, 7173, 7175, 7176, 7177, 7178, 7179, 7180, 7181, 7182, 7185, 7189, 7190, 7191, 7192, 7571, 7572, 7573, 7576, 7577, 7579, 7580, 7199, 7200, 7201, 7202, 7207, 7209, 7210, 7211, 7212, 7216, 7217, 7218, 7219, 7223, 7225, 7226, 7229, 7230, 7232, 7234, 7237, 7238, 7239, 7241, 7242, 7243, 7244, 7246, 7248, 7249, 7250, 7254, 7256, 7258, 7259, 7262, 7266, 7268, 7275, 7277, 7280, 7281, 7282, 7284, 7289, 7290, 7291, 7292, 7301, 7303, 7304, 7305, 7308, 7309, 7312, 7314, 7316, 7317, 7318, 7319, 7321, 7323, 7324, 6804, 6805, 6806, 6807, 6809, 6811, 6812, 6813, 6816, 6817, 6818, 6820, 6822, 6824, 6826, 6827, 6830, 6831, 6832, 6834, 6838, 6840, 6843, 6846, 6847, 6848, 6855, 6856, 6857, 6858, 6859, 6861, 6863, 6865, 6867, 6868, 6870, 6871, 6873, 6875, 6876, 6877, 6878, 6880, 6882, 6883, 6886, 6888, 6893, 6894, 6895, 6896, 6897, 6901, 6903, 6908, 6910, 6911, 6913, 6914, 6916, 6918, 6919, 6920, 6921, 6923, 6925, 6927, 6930, 6931, 7719, 7720, 7722, 7724, 7725, 7727, 7728, 7729, 7731, 7733, 7735, 7737, 7740, 7742, 7743, 7744, 7745, 7747, 7751, 7752, 7756, 7758, 7760, 7762, 7763, 7765, 7766, 7768, 7770, 7772, 7773, 7777, 7778, 7779, 7780, 7781, 7782, 7783, 7785, 7787, 7788, 7790, 7794, 7796, 7798, 7802, 7804, 7805, 7808, 7813, 7814, 7815, 7817, 7818, 7820, 8329, 8331, 8332, 8333, 8337, 8341, 6286, 6291, 6292, 6294, 6297, 6299, 6300, 6302, 6303, 6306, 6309, 6310, 6311, 6312, 6315, 6319, 6321, 6323, 6324, 6325, 6327, 6329, 6330, 6333, 6334, 6335, 6336, 6337, 6338, 6341, 6342, 6343, 6344, 6346, 6347, 6351, 6353, 6355, 6356, 6359, 6361, 6362, 6363, 6364, 6365, 6366, 6368, 6369, 6372, 6373, 6374, 6375, 6376, 6377, 6378, 6380, 6382, 6385, 6386, 6391, 6392, 6394, 6395, 6398, 6399, 6401, 6404, 6405, 6406, 6407, 6408, 6409, 6413, 6419, 6424, 6426, 6430, 6432, 6434, 6436, 7195, 7327, 7328, 7331, 7333, 7335, 7337, 7339, 7341, 7342, 7343, 7345, 7346, 7347, 7348, 7349, 7352, 7353, 7355, 7356, 7357, 7363, 7364, 7366, 7367, 7369, 7371, 7374, 7375, 7378, 7382, 7385, 7386, 7387, 7390, 7393, 7396, 7397, 7398, 7399, 7400, 7401, 7405, 7406, 7409, 7410, 7413, 7414, 7416, 7418, 7422, 7423, 7424, 7428, 7430, 7431, 7433, 7434, 7436, 7438, 7439, 7440, 7442, 7444, 7445, 7447, 7448, 7449, 7452, 7453, 7454, 7455, 7457, 7458, 7459, 7460, 7463, 7464, 7466, 7469, 7471, 7473, 7474, 7475, 7479, 7480, 7483, 7484, 7485, 7486, 7487, 7488, 7491, 7493, 7495, 7496, 7497, 7499, 7500, 7501, 7502, 7504, 7506, 7509, 7512, 7513, 7514, 7516, 7517, 7522, 7523, 7526, 7528, 7529, 7532, 7534, 7535, 7537, 7538, 7539, 7540, 7541, 7547, 7551, 7552, 7554, 7555, 7558, 7562, 7563, 7565, 7566, 7567, 6164, 6166, 6168, 6170, 6171, 6173, 6174, 6177, 6178, 6183, 6188, 6191, 6194, 6195, 6196, 6197, 6199, 6200, 6202, 6206, 6208, 6210, 6211, 6212, 6213, 6214, 6215, 6216, 6218, 6222, 6224, 6227, 6229, 6230, 6231, 6232, 6233, 6235, 6239, 6244, 6246, 6249, 6250, 6252, 6255, 6258, 6259, 6262, 6263, 6264, 6265, 6266, 6267, 6268, 5619, 5621, 5623, 5625, 5626, 5629, 5634, 5638, 5639, 5643, 5644, 5645, 5646, 5647, 5656, 5657, 5658, 5659, 5661, 5665, 5666, 5667, 5669, 5670, 5671, 5673, 5674, 5675, 5677, 5678, 5679, 5681, 5684, 5685, 5686, 5690, 5692, 5695, 5696, 5700, 5703, 5705, 5707, 5708, 5709, 5711, 5712, 5713, 5715, 5716, 5717, 5718, 5721, 5722, 5724, 5725, 5726, 5727, 5728, 5729, 5732, 5734, 5735, 5738, 5739, 5742, 5743, 5744, 5749, 6543, 6546, 6547, 6548, 6549, 6550, 6556, 6557, 6558, 6559, 6561, 6563, 6564, 6565, 6566, 6568, 6569, 6570, 6571, 6572, 6575, 6576, 6577, 6579, 6581, 6584, 6585, 6589, 6590, 6591, 6593, 6597, 6598, 6600, 6601, 6603, 6604, 6606, 6607, 6609, 6610, 6611, 6614, 6618, 6620, 6622, 6623, 6624, 6627, 6628, 6631, 6633, 6634, 6635, 6636, 6637, 6642, 6646, 6648, 6649, 6651, 6652, 6654, 6655, 6657, 6661, 6663, 6664, 6667, 6670, 6672, 6674, 6675, 6676, 6680, 6683, 6685, 6689, 6690, 6692, 6693, 6694, 6695, 6696, 6698, 6699, 6700, 6702, 6704, 6705, 6706, 6707, 6714, 6718, 6720, 6722, 6723, 6724, 6725, 6726, 6727, 6728, 6730, 6733, 6735, 6736, 6741, 6743, 6744, 6747, 6750, 6752, 6754, 6756, 6757, 6760, 6762, 6763, 6764, 6765, 6766, 6768, 6769, 6771, 6773, 6774, 6775, 6776, 6777, 6781, 6782, 6783, 6784, 6786, 6787, 6788, 6790, 6791, 6793, 6796, 6801, 6933, 6935, 6936, 6937, 6938, 6939, 6940, 6944, 6945, 6948, 6950, 6953, 6956, 6958, 6961, 6963, 6964, 6966, 6970, 6971, 6972, 6974, 6976, 6977, 6978, 6980, 6981, 6982, 6983, 6984, 6985, 6991, 6993, 6996, 6999, 7001, 7003, 7004, 7005, 7006, 7007, 7008, 7010, 7011, 7012, 7013, 7014, 7016, 7017, 7018, 7019, 7021, 7025, 7026, 7029, 7030, 7033, 7034, 7038, 7039, 7042, 7043, 7044, 7045, 7049, 7050, 7052, 7053, 7054, 7056, 7058, 7063, 7065, 7067, 7068, 7069, 7071, 7072, 7073, 7075, 7080, 7081, 7082, 7083, 7084, 7086, 7088, 7093, 7095, 7096, 7097, 7098, 7101, 7102, 7103, 7108, 7115, 7116, 7122, 7124, 7125, 7127, 7128, 7129, 7132, 7133, 7134, 7136, 7138, 7140, 7141, 7143, 7145, 8202, 8203, 8204, 8206, 8208, 8210, 8211, 8214, 8215, 8217, 8220, 8221, 8222, 8223, 8225, 8226, 8229, 8232, 8233, 8234, 7585, 7591, 7593, 7595, 7598, 7599, 7600, 7601, 7604, 7605, 7609, 7610, 7611, 7613, 7614, 7615, 7618, 7619, 7620, 7621, 7622, 7628, 7629, 7630, 7632, 7633, 7637, 7638, 7639, 7645, 7650, 7652, 7654, 7657, 7659, 7662, 7665, 7666, 7668, 7669, 7670, 7672, 7673, 7675, 7676, 7678, 7681, 7683, 7684, 7685, 7686, 7687, 7689, 7691, 7695, 7700, 7701, 7704, 7706, 7708, 7710, 8498, 8502, 8503, 8505, 8510, 8512, 8513, 8514, 8519, 8520, 8521, 8522, 8525, 8526, 8528, 8535, 8537, 8544, 8545, 8549, 8551, 8552, 8554, 8555, 8556, 8559, 8561, 8562, 8564, 8565, 8566, 8569, 8570, 8571, 8573, 8577, 8579, 8580, 8581, 8582, 8583, 8584, 8587, 8588, 8590, 8591, 8593, 8594, 8596, 8597, 8598, 8600, 8602, 8603, 8606, 8608, 8612, 8620, 8623, 8624, 8626, 8627, 8628, 8630, 8631, 8634, 8635, 8636, 8644, 8645, 8646, 8647, 8648, 8649, 8650, 8651, 8652, 8654, 8655, 8657, 8658, 8659, 8660, 8663, 8665, 8666, 8670, 8671, 8672, 8674, 8675, 8679, 8680, 8681, 8683, 8684, 8685, 8686, 8689, 8690, 8692, 8693, 8694, 8697, 8700, 8702, 8703, 8704, 8708, 8710, 8712, 8713, 8718, 8721, 8727, 8728, 8729, 8731, 8733, 8734, 8736, 8738, 8740, 8749, 8752, 8753, 8755, 8758, 8888, 8890, 8892, 8893, 8894, 8896, 8898, 8900, 8901, 8903, 8904, 8907, 8908, 8909, 8910, 8911, 8915, 8916, 8920, 8921, 8924, 8928, 8930, 8935, 8940, 8941, 8942, 8952, 8953, 8954, 8956, 8957, 8958, 8960, 8962, 8963, 8964, 8966, 8968, 8970, 8972, 8973, 8974, 8976, 8979, 8982, 8983, 8985, 8987, 8988, 8989, 8992, 8993, 8997, 8998, 9000, 9002, 9003, 9010, 9012, 9013, 9015, 9016, 9017, 9018, 9019, 9021, 9022, 9024, 9025, 9027, 9030, 9031, 9037, 9038, 9039, 9040, 9043, 9044, 9045, 9048, 9054, 9056, 9057, 9062, 9063, 9064, 9065, 9066, 9069, 9070, 9071, 9455, 9456, 9458, 9461, 9463, 9464, 9465, 9473, 9474, 9476, 9477, 9478, 9480, 9481, 9482, 9486, 9487, 9488, 9490, 9494, 9498, 9499, 9501, 9503, 9507, 9512, 9514, 9515, 9517, 9519, 9522, 9527, 9528, 9529, 9533, 9534, 9139, 9141, 9144, 9145, 9147, 9149, 9150, 9152, 9155, 9156, 9157, 9159, 9160, 9161, 9162, 9167, 9170, 9171, 9172, 9173, 9175, 9176, 9177, 9178, 9179, 9180, 9183, 9185, 9186, 9187, 9188, 9189, 9194, 9196, 9198, 9199, 9200, 9201, 9202, 9206, 9208, 9210, 9213, 9216, 9218, 9220, 9221, 9222, 9223, 9224, 9226, 9231, 9232, 9234, 9237, 9238, 9239, 9241, 9242, 9243, 9245, 9247, 9248, 9249, 9252, 9253, 9254, 9255, 9256, 9257, 9258, 9261, 9263, 9265, 9266, 9270, 9272, 8759, 8761, 8764, 8766, 8772, 8775, 8779, 8780, 8782, 8785, 8786, 8787, 8788, 8790, 8792, 8793, 8794, 8796, 8798, 8800, 8344, 8346, 8347, 8352, 8354, 8357, 8360, 8362, 8363, 8364, 8366, 8368, 8369, 8371, 8374, 8375, 8377, 8378, 8380, 8381, 8382, 8383, 8384, 8385, 8386, 8387, 8388, 8389, 8391, 8393, 8396, 8398, 8401, 8402, 8407, 8409, 8413, 8416, 8418, 8421, 8422, 8423, 8426, 8427, 8429, 8433, 8435, 8439, 8441, 8442, 8443, 8444, 8445, 8446, 8448, 8450, 8451, 8452, 8453, 7822, 7823, 7824, 7825, 7827, 7828, 7834, 7835, 7837, 7839, 7840, 7842, 7846, 7847, 7848, 7852, 7856, 7858, 7861, 7868, 7869, 7872, 7873, 7875, 7877, 7878, 7879, 7880, 7882, 7883, 7884, 7886, 7887, 7888, 7890, 7894, 7899, 7900, 7901, 7903, 7905, 7907, 7908, 7910, 7911, 7913, 7915, 7916, 7917, 7921, 7923, 7929, 7930, 7932, 7935, 7936, 7937, 7938, 7939, 7940, 7942, 7944, 7945, 7946, 7950, 7952, 7953, 7954, 7959, 7962, 7963, 7964, 7965, 7966, 7968, 7970, 7971, 7972, 7974, 7978, 7981, 7982, 7984, 7986, 7988, 7989, 7990, 7991, 7992, 7993, 7996, 7998, 7999, 8002, 8005, 8012, 8013, 8015, 8017, 8019, 8022, 8024, 8026, 8027, 8029, 8030, 8031, 8032, 8033, 8037, 8042, 8043, 8045, 8046, 8047, 8048, 8050, 8051, 8052, 8055, 8056, 8057, 8061, 8062, 8063, 8064, 8065, 8066, 8068, 8069, 8070, 8072, 8074, 8076, 8077, 8078, 8081, 8082, 8084, 8085, 8086, 8087, 8091, 8095, 8097, 8099, 8102, 8103, 8239, 8244, 8245, 8249, 8250, 8252, 8253, 8254, 8256, 8260, 8261, 8263, 8264, 8265, 8266, 8268, 8269, 8273, 8275, 8277, 8278, 8279, 8282, 8283, 8284, 8285, 8291, 8293, 8300, 8306, 8307, 8311, 8313, 8314, 8318, 8321, 8323, 8324, 8325, 9074, 9076, 9077, 9078, 9079, 9080, 9081, 9083, 9084, 9085, 9086, 9089, 9090, 9092, 9094, 9096, 9097, 9099, 9100, 9101, 9102, 9104, 9105, 9106, 9107, 9110, 9111, 9112, 9113, 9115, 9116, 9117, 9118, 9120, 9121, 9122, 9123, 9128, 9132, 9133, 9136, 9137, 9273, 9274, 9275, 9278, 9282, 9283, 9285, 9287, 9288, 9289, 9290, 9292, 9293, 9295, 9296, 9297, 9298, 9299, 9300, 9301, 9302, 9303, 9306, 9308, 9311, 9312, 9313, 9318, 9320, 9321, 9324, 9325, 9326, 9328, 9329, 9331, 9332, 9334, 9335, 9336, 9338, 9339, 9340, 9342, 9343, 9344, 9345, 9346, 9347, 9348, 9351, 9354, 9355, 9356, 9358, 9359, 9364, 9365, 9369, 9370, 9371, 9374, 9376, 9377, 9382, 9384, 9385, 9386, 9388, 9390, 9391, 9392, 9396, 9397, 9398, 9405, 9406, 9407, 9409, 9410, 9412, 9413, 9414, 9418, 9419, 9420, 9422, 9423, 9424, 9426, 9427, 9429, 9430, 9434, 9436, 9437, 9438, 9442, 9444, 9447, 9448, 9450, 8458, 8459, 8460, 8461, 8463, 8465, 8466, 8467, 8468, 8473, 8474, 8476, 8477, 8478, 8479, 8480, 8481, 8482, 8483, 8484, 8485, 8489, 8490, 8494, 8495, 8497, 8105, 8106, 8107, 8110, 8111, 8113, 8115, 8120, 8122, 8123, 8124, 8128, 8130, 8133, 8138, 8141, 8143, 8146, 8147, 8150, 8153, 8156, 8158, 8160, 8161, 8163, 8164, 8167, 8168, 8169, 8170, 8171, 8173, 8174, 8177, 8178, 8179, 8182, 8183, 8184, 8186, 8188, 8190, 8191, 8195, 8196, 8199, 8200, 10140, 10141, 10143, 10146, 10152, 10153, 10154, 10155, 10156, 10158, 10159, 10160, 10161, 10165, 10166, 10167, 10168, 10170, 10171, 10172, 10173, 9537, 9538, 9540, 9541, 9542, 9547, 9548, 9550, 9552, 9555, 9556, 9557, 9559, 9560, 9561, 9562, 9564, 9565, 9567, 9568, 9569, 9570, 9574, 9577, 9578, 9579, 9580, 9582, 9586, 9588, 9589, 9594, 9596, 9597, 9599, 9600, 9602, 9603, 9605, 9609, 9611, 9612, 9613, 9616, 9617, 9618, 9621, 9622, 9623, 9624, 9625, 9628, 9629, 9630, 9632, 9633, 9634, 9635, 9636, 9639, 9640, 9641, 9642, 9643, 9648, 9650, 9651, 9654, 9655, 9656, 9657, 9659, 9661, 9663, 9664, 10433, 10435, 10438, 10442, 10443, 10444, 10446, 10447, 10451, 10453, 10461, 10462, 10465, 10467, 10470, 10472, 10473, 10481, 10482, 10483, 10486, 10488, 10489, 10490, 10493, 10497, 10498, 10499, 10500, 10501, 10503, 10505, 10506, 10507, 10508, 10510, 10514, 10516, 10518, 10521, 10524, 10526, 10531, 10532, 10533, 10536, 10538, 10540, 10541, 10543, 10544, 10545, 10546, 10547, 10548, 10549, 10551, 10552, 10553, 10554, 10558, 10559, 10561, 10562, 10563, 10564, 10567, 10568, 10571, 10572, 10575, 10578, 10581, 10582, 10583, 10586, 10587, 10588, 10589, 10591, 10595, 10599, 10600, 10603, 10606, 10607, 10609, 10610, 10611, 10613, 10614, 10615, 10616, 10617, 10618, 10620, 10622, 10624, 10625, 10626, 10629, 10631, 10633, 10639, 10644, 10650, 10656, 10657, 10658, 10659, 10660, 10661, 10664, 10665, 10666, 10668, 10670, 10671, 10672, 10674, 10676, 10677, 10679, 10683, 10814, 10816, 10818, 10820, 8803, 8806, 8807, 8810, 8813, 8814, 8818, 8821, 8829, 8831, 8832, 8833, 8834, 8835, 8836, 8837, 8838, 8842, 8843, 8845, 8846, 8849, 8853, 8854, 8858, 8859, 8862, 8863, 8865, 8868, 8871, 8872, 8874, 8875, 8876, 8877, 8879, 8881, 8882, 8884, 8885, 9669, 9671, 9673, 9674, 9675, 9676, 9678, 9679, 9680, 9681, 9683, 9685, 9686, 9687, 9688, 9693, 9696, 9697, 9701, 9702, 9703, 10200, 10201, 10202, 10204, 10205, 10207, 10209, 10214, 10215, 10216, 10217, 10220, 10221, 10223, 10229, 10231, 10233, 10234, 10235, 10237, 10241, 10242, 10243, 10244, 10247, 10248, 10249, 10252, 10253, 10254, 10256, 10257, 10258, 10259, 10263, 10264, 10268, 10271, 10273, 10274, 10276, 10277, 10278, 10280, 10281, 10282, 10285, 10287, 10288, 10293, 10295, 10297, 10302, 10304, 10307, 10310, 10312, 10313, 10314, 10315, 10316, 10317, 10318, 10319, 10320, 10322, 10323, 9705, 9706, 9708, 9709, 9713, 9714, 9716, 9721, 9722, 9723, 9725, 9726, 9729, 9730, 9732, 9734, 9735, 9736, 9737, 9738, 9741, 9744, 9745, 9746, 9747, 9748, 9749, 9750, 9752, 9753, 9754, 9755, 9756, 9758, 9759, 9760, 9761, 9762, 9763, 9768, 9771, 9774, 9775, 9776, 9785, 9786, 9787, 9789, 9791, 9793, 9795, 9798, 9799, 9800, 9803, 9805, 9807, 9809, 9810, 9814, 9815, 9816, 9818, 9819, 9820, 9821, 9825, 9829, 9832, 9833, 9834, 9836, 9838, 9839, 9840, 9843, 9848, 9851, 9852, 9854, 9856, 9857, 9858, 9859, 9861, 9863, 9864, 9865, 9866, 9868, 9869, 9870, 9872, 9875, 9876, 9879, 9882, 9883, 9884, 9885, 9891, 9892, 9894, 9896, 9901, 9905, 9906, 9908, 9909, 9911, 9912, 9913, 9916, 9917, 9918, 9926, 9927, 9928, 9930, 9931, 9932, 9933, 9935, 9936, 9941, 9943, 9944, 9946, 9947, 9950, 9952, 9955, 9957, 9958, 9960, 9963, 9964, 9966, 9969, 9970, 9972, 9973, 9974, 9975, 9976, 9977, 9980, 9983, 9986, 9987, 9988, 9993, 9994, 9995, 9996, 9998, 9999, 10000, 10001, 10002, 10003, 10004, 10012, 10014, 10015, 10016, 10019, 10020, 10021, 10022, 10023, 10024, 10029, 10030, 10032, 10035, 10037, 10039, 10041, 10042, 10043, 10174, 10175, 10177, 10179, 10180, 10181, 10184, 10185, 10186, 10187, 10188, 10189, 10190, 10191, 10193, 10196, 10939, 10941, 10942, 10943, 10945, 10947, 10950, 10952, 10956, 10957, 10961, 10962, 10964, 10965, 10966, 10967, 10969, 10971, 10973, 10975, 10977, 10978, 10980, 10983, 10984, 10985, 10987, 10988, 10989, 10990, 10995, 10997, 11003, 11006, 11008, 11009, 11011, 11012, 11014, 11015, 11016, 11017, 11018, 11019, 11020, 11021, 11022, 11025, 11026, 11027, 11029, 11030, 11033, 11036, 11039, 11040, 11041, 11042, 11043, 11045, 11046, 11048, 11050, 11051, 11053, 11054, 11055, 11056, 11057, 11060, 11062, 11064, 11065, 11067, 11068, 11070, 11071, 11072, 11196, 11198, 11199, 11200, 11202, 11203, 11204, 11205, 11206, 11208, 11209, 11210, 11211, 11212, 11213, 11214, 11215, 11216, 11217, 11218, 11222, 11223, 11226, 11227, 11228, 11231, 11232, 11234, 11235, 11238, 11244, 11246, 11247, 11249, 11251, 11253, 11254, 11256, 11257, 11260, 11261, 11262, 11264, 11265, 11267, 11269, 11270, 11271, 11272, 11274, 11276, 11278, 11280, 11282, 11283, 11284, 11285, 11286, 11290, 11292, 11293, 11295, 11296, 11300, 11301, 11302, 11304, 11305, 11306, 11307, 11308, 11309, 11310, 11311, 11312, 10324, 10325, 10326, 10327, 10329, 10330, 10334, 10336, 10337, 10342, 10343, 10344, 10345, 10346, 10347, 10354, 10355, 10356, 10357, 10358, 10360, 10363, 10364, 10366, 10367, 10369, 10371, 10372, 10374, 10376, 10378, 10380, 10381, 10386, 10387, 10391, 10392, 10393, 10394, 10398, 10400, 10401, 10403, 10405, 10406, 10408, 10409, 10410, 10412, 10413, 10414, 10416, 10417, 10419, 10420, 10421, 10422, 10424, 10425, 10429, 10430, 10049, 10051, 10052, 10058, 10059, 10060, 10064, 10066, 10067, 10068, 10071, 10072, 10073, 10074, 10076, 10079, 10080, 10081, 10082, 10087, 10088, 10089, 10090, 10091, 10092, 10093, 10094, 10096, 10097, 10100, 10101, 10102, 10105, 10106, 10108, 10109, 10110, 10115, 10119, 10120, 10122, 10128, 10130, 10131, 10133, 10137, 11771, 11773, 11774, 11775, 11776, 11779, 11780, 11783, 11784, 11785, 11786, 11788, 11794, 11795, 11801, 11802, 11803, 11805, 11806, 11808, 11809, 11811, 11813, 11816, 11818, 11819, 11820, 11823, 11825, 11826, 11827, 11828, 11829, 11830, 11832, 11836, 11838, 11843, 11844, 11845, 11848, 11849, 11850, 11852, 11853, 11857, 11858, 11862, 11863, 11864, 11865, 11866, 11867, 11868, 11869, 11870, 11871, 11872, 11873, 11874, 11875, 11876, 11879, 11880, 11881, 11882, 11885, 11886, 11888, 11889, 11890, 11892, 11894, 11895, 11899, 11900, 12763, 12764, 12765, 12767, 12769, 12771, 12772, 12773, 12774, 12777, 12780, 12782, 12785, 12787, 12788, 12789, 12790, 12791, 12792, 12793, 12796, 12798, 12801, 12803, 12804, 12809, 12811, 12812, 12818, 12819, 12824, 12825, 12828, 12831, 12832, 12836, 12839, 12841, 12843, 12844, 12845, 12847, 12849, 12851, 12853, 12857, 12859, 12860, 12862, 12863, 12864, 12865, 12866, 12867, 12870, 12872, 12876, 12877, 12878, 12879, 12880, 12881, 12882, 12884, 12885, 12887, 12891, 12894, 12897, 12899, 12901, 12902, 12905, 12907, 12911, 12913, 12916, 12917, 12921, 12922, 12923, 12926, 12928, 12931, 12934, 12935, 12939, 12942, 12943, 12946, 12947, 12948, 12949, 12951, 12954, 12955, 13088, 13090, 13091, 13094, 13096, 13097, 13098, 13099, 13100, 13101, 13102, 13106, 13107, 13109, 13111, 13114, 13116, 13117, 13118, 13119, 13122, 13123, 13124, 13125, 13129, 13130, 13131, 13133, 12154, 12156, 12159, 12161, 12162, 12163, 12166, 12168, 12171, 12172, 12173, 12174, 12177, 12178, 12179, 12181, 12182, 12183, 12184, 12186, 12188, 12192, 12193, 12194, 12195, 12196, 12198, 12200, 12204, 12206, 12209, 12210, 12212, 12214, 12216, 12218, 12219, 12220, 12221, 12222, 12224, 12226, 12228, 12230, 12233, 12234, 12235, 12238, 12241, 12242, 12247, 12248, 12250, 12251, 12253, 12254, 12257, 12259, 12261, 12263, 12264, 12265, 12270, 12273, 12274, 12277, 12278, 12279, 12280, 12281, 12282, 12283, 12284, 12285, 12286, 12291, 12292, 12293, 12296, 12297, 12299, 12302, 12304, 12310, 12311, 12312, 12313, 12314, 12317, 12319, 11946, 11947, 11949, 11951, 11953, 11954, 11956, 11957, 11958, 11959, 11963, 11964, 11968, 11970, 11973, 11974, 11975, 11976, 11978, 11980, 11982, 11983, 11984, 11985, 11987, 11988, 11989, 11990, 11991, 11992, 11993, 11994, 11995, 11997, 11998, 11999, 12000, 12006, 12009, 12010, 12012, 12013, 12014, 12015, 12017, 12020, 12021, 12024, 12025, 12028, 12033, 12038, 12039, 12041, 12042, 12043, 12047, 12049, 12050, 12053, 12054, 12055, 12057, 12058, 12059, 12061, 12064, 12066, 12067, 12069, 12070, 12071, 11454, 11456, 11459, 11464, 11465, 11467, 11468, 11470, 11471, 11472, 11473, 11474, 11477, 11478, 11480, 11481, 11482, 11484, 11485, 11486, 11489, 11490, 11492, 11493, 11497, 11500, 11502, 11503, 11505, 11510, 11511, 11513, 11514, 11516, 11518, 11519, 11520, 11521, 11522, 11525, 11527, 11531, 11533, 11534, 11535, 11536, 11537, 11538, 11542, 11543, 11544, 11545, 11546, 11550, 11553, 11555, 11557, 11558, 11559, 11562, 11563, 11564, 11565, 11566, 11567, 11568, 11569, 12321, 12322, 12324, 12325, 12326, 12327, 12329, 12330, 12332, 12333, 12334, 12337, 12338, 12342, 12343, 12344, 12346, 12348, 12350, 12351, 12353, 10822, 10823, 10824, 10825, 10826, 10831, 10832, 10833, 10838, 10839, 10840, 10841, 10842, 10850, 10856, 10857, 10858, 10859, 10861, 10862, 10863, 10864, 10866, 10869, 10870, 10871, 10872, 10874, 10876, 10878, 10881, 10883, 10884, 10885, 10887, 10888, 10889, 10893, 10895, 10896, 10899, 10900, 10901, 10904, 10905, 10906, 10907, 10910, 10914, 10917, 10925, 10933, 10934, 10935, 10936, 11314, 11315, 11317, 11319, 11320, 11324, 11325, 11328, 11330, 11332, 11333, 11334, 11338, 11340, 11344, 11346, 11351, 11352, 11353, 11354, 11355, 11356, 11357, 11358, 11359, 11361, 11364, 11366, 11369, 11371, 11372, 11376, 11378, 11379, 11381, 11382, 11384, 11388, 11389, 11390, 11392, 11393, 11394, 11395, 11400, 11401, 11403, 11404, 11405, 11407, 11410, 11411, 11412, 11413, 11414, 11415, 11418, 11419, 11420, 11421, 11423, 11425, 11427, 11428, 11429, 11432, 11433, 11434, 11440, 11441, 11442, 11443, 11444, 11447, 11450, 11451, 11073, 11074, 11076, 11080, 11085, 11086, 11088, 11089, 11091, 11096, 11097, 11100, 11101, 11102, 11103, 11104, 11105, 11106, 11107, 11108, 11109, 11111, 11113, 11114, 11116, 11118, 11119, 11124, 11125, 11126, 11127, 11130, 11134, 11135, 11136, 11137, 11138, 11139, 11140, 11141, 11143, 11145, 11147, 11148, 11155, 11156, 11157, 11161, 11164, 11166, 11167, 11170, 11171, 11172, 11173, 11175, 11177, 11178, 11181, 11183, 11185, 11187, 11188, 11189, 11190, 11191, 11192, 11193, 11194, 11195, 10685, 10686, 10688, 10692, 10697, 10699, 10701, 10702, 10703, 10704, 10705, 10714, 10716, 10717, 10719, 10721, 10726, 10727, 10728, 10731, 10732, 10735, 10736, 10739, 10740, 10742, 10743, 10745, 10748, 10749, 10750, 10758, 10759, 10761, 10762, 10766, 10768, 10769, 10771, 10774, 10779, 10780, 11907, 11909, 11911, 11914, 11915, 11917, 11919, 11922, 11923, 11925, 11926, 11927, 11935, 11936, 11938, 11940, 11941, 11943, 11944, 12078, 12081, 12082, 12086, 12087, 12088, 12089, 12091, 12094, 12097, 12098, 12099, 12101, 12103, 12107, 12109, 12110, 12111, 12112, 12113, 12114, 12115, 12117, 12121, 12122, 12123, 12124, 12125, 12126, 12129, 12130, 12131, 12132, 12135, 12137, 12139, 12140, 12141, 12142, 12144, 12147, 12148, 12150, 10785, 10786, 10788, 10789, 10791, 10792, 10794, 10796, 10797, 10798, 10799, 10800, 10802, 10805, 10807, 10808, 10809, 10810, 10811, 10812, 11577, 11581, 11582, 11585, 11589, 11591, 11592, 11594, 11600, 11604, 11605, 11607, 11608, 11611, 11614, 11615, 11617, 11620, 11623, 11624, 11625, 11629, 11631, 11634, 11635, 11637, 11639, 11640, 11642, 11644, 11645, 11650, 11651, 11652, 11657, 11658, 11659, 11660, 11664, 11665, 11666, 11669, 11671, 11672, 11676, 11683, 11686, 11687, 11688, 11690, 11692, 11693, 11694, 11695, 11698, 11700, 11702, 11706, 11708, 11711, 11712, 11715, 11720, 11722, 11724, 11725, 11727, 11729, 11731, 11732, 11734, 11736, 11737, 11738, 11739, 11740, 11741, 11743, 11745, 11746, 11747, 11750, 11751, 11752, 11753, 11754, 11757, 11759, 11764, 11766, 11767, 11769, 11770, 13663, 13664, 13669, 13670, 13672, 13674, 13675, 13677, 13679, 13682, 13683, 13684, 13685, 13686, 13687, 13689, 13691, 13692, 13694, 13695, 13698, 13699, 13703, 13705, 13706, 13708, 13710, 13712, 13715, 13716, 13722, 13723, 13725, 13726, 13727, 13728, 13729, 13730, 13735, 13736, 13737, 13738, 13741, 13744, 14480, 14481, 14484, 14485, 14486, 14487, 14488, 14615, 14616, 14618, 14620, 14622, 14624, 14625, 14626, 14629, 14632, 14635, 14640, 14642, 14646, 14647, 14648, 14653, 14656, 14658, 14659, 14661, 14663, 14665, 14666, 14671, 14672, 14674, 14676, 14677, 14678, 14679, 14681, 14683, 14689, 14690, 14692, 14694, 14695, 14699, 14700, 14704, 14705, 14709, 14710, 14711, 14712, 14714, 14715, 14716, 14719, 14720, 14721, 14722, 14723, 14731, 14732, 14733, 14734, 14735, 14737, 14738, 14739, 14742, 14745, 14746, 14748, 14749, 14754, 14756, 14757, 14758, 14759, 14763, 14764, 14765, 14766, 14767, 14768, 14772, 14777, 14778, 14781, 14783, 14784, 14785, 14786, 14788, 14790, 14793, 14794, 14797, 14800, 14801, 14802, 14803, 14806, 14807, 14808, 14811, 14814, 14816, 14817, 14818, 14819, 14825, 14827, 14831, 14833, 14835, 14836, 14839, 14842, 14843, 14844, 14845, 14001, 14002, 14003, 14005, 14006, 14007, 14009, 14010, 14012, 14014, 14015, 14017, 14018, 14019, 14020, 14021, 14023, 14025, 14026, 14028, 14034, 14035, 14037, 14038, 14039, 14040, 14041, 14043, 14044, 14045, 14048, 14052, 14053, 14054, 14055, 14057, 14058, 14060, 14061, 14065, 14070, 14071, 14072, 14073, 14076, 14077, 14078, 14079, 14080, 14081, 12358, 12359, 12360, 12364, 12365, 12366, 12368, 12369, 12372, 12374, 12375, 12376, 12377, 12378, 12379, 12380, 12384, 12385, 12389, 12391, 12392, 12394, 12395, 12396, 12398, 12400, 12402, 12403, 12407, 12408, 12409, 12410, 12412, 12413, 12418, 12420, 12421, 12422, 12423, 12424, 12426, 12428, 12429, 12432, 12433, 12435, 12436, 12437, 12443, 12444, 12445, 12448, 12450, 12452, 12454, 12455, 12460, 12461, 12463, 12467, 12468, 12469, 12472, 12473, 12475, 12476, 12478, 12480, 12481, 12487, 12492, 12495, 12498, 12500, 12501, 12502, 12504, 12508, 12509, 12511, 12513, 12514, 12515, 12520, 12523, 12526, 12530, 12531, 12532, 12533, 12535, 12536, 12537, 12540, 12541, 12543, 12544, 12547, 12549, 12550, 12553, 12559, 12560, 12561, 12564, 12568, 12569, 12571, 12572, 12573, 12574, 12575, 12576, 12577, 12709, 12713, 12715, 12716, 12717, 12718, 12720, 12724, 12727, 12731, 12733, 12735, 12736, 12737, 12739, 12740, 12743, 12745, 12746, 12750, 12752, 12754, 12755, 12757, 12758, 12760, 13137, 13138, 13139, 13141, 13142, 13143, 13144, 13146, 13147, 13148, 13149, 13151, 13153, 13156, 13157, 13160, 13162, 13163, 13164, 13165, 13166, 13167, 13171, 13172, 13173, 13176, 13177, 13179, 13180, 13182, 13183, 13185, 13188, 13190, 13191, 13194, 13195, 13196, 13197, 13201, 13202, 13204, 13205, 13206, 13207, 13208, 13211, 13212, 13213, 13215, 13216, 13217, 13218, 13224, 13225, 13227, 13229, 13231, 13233, 13234, 13236, 13237, 13238, 13239, 13241, 13242, 13243, 13248, 13249, 13250, 13253, 13256, 13257, 13258, 13261, 13266, 13267, 13271, 13273, 13278, 13279, 13280, 13281, 13283, 13284, 13288, 13290, 13294, 13295, 13296, 13297, 13298, 13299, 13301, 13302, 13303, 13305, 13306, 13308, 13309, 13314, 13317, 13320, 13322, 13323, 13324, 13325, 13328, 13330, 13333, 13338, 13340, 13341, 13342, 13344, 13345, 13346, 13347, 12958, 12962, 12965, 12967, 12968, 12971, 12976, 12978, 12981, 12982, 12983, 12987, 12989, 12990, 12991, 12992, 12995, 12996, 13000, 13002, 13005, 13006, 13008, 13009, 13012, 13013, 13015, 13017, 13023, 13025, 13026, 13031, 13032, 13033, 13037, 13043, 13045, 13047, 13048, 13051, 13052, 13053, 13054, 13056, 13060, 13061, 13062, 13064, 13065, 13069, 13070, 13071, 13073, 13075, 13076, 13079, 13082, 13083, 13085, 13086, 12578, 12581, 12582, 12583, 12584, 12585, 12587, 12588, 12592, 12596, 12597, 12599, 12600, 12601, 12603, 12606, 12607, 12608, 12609, 12612, 13748, 13752, 13753, 13756, 13757, 13759, 13760, 13762, 13764, 13766, 13767, 13770, 13772, 13773, 13775, 13776, 13777, 13778, 13780, 13781, 13782, 13786, 13787, 13788, 13789, 13790, 13791, 13793, 13795, 13796, 13798, 13800, 13804, 13807, 13809, 13813, 13814, 13815, 13818, 13819, 13820, 13821, 13822, 13824, 13825, 13831, 13832, 13834, 13836, 13838, 13839, 13840, 13841, 13842, 13843, 13844, 13848, 13850, 13852, 13855, 13857, 13858, 13859, 13988, 13992, 13995, 13996, 13997, 13999, 12613, 12615, 12616, 12617, 12618, 12619, 12620, 12621, 12622, 12623, 12625, 12628, 12630, 12635, 12636, 12637, 12638, 12639, 12640, 12642, 12643, 12648, 12650, 12652, 12653, 12655, 12656, 12660, 12663, 12664, 12666, 12667, 12668, 12669, 12670, 12671, 12672, 12673, 12675, 12676, 12677, 12679, 12680, 12683, 12684, 12686, 12688, 12689, 12690, 12691, 12693, 12694, 12697, 12702, 12703, 12704, 12705, 13480, 13483, 13485, 13487, 13489, 13491, 13492, 13493, 13494, 13497, 13498, 13499, 13500, 13501, 13502, 13503, 13507, 13508, 13509, 13510, 13512, 13513, 13515, 13516, 13517, 13518, 13519, 13521, 13526, 13529, 13530, 13531, 13534, 13535, 13538, 13540, 13541, 13543, 13544, 13545, 13547, 13549, 13551, 13553, 13555, 13556, 13557, 13561, 13562, 13563, 13566, 13567, 13568, 13571, 13572, 13573, 13575, 13577, 13578, 13579, 13581, 13583, 13584, 13585, 13587, 13590, 13591, 13595, 13597, 13598, 13599, 13600, 13603, 13606, 13607, 13608, 13617, 13618, 13619, 13620, 13623, 13624, 13625, 13626, 13627, 13628, 13629, 13634, 13635, 13636, 13637, 13638, 13641, 13643, 13644, 13645, 13647, 13649, 13652, 13653, 13659, 13660, 13662, 22754, 22757, 22758, 22759, 22761, 22763, 22765, 22766, 22772, 22775, 22776, 22780, 22782, 22786, 22787, 22788, 22792, 22794, 22798, 22799, 22800, 22801, 22802, 22803, 22804, 22805, 22806, 22809, 21242, 21244, 21246, 21247, 21250, 21253, 21254, 21257, 21258, 21266, 21267, 21269, 21270, 21271, 21273, 21274, 21275, 21279, 21280, 21282, 21283, 21286, 21288, 21289, 21290, 21291, 21293, 21294, 21296, 21297, 21299, 21302, 21305, 21306, 21308, 21315, 21316, 21320, 21323, 21324, 21326, 21331, 21332, 21334, 21335, 21337, 21339, 21341, 21342, 21343, 21344, 21345, 21346, 21349, 21350, 21351, 21354, 21355, 15960, 15961, 15962, 15963, 15964, 15970, 15971, 15972, 15974, 15975, 15978, 15980, 15981, 15982, 15986, 15987, 15990, 15991, 15992, 15994, 15995, 15996, 15997, 15998, 16000, 16001, 16002, 16003, 16004, 16005, 16006, 17891, 17892, 17893, 17894, 17895, 17897, 17899, 17901, 17903, 17905, 17907, 17908, 17909, 17911, 17912, 17913, 17914, 17915, 17916, 17918, 17919, 17920, 17928, 17930, 17932, 17933, 17934, 17935, 17936, 17943, 17945, 17946, 17947, 17949, 17952, 17954, 17955, 17956, 17957, 17959, 17960, 17961, 17962, 17964, 16393, 16395, 16396, 16399, 16402, 16406, 16412, 16413, 16416, 16418, 16420, 16421, 16422, 16423, 16426, 16427, 16428, 16432, 16433, 16434, 16435, 16442, 16443, 16444, 16445, 16447, 16448, 16449, 16450, 16451, 16452, 16453, 16454, 16456, 16458, 16459, 16460, 16461, 16462, 16463, 16464, 16468, 16470, 16476, 16481, 16483, 16485, 16488, 16489, 16493, 16494, 16495, 16496, 16498, 16499, 16500, 16501, 18408, 18409, 18411, 22813, 22814, 22815, 22816, 22821, 22822, 22823, 22824, 22825, 22826, 22828, 22833, 22834, 22835, 22836, 22839, 22840, 22844, 22846, 22847, 22849, 22852, 22853, 22854, 22855, 22856, 22859, 22861, 22862, 22864, 22865, 22866, 22868, 22869, 22871, 22874, 16879, 16880, 16881, 16882, 16883, 16885, 16886, 16887, 16895, 16897, 16901, 16902, 16903, 16904, 16909, 16912, 16913, 16914, 16916, 16917, 16918, 16921, 16922, 16926, 16927, 16928, 16932, 16933, 16935, 16937, 21356, 21358, 21359, 15377, 15378, 15383, 15385, 15387, 15392, 15394, 15401, 15404, 15406, 15407, 15408, 15409, 15412, 15414, 15415, 15416, 15419, 15420, 15421, 15424, 15425, 15427, 15429, 15430, 15432, 15433, 15434, 15438, 15439, 15440, 15442, 15443, 15449, 15450, 15452, 15453, 15454, 15456, 15461, 15462, 15465, 15466, 15472, 15474, 15475, 15476, 15479, 15480, 15481, 15482, 15483, 15486, 15488, 15490, 17968, 17969, 17971, 17972, 17973, 17974, 17976, 17978, 17981, 17983, 17985, 17986, 17987, 17988, 17989, 17990, 17991, 17992, 17993, 17994, 17995, 17998, 18000, 18001, 18002, 18004, 18005, 18006, 18008, 18009, 18011, 18012, 18015, 18018, 19830, 19832, 19833, 19835, 19839, 19840, 19841, 19843, 19845, 19846, 19847, 19849, 19850, 19851, 19852, 19855, 19857, 19859, 19864, 19865, 19868, 19869, 19870, 19871, 19879, 19880, 19883, 19885, 19886, 19888, 19889, 19894, 19897, 18413, 18416, 18417, 18418, 18422, 18423, 18424, 18426, 18430, 18431, 18435, 18436, 18438, 18439, 18440, 18443, 18444, 18445, 18446, 18447, 18448, 18449, 18450, 18454, 18457, 18458, 14083, 14086, 14087, 14088, 14091, 14093, 14097, 14099, 14100, 14101, 14103, 14104, 14106, 14108, 14109, 14113, 14115, 14116, 14118, 14119, 14123, 14126, 14128, 14129, 14130, 14133, 14136, 14138, 14139, 14140, 14141, 14143, 14147, 14152, 14153, 14154, 14155, 14156, 14157, 14158, 14161, 14165, 14167, 14169, 14170, 14172, 14174, 14176, 14177, 14178, 14179, 14181, 14183, 14188, 14189, 14191, 14192, 14193, 14194, 14195, 14196, 14197, 14199, 14202, 14203, 14207, 14208, 14209, 14210, 14215, 14216, 14217, 14218, 14219, 14222, 14225, 14227, 14228, 14233, 14234, 13861, 13862, 13867, 13870, 13871, 13872, 13874, 13878, 13883, 13885, 13886, 13887, 13890, 13891, 13894, 13897, 13898, 13899, 13902, 13903, 13909, 13910, 13912, 13916, 13920, 13922, 13923, 13924, 13927, 13929, 13930, 13931, 13932, 13934, 13936, 13938, 13939, 13941, 13943, 13947, 13948, 13949, 13951, 13954, 13956, 13958, 13961, 13963, 13966, 13968, 13969, 13970, 13971, 13972, 13973, 13974, 13975, 13976, 13977, 13978, 13980, 13981, 13982, 13984, 13985, 13986, 13349, 13350, 13357, 13359, 13362, 13365, 13367, 13368, 13369, 13372, 13373, 13375, 13376, 13378, 13379, 13384, 13385, 13387, 13388, 13391, 13392, 13393, 13396, 13400, 13401, 13403, 13405, 13406, 13410, 13411, 13413, 13414, 13415, 13416, 13419, 13421, 13425, 13426, 13428, 13429, 13430, 13435, 13439, 13441, 13443, 13445, 13447, 13448, 13449, 13451, 13452, 13454, 13457, 13458, 13462, 13464, 13465, 13468, 13474, 13476, 13477, 14236, 14238, 14241, 14242, 14243, 14244, 14245, 14247, 14248, 14249, 14252, 14254, 14257, 14258, 14260, 14262, 14263, 14264, 14265, 14266, 14272, 14273, 14276, 14279, 14283, 14284, 14285, 14287, 14289, 14290, 14292, 14293, 14294, 14295, 14299, 14301, 14302, 14303, 14309, 14310, 14312, 14313, 14314, 14315, 14316, 14319, 14322, 14323, 14324, 14328, 14329, 14330, 14331, 14336, 14337, 14338, 14340, 14341, 14342, 14343, 14344, 14345, 14346, 14347, 14348, 14349, 14350, 14353, 14355, 14356, 14357, 14358, 14359, 14361, 14362, 14366, 14367, 14369, 14371, 14372, 14373, 14374, 14375, 14377, 14380, 14382, 14383, 14385, 14390, 14391, 14393, 14394, 14395, 14398, 14399, 14400, 14401, 14403, 14404, 14406, 14412, 14414, 14416, 14418, 14420, 14421, 14422, 14423, 14425, 14427, 14430, 14431, 14434, 14435, 14438, 14439, 14440, 14443, 14448, 14449, 14454, 14455, 14459, 14460, 14463, 14466, 14468, 14470, 14471, 14472, 14474, 14477, 14478, 22253, 22255, 22256, 22258, 22260, 22262, 22263, 22265, 22266, 22267, 22268, 22269, 22270, 22272, 22273, 22274, 22275, 22276, 22281, 22283, 22285, 22287, 22288, 22289, 22296, 22298, 22299, 22301, 22303, 22307, 22308, 22309, 22310, 22311, 22314, 22316, 22317, 22318, 22319, 22320, 22322, 22323, 22329, 22332, 22333, 22335, 22336, 22337, 22338, 22339, 22340, 22341, 22344, 22346, 22351, 22352, 22353, 22354, 22355, 22358, 22361, 22362, 22364, 22365, 22366, 22368, 16380, 16381, 16386, 16387, 20804, 20805, 20806, 20807, 20808, 20810, 20811, 20813, 20814, 20816, 20821, 20822, 20824, 20827, 20829, 20830, 20832, 20833, 20836, 20837, 20838, 20840, 20844, 20846, 20848, 20851, 20853, 20854, 20855, 20856, 20857, 20859, 20860, 20861, 22750, 22752, 23229, 23231, 23232, 23233, 23236, 23238, 23241, 23242, 23243, 20913, 20915, 20916, 20917, 20918, 20920, 20921, 20923, 20925, 20932, 20933, 20936, 20937, 20938, 20939, 20940, 20942, 20943, 20945, 20949, 20950, 20951, 20953, 20954, 20956, 20960, 20963, 20964, 20966, 20968, 20975, 20976, 20978, 20979, 20982, 20985, 20986, 20987, 22508, 22510, 22511, 22513, 22515, 22517, 22522, 22523, 22525, 22527, 22528, 22533, 22534, 22535, 22537, 22538, 22542, 22543, 19553, 19554, 19555, 19556, 19557, 19564, 19565, 19566, 19568, 19569, 21365, 21367, 21368, 21372, 21373, 21374, 21375, 21376, 21378, 21379, 21380, 21386, 21389, 21393, 21394, 21398, 21401, 21402, 21404, 21405, 21408, 21411, 21412, 21413, 21414, 21416, 21417, 21418, 21419, 21420, 21421, 21423, 21424, 21425, 21426, 21427, 21428, 21429, 21430, 21431, 21432, 21434, 21435, 21436, 21439, 21440, 21442, 21444, 21446, 21448, 21449, 21459, 21461, 21463, 16067, 16068, 16069, 16073, 16075, 16076, 16077, 16078, 16079, 16081, 16084, 16085, 16091, 16092, 16093, 16094, 16096, 16100, 16102, 16103, 16104, 16105, 16107, 16108, 16109, 16110, 16111, 16112, 16115, 16116, 16118, 16120, 16123, 16124, 16125, 16126, 16129, 16130, 16131, 16132, 18019, 18021, 18023, 18024, 18026, 18027, 18029, 18030, 18031, 18032, 18034, 18035, 18041, 18042, 18043, 18046, 18047, 18048, 18052, 18054, 18056, 18057, 18060, 18061, 18062, 18063, 18065, 18067, 18068, 18069, 23248, 23249, 23251, 23252, 16503, 16507, 16508, 16511, 16515, 16516, 16520, 16521, 16522, 16523, 16524, 16526, 18459, 18460, 18461, 18462, 18464, 18466, 18468, 18469, 18471, 18472, 18473, 18477, 18480, 18483, 18484, 18485, 18487, 18488, 18489, 18490, 18491, 18493, 18495, 18496, 18497, 18498, 18499, 18503, 18505, 18506, 18507, 18510, 18511, 18513, 18514, 18515, 18516, 18517, 18519, 18524, 18526, 18527, 18529, 18531, 18533, 18535, 16938, 16939, 16941, 16943, 16944, 16945, 16947, 16948, 16949, 16952, 16954, 16958, 16959, 16960, 16961, 16963, 16966, 16967, 16972, 16977, 16979, 16981, 16982, 16983, 16984, 16987, 16988, 16989, 16990, 16992, 16996, 16997, 16999, 17001, 18927, 18928, 18930, 18931, 18936, 18937, 18938, 18940, 18942, 18945, 18946, 18951, 18952, 18953, 18956, 18958, 18960, 18961, 18964, 18965, 18968, 18971, 18973, 18974, 18975, 18978, 18979, 15491, 15494, 17382, 17383, 17385, 17386, 17387, 17389, 17390, 17393, 17396, 17397, 17398, 17401, 17403, 17405, 17407, 17408, 17410, 17412, 17413, 17414, 17419, 17422, 17423, 17424, 17425, 17426, 17427, 17429, 17431, 17433, 17434, 17440, 17442, 17443, 17445, 17446, 17447, 17450, 17451, 17456, 17457, 17459, 17461, 17465, 17468, 17469, 17472, 17474, 17475, 17476, 17478, 17484, 17485, 17487, 17490, 17491, 17492, 19898, 19901, 19902, 19903, 19905, 19907, 19908, 19910, 19913, 19914, 19917, 19919, 19922, 19924, 19927, 19929, 19935, 19938, 19945, 19946, 19949, 19950, 19953, 19955, 21860, 21861, 21863, 21865, 21867, 21873, 21875, 21876, 21882, 21883, 21887, 21888, 21889, 21890, 21891, 21893, 21895, 21896, 21898, 21902, 21905, 21906, 21910, 21911, 21914, 21915, 21916, 21917, 21923, 20346, 20348, 20350, 20352, 20353, 20360, 20362, 20366, 20367, 20368, 20372, 20373, 20374, 20375, 20378, 20379, 20380, 20384, 20386, 20387, 20388, 20389, 20391, 20393, 20394, 20400, 20405, 20406, 20408, 20409, 20411, 20412, 20413, 20414, 20416, 20418, 20420, 20421, 20422, 20427, 20429, 20430, 20431, 20432, 20434, 20436, 20437, 20438, 20441, 20442, 20445, 20447, 20450, 20451, 20455, 20456, 20458, 20460, 20461, 20462, 18983, 18984, 18988, 18992, 18994, 18995, 18996, 18997, 18999, 19000, 19002, 19004, 19006, 19007, 19008, 19009, 19011, 19012, 19013, 19016, 19017, 19020, 19021, 19022, 19024, 19025, 19026, 19028, 19030, 19031, 19033, 19035, 19036, 19037, 19038, 19039, 19043, 19045, 19046, 19047, 19049, 20865, 20867, 20870, 20872, 20873, 20874, 20875, 20876, 20877, 20878, 20884, 20885, 20886, 20887, 20888, 20889, 20890, 20891, 20896, 20897, 20898, 20899, 20901, 20902, 20903, 20904, 20908, 20909, 20910, 20911, 17496, 17499, 17500, 17503, 17506, 17507, 17510, 19440, 19442, 19445, 19447, 19449, 19452, 19455, 19456, 19458, 19463, 19467, 19472, 19473, 19477, 19478, 19482, 19484, 19485, 19486, 19487, 19488, 19489, 19491, 19494, 19496, 19497, 19499, 19500, 19501, 19502, 19503, 19506, 19508, 19509, 19510, 19511, 19513, 19515, 19516, 19523, 19526, 19527, 19530, 19531, 19534, 19535, 19537, 19538, 19539, 19541, 19544, 19545, 19546, 19548, 19549, 19552, 21924, 21926, 21927, 21928, 21929, 21931, 21933, 21935, 21936, 21937, 21938, 21940, 21941, 21942, 21944, 21945, 21947, 21950, 21951, 21954, 21955, 21957, 21963, 21966, 21967, 21968, 21969, 21972, 21973, 21974, 21975, 21976, 21977, 21978, 21979, 21980, 21984, 16008, 16009, 16010, 16011, 16014, 16016, 16017, 16021, 16022, 16026, 16028, 16029, 16030, 16033, 16034, 16035, 16039, 16042, 16043, 16045, 16046, 16053, 16057, 16060, 16062, 16063, 16064, 16066, 20471, 20473, 23126, 23127, 23138, 23139, 23140, 23141, 23143, 23145, 23146, 23148, 23150, 23152, 23154, 23156, 23157, 23159, 23160, 23161, 23162, 23163, 23164, 23169, 23170, 23174, 23175, 23176, 23177, 23179, 23180, 23183, 23186, 23187, 23188, 23189, 23191, 23192, 23193, 23194, 23195, 23198, 23199, 23201, 23202, 23205, 23207, 23208, 23209, 23211, 23212, 23214, 23215, 23218, 23219, 23221, 23222, 23225, 23226, 23228, 20017, 20018, 20021, 20023, 20024, 20030, 20032, 20033, 20039, 20041, 20042, 20046, 20049, 20050, 20051, 20053, 20054, 20057, 20059, 20060, 20062, 20063, 20064, 20067, 20073, 20075, 20076, 20077, 20078, 20085, 20087, 21985, 21988, 21992, 21995, 21996, 22004, 22005, 22008, 22012, 22015, 22019, 22021, 22023, 22027, 22028, 22030, 18649, 18653, 18654, 18655, 18656, 18658, 18659, 18660, 18662, 18664, 18665, 20474, 20476, 20479, 20481, 20483, 20484, 20488, 20489, 20490, 20491, 20492, 20493, 20495, 20496, 20503, 20512, 20513, 20523, 20524, 20525, 20532, 20534, 20535, 20537, 20538, 20540, 20541, 20546, 20547, 20553, 20555, 20558, 20559, 20562, 20563, 20567, 20568, 20569, 20571, 20572, 20575, 20576, 20577, 20579, 19094, 19097, 19098, 19100, 19103, 19104, 19105, 19108, 19110, 19111, 19112, 19115, 19116, 19117, 19120, 19124, 19127, 19130, 19135, 19137, 19139, 19141, 19142, 19143, 19144, 19148, 19149, 19154, 19155, 19156, 19158, 19159, 19161, 19163, 19164, 19166, 19167, 19168, 19171, 19172, 19173, 19174, 19175, 19176, 19177, 19180, 19182, 19183, 19184, 19185, 20990, 20992, 20993, 20994, 20997, 20998, 20999, 21000, 21001, 21002, 21003, 21009, 21010, 21011, 21012, 21013, 21014, 21015, 21016, 21017, 21019, 21465, 21466, 21468, 21469, 21470, 21473, 21477, 21480, 21481, 21482, 21483, 21484, 15503, 15508, 15511, 15513, 15514, 15515, 15518, 15521, 15525, 15526, 15528, 15530, 15531, 15533, 15536, 15537, 15538, 15539, 15544, 15545, 15546, 15549, 15550, 15551, 15552, 15554, 15559, 15560, 15562, 15563, 15564, 15565, 15566, 15567, 15568, 15569, 15571, 15573, 15574, 15575, 15577, 15578, 15580, 15581, 15583, 15586, 15588, 15589, 15591, 15592, 15594, 15595, 15596, 15598, 15600, 22032, 22034, 22037, 22038, 22039, 22040, 22043, 22044, 22045, 22049, 22050, 22053, 22054, 22055, 22056, 22057, 22058, 22060, 22065, 22066, 22067, 22069, 22070, 22071, 22072, 22076, 22078, 22079, 22080, 22082, 22083, 22085, 22087, 22088, 22089, 22091, 22094, 22096, 22100, 22104, 22105, 22107, 22109, 22110, 22112, 22113, 16136, 16141, 16145, 16147, 16149, 16152, 16154, 16156, 16159, 16160, 16161, 16164, 16165, 16167, 16170, 16172, 16173, 20580, 20581, 20583, 20586, 20587, 20589, 20590, 20591, 20592, 20594, 20595, 20596, 20597, 20598, 20600, 20601, 22370, 22372, 22373, 22376, 22377, 22380, 22382, 22383, 22385, 22386, 22387, 22390, 22391, 22392, 22393, 22394, 22395, 22397, 22401, 22402, 22408, 22410, 22412, 22414, 22416, 22417, 22419, 22420, 22421, 22423, 22424, 22425, 22426, 22428, 22432, 22436, 22437, 22439, 22441, 22442, 22443, 22445, 22450, 22453, 22456, 22457, 22462, 22463, 22464, 22465, 22467, 21026, 21027, 21028, 21029, 21033, 21036, 21038, 21040, 21041, 21042, 21043, 21045, 21046, 21047, 21048, 21050, 21053, 21054, 21058, 21059, 21060, 21063, 21067, 21068, 21069, 21071, 21072, 21075, 21078, 21082, 21084, 21085, 21086, 21087, 21088, 21089, 21091, 21092, 21094, 21096, 21099, 21107, 21108, 21112, 21113, 23001, 23002, 23003, 23005, 23008, 23009, 23012, 23013, 23014, 23015, 16527, 16528, 16529, 16533, 16534, 16535, 16536, 16537, 16539, 16542, 16543, 16545, 16546, 16547, 16548, 16550, 16555, 16556, 16557, 16558, 16559, 16561, 16563, 16565, 16566, 16567, 16571, 16572, 16580, 16584, 16585, 16589, 16590, 16593, 16598, 16603, 16604, 16605, 16607, 16611, 16613, 16616, 22544, 22549, 22551, 22552, 22553, 22554, 22557, 22559, 22564, 22566, 22569, 22571, 22572, 22573, 22575, 22576, 22577, 22578, 22579, 22580, 22581, 22583, 22584, 22587, 22588, 22589, 22590, 22591, 22592, 22594, 22596, 22602, 22603, 22604, 22609, 22610, 22613, 22614, 22616, 22617, 22620, 22621, 22622, 22623, 17003, 17005, 17006, 17009, 17010, 17011, 17013, 17014, 17015, 17017, 17018, 17019, 17022, 17024, 17025, 17027, 17030, 17031, 17033, 17034, 17038, 17040, 17041, 17045, 15601, 15603, 15605, 15607, 15608, 15609, 15610, 15614, 15616, 15618, 15619, 15620, 15627, 17511, 17513, 17515, 17516, 17518, 17526, 17528, 17529, 17530, 17531, 17532, 17534, 17535, 17537, 17538, 17539, 17540, 17546, 17547, 17548, 17551, 17552, 17553, 17554, 17556, 17560, 17562, 17565, 17569, 17570, 17571, 17573, 17574, 17575, 17576, 17577, 17578, 17580, 17584, 17586, 17587, 17591, 17592, 17597, 17598, 17599, 17600, 17603, 17604, 17606, 18071, 18072, 18073, 18074, 18075, 18076, 18077, 18078, 18079, 18080, 18083, 18084, 18085, 18086, 18088, 18090, 18092, 18093, 18095, 18096, 18097, 18098, 18099, 18100, 18101, 18104, 18107, 18109, 18113, 18114, 18117, 18120, 18121, 18122, 18124, 18128, 18129, 18131, 18132, 18134, 18135, 18138, 18140, 19958, 19959, 19960, 19962, 19963, 19965, 19966, 19967, 19969, 19972, 19973, 19974, 19975, 19978, 19979, 19985, 19987, 19988, 19990, 19991, 19992, 19993, 19994, 19996, 19997, 19998, 19999, 20000, 20001, 20004, 20006, 20008, 16617, 16618, 16619, 16620, 16623, 16625, 16627, 18537, 18540, 18541, 18543, 18545, 18547, 18548, 18549, 18550, 18555, 18556, 18558, 18559, 18560, 18564, 18565, 18566, 18567, 18568, 18571, 18572, 18573, 18576, 18578, 18579, 18580, 18582, 18583, 18584, 18586, 18587, 18589, 18590, 18591, 18592, 18593, 18594, 18597, 18598, 18599, 18601, 18602, 18605, 18606, 18607, 18608, 18609, 18610, 18611, 18615, 18616, 18617, 18619, 18621, 18622, 18623, 18626, 18629, 18635, 18636, 18637, 18638, 18642, 18645, 18646, 17046, 17047, 17049, 17050, 17051, 17055, 17059, 17060, 17061, 17062, 17065, 17067, 17072, 17073, 17074, 17075, 17077, 17078, 17079, 17080, 17081, 17082, 17083, 17085, 17087, 17092, 17093, 17095, 17098, 17099, 17102, 17105, 17107, 17108, 17110, 17114, 17115, 17116, 17117, 17120, 17121, 17123, 17126, 17127, 17128, 17129, 17130, 17131, 19055, 19057, 19058, 19060, 19061, 19064, 19070, 19071, 19073, 19075, 19077, 19078, 19079, 19081, 19085, 19087, 19088, 19091, 19668, 19670, 19674, 19677, 19679, 19683, 19688, 19690, 19692, 19697, 19698, 19699, 19700, 21487, 21490, 21493, 21494, 21495, 21496, 21498, 21501, 21503, 21504, 21505, 21509, 21512, 21514, 21516, 21518, 21519, 21520, 21521, 21524, 21525, 21527, 21530, 21531, 21533, 21536, 21537, 21538, 21539, 21540, 21541, 21542, 21543, 21548, 21549, 21550, 21552, 21554, 21561, 21562, 21568, 21572, 20009, 20012, 20014, 20015, 20016, 15147, 15148, 15150, 15153, 15156, 15158, 15159, 15165, 15166, 15170, 15171, 15173, 15179, 15182, 15185, 15187, 15190, 15193, 15194, 15195, 15196, 15202, 15203, 15206, 15207, 15208, 15212, 15214, 15217, 15218, 20123, 20124, 20126, 20127, 20128, 20130, 20134, 20135, 20137, 20140, 20141, 20142, 20145, 20148, 20150, 20154, 20155, 20160, 20161, 20162, 20163, 20165, 20167, 20168, 20170, 20171, 20178, 20179, 20180, 20181, 20187, 20189, 20194, 20195, 20197, 20198, 20200, 20201, 20202, 20204, 20207, 20209, 20212, 20214, 20215, 20217, 22114, 22115, 22116, 22117, 22118, 22120, 22121, 22122, 22123, 22128, 22131, 22133, 22134, 22135, 22136, 22137, 22139, 22140, 22141, 18759, 18761, 18763, 18764, 18766, 18770, 18774, 18775, 18777, 18778, 18779, 18781, 18783, 18785, 18787, 18788, 20602, 20603, 20604, 20605, 20611, 20612, 20616, 20620, 20621, 20623, 20624, 20626, 20629, 20631, 20633, 20634, 20635, 20636, 20637, 20638, 20639, 20641, 20642, 20643, 20647, 20648, 20649, 20650, 20651, 20652, 20664, 20672, 20677, 20679, 20680, 20681, 20683, 20685, 20689, 19212, 19214, 19218, 19219, 19221, 19224, 19229, 19231, 19232, 19234, 19237, 19239, 19245, 19247, 19248, 19249, 19251, 19253, 19254, 19257, 19259, 19261, 19262, 19263, 19265, 19266, 19268, 19269, 19271, 19273, 19275, 19278, 19279, 19281, 19283, 19284, 19286, 19287, 19288, 19289, 19290, 19291, 19293, 19294, 19295, 19297, 19300, 19301, 19302, 19303, 19304, 19306, 19307, 19309, 23019, 23022, 23027, 17611, 17613, 17614, 17615, 17616, 17617, 17618, 17619, 17620, 17621, 17624, 17625, 17627, 17628, 17629, 17630, 17632, 17633, 17635, 17637, 17638, 19578, 19580, 19583, 19585, 19586, 19587, 19588, 19589, 19590, 19591, 19597, 19599, 19600, 19601, 19602, 19607, 19608, 19609, 19610, 19611, 19613, 19616, 19617, 19618, 19622, 19623, 19624, 19625, 19627, 19630, 19631, 19632, 19634, 19635, 19637, 19639, 19642, 19643, 19645, 19646, 19648, 19649, 19650, 19651, 19653, 19654, 19655, 19656, 19657, 19658, 19659, 19660, 19661, 19663, 16174, 16175, 16181, 16182, 16183, 16184, 16186, 16188, 16189, 16196, 16198, 16202, 16207, 16208, 16209, 16211, 16212, 16213, 16214, 16215, 16216, 16217, 16219, 16220, 16222, 16225, 16227, 16229, 16230, 16237, 16241, 16242, 16243, 16245, 16247, 16248, 16250, 16251, 16253, 18144, 18147, 18150, 18151, 18152, 18153, 18154, 18156, 18157, 18159, 18161, 18162, 18163, 18164, 18165, 18166, 18168, 18169, 18170, 18174, 18176, 18177, 18179, 22470, 22473, 22474, 22476, 22481, 22482, 22485, 22487, 22488, 22489, 22490, 22491, 22492, 22493, 22495, 22497, 22498, 16630, 16634, 16635, 16637, 16639, 16640, 16641, 16642, 16646, 16650, 16651, 16652, 16653, 16656, 16658, 16659, 16660, 16661, 16663, 16664, 16665, 16666, 16667, 16668, 16670, 16672, 16675, 16676, 16679, 16681, 16683, 16684, 16687, 16689, 16690, 16691, 16692, 16694, 16695, 16697, 16698, 16699, 16704, 16705, 16706, 16708, 16711, 16713, 16714, 16717, 16718, 16719, 23029, 23030, 23031, 23032, 23035, 23037, 23038, 23039, 23040, 23041, 23042, 23045, 23046, 23048, 23049, 23051, 23052, 23053, 23054, 23059, 23064, 23065, 23066, 23068, 23070, 23072, 23073, 23077, 23078, 23079, 23082, 23085, 23086, 23087, 23088, 23089, 23090, 23093, 23094, 23096, 23097, 23098, 23101, 23102, 23103, 23105, 23107, 23108, 23109, 23111, 23112, 23115, 23117, 23119, 23120, 23121, 23123, 23124, 17135, 17136, 17137, 17138, 17139, 17143, 17144, 17145, 17149, 17152, 17153, 17154, 21573, 21574, 21575, 21579, 21582, 21586, 21590, 21592, 21596, 21597, 21598, 21600, 21601, 21603, 21604, 21605, 21607, 21608, 21609, 21610, 21612, 15628, 15629, 15630, 15631, 15632, 15633, 15634, 15636, 15637, 15640, 15642, 15643, 15645, 15646, 15647, 15648, 15650, 15651, 15655, 15657, 15661, 15663, 15667, 15669, 15670, 15671, 15672, 15675, 15677, 15678, 15679, 15680, 15683, 15684, 15689, 15690, 15693, 15697, 15701, 15702, 15704, 18181, 18185, 18189, 18193, 18194, 18195, 18196, 18197, 18199, 18201, 18205, 18206, 18209, 18211, 18212, 18214, 18215, 18216, 18218, 18220, 18224, 18227, 18228, 18230, 18231, 18233, 18236, 18237, 18242, 18244, 18245, 18246, 18247, 18248, 18255, 18257, 18260, 18261, 18262, 18263, 18265, 18267, 18269, 20088, 20090, 20092, 20093, 20095, 20096, 20101, 20102, 20103, 20105, 20106, 20108, 20110, 20112, 20113, 20114, 20115, 20119, 16721, 16728, 16729, 16731, 16732, 16733, 16737, 16738, 16739, 16742, 16743, 16746, 16747, 16749, 18667, 18670, 18672, 18676, 18677, 18679, 18681, 18683, 18684, 18685, 18690, 18694, 18697, 18698, 18699, 18702, 18703, 18707, 18709, 18711, 18712, 18714, 18715, 18717, 18718, 18723, 18724, 18725, 18726, 18728, 18730, 18731, 18732, 18733, 18739, 18740, 18741, 18744, 18751, 18755, 17159, 17162, 17163, 17165, 17166, 17168, 17172, 17173, 17175, 17177, 17182, 17183, 17186, 17187, 17188, 17189, 17190, 17191, 17193, 17196, 17197, 17198, 17199, 17200, 17206, 17207, 17209, 17210, 17212, 17213, 17214, 17215, 17216, 17217, 17219, 17223, 17224, 17226, 17227, 17228, 17230, 17231, 17232, 17236, 17237, 17238, 17239, 17242, 17243, 17244, 17248, 17249, 17250, 17252, 17253, 17256, 19186, 19187, 19190, 19191, 19192, 19194, 19195, 19204, 19205, 19206, 15096, 15098, 15101, 15103, 15106, 15107, 15112, 15115, 15116, 15118, 15121, 15123, 15124, 15127, 15128, 15133, 15134, 15136, 15138, 15139, 15141, 15142, 15144, 15145, 16783, 16784, 16792, 16793, 16798, 16805, 16806, 16807, 16809, 16812, 16813, 16815, 16816, 16817, 16820, 16822, 16823, 22888, 22889, 22890, 22891, 22892, 22893, 22901, 22903, 22908, 22911, 22912, 22913, 22914, 22916, 22918, 22919, 22921, 22922, 22925, 22927, 22930, 22931, 22932, 22935, 22936, 22942, 22945, 22946, 22949, 22950, 22951, 22955, 22960, 22963, 22965, 22967, 22969, 22971, 22972, 22974, 22975, 22976, 22978, 22980, 22981, 22983, 22984, 22985, 22986, 22988, 22989, 22992, 22997, 22999, 17257, 17258, 17259, 17260, 17262, 14578, 14579, 14580, 14581, 14583, 14584, 14585, 14588, 14589, 14590, 14591, 14592, 14593, 14597, 14598, 14599, 14600, 14601, 14602, 14603, 14604, 14605, 14610, 14613, 14614, 21736, 21737, 21740, 21741, 21744, 21747, 21749, 21751, 21752, 21756, 21757, 21758, 21759, 21760, 21766, 21768, 21769, 21772, 21773, 21775, 21777, 21778, 21779, 21781, 21784, 21786, 21787, 21790, 21791, 21794, 21796, 21797, 21798, 21801, 21803, 21804, 21807, 21809, 21810, 21812, 21814, 21815, 21816, 18299, 18301, 18303, 18304, 18307, 18308, 18316, 18317, 18318, 18324, 18327, 18329, 18331, 18332, 18334, 18335, 18336, 18337, 18340, 18345, 18346, 18348, 18350, 18353, 18355, 18358, 18360, 18361, 18362, 18366, 18367, 18369, 18370, 18372, 18373, 18376, 18380, 18382, 18385, 18387, 18388, 18390, 18394, 18396, 18397, 18400, 18401, 18402, 18403, 18404, 18407, 20218, 20219, 20220, 20221, 20223, 20225, 20227, 20229, 20234, 16824, 16825, 16827, 16829, 16830, 16831, 16832, 16833, 16837, 16839, 16843, 16844, 16845, 16846, 16852, 16855, 16856, 16858, 16860, 16865, 16866, 16867, 16873, 16874, 18795, 18797, 18800, 18802, 18803, 18807, 18808, 18813, 18814, 18816, 18819, 18821, 18822, 18825, 18826, 18831, 18832, 18833, 18835, 18836, 18837, 18839, 18840, 18841, 18842, 18843, 18844, 18847, 18849, 18851, 18853, 18854, 18857, 18859, 18860, 18861, 18862, 18863, 18865, 18866, 18867, 17267, 17268, 17270, 17272, 17273, 17276, 17278, 17281, 17284, 17285, 17286, 17289, 17290, 17292, 17293, 17295, 17299, 17300, 17301, 17302, 17304, 17305, 17309, 17310, 17312, 17313, 17314, 17316, 17317, 17318, 17319, 17320, 17321, 17322, 17323, 17325, 17327, 17331, 17332, 17333, 17334, 17335, 17337, 17339, 17343, 17345, 17346, 17348, 17349, 17351, 17353, 17354, 17355, 17356, 17357, 17358, 17359, 17360, 17362, 17363, 17364, 17369, 17371, 17372, 17374, 17375, 17377, 17378, 17379, 17380, 21819, 21820, 21823, 21824, 21826, 21827, 21828, 21829, 21830, 21835, 21836, 21837, 21838, 21841, 21842, 21843, 21846, 21847, 21849, 21851, 21852, 21855, 21858, 15882, 15883, 15885, 15887, 15888, 15889, 15891, 15893, 15894, 15895, 15897, 15898, 15899, 15901, 15902, 15904, 15908, 15909, 15910, 15912, 15913, 15914, 15915, 15916, 15917, 15919, 15921, 15922, 15923, 15924, 15926, 15927, 15928, 15929, 15932, 15933, 15934, 15937, 15938, 15939, 15940, 15942, 15944, 15946, 15948, 15951, 15954, 15955, 15956, 20236, 20239, 20240, 20242, 20244, 20246, 20247, 20248, 20249, 20250, 20252, 20253, 20257, 20258, 20260, 20262, 20264, 20265, 20270, 20271, 20272, 20276, 20279, 20280, 20283, 20284, 20285, 20288, 20289, 20292, 19311, 19312, 21114, 21115, 21116, 21118, 21119, 21120, 21122, 21123, 21124, 21126, 21127, 15219, 15223, 15224, 15228, 15230, 15231, 15232, 15233, 15234, 15237, 15238, 15241, 15242, 15244, 15246, 15249, 15250, 14869, 14872, 14874, 14875, 14878, 14879, 14880, 14881, 14883, 14885, 14887, 14891, 14892, 14893, 14896, 14897, 14898, 14899, 14900, 14901, 14902, 14904, 14905, 14906, 14907, 14908, 14909, 14910, 14911, 14912, 14913, 14914, 14916, 14917, 14918, 14920, 14921, 14922, 14923, 14924, 14927, 14931, 14932, 14933, 14936, 14937, 14938, 14939, 14940, 14943, 14944, 14945, 14947, 14949, 14950, 14959, 22143, 22144, 22147, 22148, 22150, 22152, 22154, 22157, 22158, 22159, 22161, 22165, 22167, 22172, 22173, 22175, 22177, 22178, 22181, 22183, 22184, 22186, 22187, 22188, 22191, 22199, 22200, 22201, 22205, 22207, 22208, 22211, 22212, 22213, 22216, 22217, 22218, 22221, 22222, 22225, 22226, 22227, 22229, 22230, 22232, 22233, 22234, 22235, 22236, 22238, 16256, 16261, 16264, 16265, 16266, 16267, 16269, 16270, 16273, 16276, 16278, 16280, 20690, 20693, 20697, 20700, 20701, 20703, 20704, 20707, 20711, 20715, 20718, 20720, 20723, 20725, 20726, 20727, 20730, 20731, 22624, 22629, 22631, 22632, 22635, 22637, 22639, 22640, 22641, 22642, 22643, 22644, 22646, 22647, 22650, 22652, 22653, 22654, 22655, 22657, 22661, 22662, 22664, 22665, 22668, 22669, 22670, 22671, 22672, 22673, 22674, 22677, 22678, 22679, 22680, 22681, 22683, 22684, 22687, 22688, 22689, 22690, 22692, 22693, 22694, 22697, 22698, 22699, 22701, 21128, 21129, 21130, 21135, 21137, 21138, 21140, 21141, 21143, 21144, 21145, 21147, 21148, 21149, 21150, 21153, 21155, 21157, 21161, 21162, 21163, 21164, 21165, 21166, 21167, 21168, 21170, 21171, 21172, 21175, 21177, 21178, 21180, 21189, 21190, 21192, 21195, 21196, 21197, 21201, 21202, 21203, 21205, 21208, 21210, 21211, 21214, 21215, 21216, 21217, 21219, 21222, 21223, 21224, 21227, 21230, 21232, 21233, 21235, 21236, 21237, 21238, 22875, 22876, 22879, 22881, 14961, 14963, 14966, 14968, 14969, 14972, 14975, 14976, 14977, 14981, 14982, 14983, 14984, 14985, 14986, 14987, 14988, 14989, 14991, 14490, 14491, 14493, 14495, 14497, 14498, 14499, 14504, 14505, 14506, 14507, 14508, 14512, 14514, 14515, 14519, 14522, 14523, 14524, 14525, 14526, 14527, 14528, 14529, 14530, 14531, 14534, 14536, 14538, 14539, 14540, 14543, 14546, 14548, 14549, 14551, 14556, 14558, 14566, 14567, 14569, 14571, 14573, 14575, 14576, 16281, 16282, 16283, 16287, 16289, 16292, 16293, 16294, 16297, 16298, 16299, 16300, 16301, 16303, 16305, 16306, 16309, 16311, 16312, 16313, 16314, 16316, 16320, 16321, 16322, 16323, 16324, 16327, 16330, 16332, 16333, 16334, 16337, 16338, 16340, 16341, 16342, 16345, 16346, 16347, 16349, 16350, 16351, 16353, 16354, 16356, 16357, 16358, 16361, 16362, 16363, 16366, 16368, 16370, 16372, 16374, 16375, 16378, 16379, 18273, 18275, 18276, 18280, 18282, 18285, 18286, 18287, 18288, 18290, 18293, 22705, 22706, 22711, 22712, 22713, 22716, 22717, 22719, 22723, 22724, 22726, 22729, 22732, 22733, 22736, 22737, 22739, 22740, 22741, 22744, 16750, 16751, 16752, 16753, 16754, 16758, 16759, 16762, 16764, 16766, 16768, 16769, 16772, 16774, 16775, 16776, 16777, 16779, 27171, 27172, 27173, 27174, 27175, 27176, 27179, 27183, 27184, 27185, 27190, 27192, 27193, 27195, 27196, 27197, 27198, 27199, 27200, 29160, 29161, 29162, 29163, 29165, 29166, 29167, 29170, 29171, 29172, 29175, 29178, 29179, 29181, 29183, 29184, 29185, 29186, 29187, 29188, 29191, 29193, 29194, 29195, 29196, 29198, 29199, 29202, 29204, 29208, 29209, 29210, 29213, 29215, 29217, 29220, 29221, 29225, 29226, 29230, 29231, 29232, 29233, 29234, 29235, 29238, 29240, 29242, 29245, 29247, 29250, 29251, 29882, 29887, 29892, 29894, 29896, 29897, 29898, 29900, 29901, 29902, 29903, 29905, 29918, 29920, 29921, 29926, 29930, 29931, 29932, 29933, 29934, 29939, 29945, 29946, 29947, 29957, 29958, 29959, 23633, 23634, 23636, 23638, 23641, 23642, 23645, 23647, 23651, 23654, 23655, 23656, 23657, 23659, 23661, 23663, 23664, 23669, 23670, 23673, 23674, 23675, 23677, 23680, 23681, 23682, 23683, 30477, 30478, 30481, 30482, 30485, 30486, 30487, 30488, 30491, 30492, 30495, 24142, 24143, 24144, 24149, 24151, 24152, 24154, 24155, 24156, 24157, 24158, 24159, 24161, 24162, 24164, 24166, 24167, 24171, 24173, 24174, 24176, 24179, 24182, 24183, 24186, 24188, 24190, 24191, 24192, 24193, 24194, 24195, 24196, 24198, 24200, 24202, 24203, 24207, 24209, 24212, 24213, 24217, 24218, 24219, 24220, 24222, 24226, 24229, 24230, 24233, 24234, 24236, 24237, 24238, 24239, 24241, 24242, 31188, 31189, 31191, 31195, 31198, 31199, 31200, 31201, 31202, 31203, 31204, 31206, 31209, 31211, 31212, 31213, 31216, 31217, 31218, 31221, 31223, 31228, 31230, 31236, 31237, 31238, 31239, 31246, 31247, 31249, 31250, 31251, 31252, 31254, 31257, 20293, 20296, 20298, 20301, 20306, 20307, 20308, 20311, 20312, 20314, 20316, 20317, 20318, 20319, 20320, 20321, 20322, 20323, 20324, 20326, 20329, 20330, 20334, 20336, 20339, 20341, 20342, 20344, 20345, 22240, 22241, 22242, 22243, 22244, 22247, 22248, 22250, 18870, 18875, 18876, 18877, 18884, 18886, 18887, 18888, 18889, 18891, 18893, 18896, 18897, 18899, 18900, 18902, 18903, 18905, 18906, 18907, 18909, 18911, 18912, 18915, 18916, 18918, 18920, 18922, 18923, 18924, 18926, 20733, 20736, 20738, 20739, 20741, 20742, 20743, 20744, 20745, 20746, 20747, 20748, 20751, 20756, 20758, 20760, 20761, 20762, 20765, 20768, 20771, 20772, 20774, 20776, 20777, 20784, 20785, 20787, 20791, 20792, 20793, 20794, 20799, 20800, 20803, 19316, 19319, 19320, 19321, 19322, 19323, 19324, 19326, 19327, 19328, 19329, 19330, 19331, 19333, 19335, 19338, 19339, 19340, 19341, 19343, 19344, 19345, 19346, 19348, 19349, 19351, 19352, 19355, 19358, 19359, 19360, 19363, 19365, 19366, 19367, 19368, 19369, 19373, 19377, 19378, 19381, 19382, 19384, 19388, 19390, 19391, 19393, 19396, 19401, 19403, 19405, 19408, 19410, 19411, 19412, 19415, 19417, 19421, 19424, 19426, 19427, 19428, 19430, 19432, 19434, 19435, 19437, 26163, 26167, 26168, 26169, 26170, 26171, 26172, 26174, 28114, 28115, 28116, 28119, 28122, 28124, 28127, 28131, 28132, 28133, 28134, 28137, 28138, 28140, 28144, 28145, 28148, 28149, 28153, 28154, 28160, 28161, 28165, 28167, 28168, 28169, 28170, 28173, 28174, 28176, 28178, 28180, 28182, 28187, 28188, 28189, 28190, 28192, 28193, 28194, 28195, 28196, 28199, 28200, 28201, 28202, 28205, 28206, 28207, 28209, 28210, 28211, 28212, 28213, 28216, 28218, 28220, 28221, 28222, 28223, 28226, 28227, 28228, 26597, 26598, 26599, 26600, 26603, 26607, 26608, 26610, 26611, 26616, 26618, 26620, 26621, 26623, 26624, 26626, 26632, 26633, 26639, 26641, 26643, 26644, 26645, 26650, 26657, 26659, 26664, 26665, 26667, 26671, 26674, 26676, 26677, 26678, 26679, 26680, 26681, 28643, 28644, 28645, 28646, 28647, 28649, 28651, 28652, 28658, 28659, 28661, 28662, 28664, 28669, 28671, 28674, 28675, 28676, 28680, 25127, 25129, 25130, 25135, 25136, 25137, 25139, 25143, 25144, 25148, 25152, 25153, 27071, 27073, 27074, 27077, 27080, 27082, 27084, 27085, 27087, 27088, 27089, 27094, 27095, 27096, 27097, 27099, 27100, 27101, 27102, 27103, 27104, 27106, 27108, 27109, 27110, 27112, 27115, 27116, 27117, 27119, 27120, 27121, 27122, 27124, 27125, 27126, 27128, 27129, 27131, 27133, 27135, 27136, 27137, 27140, 27142, 27144, 27145, 27147, 27148, 27149, 27151, 27152, 27156, 27157, 27158, 27160, 27161, 27165, 17827, 17828, 17834, 17837, 17838, 17839, 17840, 17841, 17843, 17846, 17847, 17848, 17850, 17853, 17854, 17855, 17857, 17859, 17861, 17864, 17865, 17867, 17868, 17870, 17872, 17873, 17875, 17876, 17877, 17878, 17880, 17881, 17882, 17883, 17886, 17888, 17889, 29827, 29829, 29830, 29835, 29839, 29840, 29846, 29851, 29853, 29854, 29855, 29860, 29862, 29865, 29868, 29869, 29871, 29874, 29875, 29876, 29877, 29878, 29879, 29880, 28232, 28236, 28239, 28240, 28242, 30362, 30364, 30365, 30366, 30367, 30368, 30369, 30370, 30373, 30377, 30383, 30384, 30388, 30392, 30393, 30394, 30396, 30397, 30398, 30399, 30400, 30402, 30405, 30407, 30408, 30409, 30410, 30415, 30416, 30418, 30419, 30423, 30424, 30425, 30426, 30427, 30428, 30429, 30430, 30432, 30433, 30436, 30440, 30441, 30442, 30445, 30448, 30455, 30456, 30457, 30460, 30463, 30464, 30465, 30466, 30467, 30468, 30469, 30471, 30473, 30474, 30475, 28683, 28684, 28685, 28686, 28687, 28688, 28689, 28691, 28692, 28699, 28700, 28701, 28704, 28706, 28707, 28710, 28711, 28713, 28715, 28716, 28717, 28720, 28722, 28724, 28726, 28727, 28728, 28729, 28730, 28731, 28733, 28735, 28737, 28739, 28740, 28741, 28743, 28744, 28745, 28747, 28749, 28750, 28752, 28753, 28754, 28758, 28759, 28760, 28763, 28764, 28767, 31151, 31153, 31158, 31159, 31160, 31161, 31162, 31166, 31174, 31175, 31182, 31183, 31184, 31185, 31186, 27170, 28259, 28260, 28261, 28262, 28263, 28266, 28267, 28271, 28272, 28278, 28279, 28282, 28283, 28289, 28290, 28292, 28293, 28294, 28296, 28301, 28302, 28303, 28307, 28309, 28311, 28313, 28314, 28316, 28321, 28322, 28323, 28324, 28325, 28326, 28327, 28341, 28342, 28344, 26708, 26709, 26713, 26714, 26717, 26719, 26720, 26721, 26722, 26723, 26724, 26725, 26726, 26727, 26728, 26733, 26734, 26735, 26736, 26739, 26744, 26746, 26747, 26748, 26749, 26750, 26754, 26755, 26757, 26758, 26769, 26770, 26771, 26773, 26774, 26775, 26776, 26777, 26778, 26779, 26780, 26782, 26783, 26785, 26787, 26790, 26795, 26796, 26797, 26799, 26802, 26806, 26808, 26809, 26810, 26811, 28770, 28773, 28775, 28778, 28779, 28782, 28784, 28785, 28786, 28788, 28791, 25234, 25235, 25238, 25242, 25243, 25245, 25247, 25251, 25252, 25254, 25255, 25256, 25258, 25259, 25260, 25261, 25264, 25265, 25266, 25268, 25269, 25270, 25271, 25276, 25278, 25279, 25280, 27201, 27203, 27204, 27205, 27206, 27208, 27209, 27211, 27212, 27214, 27215, 27219, 27221, 27223, 27224, 27229, 27232, 27234, 27236, 27239, 27240, 27241, 27242, 27243, 27244, 27245, 27246, 27247, 27252, 27253, 27254, 27257, 27258, 27264, 27268, 27269, 27270, 27271, 27272, 27273, 27275, 27762, 27763, 27766, 27767, 27768, 27769, 27770, 27771, 27774, 27775, 27777, 27778, 27780, 27783, 27785, 27786, 27788, 27790, 27794, 27795, 27796, 27797, 27798, 27799, 27800, 27802, 27804, 27806, 27807, 27811, 27822, 27823, 27826, 27827, 27828, 27829, 27831, 27834, 27835, 27837, 27838, 27840, 27841, 27842, 27843, 27844, 27845, 27850, 27852, 27853, 29961, 29962, 29963, 29968, 29969, 29971, 29973, 29974, 29978, 29980, 29981, 29982, 29985, 29989, 29991, 29992, 29993, 29995, 29996, 29998, 29999, 28345, 28346, 28348, 28350, 28351, 28352, 28353, 28354, 28358, 28359, 28361, 28362, 28364, 28365, 28369, 28370, 28372, 28374, 28376, 28378, 28379, 31019, 31020, 31021, 31022, 31024, 31026, 31030, 31031, 31033, 31034, 31037, 31038, 31039, 31041, 31042, 31043, 31045, 31047, 31048, 31050, 31056, 31057, 31060, 31061, 31062, 31063, 31064, 31065, 31067, 31071, 31074, 31078, 31082, 31084, 31085, 31086, 31087, 31088, 31091, 31092, 31097, 31102, 31104, 31106, 31107, 31108, 31109, 31110, 31111, 28794, 28795, 28797, 28799, 28800, 28802, 28804, 28805, 28808, 28813, 28814, 28815, 28817, 28818, 28820, 28822, 28825, 28826, 28827, 28828, 28830, 28833, 28834, 28835, 28840, 28842, 28843, 28844, 28848, 28851, 28853, 28855, 28857, 28858, 28859, 28860, 28864, 28865, 28869, 28870, 28871, 28873, 28874, 28875, 28877, 28880, 28881, 28882, 28884, 28886, 28887, 28888, 28891, 28892, 28896, 28897, 30758, 30764, 30766, 30768, 30770, 30774, 30777, 27276, 27277, 27278, 27280, 27282, 27284, 27285, 27286, 27287, 27288, 27289, 27290, 27291, 27293, 27297, 27301, 27304, 27308, 27309, 27310, 27312, 27315, 27316, 27318, 27321, 27322, 27324, 29291, 29295, 29299, 29300, 29302, 29306, 29307, 29309, 29310, 29311, 29313, 29314, 29318, 29319, 29323, 29324, 29326, 29327, 29328, 29329, 29330, 29331, 29334, 29338, 29339, 29340, 29342, 29345, 29350, 29357, 29358, 29359, 29361, 29362, 30001, 30002, 30003, 30006, 30007, 30008, 30009, 30010, 30017, 30018, 30020, 30023, 30024, 31258, 31259, 31261, 31262, 31263, 31264, 31267, 31270, 31271, 31272, 31273, 31274, 31277, 31281, 31282, 31284, 31285, 31286, 31289, 31290, 31291, 31293, 24655, 24656, 24657, 24659, 24660, 24662, 24663, 24664, 24665, 24666, 24669, 24675, 24677, 24679, 24681, 24683, 24684, 24686, 29253, 29254, 29257, 29264, 29266, 29267, 29268, 29270, 29272, 29273, 29275, 29277, 29278, 29279, 29280, 29281, 29282, 29287, 29288, 15254, 15255, 15256, 15259, 15261, 15263, 15265, 15267, 15274, 15275, 15276, 15277, 15278, 15279, 15283, 15285, 15290, 15291, 15292, 15294, 15299, 15300, 15301, 15303, 15305, 15306, 15307, 15308, 15312, 15313, 15314, 15315, 15317, 15318, 15322, 15323, 15324, 15325, 15326, 15327, 15335, 23688, 23689, 23691, 23693, 23694, 23695, 23696, 23697, 23698, 23700, 23701, 23702, 23703, 23709, 23710, 23712, 23713, 23714, 23715, 23716, 23718, 23719, 23720, 23722, 23726, 23728, 23730, 23734, 23735, 23737, 23739, 23740, 23742, 23743, 23744, 23745, 23747, 23748, 23750, 23754, 23757, 23758, 23759, 23760, 25671, 25672, 25677, 25681, 25683, 25686, 25687, 25688, 25690, 25691, 25692, 25694, 25696, 25697, 25699, 25703, 25706, 25707, 25708, 25710, 25714, 24243, 24244, 24247, 24248, 24249, 24253, 24254, 24257, 24258, 24260, 24262, 24265, 24266, 24267, 26176, 26177, 26178, 26181, 26182, 26183, 26184, 26185, 26186, 26187, 26189, 26191, 26192, 26194, 26195, 26198, 26200, 26201, 26204, 26205, 26210, 26211, 26212, 26213, 26214, 26216, 26218, 26219, 26223, 26224, 26225, 26226, 26227, 26228, 26229, 26231, 26232, 26234, 26235, 26236, 26239, 26242, 26243, 26248, 26249, 26252, 26254, 26255, 26256, 26257, 26261, 26263, 26264, 26265, 26266, 26267, 26268, 26269, 24687, 24688, 24689, 24690, 24693, 24694, 24695, 24696, 24697, 24698, 24699, 24701, 24702, 24703, 24706, 24707, 24708, 24709, 24710, 24712, 24713, 24714, 24715, 24717, 24718, 24719, 24721, 24723, 24725, 24727, 24728, 24732, 24733, 24736, 24739, 24740, 24745, 24746, 24748, 24751, 24752, 24753, 24754, 24756, 24759, 24760, 24761, 24762, 24766, 24768, 24771, 24776, 24777, 24778, 24779, 24780, 24782, 26682, 26684, 26685, 26686, 26688, 26690, 26692, 26696, 26698, 26699, 26700, 26701, 26703, 26704, 26705, 15337, 15338, 15340, 15343, 15345, 15346, 15348, 15349, 15353, 15354, 15357, 15358, 15361, 15362, 15365, 15369, 15371, 15372, 15374, 25154, 25157, 25158, 25159, 25160, 25161, 25162, 25164, 25166, 25169, 25171, 25174, 25175, 25176, 25178, 25179, 25180, 25182, 25183, 25190, 25191, 25192, 25193, 25195, 25196, 25197, 25198, 25200, 25201, 25203, 25205, 25206, 25207, 25208, 25209, 25211, 25213, 25214, 25216, 25217, 25220, 25221, 25224, 25226, 25227, 25228, 25229, 25230, 25231, 25232, 25719, 25723, 25724, 25726, 25727, 25728, 25729, 25730, 25731, 25733, 25734, 25736, 25740, 25743, 25744, 25745, 25746, 25747, 25748, 25749, 25750, 25751, 25752, 25757, 25759, 25761, 25762, 25768, 25770, 25771, 25772, 25776, 25777, 25778, 25780, 25781, 25784, 25788, 25789, 25790, 25792, 25794, 27718, 27722, 27723, 27725, 27728, 27729, 27730, 27731, 27732, 27733, 27736, 27737, 27738, 27741, 27742, 27745, 27750, 27754, 27755, 27757, 27760, 26271, 26273, 26276, 26279, 26280, 26283, 26288, 26290, 26291, 26295, 26296, 26297, 26298, 28244, 28245, 28247, 28250, 28251, 28253, 28254, 63886, 63914, 42148, 42158, 42160, 42174, 42177, 42180, 42186, 42188, 42189, 42194, 42197, 42203, 42211, 42222, 42232, 42236, 42243, 42251, 42255, 42268, 42274, 42275, 42288, 42292, 42307, 42311, 42327, 42340, 42351, 42364, 42375, 42388, 42394, 42396, 42397, 23536, 23538, 23541, 23542, 23544, 23545, 23546, 23547, 23550, 23551, 23553, 23554, 23557, 23558, 23559, 23566, 23567, 23570, 23573, 23575, 23577, 23580, 23582, 23583, 23584, 23589, 23591, 23592, 23595, 23597, 23600, 23601, 23603, 23604, 23606, 23607, 23608, 23609, 23613, 23614, 23617, 23619, 23620, 23622, 23626, 23627, 23628, 23629, 23632, 25542, 25543, 25545, 25546, 25547, 25548, 25550, 25551, 25554, 25555, 25558, 25561, 25562, 25565, 25567, 25570, 46270, 46271, 46274, 46278, 14855, 14856, 14857, 14859, 14861, 14863, 14864, 14866, 14993, 14994, 14995, 14996, 14997, 14999, 15001, 15002, 15003, 15004, 15005, 15007, 15010, 15011, 15012, 15013, 15015, 15018, 15020, 15022, 15023, 15024, 15025, 15026, 15030, 15031, 15032, 15034, 15035, 15037, 15040, 15042, 15043, 15044, 15045, 15048, 15049, 15050, 15052, 15053, 15056, 15057, 15062, 15065, 15067, 15069, 15070, 15073, 15076, 15077, 15078, 15079, 15080, 15081, 15084, 15085, 15089, 15091, 15092, 23911, 23912, 23913, 23915, 23918, 23920, 23922, 23923, 23925, 23926, 23927, 23928, 23930, 23931, 23932, 23933, 23934, 23935, 23936, 23937, 23938, 23939, 23940, 23942, 23944, 23947, 23948, 23949, 23951, 23952, 23953, 23954, 23961, 23962, 23963, 23964, 23965, 23966, 23967, 23970, 23971, 23972, 23973, 23974, 23976, 23978, 23980, 23982, 23985, 23987, 23988, 23990, 23994, 23995, 23997, 24002, 62298, 62308, 62310, 62344, 62345, 62346, 62371, 62374, 62383, 62387, 62389, 62395, 62402, 62412, 62413, 62415, 62423, 62431, 62447, 62456, 62465, 62466, 62476, 62478, 62479, 62480, 62488, 62495, 62498, 62505, 62506, 62512, 62515, 62518, 62528, 62530, 62542, 62547, 62562, 40723, 40729, 56784, 56795, 56796, 56798, 56816, 56829, 56836, 56840, 56848, 56849, 56850, 56853, 56854, 56861, 56865, 56873, 56880, 56892, 56900, 56910, 56911, 56919, 56924, 56930, 56947, 56954, 56960, 56965, 56982, 56985, 56988, 56996, 57001, 57006, 57042, 57045, 63017, 63030, 63031, 63041, 63043, 63047, 63048, 63053, 63054, 63058, 63059, 63063, 63073, 63074, 63076, 63088, 63107, 63109, 63112, 63116, 63135, 63138, 63139, 63152, 63163, 63177, 63187, 63192, 63206, 27612, 27614, 27615, 27617, 27618, 27619, 27620, 27621, 27622, 27628, 59301, 59317, 59318, 59333, 59349, 59364, 59373, 59374, 59375, 59380, 59385, 59389, 59411, 59415, 59416, 59421, 59425, 59437, 59448, 59453, 59457, 59458, 59464, 59469, 59473, 59485, 59486, 59494, 59495, 59498, 59499, 59503, 59505, 59513, 59516, 59523, 59530, 59546, 59549, 59551, 59555, 59582, 59585, 59590, 59592, 59594, 53964, 53968, 53973, 53974, 53991, 54003, 54005, 54009, 54015, 54020, 54031, 54041, 54043, 54047, 54050, 54054, 54056, 54066, 54073, 54077, 54078, 54084, 54088, 54090, 54095, 54110, 54120, 54125, 54127, 54129, 54130, 54132, 54133, 54135, 54138, 54147, 54153, 54154, 54159, 54162, 54166, 54172, 54174, 54177, 54182, 54183, 54187, 54188, 54190, 54193, 54195, 54197, 54217, 63931, 63935, 63936, 63938, 63943, 63944, 63947, 63948, 63955, 63958, 63967, 63968, 63969, 63987, 63992, 63993, 64004, 64025, 64026, 64027, 64036, 64037, 64041, 64043, 64058, 64062, 64067, 64072, 64082, 49079, 49080, 46324, 46330, 46335, 46337, 46339, 46340, 46355, 46380, 46382, 46385, 46389, 46397, 52828, 52831, 52834, 52835, 52846, 52848, 52853, 52857, 52861, 52878, 52897, 52898, 52901, 52904, 52919, 52931, 52932, 52934, 52953, 52969, 52974, 52978, 52984, 52985, 52986, 52990, 53001, 53006, 53007, 53012, 53013, 53015, 53024, 53032, 53070, 53081, 53084, 53087, 53090, 53098, 53105, 53111, 53119, 53131, 53132, 53136, 53150, 53152, 53156, 53160, 53173, 53174, 53176, 53191, 47858, 47875, 47886, 47888, 47889, 47902, 47909, 47914, 47937, 47949, 47953, 47955, 47963, 47965, 47974, 47989, 47993, 47995, 48010, 48011, 48036, 48037, 48042, 48056, 48064, 48065, 48075, 48076, 48078, 48087, 48100, 48103, 48115, 48118, 48121, 48123, 48149, 48153, 48159, 48164, 24003, 24004, 24006, 24007, 24008, 24010, 24011, 24012, 24013, 24014, 24015, 25925, 25926, 25929, 24465, 24466, 24468, 24470, 24471, 24476, 24477, 24479, 24481, 24483, 24484, 24485, 24487, 24488, 24490, 24491, 24493, 24495, 24496, 24497, 24499, 24502, 24503, 24505, 24506, 24507, 24508, 24510, 24513, 24514, 24515, 24516, 24519, 24520, 24521, 24522, 24527, 24528, 26430, 26431, 26434, 26435, 26436, 26438, 26439, 26440, 26442, 26443, 26445, 26446, 26447, 26448, 26450, 26451, 26452, 26453, 26454, 26456, 26457, 26458, 26460, 26464, 26465, 26466, 26469, 26470, 26471, 26472, 26473, 26476, 26479, 26480, 26481, 26486, 26487, 26488, 31012, 31013, 31014, 24908, 24909, 24911, 24912, 24914, 24916, 24917, 24919, 24921, 24922, 24925, 24927, 24929, 24933, 24934, 24935, 24937, 24938, 24943, 24944, 24947, 24948, 24949, 24951, 24953, 24954, 24955, 24957, 24959, 27631, 27632, 27635, 27636, 27637, 27638, 27642, 27645, 27647, 27648, 27649, 27650, 27651, 27652, 27659, 27661, 27663, 27664, 27665, 27668, 27669, 27670, 27672, 27676, 27677, 27679, 27681, 27682, 27684, 27685, 27686, 27687, 27691, 27694, 27695, 27696, 27697, 27698, 27699, 27700, 27701, 27703, 27705, 27706, 27708, 27709, 27711, 27712, 27713, 27714, 27717, 29691, 29692, 29694, 29695, 29696, 29698, 29699, 29700, 29702, 29703, 29707, 29708, 29709, 29711, 32560, 32563, 32564, 32566, 32568, 32571, 32574, 32576, 32577, 32579, 32584, 32585, 32588, 32592, 32593, 32595, 32598, 32599, 32600, 32601, 32602, 32604, 32605, 32606, 32608, 46398, 46410, 46411, 46414, 46415, 46422, 46424, 46439, 46442, 46449, 46455, 46462, 46467, 46471, 46489, 46497, 46498, 46502, 46504, 46509, 46519, 46527, 46528, 46536, 46548, 46560, 46564, 49081, 49083, 49093, 49094, 49104, 49105, 49138, 49139, 55597, 55601, 55609, 55611, 55614, 55616, 55627, 55629, 55636, 55642, 55657, 55659, 55670, 55677, 55678, 55679, 55682, 55688, 55689, 55701, 55703, 55704, 55713, 55715, 55722, 55725, 55728, 55730, 55731, 55743, 55746, 55751, 55781, 55799, 55807, 55810, 55817, 55821, 55843, 55844, 55849, 55867, 55871, 55878, 55881, 55886, 55887, 55904, 55909, 55912, 55920, 55930, 55931, 55934, 31605, 31606, 31607, 31609, 31610, 31612, 31614, 31615, 31616, 31618, 31620, 31622, 31624, 31625, 31626, 31627, 31629, 31631, 31632, 31634, 31638, 31639, 31640, 31641, 31643, 31644, 31645, 31647, 31648, 31649, 31650, 31651, 31654, 31657, 31662, 31665, 31667, 31668, 31669, 31670, 31672, 31676, 31680, 31681, 31683, 31684, 31685, 31687, 31689, 31690, 31692, 31695, 31696, 43115, 48169, 48174, 48181, 48184, 48189, 48215, 48217, 48220, 54682, 54689, 54695, 54708, 54709, 54716, 54721, 54723, 42405, 42410, 42411, 42412, 42417, 42430, 42434, 42444, 42447, 42450, 42451, 42455, 42457, 42458, 42470, 42473, 42474, 42479, 42482, 42484, 42491, 42492, 42496, 42509, 42510, 42519, 42530, 42532, 42583, 42585, 42587, 42588, 49615, 49619, 49622, 49635, 49649, 49654, 49658, 49683, 49687, 49692, 49723, 49739, 49742, 49747, 49751, 49773, 49775, 49777, 49778, 49791, 49796, 49801, 49806, 49828, 49839, 49840, 49846, 49853, 49858, 49860, 49873, 49879, 49884, 49896, 49914, 49925, 74540, 74549, 74556, 74562, 74575, 74578, 74585, 74586, 74591, 74599, 74608, 74610, 74613, 74626, 74627, 74630, 74632, 74639, 74654, 74673, 74674, 74677, 74679, 74683, 74686, 74693, 74696, 74702, 74711, 74716, 74725, 74737, 74740, 74748, 74755, 74763, 24964, 24969, 24970, 24972, 24975, 24976, 24977, 24978, 24979, 24980, 24981, 24982, 24984, 24985, 24986, 24990, 24991, 24992, 24993, 24994, 24998, 24999, 25000, 25001, 25002, 25003, 25004, 25007, 25008, 25010, 25014, 25016, 15705, 15710, 15711, 15712, 15713, 15715, 15717, 15719, 15720, 15721, 15722, 15726, 15727, 15729, 15731, 15734, 15735, 15736, 15742, 15743, 15744, 15747, 15750, 15751, 17640, 17643, 17644, 17647, 17648, 17650, 17651, 17652, 17656, 17657, 17659, 17660, 17662, 17665, 17666, 17667, 17668, 17669, 17671, 17673, 17674, 17678, 17679, 17680, 17681, 17682, 17683, 17685, 17686, 17687, 17688, 17691, 17693, 17695, 17696, 17699, 17703, 17704, 17708, 17710, 25935, 25937, 25938, 25939, 25942, 25945, 25946, 25947, 25949, 25951, 25952, 25953, 46576, 46582, 46586, 46588, 46589, 46596, 46608, 46615, 46619, 46620, 46634, 40738, 40744, 40771, 40787, 40789, 40798, 40811, 40819, 40822, 40827, 40828, 40831, 40832, 40833, 40837, 40854, 40867, 40871, 40876, 40878, 40881, 40888, 40896, 40897, 40900, 40911, 40913, 40923, 40940, 40950, 40957, 40963, 40967, 40972, 40973, 40983, 40997, 41000, 41002, 41014, 41016, 41030, 41031, 41034, 41035, 41040, 41042, 41050, 41054, 41074, 41077, 41078, 41113, 41115, 41118, 41119, 41125, 41130, 41132, 41143, 41150, 41156, 41163, 41182, 48231, 63219, 63220, 63226, 63236, 63240, 63245, 63280, 63290, 63297, 63305, 63307, 63309, 63311, 63320, 63325, 63327, 63329, 63354, 63359, 63360, 63362, 63363, 63364, 63374, 63386, 63390, 63402, 63403, 63404, 63405, 63409, 63418, 63419, 63430, 63431, 63437, 63439, 63444, 63453, 63456, 42604, 43118, 43120, 43126, 43137, 43141, 43151, 43155, 43158, 43160, 43175, 43183, 43187, 59599, 59612, 59618, 32216, 32219, 32221, 32224, 32225, 32226, 32230, 32231, 32232, 32237, 32238, 32240, 32242, 32245, 32249, 32251, 32252, 32253, 32255, 32256, 32258, 32259, 32260, 32261, 32262, 32263, 32264, 32266, 32267, 32270, 32272, 32274, 32276, 32278, 32279, 32285, 32286, 32287, 32288, 32289, 32290, 32291, 32295, 32296, 32297, 32298, 32299, 32301, 32302, 32303, 32306, 32307, 32308, 32311, 32312, 32313, 32315, 32316, 32319, 32320, 32324, 32325, 32327, 32331, 64087, 64089, 64093, 64099, 64104, 64110, 64115, 64120, 64121, 64122, 64136, 64150, 64154, 64171, 64177, 64178, 64182, 64185, 64188, 64191, 64194, 64195, 64197, 64214, 64216, 64230, 64232, 64238, 64253, 64260, 64262, 64270, 64274, 64277, 64287, 74764, 74768, 74786, 74789, 74793, 74794, 74795, 74816, 81857, 81864, 81865, 81866, 81871, 81875, 81876, 81881, 81883, 81885, 81886, 81893, 81902, 81904, 81918, 81920, 81923, 81926, 81927, 81933, 81938, 81939, 81946, 81960, 81973, 81983, 81990, 81992, 81998, 82003, 82004, 82010, 82011, 68907, 68909, 68911, 68919, 68923, 68939, 68941, 68944, 68946, 68947, 68956, 68958, 76230, 76231, 76243, 76249, 76251, 76261, 76282, 76287, 76300, 76315, 76318, 76327, 76328, 76332, 76333, 76338, 76372, 76376, 76381, 76386, 76392, 76397, 76404, 76406, 76410, 76414, 76418, 76420, 76425, 76426, 76432, 76434, 76446, 76450, 76454, 76476, 76477, 76494, 76502, 76520, 76536, 76542, 76544, 76546, 76558, 76561, 76571, 76572, 76578, 76580, 76586, 76589, 76597, 76598, 76601, 70494, 70500, 70505, 70511, 70517, 70518, 70520, 70543, 70547, 70550, 70558, 70561, 70563, 70569, 70570, 70571, 25958, 25959, 25961, 25962, 25965, 25966, 25969, 25970, 25971, 25972, 25974, 25975, 25976, 25979, 25982, 25983, 25985, 25986, 25987, 25989, 25992, 25993, 25994, 25995, 25997, 25998, 26000, 26001, 26002, 26004, 26006, 26008, 26009, 26010, 26012, 26014, 26016, 26017, 26018, 26020, 26023, 26027, 26031, 26033, 26035, 26039, 27987, 26489, 26490, 26491, 26495, 26497, 26498, 26499, 26502, 26505, 26506, 26510, 26512, 26514, 26515, 26516, 26520, 26521, 26524, 26527, 26528, 26529, 26531, 26532, 26534, 26535, 26538, 26541, 26542, 26543, 26544, 26547, 26549, 26550, 26551, 26552, 28514, 28517, 28518, 28520, 28522, 28528, 28530, 28532, 28536, 28539, 28543, 28544, 28545, 28546, 28549, 28550, 28554, 28555, 28556, 28557, 42609, 42621, 42624, 42652, 42663, 42668, 42672, 42685, 42686, 42696, 42697, 42702, 42709, 42711, 42715, 42721, 42727, 42728, 42733, 42747, 42753, 42755, 42757, 42769, 42771, 42781, 42792, 42794, 42795, 42815, 29714, 29715, 29716, 29721, 29723, 29726, 29728, 29731, 29735, 29737, 29738, 29740, 29741, 29743, 29748, 29749, 29753, 29757, 29759, 29761, 29763, 29767, 29768, 29769, 29771, 29772, 29773, 29774, 29775, 29776, 29778, 29779, 29780, 29782, 29783, 29784, 29785, 29786, 29787, 29790, 29791, 29792, 29795, 29796, 29799, 29802, 29805, 29809, 29810, 29811, 29815, 29819, 29822, 29823, 29824, 58782, 58792, 58793, 58796, 58799, 58810, 58811, 58812, 58826, 58828, 58831, 46641, 46642, 46656, 46660, 46664, 46668, 46671, 46672, 46692, 46693, 46695, 46715, 46718, 46723, 46728, 46733, 46734, 46740, 46744, 46752, 46756, 46763, 46768, 46776, 64292, 64295, 64296, 64311, 64314, 64327, 64334, 64336, 64350, 64352, 32737, 32739, 32740, 32743, 32746, 32749, 32750, 32752, 32754, 32756, 32757, 32758, 32759, 32763, 32764, 32765, 32767, 32772, 32773, 32774, 32775, 32776, 32777, 32781, 32782, 55953, 55954, 55962, 55966, 56001, 56029, 56042, 56052, 56060, 56061, 61539, 61540, 61565, 61566, 61574, 61581, 61585, 61591, 61594, 61597, 61620, 61624, 61636, 61638, 61640, 61642, 61648, 61652, 61654, 61658, 61659, 61661, 61663, 61665, 61667, 61670, 61671, 61676, 61683, 61685, 61687, 61688, 61691, 61711, 61723, 61729, 61733, 61738, 61739, 61742, 61748, 61749, 61771, 61787, 61791, 61794, 61800, 61802, 61809, 61825, 61846, 61852, 61856, 61857, 61871, 61886, 61893, 61898, 61904, 57588, 57591, 57592, 57593, 57594, 57601, 57604, 57613, 57614, 57617, 57619, 57632, 57637, 57642, 57645, 57663, 57664, 57678, 57679, 57690, 57697, 57711, 57713, 70572, 70592, 70605, 70608, 70609, 70612, 70615, 70617, 70620, 70622, 70623, 70628, 70641, 70642, 70651, 70654, 70655, 70664, 70675, 70694, 70699, 70704, 70705, 70715, 70722, 70723, 70728, 70731, 70745, 70755, 70760, 70763, 70772, 70775, 70786, 70794, 70796, 70806, 70814, 70816, 70822, 70832, 70842, 78076, 78077, 78086, 78090, 78097, 78100, 78101, 78103, 78108, 78131, 78143, 78145, 78149, 78158, 78171, 78173, 78182, 44146, 44149, 44153, 44154, 44156, 44158, 44164, 44166, 44173, 44181, 44188, 44190, 44206, 44207, 44209, 44214, 44222, 44234, 44248, 44255, 44258, 44266, 44269, 44288, 44298, 44301, 44303, 44305, 44310, 44319, 44328, 44332, 44339, 44342, 44369, 44373, 44374, 44382, 44383, 44402, 44408, 44412, 44414, 44421, 44427, 44430, 44434, 44450, 44454, 44490, 44491, 44494, 44501, 44511, 44521, 44527, 44530, 44534, 44538, 44546, 44565, 44570, 44589, 44592, 44593, 28559, 28561, 28566, 28568, 28571, 25019, 25020, 25021, 25022, 25023, 25025, 25026, 25027, 26946, 26947, 26948, 26949, 26951, 26952, 26956, 26960, 26963, 26964, 26965, 26966, 26967, 26970, 26972, 26973, 26978, 26979, 26981, 26984, 26986, 26987, 26988, 26994, 26995, 27001, 27002, 27003, 27005, 27006, 27008, 27009, 27014, 27015, 27017, 27019, 27020, 27022, 27023, 27024, 27025, 27026, 27027, 27028, 27030, 27031, 27034, 27036, 27037, 27042, 27043, 27048, 27052, 27053, 27056, 17716, 17719, 17720, 17721, 17722, 17724, 17727, 17731, 17732, 17733, 17734, 17736, 17738, 17739, 17740, 17741, 17742, 17745, 17746, 17749, 17750, 17759, 17760, 17761, 17762, 19701, 19702, 19706, 19708, 19710, 19712, 19713, 19714, 19715, 19718, 46793, 46796, 46797, 46801, 46802, 46809, 46815, 46816, 46831, 53322, 53331, 53334, 53338, 53340, 53342, 53347, 53348, 53355, 53371, 53374, 53377, 53391, 53397, 53404, 53417, 53425, 53435, 53437, 53439, 53440, 53443, 53451, 53459, 53462, 53464, 53466, 53474, 53492, 53521, 53522, 53531, 53534, 53536, 53543, 53545, 53548, 53549, 53550, 53568, 53577, 48232, 48233, 48238, 48253, 48257, 48274, 48276, 48281, 48284, 48292, 48293, 48314, 48320, 48340, 48344, 48346, 48348, 48351, 48352, 48358, 48363, 48366, 48368, 48372, 48373, 48374, 48380, 48388, 48390, 48397, 48398, 48418, 48425, 48426, 48441, 48453, 48456, 48464, 48479, 48480, 48483, 48490, 48503, 48521, 48523, 48527, 48533, 48536, 48539, 48542, 48546, 48553, 48554, 48555, 48556, 48580, 48601, 48606, 48617, 48640, 48656, 48657, 48660, 48667, 48674, 48676, 48683, 48688, 43209, 43215, 43220, 43224, 43225, 57718, 57731, 57734, 57738, 57739, 57741, 57745, 57752, 57760, 57763, 57764, 57765, 57770, 57773, 57774, 57775, 57779, 57780, 57788, 57791, 57805, 57806, 57815, 57817, 57818, 57832, 57836, 57848, 57853, 57865, 57869, 57872, 57882, 57886, 57887, 57899, 57901, 57904, 57910, 57911, 57916, 57917, 57920, 57935, 31703, 31705, 31712, 31714, 31718, 32332, 32335, 32336, 32337, 32339, 32340, 32342, 45495, 45502, 45505, 45509, 45521, 45524, 45532, 45539, 45542, 45557, 45566, 45570, 45576, 45580, 45583, 45585, 45590, 45599, 45604, 45608, 45619, 45628, 45631, 45633, 45639, 45655, 45656, 45657, 45672, 45689, 45698, 45703, 45708, 45709, 45724, 45727, 45745, 45761, 45765, 45767, 45768, 45770, 45774, 45779, 45783, 45788, 45797, 45801, 45805, 45820, 45835, 45838, 45842, 45843, 45845, 45849, 45865, 45885, 45893, 45910, 44596, 44597, 44600, 82021, 82030, 82036, 82040, 82041, 82042, 82043, 82049, 82055, 82065, 82075, 82090, 82091, 82100, 82115, 82118, 82119, 82122, 82132, 82133, 82139, 82147, 82148, 82150, 82159, 82178, 82202, 82207, 82209, 82211, 82221, 82235, 82245, 82249, 82279, 82290, 89978, 89980, 89992, 89997, 90005, 90014, 90020, 90040, 90044, 90046, 90049, 90057, 90061, 90066, 90067, 90070, 90078, 90103, 90111, 90121, 90135, 76612, 76618, 76625, 76627, 76633, 76637, 76639, 76644, 76652, 76659, 76665, 76667, 76674, 83690, 83697, 83699, 83700, 83709, 83717, 83724, 83728, 83746, 83751, 83766, 83768, 83776, 83782, 83785, 83794, 83802, 83808, 83831, 83838, 83845, 83854, 83857, 83869, 83873, 83875, 83887, 83892, 83899, 83901, 83908, 19719, 19720, 19721, 19724, 19725, 19729, 19730, 19731, 19732, 19736, 19737, 19738, 19739, 19740, 19741, 19742, 19744, 19746, 19750, 19753, 19758, 19761, 19762, 19763, 19768, 27995, 27996, 27997, 27998, 28000, 28001, 28003, 28005, 28006, 28009, 28010, 28013, 28016, 28017, 28018, 28020, 28021, 28022, 28023, 28024, 28029, 28031, 28033, 28034, 28036, 28037, 28038, 28039, 28041, 28043, 28044, 28045, 28046, 28047, 28048, 28050, 28052, 28057, 28058, 28060, 28061, 28063, 28066, 28068, 28071, 28073, 28077, 28079, 28080, 28083, 28084, 28086, 28089, 28090, 28091, 28093, 28094, 28096, 28099, 28102, 28104, 28106, 28107, 28108, 28109, 28111, 30228, 30229, 28572, 28573, 28575, 28576, 28577, 28579, 28584, 28586, 28587, 28589, 28591, 28594, 28595, 28596, 28597, 28600, 28603, 28604, 28606, 28607, 43254, 43257, 43276, 43283, 43296, 43320, 43322, 43323, 43325, 43330, 43359, 43386, 43392, 43400, 43414, 43417, 43430, 43431, 43437, 43439, 43452, 43461, 43467, 43472, 43481, 43482, 43484, 43503, 43507, 43529, 43538, 43540, 43551, 43559, 43563, 43564, 43571, 43585, 43599, 43602, 43613, 43615, 43621, 43630, 43632, 43633, 43637, 43640, 50603, 50620, 50621, 50623, 50627, 50628, 50629, 50634, 50640, 50643, 50648, 50649, 50672, 50691, 50696, 50710, 58836, 58839, 58848, 58851, 58855, 58857, 58862, 58865, 58871, 58881, 58889, 58891, 58895, 58903, 58917, 58932, 58938, 58940, 58945, 58947, 58948, 58955, 58957, 58967, 58976, 58995, 59002, 59004, 59005, 59007, 59016, 59019, 59029, 59043, 59049, 59051, 59053, 59057, 59065, 59067, 59069, 59072, 59073, 59085, 59101, 59102, 59104, 59113, 59124, 59134, 59135, 59136, 59141, 59147, 59148, 45913, 32784, 32786, 32787, 32788, 32790, 32791, 32797, 32798, 32799, 32801, 32804, 32805, 32806, 32807, 32810, 40004, 40009, 40033, 40036, 40057, 40059, 40066, 40083, 40084, 40094, 40116, 40120, 40133, 40138, 40161, 40175, 40177, 40183, 40187, 40198, 40200, 40204, 40205, 40216, 40227, 40241, 40246, 47326, 47335, 47342, 47351, 47357, 47380, 47381, 47393, 47406, 47407, 47409, 47410, 47413, 47419, 47420, 47424, 47428, 47430, 47436, 47443, 47448, 47450, 47453, 47466, 61913, 61920, 61924, 61926, 61928, 61932, 61939, 61940, 61948, 61954, 61956, 61959, 61980, 61984, 61998, 62004, 62007, 62009, 62018, 62019, 62032, 62033, 41615, 41619, 41621, 41624, 41625, 41631, 41638, 41640, 41661, 41670, 41678, 41682, 41687, 41689, 41696, 41701, 41710, 41714, 41716, 41719, 41724, 41729, 41738, 41744, 41758, 41782, 41788, 41792, 41795, 41812, 41822, 41823, 41830, 41842, 41843, 24346, 24347, 24348, 30779, 30780, 30781, 30784, 30790, 30793, 30795, 30797, 30804, 30805, 30806, 30807, 30808, 30809, 30810, 30811, 30812, 30816, 30820, 30821, 30824, 30825, 30827, 30828, 30829, 30830, 30831, 30832, 30833, 30834, 30837, 30838, 30839, 30841, 30842, 30845, 30847, 30848, 30850, 30851, 30853, 30854, 30857, 30859, 30860, 30861, 30862, 30863, 30865, 30866, 30868, 30872, 30873, 30876, 30877, 30880, 30881, 30885, 30887, 30888, 30889, 30891, 24785, 24787, 24790, 24792, 24793, 24795, 24796, 23322, 23323, 23324, 23326, 23327, 23328, 23329, 23330, 23333, 23342, 23343, 23344, 23345, 23350, 23351, 23352, 23354, 23355, 23356, 23358, 23361, 23363, 23364, 23365, 23366, 23368, 23371, 23373, 23375, 25289, 25290, 25293, 25294, 25296, 25297, 25300, 25301, 25302, 25303, 25304, 25305, 25306, 28608, 28609, 28614, 28616, 28619, 28620, 28621, 28624, 28625, 28626, 28628, 28629, 28630, 28631, 28632, 28636, 28637, 28638, 28639, 28641, 30501, 30503, 30504, 30506, 30514, 30515, 30516, 30518, 30522, 30524, 30525, 30526, 30528, 30531, 30532, 30536, 30537, 30539, 30540, 30541, 30542, 30543, 30547, 30548, 30549, 30550, 30551, 27058, 27059, 27061, 27063, 27064, 27065, 27067, 27068, 29031, 29032, 29038, 29040, 29042, 29044, 29046, 29051, 29055, 29059, 29060, 29064, 29066, 29067, 29070, 29071, 29072, 29073, 29075, 29076, 29077, 29078, 29080, 29085, 29086, 29087, 29088, 29091, 29092, 29094, 29096, 29098, 29101, 29102, 29103, 29106, 29111, 29116, 29119, 29121, 29123, 29127, 29128, 29129, 29130, 29131, 29133, 29134, 29135, 29137, 29138, 59152, 59156, 59158, 59166, 59169, 59188, 59194, 59198, 59199, 32088, 32092, 32093, 32094, 32097, 32100, 53584, 53591, 53594, 53596, 53600, 53612, 53619, 53633, 53636, 53642, 53654, 53657, 53664, 53669, 53679, 53695, 53714, 53722, 53724, 53725, 53729, 53731, 53739, 53743, 53751, 53754, 53759, 53763, 60608, 60614, 60619, 60624, 60626, 60637, 60641, 60653, 60659, 60660, 60666, 60667, 60672, 60674, 60702, 60716, 60719, 60722, 60726, 60733, 60736, 60737, 60739, 60747, 60749, 60767, 60775, 60776, 60782, 60790, 60792, 60798, 60805, 60825, 48690, 48692, 55094, 55104, 55105, 55110, 55111, 55113, 55118, 55121, 55122, 55136, 55138, 55141, 55143, 55145, 55147, 55150, 55156, 55163, 55170, 55180, 55188, 55193, 55205, 55209, 55219, 55232, 55247, 55260, 55263, 55265, 55267, 55281, 55287, 55291, 55320, 41863, 41874, 41875, 41882, 41891, 41897, 41899, 41902, 41914, 41929, 41934, 41935, 41937, 41958, 41962, 41966, 41976, 41982, 41984, 41996, 23427, 23428, 23429, 23430, 23431, 23432, 23433, 23434, 23441, 23442, 23447, 23449, 23450, 23451, 23452, 23454, 23459, 23461, 23462, 23463, 23464, 23469, 23470, 23473, 23475, 23480, 23482, 23485, 23486, 23488, 23490, 23491, 23492, 23493, 23497, 23501, 23502, 25413, 25414, 25418, 25419, 25420, 25422, 25423, 25426, 25428, 25429, 25430, 25432, 25434, 25439, 25440, 25442, 25446, 25448, 25449, 25450, 25452, 25455, 25457, 25458, 25459, 45922, 45930, 45936, 45942, 45949, 45956, 45959, 45961, 45962, 52344, 52347, 52350, 52355, 52359, 52363, 52389, 52402, 52411, 52412, 52420, 52441, 52448, 52455, 52456, 52467, 52482, 52484, 52490, 52494, 52503, 52504, 52505, 52506, 52509, 52518, 52529, 52530, 25307, 25312, 25313, 25315, 25317, 25321, 25324, 25325, 25326, 25329, 25330, 25332, 25333, 25334, 25335, 25338, 25339, 25340, 25343, 25345, 25348, 25349, 23797, 23798, 23799, 23801, 23806, 23807, 23808, 23810, 23811, 23817, 23819, 23821, 23827, 23828, 23831, 23833, 23835, 23837, 23838, 23839, 23842, 23845, 23846, 23847, 23848, 23850, 23851, 23852, 23861, 23862, 23863, 23864, 23871, 23875, 23877, 23878, 23880, 23881, 23882, 23883, 23884, 23885, 25797, 25798, 25802, 25803, 25808, 25809, 25810, 25813, 25816, 25817, 25818, 25820, 25821, 25823, 25824, 25825, 25827, 24353, 24356, 24357, 24358, 24360, 24364, 24366, 24367, 24369, 24371, 24373, 24375, 24376, 24377, 24378, 24383, 24384, 24386, 24387, 24389, 24390, 24391, 24392, 24395, 29139, 29140, 29141, 19771, 19775, 19778, 19779, 19780, 19782, 19784, 19787, 19788, 19790, 19792, 19798, 19799, 19803, 19809, 19810, 19811, 19813, 19814, 19816, 19818, 19822, 19824, 19827, 21615, 21622, 21623, 21625, 21627, 21628, 21629, 21631, 21633, 21634, 21637, 21638, 21639, 21641, 21642, 21643, 21647, 21651, 21652, 21653, 21654, 21656, 21658, 21659, 21660, 21661, 21662, 21663, 21666, 21668, 21670, 21672, 21673, 21674, 21676, 21678, 21679, 30230, 30231, 30232, 30235, 30239, 30240, 30241, 30243, 30244, 30248, 30253, 30255, 30256, 30258, 30259, 30265, 30266, 30268, 30274, 30275, 30276, 30277, 30278, 30279, 30282, 30285, 30287, 30292, 30296, 30299, 30302, 30305, 30306, 30308, 30309, 30315, 30316, 55328, 55332, 55333, 55334, 55349, 55363, 55365, 55386, 55393, 55396, 55398, 55400, 55402, 55409, 55411, 55423, 55428, 55441, 55446, 55473, 55477, 55479, 55512, 55514, 55515, 55519, 55523, 55529, 55534, 55539, 55543, 55545, 55570, 42826, 42829, 42830, 42843, 42851, 42854, 42860, 42870, 42878, 42892, 42894, 42898, 42904, 42919, 42926, 42937, 42941, 42948, 42950, 42961, 42968, 42969, 42971, 42982, 42995, 43003, 43006, 43037, 43047, 43052, 43065, 43066, 43074, 43080, 43089, 50139, 50141, 50142, 50148, 50151, 50161, 50170, 50174, 50178, 50182, 50189, 50197, 50204, 50212, 50214, 50217, 50221, 50231, 50237, 50252, 50254, 50257, 50261, 50286, 50289, 50303, 50312, 32101, 32103, 32104, 32105, 32106, 32107, 32110, 32111, 32112, 32115, 32117, 32119, 32122, 32123, 32127, 32130, 32132, 52532, 52533, 52535, 52541, 52551, 52553, 52566, 52574, 52577, 52582, 52586, 52590, 52593, 52594, 52602, 52606, 52615, 52619, 52620, 52622, 52626, 52641, 52642, 52657, 52663, 52680, 52687, 52693, 52695, 52696, 52703, 52725, 52726, 52730, 52736, 52739, 52746, 52750, 52751, 52754, 47472, 47473, 47509, 47512, 47513, 47514, 47520, 47522, 47532, 47543, 47546, 47547, 47556, 47563, 47568, 47569, 47577, 47578, 47582, 47591, 47598, 47628, 47637, 47643, 47647, 47654, 47667, 47668, 47670, 47673, 47683, 47699, 47712, 47715, 47721, 47724, 47726, 47731, 47733, 47747, 47748, 47757, 47769, 47786, 47788, 54228, 54229, 54238, 54247, 54257, 54260, 54262, 54264, 54268, 54276, 54281, 54305, 54311, 54320, 54340, 54341, 54345, 54348, 42009, 42013, 42028, 42031, 42038, 42049, 42055, 42058, 42060, 42062, 42066, 42067, 42070, 42071, 42075, 26302, 26303, 26304, 26306, 26307, 26311, 26312, 26313, 26315, 26318, 26319, 26320, 26326, 26327, 26328, 26329, 26331, 26334, 26337, 26342, 26343, 26348, 26349, 26350, 26352, 26353, 26355, 26356, 26358, 26360, 26361, 26364, 26365, 26366, 26367, 26368, 26369, 26372, 26373, 26376, 26379, 24797, 24798, 24799, 24801, 24803, 24804, 24805, 24806, 24808, 24809, 24811, 24812, 24815, 24816, 24819, 24821, 24822, 24823, 24825, 24827, 24828, 24830, 24831, 24832, 24833, 24834, 24835, 24836, 24837, 24838, 24840, 24841, 24842, 24844, 24845, 24846, 24850, 24852, 24853, 24856, 24860, 24861, 24862, 24863, 24864, 24865, 24866, 24867, 24868, 24870, 24873, 24875, 24876, 24877, 24880, 24882, 24885, 24886, 24892, 24893, 24894, 24895, 24899, 24900, 24901, 24903, 26812, 26813, 26815, 26816, 26817, 26818, 27388, 27389, 27390, 27391, 30317, 30320, 30322, 30323, 30329, 30338, 30340, 30341, 30344, 30346, 30347, 30349, 30350, 30353, 30354, 30355, 30356, 30357, 30358, 30359, 30552, 30555, 30556, 30559, 30561, 30562, 30563, 30564, 30566, 30567, 30568, 30570, 30571, 30572, 30573, 30575, 30579, 30581, 30583, 30588, 30589, 30591, 30593, 30594, 30595, 30597, 30599, 30601, 30604, 30605, 30606, 30608, 30612, 30616, 30617, 30620, 30621, 30622, 30625, 30626, 30630, 24529, 24530, 24532, 24534, 24541, 24543, 24544, 24546, 24547, 24550, 24551, 24553, 24554, 24555, 24556, 24557, 24560, 24561, 24567, 24572, 24573, 24574, 24575, 24576, 24577, 24578, 29142, 29143, 29148, 29149, 29150, 29151, 29152, 29153, 29154, 29155, 29156, 29157, 29158, 31294, 31296, 31297, 31298, 31305, 31307, 31308, 31312, 31313, 31314, 31315, 31316, 31317, 31318, 31319, 32133, 32134, 32136, 32140, 32143, 32148, 32150, 32153, 32154, 32157, 32161, 32164, 32166, 32167, 32170, 32171, 32173, 32175, 32180, 32181, 32182, 32184, 32190, 32194, 32202, 32203, 32205, 32206, 32207, 32208, 32211, 45076, 45079, 45088, 45092, 45099, 60838, 60842, 60843, 60846, 60850, 60864, 60868, 60887, 60897, 60907, 60919, 60922, 60949, 60955, 60958, 60966, 60968, 60970, 60975, 60984, 60985, 60987, 60988, 60991, 60994, 61003, 61005, 61007, 61012, 61024, 61033, 32612, 32613, 32614, 32618, 32620, 32621, 32626, 32627, 32628, 32629, 32630, 32632, 32633, 32634, 32635, 32640, 32644, 32647, 32648, 32649, 32650, 32652, 32655, 32656, 32657, 32658, 32660, 32662, 32663, 32667, 32669, 32670, 42078, 42091, 42106, 42109, 42110, 42124, 42129, 42130, 42132, 42135, 42141, 49151, 49164, 49168, 49176, 49195, 49197, 49205, 49226, 49229, 49232, 49245, 49261, 49265, 49281, 49292, 49295, 49300, 49310, 49311, 49314, 49315, 49322, 49323, 49328, 49340, 49350, 49359, 49370, 49377, 49379, 49380, 49406, 49408, 49431, 49434, 49447, 49449, 49453, 49456, 49457, 49460, 49463, 49469, 49480, 25461, 25462, 25463, 25464, 25466, 25467, 25468, 25469, 25473, 25474, 25475, 25476, 25480, 25484, 25487, 25491, 25492, 25493, 25495, 25498, 25499, 25501, 25505, 25506, 25508, 25509, 25510, 25511, 25512, 25515, 25516, 25518, 25519, 25521, 25524, 25526, 25534, 25536, 25537, 27461, 27462, 27464, 27465, 27466, 27467, 27468, 27469, 27471, 27472, 27476, 27477, 27479, 27480, 27481, 27482, 27483, 27489, 27491, 27493, 27395, 27396, 27397, 27398, 27402, 27404, 27409, 27411, 27412, 27413, 27414, 27415, 27417, 27419, 27420, 27422, 27423, 27425, 27426, 27427, 27431, 27434, 27436, 27438, 27439, 27441, 27443, 27447, 27448, 27449, 27451, 27453, 27454, 27455, 27459, 29425, 29426, 29427, 29429, 29430, 29431, 29432, 29434, 29435, 29439, 29445, 29446, 29447, 29449, 29450, 29453, 29456, 29458, 29460, 29461, 29462, 29463, 29464, 29465, 29467, 29468, 29469, 29471, 29473, 29474, 29476, 29477, 29480, 29482, 29483, 29485, 25828, 25829, 25830, 25832, 25833, 25838, 25841, 25842, 25844, 25845, 25846, 25847, 25848, 25850, 25851, 25852, 25853, 25854, 25857, 25858, 25859, 25860, 25862, 25864, 25865, 25866, 25869, 25871, 25873, 25874, 25875, 25876, 25877, 25878, 25879, 25881, 25882, 25884, 25885, 25886, 25887, 25889, 25890, 25891, 25892, 25893, 25894, 25896, 25897, 25901, 25906, 25907, 25910, 25912, 25913, 25914, 25915, 25916, 25917, 25918, 31321, 31325, 31326, 31327, 31331, 31332, 31333, 31339, 31341, 31344, 31347, 31352, 31355, 31356, 31359, 31360, 31363, 31364, 31365, 31367, 31368, 31369, 31370, 31377, 31379, 31380, 31381, 31389, 31390, 31392, 31393, 31394, 31396, 31398, 31399, 21680, 21682, 21683, 21684, 21686, 21688, 21689, 21690, 21693, 21694, 21696, 21697, 21699, 21700, 21701, 21702, 21704, 21706, 21707, 21709, 21710, 21712, 21713, 21714, 21715, 21716, 21720, 21722, 21723, 21727, 21729, 21731, 21732, 15755, 15756, 15757, 15758, 15760, 15761, 15764, 15766, 15772, 15773, 15775, 15776, 15777, 15778, 15780, 15782, 15784, 15785, 15786, 15788, 15789, 15794, 15798, 15799, 15800, 15801, 15809, 15810, 15811, 15814, 15815, 15816, 15817, 30361, 24019, 24020, 24023, 32671, 55571, 55573, 55575, 55579, 55588, 62575, 62576, 62577, 62581, 62586, 62600, 62603, 62608, 62613, 62622, 62626, 62639, 62641, 62650, 62652, 62653, 62654, 62669, 62672, 62681, 62684, 62691, 62693, 62699, 62715, 62721, 62722, 62731, 62733, 62734, 62736, 62745, 62761, 62762, 62764, 62765, 62774, 62776, 62782, 62791, 62798, 62803, 62813, 62824, 62829, 62841, 62854, 62855, 62858, 62861, 62863, 62887, 62918, 62919, 62920, 62921, 62925, 62931, 62933, 62945, 57168, 57172, 57180, 57190, 57199, 57207, 57231, 57233, 57239, 57251, 57256, 57264, 57275, 57276, 57277, 57288, 57290, 57293, 57300, 57307, 57308, 57310, 57314, 57321, 57330, 57333, 57342, 57344, 57366, 57369, 57377, 57381, 57390, 57398, 57427, 57437, 57449, 57467, 57470, 57476, 57490, 31564, 27496, 27497, 27498, 27500, 27501, 27504, 52762, 52777, 52778, 52796, 52800, 52807, 52808, 52824, 59619, 59637, 59638, 59642, 59650, 59687, 59700, 59701, 59702, 59706, 59707, 59710, 59712, 59716, 59720, 59725, 59731, 59736, 59742, 59757, 59766, 59783, 59788, 59795, 59797, 59801, 59816, 59819, 59822, 59825, 59828, 59832, 59833, 59839, 59848, 59854, 59855, 59858, 59874, 59875, 59877, 59881, 59883, 59890, 59907, 59916, 59917, 59918, 59922, 59930, 59941, 59945, 59948, 59959, 59960, 54355, 54364, 54380, 54381, 54382, 54390, 54392, 54393, 54397, 54401, 54405, 54406, 54429, 54438, 54444, 54452, 54461, 54462, 54473, 54489, 54498, 54502, 54506, 54508, 54509, 54511, 54523, 54526, 54527, 54534, 54535, 54540, 54547, 54559, 54563, 54564, 54586, 54589, 54600, 54602, 54609, 54610, 54613, 54623, 54625, 54631, 54636, 25920, 25923, 27856, 27860, 27861, 27862, 27863, 27865, 27869, 27870, 27871, 27872, 27874, 26381, 26391, 26394, 26395, 26397, 26405, 26407, 26409, 26413, 26415, 26419, 26421, 26426, 26429, 28380, 28383, 28388, 28390, 28394, 28395, 28396, 28397, 28398, 28400, 28405, 28406, 28407, 28408, 28410, 28411, 28413, 28415, 28416, 28419, 28420, 28421, 28422, 28423, 28426, 28428, 28432, 28436, 28438, 28439, 28440, 28441, 28445, 28446, 28447, 28450, 28453, 28454, 28456, 28457, 28458, 28459, 26820, 26822, 26825, 26826, 26828, 26833, 26834, 26835, 26837, 26838, 26841, 26842, 26844, 26849, 26850, 26851, 26852, 26856, 26858, 26861, 26864, 26865, 26866, 26867, 26870, 26871, 24026, 24028, 24030, 24031, 24032, 24033, 24034, 24035, 24036, 24038, 24040, 24041, 24043, 24046, 24047, 24050, 24054, 24055, 24056, 24061, 24065, 24066, 24067, 24069, 24070, 24072, 24073, 24074, 24075, 24076, 24077, 24079, 24081, 24088, 24089, 24093, 24094, 24096, 24097, 24098, 24099, 24101, 24103, 24105, 24106, 24109, 24112, 24113, 24114, 24116, 24120, 24121, 24122, 24123, 24125, 24132, 24579, 24580, 24581, 24582, 24587, 24588, 24589, 24590, 24591, 24593, 24594, 24595, 24598, 24604, 24605, 24607, 24609, 24610, 24612, 24614, 24615, 24619, 24621, 24622, 24623, 24625, 24629, 24631, 24632, 24634, 24635, 24637, 24641, 24642, 24644, 24646, 24647, 24652, 24653, 26553, 26554, 26555, 26556, 26557, 26559, 26560, 26561, 26562, 26563, 26565, 26566, 31565, 31566, 31568, 31569, 31573, 31575, 31577, 31579, 31580, 31581, 31584, 31585, 31588, 31589, 31591, 31594, 31597, 31598, 31599, 31604, 45102, 45104, 45111, 45112, 45115, 45123, 45126, 45127, 45129, 45131, 45132, 45138, 45146, 45152, 45160, 45169, 45175, 45176, 45181, 45199, 45202, 45210, 45219, 45226, 45227, 45231, 45236, 45248, 45249, 45269, 45271, 45272, 45273, 45277, 45280, 45281, 45292, 45293, 45297, 45298, 45300, 45304, 45307, 45309, 45310, 45316, 45321, 45331, 45342, 45344, 45346, 45355, 45359, 45367, 45374, 45380, 45391, 45395, 45407, 45409, 45410, 45413, 45419, 45426, 45431, 45434, 45458, 51914, 51918, 51921, 32673, 32675, 32677, 32683, 32684, 32685, 32686, 32688, 32689, 32690, 32691, 32693, 32694, 32695, 32696, 32697, 32698, 32699, 32704, 32706, 32712, 32713, 32715, 32716, 32717, 54642, 54648, 54651, 54655, 54663, 54679, 61041, 61053, 61068, 61073, 61076, 61081, 61084, 61085, 61111, 61118, 61119, 61123, 61128, 61132, 61138, 49496, 49510, 49534, 49545, 49554, 49556, 49558, 49561, 49562, 49566, 49586, 49592, 49594, 49603, 49604, 56069, 56070, 56073, 56076, 56089, 56097, 56100, 56106, 56110, 56115, 56134, 56152, 56155, 56157, 56165, 56168, 56184, 56187, 56191, 56195, 56201, 56209, 56212, 56224, 56225, 56226, 56227, 56240, 56266, 56269, 56279, 56283, 56288, 56289, 56294, 56317, 56319, 56321, 56322, 56327, 56334, 27509, 27511, 27513, 27515, 27516, 27518, 27519, 27521, 27523, 27525, 27529, 27530, 27531, 27532, 27533, 27535, 27537, 27538, 27539, 27540, 27541, 27544, 27546, 27548, 26880, 26881, 26887, 26890, 26896, 26897, 26901, 26902, 26904, 26905, 26906, 26907, 26910, 26911, 26913, 26914, 26915, 26916, 26919, 26920, 26921, 26922, 26923, 26928, 26929, 26934, 26935, 26936, 26937, 26940, 26941, 28898, 28900, 28901, 28902, 29364, 29366, 29367, 29371, 29372, 29374, 29375, 29381, 29382, 29383, 29384, 29385, 29388, 29390, 29393, 29394, 29399, 29402, 29403, 29406, 29408, 29414, 29415, 29417, 29419, 29420, 29422, 23254, 23257, 23258, 23259, 23260, 23262, 23263, 23266, 23267, 23271, 23273, 23274, 23276, 23277, 23282, 23284, 23287, 23288, 23291, 23292, 23293, 23294, 23295, 23298, 23299, 23301, 23304, 23305, 23310, 23313, 23314, 23317, 27883, 27884, 27885, 27886, 27889, 27892, 27893, 27894, 27896, 27900, 27903, 27904, 27907, 27910, 27911, 26569, 26570, 26571, 26572, 26575, 26576, 26578, 26581, 26585, 26586, 26587, 26588, 26589, 26590, 26591, 26592, 26593, 26594, 31405, 31408, 31409, 31412, 31413, 31414, 31423, 31425, 25031, 25032, 25033, 25036, 25039, 25040, 25044, 25048, 25049, 25052, 25053, 25054, 25055, 25056, 25059, 25061, 25063, 25064, 25065, 25067, 25068, 25069, 25074, 25075, 25077, 25079, 25082, 25083, 25086, 25092, 25095, 25096, 25100, 25101, 25102, 25103, 25104, 25106, 25107, 25110, 25111, 25113, 25114, 25115, 25118, 25119, 25121, 25124, 15818, 15819, 15821, 15822, 15830, 15831, 15833, 15835, 15836, 15837, 15839, 15840, 15842, 15843, 15847, 15848, 15849, 15851, 15852, 15853, 15854, 15855, 15856, 15857, 15859, 15860, 15861, 15862, 15864, 15865, 15869, 15871, 15872, 32720, 32721, 32722, 32723, 32725, 32727, 32728, 32730, 32732, 32735, 46836, 46837, 46853, 46854, 46872, 46878, 46889, 46904, 46910, 46911, 46915, 46926, 46927, 46935, 46938, 46943, 46946, 46947, 46950, 46959, 46960, 46962, 46975, 46983, 46984, 46994, 46996, 47000, 47003, 47014, 47045, 47046, 62954, 62958, 62975, 62994, 63000, 63003, 63007, 41192, 41199, 41203, 41205, 41209, 41217, 41221, 41234, 41244, 41245, 41248, 41251, 41254, 41260, 41266, 41269, 41278, 41282, 41288, 41302, 41307, 41308, 41311, 41312, 41315, 41318, 41326, 41328, 41332, 41336, 41343, 41345, 41350, 41359, 41361, 41370, 41383, 41384, 41389, 41393, 41402, 41405, 41408, 41409, 41414, 41430, 41432, 41434, 41439, 41446, 41448, 41460, 41468, 41473, 41487, 41517, 41518, 41520, 41524, 41526, 41547, 50734, 50739, 50743, 50744, 50756, 27550, 27551, 27552, 27553, 27556, 27558, 27559, 27560, 27562, 27564, 27565, 27568, 27569, 27571, 27572, 27574, 27575, 27576, 27577, 27579, 27581, 27582, 27583, 27584, 29556, 29557, 29559, 29560, 29562, 29565, 29566, 29568, 29569, 29571, 29572, 29573, 29577, 29578, 29579, 29582, 29583, 29586, 29588, 29589, 29592, 29593, 29595, 59977, 59980, 59991, 60003, 60014, 60020, 60025, 60030, 60034, 60037, 60038, 60039, 60048, 60049, 32343, 32345, 32346, 32348, 32349, 32350, 32352, 32354, 32356, 32361, 32362, 32367, 32372, 32373, 32374, 32376, 32377, 32379, 32380, 32381, 32384, 32385, 32388, 32389, 32392, 32393, 32394, 32396, 32398, 32399, 32400, 32401, 32403, 32406, 32407, 32408, 32410, 32412, 32414, 32416, 32417, 32419, 32420, 32421, 32422, 32424, 32432, 32433, 32436, 32437, 32438, 32441, 32442, 32443, 61153, 61156, 61170, 27912, 27915, 27918, 27920, 27921, 27925, 27926, 27927, 27928, 27930, 27931, 27933, 27934, 27936, 27937, 27938, 27941, 27943, 27944, 27945, 27947, 27949, 27951, 27952, 27953, 27958, 27959, 27961, 27962, 27964, 27966, 27967, 27968, 27969, 27970, 27971, 27973, 27974, 27976, 27977, 27978, 27979, 27981, 27982, 30097, 30098, 30099, 30103, 30104, 30105, 30106, 30107, 30110, 30111, 30112, 30113, 30116, 28462, 28463, 28464, 28465, 28473, 28474, 28475, 28476, 28477, 28478, 28480, 28482, 28483, 28487, 28492, 28493, 28495, 28497, 28499, 28501, 28502, 28504, 28505, 28506, 28507, 28509, 28511, 28513, 30631, 30632, 30633, 30634, 30637, 30638, 30639, 30642, 30644, 30645, 30646, 30647, 30649, 30650, 30651, 30652, 30656, 30658, 30661, 30662, 30667, 30669, 30670, 30671, 30673, 30675, 30676, 30677, 30678, 30681, 30683, 30685, 30687, 15875, 15877, 15878, 17763, 17765, 17766, 17772, 17773, 17781, 17785, 17786, 17787, 17788, 17789, 17790, 17791, 17792, 17795, 17797, 17798, 17799, 17800, 17802, 17803, 17804, 17805, 17806, 17807, 17808, 17810, 17812, 17813, 17814, 17816, 17817, 17819, 17820, 17821, 24136, 24137, 24140, 26046, 26047, 26051, 26054, 26056, 26057, 26058, 26059, 26061, 26062, 26069, 26070, 26071, 26072, 26073, 26075, 26077, 26079, 26083, 26084, 26085, 26088, 26089, 26090, 26092, 26093, 26094, 26096, 26098, 26099, 26103, 26105, 26106, 26114, 26116, 26117, 26119, 26120, 26121, 26123, 26124, 26125, 26128, 26130, 26132, 26133, 26134, 26135, 26139, 26141, 26142, 26144, 26145, 26146, 26148, 26149, 26151, 26152, 26153, 26157, 26158, 26159, 26160, 53194, 53205, 53215, 53220, 53225, 53228, 53238, 53244, 53247, 53252, 53258, 53269, 53271, 50757, 50760, 50762, 50767, 50770, 50784, 50804, 50807, 50817, 50819, 50822, 50837, 50847, 50855, 50857, 50859, 50860, 50863, 50877, 50882, 50883, 50885, 50888, 50889, 50890, 50892, 50893, 50895, 50899, 50901, 50911, 50915, 50924, 50928, 50936, 50962, 50976, 50981, 50984, 50985, 50991, 50996, 50998, 51000, 51004, 51006, 51013, 51017, 57492, 57496, 57506, 57507, 57518, 57528, 57535, 57543, 57545, 57546, 57554, 57558, 57572, 57578, 57581, 51929, 51931, 51933, 51935, 51942, 51943, 51948, 51952, 51955, 51964, 51971, 51981, 51986, 52001, 52002, 52008, 52010, 52018, 52021, 52026, 52027, 52040, 52058, 52068, 52076, 52077, 52079, 52084, 52087, 52094, 52097, 52107, 52118, 52125, 52130, 52131, 52136, 52139, 52147, 52156, 52162, 52183, 52186, 52187, 52188, 52193, 52199, 52205, 52214, 52219, 52225, 52229, 52234, 52245, 52247, 52248, 52249, 52254, 52260, 52261, 61180, 61182, 61183, 61187, 61189, 61198, 61207, 61213, 61215, 61237, 61249, 61259, 61265, 61272, 61276, 61280, 61282, 61298, 61354, 61375, 61377, 61378, 61413, 61415, 61417, 61421, 61434, 61441, 61452, 61453, 61455, 61462, 61463, 61465, 61472, 61473, 61474, 61492, 61502, 61516, 61517, 61522, 61526, 61527, 61538, 40269, 40273, 40274, 40287, 40292, 40299, 40303, 40304, 40305, 40308, 40310, 40325, 40334, 56340, 56348, 56353, 56356, 56361, 56364, 56369, 56372, 56385, 56390, 56391, 56394, 56407, 56409, 56430, 56443, 56446, 56447, 56452, 56456, 56458, 56459, 56460, 56476, 56478, 56484, 63461, 63467, 63473, 63481, 63482, 63489, 63494, 63496, 63507, 63512, 63515, 63519, 63522, 63525, 63531, 63536, 63537, 63544, 63560, 63567, 63569, 63571, 63572, 63579, 63581, 63582, 63607, 63616, 63619, 63621, 63628, 63639, 63646, 63659, 30688, 30689, 30693, 30694, 30696, 30697, 30698, 28903, 28905, 28906, 28907, 28908, 28910, 28911, 28914, 28918, 28921, 28925, 28927, 28929, 28933, 28936, 28944, 28946, 28951, 28953, 28954, 28958, 28959, 28960, 28962, 28963, 28977, 28980, 28982, 28984, 28985, 28986, 28988, 28989, 28990, 28991, 28992, 28993, 28994, 28996, 28998, 28999, 29003, 29007, 29008, 29009, 29011, 29012, 29014, 29015, 29017, 29021, 29023, 29024, 29025, 29026, 29027, 25351, 25354, 25355, 25357, 25360, 25361, 25364, 25365, 25367, 25368, 25371, 25372, 25374, 25375, 25378, 25381, 25383, 25384, 25386, 25387, 25388, 25389, 25391, 25394, 25395, 25399, 25402, 25403, 25404, 25405, 25406, 25407, 25409, 25410, 25411, 25412, 27326, 27328, 27331, 27332, 27333, 27334, 27336, 27337, 53273, 53280, 53282, 53283, 53285, 53288, 53290, 53294, 53297, 53308, 60054, 60057, 60062, 60104, 60122, 60126, 60130, 60131, 60142, 60146, 60168, 60170, 60174, 60175, 60176, 60179, 60180, 60181, 60194, 60195, 60198, 60204, 60222, 60228, 60235, 60236, 60254, 60272, 60303, 60309, 60316, 60325, 60343, 60347, 60361, 60380, 60383, 60389, 60393, 60399, 60408, 60409, 54729, 54736, 54757, 54762, 54764, 54765, 54766, 54775, 54788, 54795, 54797, 54805, 54808, 54811, 54812, 54814, 54822, 54826, 54832, 54850, 54867, 54872, 54877, 54878, 54891, 54892, 54893, 54894, 54897, 54898, 54900, 54908, 54911, 54915, 54923, 54934, 54935, 54936, 54939, 54945, 54946, 54950, 54961, 54971, 54979, 54987, 54993, 55005, 55008, 55012, 55017, 55022, 55023, 55036, 55044, 55049, 55069, 55071, 52263, 52278, 52296, 52297, 52298, 52302, 52311, 52314, 52315, 52319, 52323, 52329, 52342, 47053, 47071, 47077, 47087, 47093, 47100, 47101, 47104, 47109, 47118, 47129, 47133, 47136, 47137, 47158, 47183, 47194, 47203, 47226, 47232, 47234, 47235, 47240, 47255, 47263, 47266, 47272, 47277, 47284, 47295, 47297, 47305, 47306, 47309, 47319, 47325, 53767, 53770, 53772, 53782, 53802, 53804, 53806, 53810, 53821, 53822, 53835, 53842, 53845, 53850, 53860, 53861, 53864, 53873, 53875, 53876, 53884, 53896, 53897, 53921, 53931, 53939, 53944, 53947, 41550, 41552, 41557, 41565, 41581, 41588, 41589, 41592, 41596, 41602, 41606, 48697, 48699, 48709, 48711, 48730, 48734, 48743, 48750, 48752, 48755, 48756, 48770, 48771, 48774, 48804, 48806, 48821, 48826, 48827, 48830, 48837, 48843, 48851, 48857, 48863, 48865, 48868, 48872, 48875, 48882, 48895, 63660, 63669, 63672, 63676, 63683, 63685, 63686, 63687, 63692, 63697, 63700, 63713, 63720, 29597, 29600, 29601, 29603, 29606, 29609, 29611, 29616, 29617, 29620, 29621, 29622, 29625, 29628, 29629, 29630, 29631, 29633, 29636, 29637, 29638, 29639, 29640, 29641, 29643, 29644, 29645, 29650, 29652, 29655, 29656, 29657, 29658, 29659, 29660, 29662, 29663, 29664, 29666, 29668, 29673, 29674, 29677, 29684, 29685, 29687, 29688, 23504, 23505, 23506, 23508, 23510, 23514, 23515, 23516, 23517, 23519, 23522, 23523, 23524, 23525, 23527, 23529, 23530, 23531, 23532, 23533, 32448, 32451, 32453, 32454, 32455, 32457, 32459, 32462, 32464, 32467, 32468, 32469, 32471, 32472, 32474, 45979, 45981, 45985, 45986, 45994, 45999, 46000, 46007, 46011, 46012, 46019, 46022, 46028, 46034, 46038, 46039, 46041, 46054, 46057, 46058, 46077, 46085, 46088, 46089, 46092, 46105, 27338, 27340, 27341, 27342, 27343, 27346, 27348, 27349, 27351, 27352, 27354, 27357, 27358, 27359, 27361, 27365, 27368, 27371, 27373, 27376, 27380, 27383, 27386, 30119, 30120, 30121, 30122, 30123, 30124, 30130, 30131, 30132, 30134, 30135, 30137, 30142, 30143, 30150, 30154, 30157, 30158, 30160, 30162, 30164, 30170, 30171, 30172, 30173, 30175, 30180, 30181, 30182, 30183, 30184, 30185, 30186, 30188, 30189, 30190, 30192, 30194, 30195, 30196, 30197, 30198, 30199, 30201, 30202, 30205, 30206, 30213, 30214, 30216, 30219, 30220, 30221, 30222, 30223, 23893, 23895, 23899, 23900, 23901, 23904, 23905, 30700, 30703, 30704, 30707, 30710, 30711, 30713, 30716, 30717, 30719, 30721, 30724, 30727, 30731, 30734, 30736, 30738, 30739, 30740, 30742, 62061, 62087, 62102, 49929, 49930, 49952, 49955, 49964, 49970, 49976, 49984, 50004, 50006, 50007, 50010, 50015, 50017, 50020, 50028, 50049, 50050, 50063, 50065, 50067, 50074, 50083, 50093, 50110, 50121, 50130, 50136, 50137, 56507, 56523, 56527, 56529, 56540, 56549, 56552, 56582, 56583, 56611, 56621, 56634, 56636, 56646, 56651, 56683, 56689, 56697, 56714, 56724, 56740, 56746, 56751, 56754, 56757, 56758, 25571, 25573, 25574, 25578, 25581, 25585, 25586, 25587, 25592, 25593, 25594, 25596, 25597, 25599, 25600, 25603, 25606, 25607, 25609, 25611, 25612, 25613, 25614, 25615, 25616, 25618, 25619, 25620, 25626, 25628, 25632, 25633, 25634, 25635, 25637, 25638, 25641, 25642, 48898, 48915, 48925, 48929, 48935, 48936, 48939, 48942, 48944, 48946, 48950, 48951, 48958, 48963, 48969, 48970, 48974, 48986, 48996, 48999, 49016, 49018, 49023, 49024, 49027, 49030, 49036, 49053, 49058, 49068, 50336, 50337, 50359, 50362, 50366, 50370, 50379, 50385, 50387, 50404, 50405, 50407, 50409, 50415, 50424, 50427, 50429, 50432, 50450, 50462, 50464, 50471, 50476, 50479, 50485, 50486, 50488, 50494, 50501, 50502, 50518, 50524, 50528, 50537, 50544, 50545, 50547, 50549, 50559, 50561, 50576, 50594, 57049, 57050, 57052, 57054, 57063, 57066, 57073, 57081, 57083, 57090, 57091, 57092, 57100, 57102, 57103, 57105, 57109, 57110, 57114, 57120, 57125, 57126, 57129, 57133, 57138, 57143, 57158, 57159, 52343, 59200, 59201, 59208, 59210, 59225, 59231, 59246, 59250, 59252, 59256, 59260, 59267, 59270, 59275, 59276, 59280, 59290, 46120, 46121, 46125, 46127, 46129, 46144, 46154, 46156, 46183, 46187, 46189, 46192, 46195, 46197, 46198, 46202, 46205, 46214, 46221, 46227, 46228, 46243, 46251, 46252, 46254, 46257, 46263, 46264, 46267, 40347, 40351, 40352, 40356, 40365, 40370, 40371, 40384, 40388, 40405, 40406, 40425, 40433, 40442, 40457, 40460, 40461, 40464, 40472, 40476, 40477, 40489, 40491, 40493, 40496, 40514, 40545, 40546, 40566, 40567, 40573, 40576, 40577, 40586, 40599, 40600, 40604, 40622, 40631, 40632, 40666, 40684, 40693, 40694, 40698, 40701, 40703, 40706, 40707, 40715, 47795, 47802, 47808, 47816, 47818, 47827, 47829, 47836, 47853, 63721, 63723, 63729, 63733, 63734, 63745, 63746, 63749, 63755, 63756, 63757, 63761, 63771, 63773, 63777, 63781, 63792, 63834, 63845, 63865, 63866, 30746, 30747, 30749, 30750, 30751, 30752, 30754, 30756, 30757, 24398, 24401, 24402, 24403, 24408, 24412, 24414, 24415, 24416, 24417, 24418, 24419, 24423, 24424, 24425, 24426, 24427, 24428, 24429, 24430, 24431, 24432, 24434, 24435, 24436, 24437, 24438, 24439, 24441, 24443, 24444, 24445, 24448, 24449, 24450, 24451, 24452, 24454, 24456, 24457, 24461, 24462, 24463, 29028, 30892, 30893, 30895, 30897, 30899, 30902, 30904, 30906, 30907, 30909, 30910, 30911, 30912, 30917, 30919, 30920, 30921, 30922, 30923, 30927, 30928, 30930, 30931, 30932, 30933, 30935, 30940, 30943, 30944, 30945, 30948, 30951, 30953, 30954, 30955, 30958, 30966, 30968, 30969, 30971, 30972, 30973, 30974, 30975, 30976, 30978, 30979, 30980, 30982, 30987, 30988, 30989, 30991, 30992, 30996, 30997, 31002, 31005, 31011, 14852, 14853, 25647, 25651, 25653, 25655, 25658, 25659, 25661, 25662, 25663, 25664, 25665, 25667, 27589, 27590, 27593, 27594, 27596, 27597, 27598, 27599, 27600, 27603, 27604, 27608, 27609, 27610, 60423, 60424, 60432, 60436, 60441, 60463, 60489, 60500, 60506, 60508, 60523, 60531, 60545, 60552, 60554, 60570, 60574, 60579, 60593, 60595, 32476, 32478, 32479, 32480, 32482, 32483, 32485, 32488, 32489, 32490, 32493, 32496, 32497, 32498, 32499, 32501, 32502, 32503, 32504, 32507, 32508, 32511, 32515, 32516, 32518, 32519, 32523, 32526, 32527, 32528, 32529, 32531, 32532, 32536, 32540, 32541, 32542, 32543, 32545, 32546, 32547, 32548, 32550, 32551, 32555, 62103, 62114, 62126, 62135, 62141, 62143, 62150, 62180, 62183, 62186, 62187, 62190, 62194, 62199, 62202, 62204, 62210, 62212, 62215, 62227, 62229, 62231, 62254, 62271, 62284, 44136, 44139, 44141, 44145, 51025, 51027, 51039, 51042, 51053, 51054, 51060, 51064, 51072, 51076, 74098, 74116, 74129, 74144, 74147, 74150, 74159, 74160, 74174, 74181, 74185, 74195, 74217, 74223, 74229, 74232, 74237, 74258, 74269, 74278, 74282, 74284, 74288, 74289, 74291, 74333, 74337, 74345, 74347, 74353, 74369, 81432, 81434, 81443, 81461, 81475, 81476, 81478, 81491, 81519, 81543, 81545, 81546, 81550, 81551, 81556, 81558, 81560, 81561, 81562, 81564, 81567, 81577, 81581, 81597, 81601, 81608, 81612, 81630, 81636, 76191, 76196, 76200, 76222, 83265, 83272, 83284, 83288, 83292, 83300, 83301, 83310, 83314, 83317, 83326, 83335, 83341, 83345, 83351, 83357, 83372, 83375, 83383, 83389, 83395, 83401, 83406, 83416, 83418, 83421, 83433, 83435, 83441, 83442, 97321, 97327, 97330, 97333, 97339, 97351, 97353, 97380, 97382, 97395, 97396, 97399, 97407, 97409, 97417, 97418, 97421, 97422, 97424, 97437, 97441, 97442, 97448, 97449, 97460, 97467, 97475, 97476, 97488, 97497, 97503, 97505, 97525, 97529, 97537, 97539, 97543, 97552, 97565, 97566, 97581, 97582, 97585, 97589, 97592, 97598, 97603, 97605, 97609, 97643, 97646, 97649, 87081, 87082, 87118, 87119, 87125, 87135, 87144, 87157, 87158, 64357, 64383, 64384, 64400, 64407, 64408, 64410, 64411, 64414, 64416, 64420, 64421, 64450, 64457, 64459, 64472, 64491, 64495, 64505, 64512, 64514, 64516, 64523, 64524, 64538, 64558, 64560, 64570, 64573, 64580, 64581, 64590, 64601, 64619, 64621, 64645, 64655, 64656, 64663, 64671, 64673, 64679, 64695, 64709, 64714, 64717, 64719, 64721, 64735, 64736, 64740, 64741, 64753, 64765, 64766, 64771, 64780, 97660, 97663, 45008, 45009, 45011, 45012, 45017, 45029, 45032, 45040, 45050, 45054, 88573, 88584, 88588, 88591, 88594, 88595, 88606, 88608, 88610, 88612, 88626, 88632, 88634, 88635, 88636, 88638, 88647, 88649, 88662, 88676, 88685, 88690, 88695, 88696, 88711, 88726, 88728, 88731, 88733, 88734, 88749, 88755, 88766, 88778, 88782, 88790, 88795, 88804, 88805, 88809, 88816, 88826, 88832, 88836, 88851, 88852, 88857, 88866, 88870, 88871, 88882, 88883, 88888, 88889, 88904, 88907, 88909, 88924, 88928, 88937, 88941, 90539, 90540, 90557, 90602, 90605, 90609, 90618, 90626, 90628, 90629, 90642, 90648, 90649, 90657, 90666, 90672, 90676, 90677, 90696, 90697, 90699, 90700, 90704, 90706, 90707, 90708, 90716, 90720, 90722, 90725, 90729, 90735, 90740, 90746, 90750, 90756, 90764, 90780, 90788, 90789, 90798, 90805, 90807, 90814, 90834, 90843, 90848, 90854, 90861, 90863, 90865, 90878, 90881, 90886, 90887, 90889, 83466, 83467, 83468, 83471, 83496, 83497, 83498, 83514, 83520, 83522, 83524, 83527, 83532, 83537, 83542, 83543, 83545, 83555, 83557, 83564, 83566, 83570, 83598, 83629, 83633, 83640, 77749, 77752, 77766, 77771, 77781, 77787, 77794, 77801, 77804, 77815, 77816, 77819, 77826, 77828, 77829, 77847, 77852, 77864, 77873, 77875, 77882, 77893, 77897, 77900, 77904, 77911, 77922, 77926, 77947, 77949, 77951, 77973, 77987, 77988, 77992, 78009, 78012, 78014, 78019, 78020, 78029, 78040, 78050, 78061, 85169, 85175, 85176, 85195, 85196, 85212, 85233, 85243, 85248, 85272, 85286, 85291, 85303, 85308, 85310, 51079, 51082, 51091, 51108, 51109, 51121, 51143, 51145, 51154, 51155, 51161, 51165, 51179, 51188, 51192, 51202, 97666, 97672, 97681, 97683, 97706, 97714, 97716, 97728, 97733, 97736, 97738, 97747, 97765, 97770, 97771, 97782, 97783, 97784, 97786, 97795, 97799, 97801, 97808, 97828, 97833, 97834, 97837, 97840, 97841, 97842, 97843, 97846, 97849, 97864, 97868, 97876, 97890, 97907, 97919, 97923, 97924, 97927, 97932, 97933, 97942, 97947, 97976, 97982, 97984, 97990, 98000, 98001, 98003, 98006, 98009, 98015, 98016, 98024, 98038, 98043, 98046, 98048, 98051, 98070, 98089, 98094, 64793, 64796, 64808, 64819, 64830, 64844, 64845, 64846, 64852, 64884, 64885, 71798, 71800, 71811, 71814, 71831, 71843, 71848, 71851, 71862, 71869, 71872, 71878, 71880, 71921, 71923, 71924, 71929, 71940, 71943, 71945, 71946, 71955, 71961, 71962, 71974, 71986, 71997, 71998, 72000, 72032, 72043, 72045, 72048, 72067, 72079, 72091, 90895, 67629, 67633, 67636, 67639, 67642, 67651, 67652, 67653, 67657, 67659, 67661, 67675, 67680, 67684, 84449, 84457, 84458, 84461, 84465, 84467, 84468, 84469, 84473, 84474, 84476, 84478, 84485, 84489, 84505, 84519, 84523, 84531, 84555, 84556, 84576, 84585, 84595, 84598, 84600, 84601, 84603, 84606, 84610, 84627, 84630, 84632, 93262, 93277, 93279, 93280, 93284, 93320, 93321, 93324, 93336, 93337, 93348, 93357, 93362, 93365, 93366, 93374, 93380, 93381, 93387, 93391, 93401, 93408, 93410, 93422, 93431, 93432, 93437, 93453, 93458, 93459, 93460, 93464, 93467, 93468, 93479, 93486, 93496, 93501, 93504, 93505, 31430, 31431, 31434, 31436, 31438, 31440, 31441, 31442, 31443, 31446, 31447, 31449, 31452, 31454, 31455, 31459, 31461, 31463, 31465, 31467, 31469, 31470, 31471, 31472, 31473, 31474, 31475, 31476, 31477, 31479, 31483, 31485, 31489, 31497, 31498, 51216, 51222, 51230, 51231, 51237, 51245, 51258, 51259, 51267, 51277, 51297, 51299, 51300, 51312, 51320, 51321, 51343, 51348, 51349, 51356, 51359, 51361, 51364, 51377, 51385, 51390, 51393, 51404, 51418, 51421, 51428, 51443, 51446, 51453, 51465, 51484, 51489, 51490, 57952, 57953, 57954, 57981, 81661, 81668, 81671, 81685, 81692, 81694, 81700, 81703, 81719, 81721, 81723, 81724, 81729, 81750, 81758, 81763, 81770, 81775, 81783, 81786, 81787, 81797, 81808, 81815, 81817, 81818, 81825, 81827, 81838, 81840, 81844, 81845, 81846, 89502, 89536, 89546, 89553, 89555, 89560, 89579, 89585, 89606, 89607, 89616, 89633, 89641, 89643, 89644, 89654, 89673, 89688, 89689, 89691, 89708, 89711, 89717, 89721, 89722, 89725, 89734, 89752, 83653, 72107, 72113, 72120, 72143, 72146, 72147, 72154, 72160, 72163, 72164, 72172, 72189, 72198, 72203, 72205, 72209, 98103, 98118, 98130, 98160, 98162, 98169, 98174, 98177, 98182, 98187, 98188, 98194, 98195, 98196, 98198, 98204, 98206, 98208, 98209, 98220, 98226, 98227, 98228, 98229, 98235, 98242, 98249, 98253, 98258, 98280, 98284, 98297, 98303, 98310, 98318, 98335, 98344, 98347, 98362, 98365, 98382, 98385, 98389, 98390, 98400, 98403, 98413, 98417, 98434, 98448, 98452, 98473, 98474, 98476, 98481, 98484, 98511, 98514, 98517, 98518, 98525, 98530, 98531, 98555, 98557, 98558, 98562, 98564, 98565, 98573, 98574, 98586, 72225, 72234, 72248, 72260, 72269, 72270, 72280, 72281, 72282, 72284, 72290, 72297, 72308, 79574, 79578, 79584, 79585, 79586, 79591, 79594, 79596, 79602, 79603, 79605, 79608, 79613, 79619, 79625, 79645, 79648, 79664, 79667, 79671, 79673, 79677, 79678, 31500, 31503, 31504, 31506, 31508, 31511, 31512, 31514, 31516, 31517, 31525, 31530, 31531, 31532, 31533, 31534, 31536, 31542, 31550, 31551, 31553, 31555, 31556, 88951, 88953, 88968, 88970, 88971, 88976, 88977, 88978, 88982, 89008, 89012, 89021, 89030, 89037, 89045, 65737, 65750, 65760, 65773, 65779, 65786, 65787, 65793, 65810, 65824, 65825, 65833, 65837, 65843, 65848, 65849, 65855, 65862, 65866, 65879, 65883, 65887, 65890, 65893, 65895, 65900, 65906, 65915, 65919, 65924, 65925, 65949, 65950, 65951, 65954, 65956, 65962, 65966, 65970, 65980, 65982, 65985, 65988, 65989, 65991, 65994, 65999, 66001, 66002, 66010, 66014, 66015, 66016, 66033, 66036, 66037, 66043, 66046, 66058, 66061, 67691, 67716, 67717, 67718, 67719, 67722, 67725, 67735, 67739, 67740, 67758, 67760, 67761, 67763, 67772, 67774, 67787, 67788, 67792, 67798, 83663, 83668, 83670, 83671, 83678, 83681, 83684, 91365, 91372, 91373, 91376, 91384, 91388, 91398, 91399, 91401, 91410, 91416, 91419, 91428, 91434, 91437, 91448, 91449, 91451, 91458, 91459, 91461, 91463, 91469, 91470, 91472, 91477, 91484, 91490, 91491, 91507, 91520, 91525, 91531, 91549, 91550, 91572, 91577, 91579, 91599, 91601, 91602, 91603, 91613, 91616, 91633, 91648, 91652, 91660, 91665, 91670, 91673, 91675, 91680, 91694, 91703, 91726, 85327, 85330, 85352, 85361, 85363, 85373, 85374, 85375, 85393, 85401, 85417, 85441, 85444, 85459, 85460, 85479, 85489, 85490, 85495, 85501, 85504, 85508, 85519, 85527, 85536, 85552, 85560, 85572, 85575, 85577, 85583, 85586, 85597, 85608, 85615, 85620, 85630, 85638, 85639, 85644, 85649, 85655, 92281, 92283, 92287, 79694, 79697, 79699, 79709, 79713, 79719, 79746, 79751, 79754, 79768, 79795, 79799, 79804, 79823, 79826, 79836, 79837, 79838, 79842, 79846, 79862, 79876, 79878, 79880, 79894, 79898, 79905, 79909, 79919, 79922, 79929, 79931, 79939, 79945, 98589, 98597, 98601, 98615, 98620, 98623, 98634, 98639, 98640, 98642, 98643, 98647, 98664, 98665, 98673, 98685, 98687, 98698, 98709, 98710, 98714, 98717, 98733, 98744, 98748, 98749, 98758, 98790, 98794, 98797, 98805, 98815, 98831, 98834, 98871, 98878, 98883, 98887, 98899, 98905, 98920, 98930, 98931, 98943, 98944, 98948, 98950, 98952, 98959, 98961, 98969, 98991, 98994, 98995, 99004, 99008, 99011, 99018, 99031, 99038, 79952, 79976, 79977, 80008, 80015, 80020, 80027, 80033, 80042, 80053, 80059, 80072, 67807, 67812, 67813, 67814, 67819, 67821, 67823, 67833, 67835, 67843, 67858, 67862, 67877, 67887, 67902, 67906, 67917, 67922, 67924, 67934, 67937, 67938, 67939, 67945, 67956, 67965, 67976, 67984, 67985, 67987, 67992, 67996, 68024, 68026, 68028, 68036, 68056, 68068, 68074, 68075, 68082, 68083, 68089, 75285, 75314, 75315, 75320, 75326, 75333, 75343, 75347, 75350, 93517, 93541, 93550, 93556, 93557, 93562, 93564, 93565, 93567, 93578, 93581, 93588, 93595, 93601, 93602, 93606, 93610, 93616, 93628, 93632, 93633, 93634, 93640, 93647, 93648, 93662, 93663, 93667, 69406, 69434, 69438, 69442, 69447, 69450, 69465, 69480, 69484, 69487, 69505, 69507, 69513, 69537, 69548, 69556, 69559, 69563, 69567, 69569, 69577, 69578, 69579, 69585, 69586, 69587, 69591, 69596, 69604, 69615, 69620, 69624, 69626, 69639, 69649, 69650, 69651, 71743, 71760, 71764, 92291, 92292, 92295, 92312, 92316, 92317, 92324, 92331, 92339, 92346, 92352, 92356, 92359, 92379, 92382, 92387, 57985, 57987, 57990, 57997, 58004, 58005, 58006, 58007, 58010, 58016, 58028, 58029, 58031, 58033, 58051, 58054, 58058, 58063, 58071, 58075, 58077, 58100, 58105, 58108, 58116, 58121, 58128, 58131, 58135, 58144, 58149, 58153, 58154, 58157, 58163, 58167, 58180, 58183, 58184, 58187, 58199, 58203, 58205, 58213, 58218, 58229, 58237, 58238, 58240, 58242, 58258, 58261, 58264, 58270, 58278, 58284, 58286, 58288, 58297, 58300, 58310, 58312, 58321, 58324, 58325, 31829, 89755, 89758, 89760, 89769, 89772, 89775, 89778, 89782, 89792, 89794, 89798, 89800, 89801, 89806, 89811, 89818, 89839, 89840, 89868, 89870, 89894, 89895, 89900, 89911, 89917, 89931, 89934, 87160, 87161, 87172, 87174, 87185, 87186, 87188, 87196, 87203, 87207, 87209, 87213, 87216, 87217, 87225, 87228, 87232, 87236, 87239, 87247, 87252, 87254, 87257, 87259, 87266, 87276, 87279, 87283, 87308, 87325, 87331, 87336, 87347, 87348, 87350, 87352, 87361, 87365, 87376, 87410, 87416, 87421, 87425, 87428, 87468, 87470, 87481, 87484, 87500, 87506, 87518, 87530, 87532, 99052, 99063, 99064, 99067, 99080, 99082, 99088, 99096, 99098, 99100, 99102, 99112, 99115, 99118, 99120, 99135, 99138, 99164, 99165, 99166, 99171, 99178, 99183, 99185, 99205, 99206, 99207, 99208, 99213, 99255, 99258, 99260, 99273, 99274, 99282, 99287, 99288, 99293, 99298, 99312, 99333, 99334, 99337, 99339, 99344, 99346, 99354, 99358, 99364, 99366, 99376, 99380, 99383, 99384, 99403, 99417, 99424, 99430, 99433, 99439, 99440, 99444, 99448, 99451, 99458, 99464, 99469, 99474, 99483, 71788, 71792, 71793, 79075, 79078, 79084, 79089, 79094, 79103, 79117, 79118, 79126, 79132, 79146, 79152, 79154, 79163, 79166, 79174, 79177, 79178, 79210, 79217, 79228, 79229, 79236, 79240, 79242, 79249, 79252, 79262, 79272, 79275, 79277, 79283, 79285, 79288, 79292, 79294, 79306, 79308, 79330, 79336, 79337, 79344, 79352, 79355, 79358, 79364, 79365, 79372, 79387, 79390, 79392, 79400, 79404, 79407, 79413, 79414, 79422, 79426, 79427, 79450, 79453, 79461, 79466, 79477, 79481, 79501, 79506, 79507, 66063, 66067, 66068, 66069, 66080, 66083, 66090, 66093, 66094, 66101, 66105, 66110, 66130, 66138, 66152, 66158, 66164, 73286, 73292, 73295, 73299, 73310, 73312, 73313, 73316, 73320, 73322, 73339, 73340, 73358, 73362, 73363, 73370, 73375, 73385, 73389, 73397, 73403, 73409, 73429, 73443, 73444, 73454, 73463, 73465, 73471, 73472, 73473, 73478, 73479, 73488, 73497, 73499, 73504, 73506, 73512, 89956, 89958, 89964, 89965, 66686, 66688, 66690, 66692, 66694, 66706, 66710, 66711, 66717, 66718, 66727, 66730, 66736, 66745, 66749, 66753, 66756, 66761, 66765, 66775, 66785, 66787, 66811, 66823, 66824, 66825, 66827, 66835, 66841, 66851, 66859, 66868, 91738, 91739, 91744, 91752, 91762, 91764, 91765, 91769, 91773, 91782, 68573, 68579, 68589, 68591, 68602, 68607, 68612, 68624, 68629, 68631, 68635, 68641, 68645, 68647, 68654, 68663, 68664, 68665, 68676, 68691, 68696, 68709, 68720, 68724, 68728, 68736, 68738, 68752, 68753, 68764, 68784, 68785, 68791, 68796, 68797, 68808, 68816, 68820, 68827, 68832, 68836, 68857, 68861, 68867, 68882, 68890, 68894, 68900, 68905, 92396, 92397, 92405, 92415, 92425, 92426, 92438, 92440, 92449, 92455, 92464, 92473, 92487, 92492, 92516, 92518, 92525, 87537, 87541, 87547, 87549, 87552, 87577, 87585, 87602, 87605, 87607, 87621, 87623, 87629, 87642, 87646, 87651, 87659, 87675, 64897, 64906, 64908, 64911, 64921, 64923, 64925, 64927, 64929, 64952, 64964, 64965, 64967, 64969, 64974, 64980, 64983, 64988, 64995, 64996, 65002, 65003, 65004, 65021, 65036, 65049, 65052, 65056, 65057, 65072, 65080, 65082, 65086, 65107, 65112, 65126, 65129, 65130, 65140, 65149, 65150, 65152, 65154, 65161, 65164, 65175, 65176, 65180, 99485, 99491, 99492, 99503, 99528, 99534, 99539, 99544, 99545, 99554, 99560, 99562, 99564, 99589, 99598, 99599, 99611, 99629, 99633, 99635, 99637, 99645, 99647, 99657, 99661, 99707, 99708, 99714, 99721, 99726, 99740, 99756, 99759, 99768, 99776, 99777, 99781, 99783, 99790, 99791, 99796, 99797, 99806, 99809, 99810, 99817, 99819, 99822, 99830, 99832, 99837, 30025, 30026, 30030, 30031, 30032, 30034, 30036, 30039, 30040, 30041, 30042, 30043, 30044, 30045, 30046, 30049, 30050, 30051, 30053, 30055, 30057, 30059, 30060, 30061, 30062, 30063, 30070, 30071, 30074, 30075, 30079, 30081, 30082, 30083, 30085, 30086, 30087, 30088, 30089, 30090, 30093, 30094, 30095, 23763, 23764, 23765, 23766, 23767, 23768, 23769, 23771, 23772, 23775, 23776, 23777, 23778, 23779, 23780, 23781, 23783, 23784, 23785, 23787, 23788, 23790, 23792, 23794, 23795, 31113, 31116, 31118, 31121, 31122, 31126, 31127, 31129, 31130, 31133, 31135, 31137, 31138, 31139, 31140, 31141, 31144, 31145, 31146, 24268, 24269, 24273, 24274, 24279, 24280, 24283, 24285, 24286, 24287, 24288, 24289, 24291, 24294, 24295, 24297, 24298, 24299, 24301, 24302, 24303, 24304, 24305, 24310, 24312, 24313, 24315, 24316, 24317, 24318, 24319, 24320, 24322, 24323, 24325, 24328, 24330, 24331, 24332, 24334, 24336, 24337, 24339, 24342, 24343, 73521, 73526, 73530, 73539, 73540, 73557, 73559, 73571, 73578, 73579, 73582, 73592, 73594, 73595, 73608, 75354, 75360, 75361, 75387, 75393, 75395, 75396, 75401, 75414, 75422, 75431, 75435, 75438, 75451, 75454, 75467, 75470, 75476, 75487, 75492, 75493, 75496, 75502, 75503, 75509, 75517, 75525, 75526, 75542, 75557, 75561, 75567, 75568, 75575, 75576, 75581, 75582, 75584, 75589, 75591, 75597, 75609, 75618, 75630, 75632, 75644, 75653, 75655, 75658, 75663, 75664, 75666, 75668, 75670, 75688, 75714, 75715, 75733, 75741, 75752, 75759, 75775, 82759, 82762, 82769, 82770, 82773, 82785, 69660, 69672, 69675, 69676, 69679, 69684, 69690, 69693, 69698, 69701, 69703, 69709, 69711, 69719, 69727, 69745, 69746, 69761, 69763, 69776, 69781, 69786, 69787, 69789, 69791, 69805, 69806, 69811, 69819, 69822, 69843, 69857, 69858, 69871, 77131, 92528, 92531, 92543, 92551, 92571, 92578, 92579, 92580, 92583, 92590, 92606, 92613, 92615, 92631, 92640, 92650, 92652, 92668, 92676, 92684, 92685, 92691, 92695, 92698, 92699, 92700, 92703, 92721, 92724, 92757, 92764, 92767, 92772, 92779, 92787, 70367, 70373, 70382, 70385, 70389, 70393, 70415, 70417, 70442, 70447, 70451, 70456, 70458, 70467, 70469, 70476, 70478, 70485, 31833, 31834, 31836, 31837, 31838, 31840, 31841, 31842, 31844, 31846, 31847, 31848, 31849, 31852, 31853, 31854, 31855, 31858, 31861, 31864, 31865, 31867, 31868, 31869, 31872, 31874, 31875, 31877, 31878, 31879, 31881, 31883, 31885, 31886, 31887, 31892, 31893, 31895, 31903, 31906, 31907, 31908, 31909, 31910, 31911, 31912, 31917, 31920, 31921, 31922, 31923, 31925, 31926, 31929, 31931, 31932, 31935, 31938, 31940, 31942, 31945, 31951, 31953, 31954, 99849, 99863, 99864, 99873, 99881, 99883, 99893, 99897, 99899, 99901, 99903, 99912, 99913, 99922, 99923, 99934, 99935, 99938, 99939, 79539, 79542, 79548, 79553, 79557, 79562, 79565, 86678, 86684, 86694, 86705, 86717, 86722, 86731, 86732, 86737, 86752, 86754, 86757, 86762, 86764, 86773, 86780, 86782, 86805, 86810, 86824, 86831, 86832, 86842, 86845, 86846, 86848, 86863, 86864, 86883, 86894, 86899, 86907, 86913, 86921, 86929, 86930, 86932, 86934, 86939, 86948, 86965, 86968, 86969, 86976, 86984, 86993, 86997, 87007, 87008, 87019, 87024, 87029, 87048, 87049, 87055, 87060, 87064, 83919, 83924, 83944, 83947, 83960, 83962, 83964, 83965, 83968, 83976, 83981, 83982, 83988, 83992, 83996, 84008, 84011, 84020, 78215, 78216, 78219, 78221, 78226, 78229, 78231, 78233, 78234, 78241, 78248, 78263, 78270, 78273, 78288, 78298, 78301, 78307, 78318, 78324, 78336, 78342, 78354, 78357, 78364, 78366, 78368, 78373, 78410, 78411, 78416, 78418, 78431, 78433, 78435, 78441, 78454, 78459, 78467, 78473, 78474, 78487, 78494, 78515, 78522, 78531, 78532, 78533, 78551, 85659, 85665, 85672, 85673, 85685, 85688, 85698, 85699, 85712, 85714, 85720, 85740, 44601, 44605, 44611, 51495, 51497, 51506, 51507, 51515, 51519, 51538, 51544, 51545, 51550, 51551, 51576, 51577, 51582, 51585, 51597, 51605, 51607, 51611, 51615, 51625, 51654, 51657, 77132, 77135, 77136, 77149, 77177, 77188, 77206, 77213, 77220, 77221, 77242, 77245, 77265, 77275, 77282, 77308, 77310, 77336, 77352, 77355, 77360, 77361, 77363, 77370, 86218, 86220, 86226, 86228, 86245, 86251, 86254, 86259, 86262, 86270, 86291, 86295, 86297, 86300, 86306, 86315, 86317, 86318, 86323, 86325, 86331, 86348, 86371, 86377, 86379, 86383, 86387, 86404, 86410, 86411, 86413, 86421, 86428, 86435, 86436, 86477, 86485, 86498, 86502, 86505, 86516, 86530, 86531, 86539, 86547, 86555, 86556, 86561, 86565, 86570, 86577, 86580, 86583, 86585, 86586, 86589, 86590, 86596, 86601, 86618, 86621, 86622, 86628, 86645, 86660, 86662, 86663, 86665, 86675, 86677, 73612, 73614, 73615, 73639, 73650, 73652, 73661, 73673, 73674, 73684, 73722, 73742, 73749, 73755, 73758, 73760, 31955, 31956, 66871, 66876, 66878, 66880, 66891, 66898, 66899, 66907, 66910, 66930, 66936, 66955, 66957, 66959, 66965, 66974, 66983, 66986, 66988, 67005, 67017, 67037, 67050, 67051, 67053, 67054, 67058, 67060, 67069, 67070, 67082, 67089, 67115, 67117, 67139, 67149, 67150, 74372, 74373, 74386, 74392, 74402, 74404, 74406, 74408, 74409, 74421, 74422, 74433, 74438, 74440, 74441, 74443, 74448, 74454, 74456, 74459, 74463, 74481, 74486, 74493, 74496, 74502, 74503, 74504, 74505, 74515, 74518, 74523, 74525, 74529, 99946, 99955, 99957, 99965, 99966, 99982, 99983, 99985, 99991, 94726, 94745, 94753, 94759, 94762, 94765, 94767, 94776, 94777, 94782, 94785, 94794, 94798, 94799, 94811, 94821, 94824, 94828, 94837, 94847, 94863, 94872, 94874, 94889, 94896, 94897, 94906, 94912, 94915, 94916, 94921, 94933, 94937, 94942, 94944, 94956, 94959, 94961, 94966, 94975, 51660, 51663, 51664, 51669, 51670, 51676, 51684, 51698, 51703, 51708, 51712, 51716, 51724, 51728, 51735, 51750, 51754, 51761, 51767, 51771, 51776, 51780, 51783, 51790, 51795, 51796, 51798, 51813, 51823, 51833, 51834, 51839, 51844, 51847, 51849, 51856, 51859, 51863, 51864, 51867, 51871, 51872, 90151, 90155, 90158, 90165, 90171, 90172, 90174, 90176, 90195, 90198, 90211, 90227, 90228, 90237, 90238, 90256, 90258, 90269, 90270, 90273, 90279, 90289, 90296, 90302, 90304, 90310, 90317, 90325, 90327, 90332, 90341, 90350, 90353, 90354, 90362, 90365, 90373, 90376, 90380, 90391, 90392, 90396, 90406, 90414, 90418, 90430, 90441, 90446, 90447, 90449, 90451, 67154, 67158, 67164, 67175, 67183, 67188, 67209, 67227, 67233, 67239, 67241, 67245, 67248, 67256, 67260, 67271, 67284, 67301, 67306, 84021, 84023, 84033, 84036, 84039, 84052, 84057, 84061, 84063, 84082, 84084, 84093, 84095, 73770, 73776, 73790, 80993, 81004, 81006, 81007, 81008, 81010, 81011, 81025, 81041, 81050, 81053, 81057, 81058, 81063, 81067, 81068, 81069, 81074, 81082, 81083, 81085, 81087, 81096, 81099, 81100, 81107, 81109, 81111, 81114, 81122, 81130, 81146, 81154, 81161, 81167, 81173, 81179, 81193, 81194, 81202, 81208, 81215, 81223, 81229, 81232, 81235, 81236, 81242, 81247, 81254, 82799, 82810, 82815, 82816, 82820, 82828, 82836, 82847, 82851, 82853, 82868, 82894, 82900, 82901, 82904, 82915, 82919, 82920, 82921, 82938, 82939, 82950, 82956, 82960, 82970, 82982, 82986, 82998, 83004, 83010, 83020, 83037, 83038, 83040, 83046, 83060, 83062, 83079, 83085, 83088, 83093, 83095, 83100, 83102, 83120, 83124, 83132, 83154, 83156, 83167, 83169, 83182, 83184, 83190, 83191, 83197, 83203, 83204, 83206, 83208, 83210, 83222, 83225, 83248, 83252, 83261, 92788, 92793, 94979, 94982, 94991, 94992, 94993, 94998, 95000, 95004, 95013, 95022, 95026, 95031, 95036, 95038, 95039, 95045, 95057, 95077, 95090, 95093, 65187, 65190, 65196, 65215, 65216, 65217, 65227, 65237, 65240, 65250, 65253, 65255, 65256, 65261, 65263, 65267, 65270, 65278, 65309, 65310, 65312, 65326, 65341, 65351, 72309, 72317, 72327, 72328, 72331, 72336, 72351, 72353, 72355, 72357, 72364, 72377, 72378, 72387, 72390, 72391, 72402, 72408, 72416, 72436, 72454, 72455, 72459, 72462, 72470, 72483, 72511, 72517, 72520, 72522, 72530, 72540, 72541, 72545, 72555, 72562, 72580, 72582, 72584, 72608, 72623, 95104, 95105, 95107, 95118, 95122, 95126, 95129, 95143, 95147, 95157, 95160, 95170, 95177, 95182, 95186, 95191, 95193, 95200, 95201, 95204, 95210, 95220, 95225, 95227, 95230, 95237, 95238, 95241, 95251, 95271, 95273, 95282, 95288, 95292, 95294, 95308, 95313, 95314, 84117, 84120, 90898, 90901, 90902, 90903, 90904, 90905, 90910, 90911, 90917, 90918, 90926, 90929, 90930, 90937, 90942, 90954, 90957, 90959, 90962, 90969, 90972, 91000, 91002, 91004, 91017, 91024, 91031, 91033, 91038, 91043, 91048, 91053, 91067, 91079, 91086, 91090, 91092, 91096, 91097, 91101, 91123, 91136, 91158, 91167, 91169, 91176, 91181, 91199, 91210, 91217, 91219, 91221, 91222, 91223, 91234, 91242, 85749, 85755, 85757, 85767, 85769, 85775, 85776, 85781, 85784, 85794, 85802, 85828, 85842, 85844, 85845, 85851, 85862, 85866, 85870, 85874, 85881, 85885, 85899, 85907, 85918, 85923, 85929, 85932, 85941, 85950, 85958, 85962, 85968, 85974, 85980, 85984, 85986, 85987, 85994, 85997, 85998, 85999, 86026, 86036, 86042, 86068, 86078, 86091, 86108, 86122, 86123, 86129, 86145, 86146, 86148, 86155, 86158, 86165, 86176, 86186, 93672, 93678, 93704, 93705, 93710, 93718, 77382, 77399, 77413, 77416, 77427, 77429, 77434, 77436, 77439, 77442, 77452, 77453, 77471, 77476, 77480, 77482, 77487, 77491, 77503, 77518, 77524, 77527, 77528, 77537, 77543, 77553, 77560, 77565, 77581, 77597, 77599, 77600, 77606, 84633, 84638, 84649, 84681, 84686, 84694, 84711, 84721, 84726, 84731, 84737, 84742, 84745, 84749, 84766, 84776, 84798, 84802, 84816, 84817, 84818, 84826, 84838, 84845, 84854, 84858, 31558, 31560, 71307, 71311, 71327, 71328, 71336, 71339, 71347, 71349, 71361, 71364, 71369, 71381, 71382, 71384, 71386, 71397, 71405, 71413, 71414, 71420, 71433, 71434, 71445, 71461, 71467, 71473, 71491, 71495, 71496, 71500, 71513, 71514, 71525, 71531, 71532, 71533, 71536, 71555, 71558, 71559, 71561, 71564, 71571, 71576, 71577, 71579, 71582, 71583, 71586, 71593, 71596, 95316, 95321, 95323, 95324, 95325, 95335, 95339, 95343, 95344, 95351, 95354, 95367, 95380, 95390, 95403, 95410, 95420, 95423, 95425, 95435, 95440, 95447, 95453, 95456, 95457, 95465, 95470, 95504, 95510, 95512, 95515, 95516, 95523, 95525, 95530, 95540, 95561, 95564, 72627, 72630, 72634, 72660, 72670, 72671, 72673, 72675, 72678, 72688, 72690, 72697, 72723, 72725, 72751, 72753, 72764, 72771, 72778, 72779, 72781, 72783, 72790, 80097, 80105, 80106, 80108, 80110, 80111, 80112, 80119, 80120, 80130, 80132, 80133, 80134, 80139, 80142, 80144, 80154, 80158, 80161, 80162, 80171, 80174, 80180, 80181, 80185, 80202, 80206, 80209, 80210, 80218, 80220, 80227, 80239, 80245, 80248, 80254, 80257, 80262, 80281, 80286, 80294, 80298, 80299, 80308, 80313, 80317, 80332, 80334, 80335, 80339, 80344, 95574, 95599, 95609, 95614, 95632, 95637, 95639, 95646, 95658, 95672, 93724, 93732, 93739, 93742, 93745, 93753, 51878, 51882, 51883, 51905, 51909, 51912, 58351, 58352, 58357, 58362, 58373, 58391, 58392, 58414, 58416, 58417, 58422, 58430, 58449, 58451, 58454, 58464, 58466, 58475, 58480, 58483, 58484, 58500, 58501, 58505, 58508, 58510, 58514, 58515, 58518, 58519, 58524, 58528, 58530, 58540, 58541, 58551, 58562, 58580, 58586, 58590, 58599, 58616, 58627, 58631, 58632, 58634, 58640, 58643, 58646, 58649, 58652, 58653, 58659, 58667, 58672, 58674, 58679, 58685, 58689, 58693, 58700, 58705, 58706, 58713, 58723, 58731, 67340, 67343, 67344, 67348, 67380, 67384, 67386, 67390, 67393, 67408, 67413, 67415, 67418, 67426, 67427, 67429, 67442, 67443, 67449, 67451, 67458, 67460, 67465, 67468, 67473, 67475, 67477, 67481, 67487, 67504, 67505, 67512, 67523, 67529, 67536, 67538, 67543, 67554, 67568, 67576, 67579, 67583, 71612, 71614, 71638, 71645, 71647, 71652, 71665, 71676, 71683, 71698, 71702, 71704, 71709, 71716, 71717, 71722, 71739, 81276, 81285, 81295, 81303, 81322, 81329, 81334, 81335, 81355, 81359, 81363, 81371, 81376, 81378, 81384, 81385, 81391, 81405, 81407, 81410, 89055, 89064, 89079, 89089, 89095, 89103, 89104, 89107, 89119, 89126, 89137, 89140, 89148, 89156, 89157, 89160, 89167, 89168, 89171, 89180, 89187, 89195, 89197, 89202, 89212, 89225, 89228, 89252, 89265, 89268, 89277, 89285, 89289, 89290, 89292, 89309, 89325, 89327, 92800, 92822, 92824, 92843, 92861, 92864, 92866, 92886, 92895, 92898, 92907, 92916, 92933, 92934, 92941, 92943, 92950, 92967, 92974, 92982, 92984, 92989, 92993, 92995, 92999, 93016, 95694, 95705, 95707, 95726, 95736, 95754, 95759, 95763, 95767, 95772, 95782, 95803, 95816, 95818, 95819, 95821, 95823, 95830, 95834, 95839, 95841, 95843, 95849, 95855, 95860, 95864, 95878, 95889, 95892, 95893, 95895, 95907, 95911, 95919, 95924, 95925, 95933, 95946, 95948, 95952, 95957, 95958, 95968, 95976, 95977, 95991, 95995, 95997, 96010, 80345, 80350, 80361, 80369, 80375, 80383, 80400, 80410, 80419, 80423, 80425, 80429, 80430, 80439, 80442, 80447, 80449, 80450, 80454, 80472, 80475, 80482, 80490, 80492, 80494, 80497, 80501, 80504, 80519, 80521, 80534, 87683, 87685, 87692, 87704, 87706, 87711, 87716, 87743, 87750, 87754, 87765, 87769, 87770, 87782, 87785, 87794, 87800, 87801, 87817, 87818, 87825, 87828, 87847, 87867, 87868, 87876, 87887, 87891, 87896, 87897, 87899, 87905, 87906, 87907, 87926, 87931, 87934, 87941, 87942, 67617, 67620, 67624, 74817, 74821, 74830, 74835, 74857, 74866, 74880, 74883, 74886, 74888, 74891, 74907, 74910, 74914, 74918, 74924, 74926, 74932, 91248, 91249, 91258, 91261, 91263, 91284, 91285, 91295, 91305, 91309, 91314, 91323, 91332, 91335, 91343, 91348, 91350, 91351, 68964, 68965, 69000, 69006, 69015, 69020, 69021, 69022, 69024, 69031, 69033, 69037, 69047, 69052, 69079, 69081, 69104, 69110, 69118, 69123, 69131, 69141, 69144, 69146, 69157, 69158, 69167, 69168, 69169, 69176, 69182, 69186, 69194, 69201, 69206, 69215, 69219, 69222, 69225, 69226, 69233, 69237, 69243, 69248, 69257, 69265, 93774, 93780, 93784, 93788, 93799, 93800, 93804, 93806, 93807, 93823, 93829, 93836, 93837, 93838, 93840, 93842, 93847, 93850, 93870, 93874, 93900, 93911, 93923, 93924, 93932, 93018, 93025, 93031, 93033, 93039, 93045, 93052, 93055, 93056, 93058, 93084, 93089, 93091, 93093, 93098, 93113, 93114, 93119, 93134, 93135, 93147, 93155, 93162, 93187, 93191, 93194, 93196, 93202, 93203, 93208, 93211, 93213, 93222, 93227, 93229, 93231, 93233, 93235, 93240, 93261, 84884, 84885, 84890, 84891, 84904, 84908, 84934, 84937, 84958, 84964, 84965, 84970, 84972, 84979, 84981, 84983, 85002, 85010, 85023, 85024, 85025, 85033, 85039, 85044, 85050, 85055, 85056, 85062, 85071, 85076, 85085, 85095, 85125, 85131, 85134, 85138, 85141, 85144, 85150, 85152, 91783, 91788, 91790, 91802, 91819, 91827, 91831, 91832, 91838, 91840, 91853, 91855, 91859, 91862, 91867, 91872, 91877, 91881, 91883, 91904, 91905, 91910, 91916, 91919, 91934, 91946, 29486, 29490, 29491, 29492, 29493, 29494, 29496, 29497, 29499, 29501, 29502, 29504, 29505, 29507, 87949, 87955, 87957, 96029, 96049, 96060, 96071, 96093, 96098, 96108, 96111, 96120, 96125, 96126, 96148, 96151, 96152, 96169, 96171, 96174, 96176, 96177, 96182, 96197, 96199, 96218, 96225, 96226, 96229, 96234, 96238, 96240, 96247, 96249, 96250, 96254, 96259, 96278, 96279, 96284, 96305, 96310, 96321, 96331, 96336, 96338, 96347, 96356, 96361, 96364, 96370, 96373, 96377, 96389, 96391, 96399, 96421, 96430, 96435, 96436, 96446, 87963, 87975, 87976, 87977, 87980, 87982, 87985, 87986, 87989, 87994, 87995, 88000, 88006, 88008, 88012, 88013, 88016, 88021, 88046, 88064, 88089, 88099, 88106, 88116, 88117, 88124, 65354, 65359, 65360, 65361, 65364, 65375, 65393, 65394, 65399, 65403, 65404, 65405, 65417, 65421, 65426, 65427, 65435, 65441, 93949, 93952, 93966, 93970, 93974, 93975, 93976, 93983, 94005, 94007, 94008, 94016, 94021, 94023, 94025, 94030, 94046, 94049, 94050, 94057, 94072, 94075, 94079, 94084, 94103, 94105, 94117, 94118, 94120, 94122, 94123, 94126, 94135, 94142, 94147, 94162, 70845, 70851, 70854, 70864, 70871, 70874, 70886, 70898, 70902, 58732, 58736, 58740, 58753, 58757, 58758, 58763, 58771, 58774, 31964, 31965, 31966, 31967, 31970, 31974, 31975, 31978, 31979, 31982, 31983, 31985, 31989, 31990, 31991, 31993, 31995, 31998, 31999, 32000, 32002, 32004, 32005, 32006, 32007, 32009, 32013, 32015, 32020, 32022, 32024, 32025, 32026, 32027, 32028, 32032, 32034, 32036, 32037, 32039, 32041, 32046, 32047, 32048, 32050, 32051, 32054, 32059, 32060, 32063, 32064, 74947, 74955, 74958, 74964, 74969, 29508, 29509, 29511, 29512, 29513, 29515, 29517, 29519, 29522, 29524, 29526, 29527, 29531, 29533, 29534, 29538, 29539, 29540, 29542, 29544, 29545, 29549, 29550, 29551, 29552, 29553, 29554, 23380, 23382, 23384, 23385, 23386, 23387, 23388, 23389, 23392, 23394, 23396, 23400, 23401, 23402, 23407, 23409, 23412, 23413, 23419, 23422, 23423, 23424, 23425, 89329, 89332, 89336, 89347, 89348, 89355, 89356, 89369, 89374, 89378, 89387, 89394, 89404, 89416, 89428, 89437, 89445, 89446, 89447, 89459, 89460, 89481, 89483, 89498, 89500, 66165, 66172, 66174, 66190, 66193, 66196, 66200, 66206, 66208, 66214, 66217, 66221, 66228, 66232, 66235, 66244, 66246, 66262, 66275, 66283, 66288, 66296, 66298, 66307, 66329, 66339, 66362, 66373, 66383, 66386, 66389, 66412, 65449, 65463, 65469, 65476, 65484, 65502, 65522, 65523, 65527, 65541, 65544, 65547, 65556, 96463, 96468, 96477, 96479, 96491, 96500, 96514, 96519, 96527, 96533, 96544, 96546, 96553, 96562, 96565, 96575, 96577, 96579, 94167, 94184, 94189, 94192, 94195, 94196, 94197, 94213, 94220, 94223, 94224, 94229, 94232, 94240, 94241, 94252, 94254, 94256, 94260, 94264, 94279, 94292, 94300, 94301, 94319, 94321, 94327, 94329, 94335, 94340, 94351, 94356, 94378, 94387, 94388, 94401, 94404, 94446, 94447, 94448, 94470, 94481, 94483, 94484, 94512, 94517, 94525, 94534, 94537, 65565, 65569, 65575, 65582, 65589, 65594, 65610, 65611, 65613, 65614, 65620, 65623, 65630, 65634, 65645, 65650, 65652, 65654, 65656, 65659, 65665, 65666, 65675, 65682, 65689, 65696, 65698, 65703, 65705, 65710, 65711, 65719, 74976, 74979, 74982, 74985, 74993, 74998, 75013, 75014, 75023, 75027, 75029, 75031, 75034, 75039, 75046, 75051, 75053, 75054, 75061, 75064, 75083, 75084, 75090, 75099, 75107, 75116, 75117, 75127, 75134, 75142, 75155, 75160, 75162, 75168, 75170, 75181, 75188, 75194, 75195, 75201, 75206, 75215, 75223, 75230, 75232, 75233, 75240, 75248, 75249, 75251, 75265, 82291, 82296, 82299, 82309, 82312, 82313, 82320, 82322, 82338, 82339, 82352, 82354, 82359, 82360, 82362, 82377, 69268, 69270, 69280, 69281, 69282, 69289, 69299, 69328, 69339, 69341, 69343, 69352, 69354, 69370, 69371, 69380, 69388, 69395, 69396, 69399, 69405, 76696, 76697, 76707, 76716, 76717, 76727, 76736, 76741, 76760, 76761, 76780, 76802, 76812, 76820, 76826, 76835, 76846, 76853, 76857, 76865, 76867, 66419, 66424, 66430, 66474, 66483, 68099, 68102, 68104, 68116, 68126, 68127, 68131, 68140, 68145, 68175, 68184, 68186, 68192, 68208, 68217, 68218, 68223, 68228, 68233, 68242, 68245, 68255, 68268, 68272, 68278, 68285, 68299, 68307, 68308, 68322, 68336, 68347, 68356, 68363, 68368, 68375, 68381, 68385, 68391, 68401, 68402, 68420, 68425, 68426, 68428, 68433, 68435, 68437, 68439, 68450, 68453, 68454, 68460, 68464, 68475, 68477, 68502, 68505, 68507, 68515, 68527, 68529, 91965, 91975, 91983, 91989, 91992, 91996, 92002, 92003, 92007, 92014, 92027, 92036, 92050, 92052, 92057, 92064, 92074, 92084, 92092, 92095, 92097, 92105, 92107, 92117, 92129, 92137, 92147, 92157, 92158, 92170, 92175, 92195, 92201, 92202, 92218, 92227, 92233, 92239, 92244, 92247, 92249, 92272, 92273, 69881, 65723, 65727, 65728, 65732, 65733, 72797, 72813, 72819, 72827, 72836, 72849, 72851, 72860, 72867, 72883, 72889, 72909, 72921, 72924, 72930, 72931, 72932, 72935, 72940, 72941, 72943, 72945, 72960, 72968, 72969, 72980, 72992, 72997, 72998, 72999, 73001, 73011, 73015, 73020, 73036, 73037, 94560, 94561, 94564, 94575, 94582, 94589, 94592, 94594, 94597, 94609, 94617, 94618, 94624, 94634, 94642, 94661, 94663, 94669, 94677, 94685, 94687, 94689, 94696, 73038, 73043, 73048, 73058, 73063, 73074, 73075, 73076, 73077, 73087, 73090, 73110, 73118, 73124, 73125, 73129, 73138, 73139, 73143, 73155, 73156, 73162, 73169, 73171, 73190, 73198, 73200, 73211, 73224, 73241, 73242, 73243, 73249, 73270, 73280, 80538, 80539, 80547, 80551, 80559, 80575, 80580, 80586, 80587, 80592, 80616, 80625, 80628, 80637, 80641, 80644, 80649, 80650, 80656, 80658, 80663, 80670, 80671, 80675, 76894, 76899, 76913, 76920, 76923, 76925, 76930, 76932, 76945, 76949, 76952, 76955, 70906, 70907, 70912, 70916, 70922, 70929, 70937, 70954, 70961, 70963, 70991, 71005, 71011, 71015, 71020, 71029, 71039, 71051, 71052, 71054, 71059, 71067, 71070, 71072, 71079, 71084, 71091, 71093, 71107, 71110, 71119, 71125, 71127, 71129, 71130, 71131, 71169, 71175, 71177, 71184, 71189, 71190, 71192, 71193, 71200, 71215, 71225, 71230, 71233, 71236, 71243, 71260, 71262, 71275, 71277, 71280, 71287, 78554, 78556, 78559, 78568, 78570, 32067, 32073, 32074, 32077, 32078, 32079, 32080, 32082, 32083, 32084, 44622, 44625, 44632, 44633, 44652, 44666, 44677, 44686, 44706, 44715, 44717, 44723, 44724, 44731, 44732, 44735, 44736, 44741, 44742, 44744, 44748, 44751, 44763, 44768, 44770, 44773, 44781, 44784, 44787, 44788, 69887, 69891, 69898, 69903, 69904, 69908, 69917, 69925, 69928, 69932, 69943, 69947, 69948, 69976, 70004, 70016, 70023, 70025, 70040, 70069, 70071, 70072, 70077, 70078, 31721, 31722, 31725, 31726, 31727, 31729, 31732, 31733, 31738, 31739, 31746, 31749, 31750, 31751, 31753, 31755, 31756, 31757, 31758, 31762, 31763, 31764, 31766, 31767, 31772, 31777, 31779, 31781, 31783, 31784, 31788, 31790, 31792, 31793, 31794, 31796, 31799, 31801, 31804, 31805, 31806, 31808, 31809, 31811, 31812, 31813, 31814, 31815, 31821, 31826, 31827, 43644, 43649, 43656, 43658, 43668, 43673, 43690, 43692, 43697, 43700, 43705, 66496, 66499, 66508, 66513, 66517, 66526, 66530, 66542, 66555, 66556, 66557, 66559, 66571, 66572, 66580, 66595, 66603, 66604, 66613, 66614, 66615, 66641, 66649, 66654, 66656, 66657, 66662, 66664, 80678, 80688, 80696, 80710, 80711, 80722, 80737, 80742, 80744, 80745, 80752, 80764, 80765, 80778, 80790, 80793, 80799, 80803, 80805, 80810, 80813, 80824, 80825, 80830, 80833, 80844, 80849, 80858, 80860, 80861, 80862, 80864, 80878, 80880, 80882, 80883, 80885, 80889, 80903, 80905, 80914, 80920, 80927, 80932, 80956, 80957, 80963, 80969, 80970, 80976, 80983, 80986, 88146, 88152, 88154, 88163, 88164, 88175, 88186, 88187, 88191, 88211, 88212, 88224, 88227, 88234, 88236, 88242, 88252, 88264, 88265, 88266, 88267, 88276, 88280, 88291, 88294, 88296, 88331, 88336, 88343, 88345, 88356, 88361, 88386, 88395, 88401, 88403, 88404, 88406, 88407, 88409, 88411, 88417, 88424, 88429, 88433, 88438, 88443, 88446, 88449, 88452, 88458, 88466, 88472, 88476, 88483, 88493, 88494, 88499, 88510, 88514, 88521, 88527, 88529, 88532, 88533, 88539, 88540, 88542, 88565, 88569, 44797, 44799, 44807, 44808, 44820, 44841, 44844, 44849, 44856, 44863, 44870, 44872, 44874, 44880, 44884, 44888, 44890, 44892, 44894, 44902, 44906, 44908, 44910, 44917, 44921, 44951, 44953, 44955, 44956, 44958, 44969, 82381, 82399, 82405, 82408, 82416, 82434, 82436, 82439, 82442, 82445, 82451, 82454, 82459, 82463, 82465, 82469, 82482, 82490, 82494, 82505, 82507, 82512, 82514, 82518, 82541, 82545, 82554, 82563, 82569, 82574, 82575, 82585, 82609, 82618, 82619, 82621, 82625, 82629, 82633, 82641, 82649, 82656, 82681, 82685, 82694, 82697, 82702, 82713, 82715, 82717, 82754, 90460, 90466, 90474, 90475, 90478, 90481, 90483, 90484, 90488, 90493, 90495, 90519, 90522, 90533, 90538, 76968, 76974, 76984, 76987, 76988, 76994, 77000, 77013, 77014, 77018, 77019, 77026, 77028, 77031, 77052, 77053, 77062, 77078, 77081, 77083, 77084, 66674, 66683, 73811, 73819, 73822, 73831, 73834, 73843, 73868, 73877, 73886, 73888, 73899, 73905, 73917, 73925, 73946, 73958, 73961, 73971, 73973, 73979, 73990, 74001, 74013, 74016, 74038, 74039, 74041, 74065, 74087, 74092, 68530, 75779, 75782, 75785, 75793, 75798, 75800, 75817, 75819, 75823, 75824, 75826, 75828, 75830, 75838, 75843, 75844, 75849, 75856, 75867, 75869, 75870, 75883, 75889, 75894, 75928, 75929, 75938, 75946, 75951, 75960, 75963, 75969, 75970, 75983, 75986, 75990, 75994, 75996, 75998, 76001, 76004, 76005, 76007, 76008, 76010, 76012, 76021, 76028, 76030, 76035, 76051, 76058, 76066, 76074, 76078, 76090, 76096, 76109, 76116, 76118, 76120, 76125, 76126, 76134, 76135, 76141, 76174, 76178, 76180, 76186, 70083, 70084, 70097, 70099, 70110, 70115, 70119, 88571, 96588, 96591, 96592, 96594, 96608, 96610, 96621, 96625, 96629, 96638, 96646, 96651, 96652, 96662, 96676, 96677, 96683, 96688, 96697, 96699, 96701, 96703, 96704, 96709, 96712, 96718, 96719, 96728, 96732, 96734, 96737, 96739, 96759, 96767, 96772, 96774, 96777, 96791, 96793, 96797, 96803, 96804, 96817, 96833, 96838, 96842, 96843, 96848, 96863, 96865, 96869, 96872, 96877, 96882, 96892, 96903, 96908, 96913, 96922, 96923, 96930, 96937, 96938, 96945, 96950, 96951, 96958, 96959, 96965, 96975, 96997, 97002, 97004, 97007, 97013, 97018, 97023, 97031, 97037, 97039, 97046, 97048, 97060, 97065, 97070, 97091, 97128, 97143, 97147, 97149, 97156, 97157, 97172, 97178, 97206, 97207, 97215, 97228, 97232, 97237, 97239, 97243, 97263, 97266, 97267, 97271, 97273, 97276, 97291, 97294, 97301, 97314, 97316, 77094, 77115, 77118, 77124, 77128, 84128, 84129, 84130, 84134, 84137, 84142, 84144, 84160, 84165, 84170, 84179, 84186, 84198, 84206, 84208, 84209, 84213, 84223, 84236, 84247, 84249, 84251, 84266, 84297, 84301, 84302, 84303, 84306, 84347, 84350, 84355, 84359, 84360, 84362, 84378, 84394, 84402, 84416, 84418, 84420, 84423, 84424, 84433, 78597, 78615, 78616, 78641, 78647, 78651, 78656, 78658, 78666, 78670, 78672, 78674, 78678, 78679, 78686, 78691, 78693, 78697, 78700, 78703, 78722, 78729, 78737, 78756, 78759, 78778, 78779, 78782, 78803, 78814, 78822, 78824, 78828, 78839, 78866, 78867, 78873, 78876, 78891, 78895, 78904, 78913, 78920, 78932, 78939, 78948, 78959, 78979, 78983, 78987, 78996, 79001, 79006, 79008, 79015, 79016, 79023, 79032, 79053, 79055, 79061, 79069, 86193, 86206, 44971, 44976, 44990, 44993, 44996, 70125, 70131, 70133, 70142, 70146, 70147, 70148, 70150, 70156, 70164, 70180, 70184, 70188, 70191, 70212, 70221, 70222, 70223, 70232, 70234, 70239, 70251, 70252, 70254, 70261, 70278, 70301, 70304, 70308, 70313, 70329, 70330, 70339, 70340, 70355, 70359, 77609, 77614, 77623, 77625, 77630, 77645, 77654, 77660, 77661, 77664, 77676, 77678, 77686, 77689, 77690, 77696, 77697, 77702, 77703, 77716, 77718, 77721, 77729, 77733, 77735, 43731, 43732, 43735, 43741, 43742, 43748, 43774, 43776, 43779, 43786, 43787, 43792, 43797, 43798, 43803, 43820, 43837, 43859, 43866, 43874, 43876, 43878, 43881, 43906, 43911, 43925, 43932, 43937, 43948, 43970, 43971, 43975, 43991, 43995, 43996, 44016, 44023, 44038, 44044, 44052, 44058, 44061, 44064, 44065, 44069, 44071, 44083, 44089, 44128]\n"
     ]
    }
   ],
   "source": [
    "print(male_subject_ids)"
   ]
  },
  {
   "cell_type": "code",
   "execution_count": 22,
   "metadata": {},
   "outputs": [],
   "source": [
    "male_diagnoses_icd = diagnoses_icd[diagnoses_icd[\"SUBJECT_ID\"].isin(male_subject_ids)]\n",
    "male_admissions = admissions[admissions[\"SUBJECT_ID\"].isin(male_subject_ids)]"
   ]
  },
  {
   "cell_type": "code",
   "execution_count": 23,
   "metadata": {},
   "outputs": [],
   "source": [
    "female_diagnoses_icd = diagnoses_icd[diagnoses_icd[\"SUBJECT_ID\"].isin(female_subject_ids)]\n",
    "female_admissions = admissions[admissions[\"SUBJECT_ID\"].isin(female_subject_ids)]"
   ]
  },
  {
   "cell_type": "code",
   "execution_count": 80,
   "metadata": {},
   "outputs": [],
   "source": [
    "# slow!\n",
    "#sns.countplot(x=\"ICD9_CODE\", data=male_diagnoses_icd)"
   ]
  },
  {
   "cell_type": "code",
   "execution_count": 81,
   "metadata": {},
   "outputs": [],
   "source": [
    "# slow!\n",
    "#sns.countplot(x=\"ICD9_CODE\", data=female_diagnoses_icd)"
   ]
  },
  {
   "cell_type": "code",
   "execution_count": 82,
   "metadata": {},
   "outputs": [],
   "source": [
    "# get top 10 most ICD9-Codes for male patients\n",
    "#n = 10000\n",
    "#male_diagnoses_icd['ICD9_CODE'].value_counts()[:n].index.tolist()"
   ]
  },
  {
   "cell_type": "code",
   "execution_count": 83,
   "metadata": {},
   "outputs": [],
   "source": [
    "# get top 10 most ICD9-Codes for female patients\n",
    "#n = 10000\n",
    "#female_diagnoses_icd['ICD9_CODE'].value_counts()[:n].index.tolist()"
   ]
  },
  {
   "cell_type": "code",
   "execution_count": 24,
   "metadata": {},
   "outputs": [
    {
     "name": "stdout",
     "output_type": "stream",
     "text": [
      "[]\n"
     ]
    }
   ],
   "source": [
    "print(list(set(male_diagnoses_icd) - set(female_diagnoses_icd)))"
   ]
  },
  {
   "cell_type": "code",
   "execution_count": 25,
   "metadata": {},
   "outputs": [
    {
     "name": "stdout",
     "output_type": "stream",
     "text": [
      "        ROW_ID  SUBJECT_ID  HADM_ID  SEQ_NUM ICD9_CODE\n",
      "113       1573         123   195632      4.0     25000\n",
      "206       1666         130   113323      7.0     25000\n",
      "214       1674         130   198214      5.0     25060\n",
      "258       1718         135   199634      9.0     25000\n",
      "267       1727         137   151583      5.0     25060\n",
      "...        ...         ...      ...      ...       ...\n",
      "650802  637063       96908   138027      8.0     25040\n",
      "650811  637072       96908   149629      1.0     25040\n",
      "650817  637078       96908   149629      7.0     25060\n",
      "650990  639746       97488   152542      2.0     25062\n",
      "651014  639770       97488   161999     15.0     25000\n",
      "\n",
      "[9174 rows x 5 columns]\n"
     ]
    }
   ],
   "source": [
    "males_diabetes = male_diagnoses_icd[male_diagnoses_icd.ICD9_CODE.str.contains(\"^250\\d\", na=False)]\n",
    "print(males_diabetes)"
   ]
  },
  {
   "cell_type": "code",
   "execution_count": 30,
   "metadata": {},
   "outputs": [
    {
     "data": {
      "text/plain": [
       "7280"
      ]
     },
     "execution_count": 30,
     "metadata": {},
     "output_type": "execute_result"
    }
   ],
   "source": [
    "# Filter female patients for with ischemic diseases, heart diseases, diabetes and cardiovascular ones\n",
    "# also getting the SUBJECT IDs of each\n",
    "females_ischemic = female_diagnoses_icd[female_diagnoses_icd.ICD9_CODE.str.contains(\"^(39[0-9]|4[0-4][0-9]|45[0-9])\", regex=True, na=False)]\n",
    "females_six = female_diagnoses_icd[female_diagnoses_icd.ICD9_CODE.str.contains(\"^(2[4-6][0-9]|27[0-9])\", regex=True, na=False)]\n",
    "females_two = female_diagnoses_icd[female_diagnoses_icd.ICD9_CODE.str.contains(\"^(39[0-9]|4[0-4][0-9]|45[0-9])\", regex=True, na=False)]\n",
    "females_cardiovascular = female_diagnoses_icd[female_diagnoses_icd.ICD9_CODE.str.contains(\"^4299\", regex=True, na=False)]\n",
    "females_heart_disease = female_diagnoses_icd[female_diagnoses_icd.ICD9_CODE.str.contains(\"^429\", regex=True, na=False)]\n",
    "females_diabetes = female_diagnoses_icd[female_diagnoses_icd.ICD9_CODE.str.contains(\"^250\\d\", na=False)]\n",
    "females_ischemic_ids = females_ischemic[\"SUBJECT_ID\"].tolist()\n",
    "females_heart_disease_ids = females_heart_disease[\"SUBJECT_ID\"].tolist()\n",
    "females_cardiovascular_ids = females_cardiovascular[\"SUBJECT_ID\"].tolist()\n",
    "females_diabetes_ids = females_diabetes[\"SUBJECT_ID\"].tolist()\n",
    "len(females_diabetes)"
   ]
  },
  {
   "cell_type": "code",
   "execution_count": 31,
   "metadata": {},
   "outputs": [
    {
     "data": {
      "text/plain": [
       "9174"
      ]
     },
     "execution_count": 31,
     "metadata": {},
     "output_type": "execute_result"
    }
   ],
   "source": [
    "# Filter male patients for with ischemic diseases, heart diseases, diabetes and cardiovascular ones\n",
    "# also getting the SUBJECT IDs of each\n",
    "males_ischemic = male_diagnoses_icd[male_diagnoses_icd.ICD9_CODE.str.contains(\"^(39[0-9]|4[0-4][0-9]|45[0-9])\", regex=True, na=False)]\n",
    "males_six = male_diagnoses_icd[male_diagnoses_icd.ICD9_CODE.str.contains(\"^(2[4-6][0-9]|27[0-9])\", regex=True, na=False)]\n",
    "males_two = male_diagnoses_icd[male_diagnoses_icd.ICD9_CODE.str.contains(\"^(39[0-9]|4[0-4][0-9]|45[0-9])\", regex=True, na=False)]\n",
    "males_cardiovascular = male_diagnoses_icd[male_diagnoses_icd.ICD9_CODE.str.contains(\"^4299\", regex=True, na=False)]\n",
    "males_heart_disease = male_diagnoses_icd[male_diagnoses_icd.ICD9_CODE.str.contains(\"^429\", regex=True, na=False)]\n",
    "males_diabetes = male_diagnoses_icd[male_diagnoses_icd.ICD9_CODE.str.contains(\"^250\\d\", na=False)]\n",
    "males_ischemic_ids = males_ischemic[\"SUBJECT_ID\"].tolist()\n",
    "males_heart_disease_ids = males_heart_disease[\"SUBJECT_ID\"].tolist()\n",
    "males_cardiovascular_ids = males_cardiovascular[\"SUBJECT_ID\"].tolist()\n",
    "males_diabetes_ids = males_diabetes[\"SUBJECT_ID\"].tolist()\n",
    "len(males_diabetes)"
   ]
  },
  {
   "cell_type": "code",
   "execution_count": 37,
   "metadata": {},
   "outputs": [],
   "source": [
    "females_corr = pd.merge(left=females_two, right=females_six, left_on='SUBJECT_ID', right_on='SUBJECT_ID')"
   ]
  },
  {
   "cell_type": "code",
   "execution_count": 38,
   "metadata": {},
   "outputs": [],
   "source": [
    "males_corr = pd.merge(left=males_two, right=males_six, left_on='SUBJECT_ID', right_on='SUBJECT_ID')"
   ]
  },
  {
   "cell_type": "code",
   "execution_count": 41,
   "metadata": {},
   "outputs": [
    {
     "data": {
      "text/plain": [
       "<matplotlib.axes._subplots.AxesSubplot at 0x1a2b6bc400>"
      ]
     },
     "execution_count": 41,
     "metadata": {},
     "output_type": "execute_result"
    },
    {
     "data": {
      "image/png": "[encoded data removed]",
      "text/plain": [
       "<Figure size 1152x576 with 1 Axes>"
      ]
     },
     "metadata": {
      "needs_background": "light"
     },
     "output_type": "display_data"
    }
   ],
   "source": [
    "# Compare top 25 ICD9-Codes occurences for ischemic diseases\n",
    "n = 10\n",
    "\n",
    "graph_df = females_corr['ICD9_CODE_x'].value_counts(normalize=True)[:n].rename('FEMALE ICD').to_frame()\\\n",
    "               .join(males_corr['ICD9_CODE_x'].value_counts(normalize=True)[:n].rename('MALE ICD').to_frame())\n",
    "\n",
    "graph_df.plot(kind='bar',figsize=(16, 8))"
   ]
  },
  {
   "cell_type": "code",
   "execution_count": 40,
   "metadata": {},
   "outputs": [],
   "source": [
    "female_cad = female_diagnoses_icd[female_diagnoses_icd.ICD9_CODE.str.contains(\"^41401\", regex=True, na=False)]"
   ]
  },
  {
   "cell_type": "code",
   "execution_count": 166,
   "metadata": {},
   "outputs": [
    {
     "name": "stdout",
     "output_type": "stream",
     "text": [
      "3660\n"
     ]
    }
   ],
   "source": [
    "print(female_cad['SUBJECT_ID'].nunique())"
   ]
  },
  {
   "cell_type": "code",
   "execution_count": 175,
   "metadata": {},
   "outputs": [],
   "source": [
    "females_cad_dia = pd.merge(left=female_cad, right=females_diabetes, left_on='SUBJECT_ID', right_on='SUBJECT_ID')"
   ]
  },
  {
   "cell_type": "code",
   "execution_count": 176,
   "metadata": {},
   "outputs": [],
   "source": [
    "male_cad = male_diagnoses_icd[male_diagnoses_icd.ICD9_CODE.str.contains(\"^41401\", regex=True, na=False)]"
   ]
  },
  {
   "cell_type": "code",
   "execution_count": 177,
   "metadata": {},
   "outputs": [
    {
     "name": "stdout",
     "output_type": "stream",
     "text": [
      "7115\n"
     ]
    }
   ],
   "source": [
    "print(male_cad['SUBJECT_ID'].nunique())"
   ]
  },
  {
   "cell_type": "code",
   "execution_count": 178,
   "metadata": {},
   "outputs": [],
   "source": [
    "males_cad_dia = pd.merge(left=male_cad, right=males_diabetes, left_on='SUBJECT_ID', right_on='SUBJECT_ID')"
   ]
  },
  {
   "cell_type": "code",
   "execution_count": 174,
   "metadata": {},
   "outputs": [
    {
     "name": "stdout",
     "output_type": "stream",
     "text": [
      "2705\n"
     ]
    }
   ],
   "source": [
    "print(males_cad_dia['SUBJECT_ID'].nunique())"
   ]
  },
  {
   "cell_type": "code",
   "execution_count": 88,
   "metadata": {},
   "outputs": [],
   "source": [
    "# Value counts for ischemic heart diseases for women\n",
    "#females_ischemic['ICD9_CODE'].value_counts()[:n].index.tolist()"
   ]
  },
  {
   "cell_type": "code",
   "execution_count": 140,
   "metadata": {},
   "outputs": [
    {
     "data": {
      "text/plain": [
       "['4019',\n",
       " '41401',\n",
       " '42731',\n",
       " '4280',\n",
       " '412',\n",
       " '40390',\n",
       " '41071',\n",
       " '40391',\n",
       " '4240',\n",
       " '4241']"
      ]
     },
     "execution_count": 140,
     "metadata": {},
     "output_type": "execute_result"
    }
   ],
   "source": [
    "# Value counts for ischemic heart diseases for men\n",
    "#males_ischemic['ICD9_CODE'].value_counts()[:n].index.tolist()"
   ]
  },
  {
   "cell_type": "code",
   "execution_count": 90,
   "metadata": {},
   "outputs": [
    {
     "data": {
      "text/plain": [
       "<matplotlib.axes._subplots.AxesSubplot at 0x1a31a209b0>"
      ]
     },
     "execution_count": 90,
     "metadata": {},
     "output_type": "execute_result"
    },
    {
     "data": {
      "image/png": "[encoded data removed]",
      "text/plain": [
       "<Figure size 1152x576 with 1 Axes>"
      ]
     },
     "metadata": {
      "needs_background": "light"
     },
     "output_type": "display_data"
    }
   ],
   "source": [
    "females_ischemic.groupby([females_ischemic.ICD9_CODE]).count().plot(kind='bar', figsize=(16, 8))"
   ]
  },
  {
   "cell_type": "code",
   "execution_count": null,
   "metadata": {},
   "outputs": [],
   "source": []
  },
  {
   "cell_type": "code",
   "execution_count": 91,
   "metadata": {},
   "outputs": [
    {
     "data": {
      "text/plain": [
       "<matplotlib.axes._subplots.AxesSubplot at 0x1a2ebdd438>"
      ]
     },
     "execution_count": 91,
     "metadata": {},
     "output_type": "execute_result"
    },
    {
     "data": {
      "image/png": "[encoded data removed]",
      "text/plain": [
       "<Figure size 1152x576 with 1 Axes>"
      ]
     },
     "metadata": {
      "needs_background": "light"
     },
     "output_type": "display_data"
    }
   ],
   "source": [
    "males_ischemic.groupby([males_ischemic.ICD9_CODE]).count().plot(kind='bar', figsize=(16, 8))"
   ]
  },
  {
   "cell_type": "code",
   "execution_count": 92,
   "metadata": {},
   "outputs": [],
   "source": [
    "#ax = sns.countplot(x=\"ICD9_CODE\", data=females_ischemic)"
   ]
  },
  {
   "cell_type": "code",
   "execution_count": 93,
   "metadata": {},
   "outputs": [],
   "source": [
    "#ax = sns.countplot(x=\"ICD9_CODE\", data=males_ischemic)"
   ]
  },
  {
   "cell_type": "code",
   "execution_count": 141,
   "metadata": {},
   "outputs": [
    {
     "name": "stdout",
     "output_type": "stream",
     "text": [
      "4019     11333\n",
      "41401     8107\n",
      "42731     7379\n",
      "4280      7005\n",
      "5849      5178\n",
      "25000     5156\n",
      "2724      5153\n",
      "51881     4024\n",
      "2720      3494\n",
      "53081     3336\n",
      "Name: ICD9_CODE, dtype: int64\n"
     ]
    }
   ],
   "source": [
    "# get top 10 most ICD9-Codes for male patients\n",
    "n = 10\n",
    "males_ischemic_top10 = male_diagnoses_icd['ICD9_CODE'].value_counts()[:n]\n",
    "print(males_ischemic_top10)"
   ]
  },
  {
   "cell_type": "code",
   "execution_count": 142,
   "metadata": {},
   "outputs": [
    {
     "name": "stdout",
     "output_type": "stream",
     "text": [
      "4019     9370\n",
      "4280     6106\n",
      "42731    5512\n",
      "41401    4322\n",
      "4240     1416\n",
      "40390    1300\n",
      "41071    1262\n",
      "412      1156\n",
      "42789    1137\n",
      "4168     1101\n",
      "Name: ICD9_CODE, dtype: int64\n"
     ]
    }
   ],
   "source": [
    "# get top 10 most ICD9-Codes for female patients\n",
    "n = 10\n",
    "females_ischemic_top10 = females_ischemic['ICD9_CODE'].value_counts()[:n]\n",
    "print(females_ischemic_top10)"
   ]
  },
  {
   "cell_type": "code",
   "execution_count": 96,
   "metadata": {},
   "outputs": [
    {
     "data": {
      "text/plain": [
       "<matplotlib.axes._subplots.AxesSubplot at 0x1a2ec6b8d0>"
      ]
     },
     "execution_count": 96,
     "metadata": {},
     "output_type": "execute_result"
    },
    {
     "data": {
      "image/png": "[encoded data removed]",
      "text/plain": [
       "<Figure size 1152x576 with 1 Axes>"
      ]
     },
     "metadata": {
      "needs_background": "light"
     },
     "output_type": "display_data"
    }
   ],
   "source": [
    "fig, axs = plt.subplots()\n",
    "males_ischemic_top10.plot(x=\"ICD9_CODE\", y=[\"VALUE_COUNTS\"], kind=\"bar\", figsize=(16, 8))\n",
    "females_ischemic_top10.plot(x=\"ICD9_CODE\", y=[\"VALUE_COUNTS\"], kind=\"bar\", figsize=(16, 8))"
   ]
  },
  {
   "cell_type": "code",
   "execution_count": 97,
   "metadata": {},
   "outputs": [
    {
     "data": {
      "text/plain": [
       "4019     9370\n",
       "4280     6106\n",
       "42731    5512\n",
       "41401    4322\n",
       "486      2223\n",
       "         ... \n",
       "42654       1\n",
       "45374       1\n",
       "4719        1\n",
       "45181       1\n",
       "460         1\n",
       "Name: ICD9_CODE, Length: 496, dtype: int64"
      ]
     },
     "execution_count": 97,
     "metadata": {},
     "output_type": "execute_result"
    }
   ],
   "source": [
    "females_ischemic['ICD9_CODE'].value_counts()"
   ]
  },
  {
   "cell_type": "code",
   "execution_count": 154,
   "metadata": {},
   "outputs": [],
   "source": [
    "females_circ_dia = pd.merge(left=females_ischemic, right=females_diabetes, left_on='SUBJECT_ID', right_on='SUBJECT_ID')"
   ]
  },
  {
   "cell_type": "code",
   "execution_count": 155,
   "metadata": {},
   "outputs": [],
   "source": [
    "males_circ_dia = pd.merge(left=males_ischemic, right=males_diabetes, left_on='SUBJECT_ID', right_on='SUBJECT_ID')"
   ]
  },
  {
   "cell_type": "code",
   "execution_count": 160,
   "metadata": {},
   "outputs": [
    {
     "name": "stdout",
     "output_type": "stream",
     "text": [
      "4280     10597\n",
      "41401     8901\n",
      "4019      7415\n",
      "42731     5852\n",
      "40391     5571\n",
      "         ...  \n",
      "4374         1\n",
      "4150         1\n",
      "45385        1\n",
      "4419         1\n",
      "42491        1\n",
      "Name: ICD9_CODE_x, Length: 329, dtype: int64\n"
     ]
    }
   ],
   "source": [
    "print(males_circ_dia['ICD9_CODE_x'].value_counts())"
   ]
  },
  {
   "cell_type": "code",
   "execution_count": 161,
   "metadata": {},
   "outputs": [
    {
     "name": "stdout",
     "output_type": "stream",
     "text": [
      "4280     8436\n",
      "4019     8181\n",
      "41401    4587\n",
      "40391    4560\n",
      "42731    4298\n",
      "         ... \n",
      "40290       1\n",
      "4255        1\n",
      "43810       1\n",
      "42651       1\n",
      "41513       1\n",
      "Name: ICD9_CODE_x, Length: 328, dtype: int64\n"
     ]
    }
   ],
   "source": [
    "print(females_circ_dia['ICD9_CODE_x'].value_counts())"
   ]
  },
  {
   "cell_type": "code",
   "execution_count": 163,
   "metadata": {},
   "outputs": [
    {
     "data": {
      "text/plain": [
       "<matplotlib.axes._subplots.AxesSubplot at 0x1a53e7c588>"
      ]
     },
     "execution_count": 163,
     "metadata": {},
     "output_type": "execute_result"
    },
    {
     "data": {
      "image/png": "[encoded data removed]",
      "text/plain": [
       "<Figure size 1152x576 with 1 Axes>"
      ]
     },
     "metadata": {
      "needs_background": "light"
     },
     "output_type": "display_data"
    }
   ],
   "source": [
    "# Compare top 25 ICD9-Codes occurences for ischemic diseases\n",
    "n = 10\n",
    "\n",
    "graph_df = females_circ_dia['ICD9_CODE_x'].value_counts(normalize=True)[:n].rename('FEMALE ICD').to_frame()\\\n",
    "               .join(males_circ_dia['ICD9_CODE_x'].value_counts(normalize=True)[:n].rename('MALE ICD').to_frame())\n",
    "\n",
    "graph_df.plot(kind='bar',figsize=(16, 8))"
   ]
  },
  {
   "cell_type": "code",
   "execution_count": 98,
   "metadata": {
    "scrolled": true
   },
   "outputs": [
    {
     "data": {
      "text/plain": [
       "<matplotlib.axes._subplots.AxesSubplot at 0x1a2da22e10>"
      ]
     },
     "execution_count": 98,
     "metadata": {},
     "output_type": "execute_result"
    },
    {
     "data": {
      "image/png": "[encoded data removed]",
      "text/plain": [
       "<Figure size 1152x576 with 1 Axes>"
      ]
     },
     "metadata": {
      "needs_background": "light"
     },
     "output_type": "display_data"
    }
   ],
   "source": [
    "# Compare top 25 ICD9-Codes occurences for ischemic diseases\n",
    "n = 20\n",
    "\n",
    "graph_df = females_ischemic['ICD9_CODE'].value_counts(normalize=False)[:n].rename('FEMALE ICD').to_frame()\\\n",
    "               .join(males_ischemic['ICD9_CODE'].value_counts(normalize=False)[:n].rename('MALE ICD').to_frame())\n",
    "\n",
    "graph_df.plot(kind='bar',figsize=(16, 8))"
   ]
  },
  {
   "cell_type": "code",
   "execution_count": 143,
   "metadata": {},
   "outputs": [
    {
     "data": {
      "text/plain": [
       "<matplotlib.axes._subplots.AxesSubplot at 0x1a38e43518>"
      ]
     },
     "execution_count": 143,
     "metadata": {},
     "output_type": "execute_result"
    },
    {
     "data": {
      "image/png": "[encoded data removed]",
      "text/plain": [
       "<Figure size 1152x576 with 1 Axes>"
      ]
     },
     "metadata": {
      "needs_background": "light"
     },
     "output_type": "display_data"
    }
   ],
   "source": [
    "# Compare top 25 ICD9-Codes occurences for ischemic diseases\n",
    "n = 10\n",
    "\n",
    "graph_df = females_ischemic['ICD9_CODE'].value_counts(normalize=True)[:n].rename('FEMALE ICD').to_frame()\\\n",
    "               .join(males_ischemic['ICD9_CODE'].value_counts(normalize=True)[:n].rename('MALE ICD').to_frame())\n",
    "\n",
    "graph_df.plot(kind='bar',figsize=(16, 8))"
   ]
  },
  {
   "cell_type": "code",
   "execution_count": null,
   "metadata": {},
   "outputs": [],
   "source": [
    "# Compare top 25 ICD9-Codes occurences for ischemic diseases\n",
    "n = 20\n",
    "\n",
    "graph_df = females_ischemic['ICD9_CODE'].value_counts(normalize=True)[:n].rename('FEMALE ICD').to_frame()\\\n",
    "               .join(males_ischemic['ICD9_CODE'].value_counts(normalize=True)[:n].rename('MALE ICD').to_frame())\n",
    "\n",
    "graph_df.plot(kind='bar',figsize=(16, 8))"
   ]
  },
  {
   "cell_type": "code",
   "execution_count": 100,
   "metadata": {},
   "outputs": [
    {
     "data": {
      "text/plain": [
       "486"
      ]
     },
     "execution_count": 100,
     "metadata": {},
     "output_type": "execute_result"
    }
   ],
   "source": [
    "males_ischemic['ICD9_CODE'].nunique()"
   ]
  },
  {
   "cell_type": "code",
   "execution_count": 101,
   "metadata": {},
   "outputs": [
    {
     "ename": "TypeError",
     "evalue": "ufunc 'isnan' not supported for the input types, and the inputs could not be safely coerced to any supported types according to the casting rule ''safe''",
     "output_type": "error",
     "traceback": [
      "\u001b[0;31m---------------------------------------------------------------------------\u001b[0m",
      "\u001b[0;31mTypeError\u001b[0m                                 Traceback (most recent call last)",
      "\u001b[0;32m<ipython-input-101-fe5db0fa97cd>\u001b[0m in \u001b[0;36m<module>\u001b[0;34m\u001b[0m\n\u001b[1;32m      4\u001b[0m \u001b[0mdf\u001b[0m \u001b[0;34m=\u001b[0m \u001b[0mDataFrame\u001b[0m\u001b[0;34m(\u001b[0m\u001b[0mdiagnoses_icd\u001b[0m\u001b[0;34m,\u001b[0m \u001b[0mindex\u001b[0m\u001b[0;34m=\u001b[0m\u001b[0mIndex\u001b[0m\u001b[0;34m,\u001b[0m \u001b[0mcolumns\u001b[0m\u001b[0;34m=\u001b[0m\u001b[0mCols\u001b[0m\u001b[0;34m)\u001b[0m\u001b[0;34m\u001b[0m\u001b[0;34m\u001b[0m\u001b[0m\n\u001b[1;32m      5\u001b[0m \u001b[0;34m\u001b[0m\u001b[0m\n\u001b[0;32m----> 6\u001b[0;31m \u001b[0msns\u001b[0m\u001b[0;34m.\u001b[0m\u001b[0mheatmap\u001b[0m\u001b[0;34m(\u001b[0m\u001b[0mdiagnoses_icd\u001b[0m\u001b[0;34m)\u001b[0m\u001b[0;34m\u001b[0m\u001b[0;34m\u001b[0m\u001b[0m\n\u001b[0m",
      "\u001b[0;32m~/anaconda3/lib/python3.6/site-packages/seaborn/matrix.py\u001b[0m in \u001b[0;36mheatmap\u001b[0;34m(data, vmin, vmax, cmap, center, robust, annot, fmt, annot_kws, linewidths, linecolor, cbar, cbar_kws, cbar_ax, square, xticklabels, yticklabels, mask, ax, **kwargs)\u001b[0m\n\u001b[1;32m    515\u001b[0m     plotter = _HeatMapper(data, vmin, vmax, cmap, center, robust, annot, fmt,\n\u001b[1;32m    516\u001b[0m                           \u001b[0mannot_kws\u001b[0m\u001b[0;34m,\u001b[0m \u001b[0mcbar\u001b[0m\u001b[0;34m,\u001b[0m \u001b[0mcbar_kws\u001b[0m\u001b[0;34m,\u001b[0m \u001b[0mxticklabels\u001b[0m\u001b[0;34m,\u001b[0m\u001b[0;34m\u001b[0m\u001b[0;34m\u001b[0m\u001b[0m\n\u001b[0;32m--> 517\u001b[0;31m                           yticklabels, mask)\n\u001b[0m\u001b[1;32m    518\u001b[0m \u001b[0;34m\u001b[0m\u001b[0m\n\u001b[1;32m    519\u001b[0m     \u001b[0;31m# Add the pcolormesh kwargs here\u001b[0m\u001b[0;34m\u001b[0m\u001b[0;34m\u001b[0m\u001b[0;34m\u001b[0m\u001b[0m\n",
      "\u001b[0;32m~/anaconda3/lib/python3.6/site-packages/seaborn/matrix.py\u001b[0m in \u001b[0;36m__init__\u001b[0;34m(self, data, vmin, vmax, cmap, center, robust, annot, fmt, annot_kws, cbar, cbar_kws, xticklabels, yticklabels, mask)\u001b[0m\n\u001b[1;32m    165\u001b[0m         \u001b[0;31m# Determine good default values for the colormapping\u001b[0m\u001b[0;34m\u001b[0m\u001b[0;34m\u001b[0m\u001b[0;34m\u001b[0m\u001b[0m\n\u001b[1;32m    166\u001b[0m         self._determine_cmap_params(plot_data, vmin, vmax,\n\u001b[0;32m--> 167\u001b[0;31m                                     cmap, center, robust)\n\u001b[0m\u001b[1;32m    168\u001b[0m \u001b[0;34m\u001b[0m\u001b[0m\n\u001b[1;32m    169\u001b[0m         \u001b[0;31m# Sort out the annotations\u001b[0m\u001b[0;34m\u001b[0m\u001b[0;34m\u001b[0m\u001b[0;34m\u001b[0m\u001b[0m\n",
      "\u001b[0;32m~/anaconda3/lib/python3.6/site-packages/seaborn/matrix.py\u001b[0m in \u001b[0;36m_determine_cmap_params\u001b[0;34m(self, plot_data, vmin, vmax, cmap, center, robust)\u001b[0m\n\u001b[1;32m    202\u001b[0m                                cmap, center, robust):\n\u001b[1;32m    203\u001b[0m         \u001b[0;34m\"\"\"Use some heuristics to set good defaults for colorbar and range.\"\"\"\u001b[0m\u001b[0;34m\u001b[0m\u001b[0;34m\u001b[0m\u001b[0m\n\u001b[0;32m--> 204\u001b[0;31m         \u001b[0mcalc_data\u001b[0m \u001b[0;34m=\u001b[0m \u001b[0mplot_data\u001b[0m\u001b[0;34m.\u001b[0m\u001b[0mdata\u001b[0m\u001b[0;34m[\u001b[0m\u001b[0;34m~\u001b[0m\u001b[0mnp\u001b[0m\u001b[0;34m.\u001b[0m\u001b[0misnan\u001b[0m\u001b[0;34m(\u001b[0m\u001b[0mplot_data\u001b[0m\u001b[0;34m.\u001b[0m\u001b[0mdata\u001b[0m\u001b[0;34m)\u001b[0m\u001b[0;34m]\u001b[0m\u001b[0;34m\u001b[0m\u001b[0;34m\u001b[0m\u001b[0m\n\u001b[0m\u001b[1;32m    205\u001b[0m         \u001b[0;32mif\u001b[0m \u001b[0mvmin\u001b[0m \u001b[0;32mis\u001b[0m \u001b[0;32mNone\u001b[0m\u001b[0;34m:\u001b[0m\u001b[0;34m\u001b[0m\u001b[0;34m\u001b[0m\u001b[0m\n\u001b[1;32m    206\u001b[0m             \u001b[0mvmin\u001b[0m \u001b[0;34m=\u001b[0m \u001b[0mnp\u001b[0m\u001b[0;34m.\u001b[0m\u001b[0mpercentile\u001b[0m\u001b[0;34m(\u001b[0m\u001b[0mcalc_data\u001b[0m\u001b[0;34m,\u001b[0m \u001b[0;36m2\u001b[0m\u001b[0;34m)\u001b[0m \u001b[0;32mif\u001b[0m \u001b[0mrobust\u001b[0m \u001b[0;32melse\u001b[0m \u001b[0mcalc_data\u001b[0m\u001b[0;34m.\u001b[0m\u001b[0mmin\u001b[0m\u001b[0;34m(\u001b[0m\u001b[0;34m)\u001b[0m\u001b[0;34m\u001b[0m\u001b[0;34m\u001b[0m\u001b[0m\n",
      "\u001b[0;31mTypeError\u001b[0m: ufunc 'isnan' not supported for the input types, and the inputs could not be safely coerced to any supported types according to the casting rule ''safe''"
     ]
    }
   ],
   "source": [
    "n = 10\n",
    "Index= diagnoses_icd['ICD9_CODE'].unique()[:n]\n",
    "Cols = diagnoses_icd['ICD9_CODE'].unique()[:n]\n",
    "df = DataFrame(diagnoses_icd, index=Index, columns=Cols)\n",
    "\n",
    "sns.heatmap(diagnoses_icd)"
   ]
  },
  {
   "cell_type": "code",
   "execution_count": null,
   "metadata": {},
   "outputs": [],
   "source": [
    "#diagnoses_pivot = diagnoses_icd.pivot('SUBJECT_ID', 'ICD9_CODE')\n",
    "#sns.heatmap([diagnoses_icd['ICD9_CODE'].unique(), diagnoses_icd['ICD9_CODE'].unique()], annot=True, fmt=\"d\")"
   ]
  },
  {
   "cell_type": "code",
   "execution_count": null,
   "metadata": {},
   "outputs": [],
   "source": [
    "diagnoses_ICD_SNS = sns.load_dataset('/Users/nicenoize/Documents/Bachelorarbeit/mimic-iii-clinical-database-1.4/DIAGNOSES_ICD.csv')\n",
    "diagnoses_ICD_SNS.head()"
   ]
  },
  {
   "cell_type": "code",
   "execution_count": null,
   "metadata": {},
   "outputs": [],
   "source": [
    " fig = plt.figure(figsize=(10, 10))  \n",
    " sns.set(style='white')  \n",
    " # Draw the heatmap with the mask and correct aspect ratio   \n",
    " ax = sns.heatmap(cooccurrence_matrix_percentage, cmap='viridis', center=0, square=True, linewidths=0.15, cbar_kws={\"shrink\": 0.5, \"label\": \"Co-occurrence frequency\"}, )  \n",
    " ax.set_title('Heatmap of the attributes')  \n",
    " ax.set_xlabel('Attributes')  \n",
    " ax.set_ylabel('Attributes')  \n",
    " plt.show()  \n",
    "\n",
    " fig = plt.figure(figsize=(10, 10))  \n",
    " sns.set(style='white')  \n",
    " # Draw the heatmap with the mask and correct aspect ratio   \n",
    " ax = sns.heatmap(cooccurrence_matrix_percentage, cmap='viridis', center=0, square=True, linewidths=0.15, cbar_kws={\"shrink\": 0.5, \"label\": \"Co-occurrence frequency\"}, )  \n",
    " ax.set_title('Heatmap of the attributes')  \n",
    " ax.set_xlabel('Attributes')  \n",
    " ax.set_ylabel('Attributes')  \n",
    " plt.show()"
   ]
  },
  {
   "cell_type": "code",
   "execution_count": null,
   "metadata": {},
   "outputs": [],
   "source": [
    "male_diagnoses_icd.to_csv('/Users/nicenoize/Documents/Bachelorarbeit/mimic-iii-clinical-database-1.4/males.csv')"
   ]
  },
  {
   "cell_type": "code",
   "execution_count": null,
   "metadata": {},
   "outputs": [],
   "source": [
    "female_diagnoses_icd.to_csv('/Users/nicenoize/Documents/Bachelorarbeit/mimic-iii-clinical-database-1.4/females.csv')\n"
   ]
  },
  {
   "cell_type": "code",
   "execution_count": null,
   "metadata": {},
   "outputs": [],
   "source": [
    "male_diagnoses_icd.head()"
   ]
  },
  {
   "cell_type": "code",
   "execution_count": null,
   "metadata": {},
   "outputs": [],
   "source": [
    "diagnoses_icd['ICD9_CODE'].nunique()"
   ]
  },
  {
   "cell_type": "code",
   "execution_count": null,
   "metadata": {},
   "outputs": [],
   "source": [
    "admissions.head()"
   ]
  },
  {
   "cell_type": "code",
   "execution_count": null,
   "metadata": {},
   "outputs": [],
   "source": [
    "male_admissions.head()\n",
    "male_admissions.to_csv('/Users/nicenoize/Documents/Bachelorarbeit/mimic-iii-clinical-database-1.4/male_admissions.csv')"
   ]
  },
  {
   "cell_type": "code",
   "execution_count": null,
   "metadata": {},
   "outputs": [],
   "source": [
    "female_admissions.head()\n",
    "female_admissions.to_csv('/Users/nicenoize/Documents/Bachelorarbeit/mimic-iii-clinical-database-1.4/female_admissions.csv')"
   ]
  },
  {
   "cell_type": "code",
   "execution_count": null,
   "metadata": {},
   "outputs": [],
   "source": [
    "admissions[\"SUBJECT_ID\"].nunique()"
   ]
  },
  {
   "cell_type": "code",
   "execution_count": null,
   "metadata": {},
   "outputs": [],
   "source": [
    "diagnoses_icd[\"SUBJECT_ID\"].nunique()"
   ]
  },
  {
   "cell_type": "code",
   "execution_count": null,
   "metadata": {},
   "outputs": [],
   "source": [
    "male_admissions[\"SUBJECT_ID\"].nunique()"
   ]
  },
  {
   "cell_type": "code",
   "execution_count": null,
   "metadata": {},
   "outputs": [],
   "source": [
    "male_diagnoses_icd[\"SUBJECT_ID\"].nunique()"
   ]
  },
  {
   "cell_type": "code",
   "execution_count": null,
   "metadata": {},
   "outputs": [],
   "source": [
    "male_diagnoses_icd[\"ICD9_CODE\"].nunique()"
   ]
  },
  {
   "cell_type": "code",
   "execution_count": null,
   "metadata": {},
   "outputs": [],
   "source": [
    "female_diagnoses_icd[\"ICD9_CODE\"].nunique()"
   ]
  },
  {
   "cell_type": "code",
   "execution_count": null,
   "metadata": {},
   "outputs": [],
   "source": [
    "male_diagnoses_icd[\"SUBJECT_ID\"].head()"
   ]
  },
  {
   "cell_type": "code",
   "execution_count": null,
   "metadata": {},
   "outputs": [],
   "source": [
    "# Compare top 25 ICD9-Codes occurences for ischemic diseases\n",
    "n = 15\n",
    "\n",
    "graph_df = females_heart_disease['ICD9_CODE'].value_counts(normalize=True)[:n].rename('FEMALE ICD').to_frame()\\\n",
    "               .join(males_heart_disease['ICD9_CODE'].value_counts(normalize=True)[:n].rename('MALE ICD').to_frame())\n",
    "\n",
    "graph_df.plot(kind='bar',figsize=(16, 8))"
   ]
  },
  {
   "cell_type": "code",
   "execution_count": null,
   "metadata": {},
   "outputs": [],
   "source": [
    "co_mat = pd.crosstab(males_heart_disease[\"ICD9_CODE\"].value_counts(), males_diabetes[\"ICD9_CODE\"].value_counts())\n",
    "print(co_mat)"
   ]
  },
  {
   "cell_type": "code",
   "execution_count": null,
   "metadata": {},
   "outputs": [],
   "source": [
    "print(males_heart_disease[\"ICD9_CODE\"].value_counts())"
   ]
  },
  {
   "cell_type": "code",
   "execution_count": null,
   "metadata": {},
   "outputs": [],
   "source": [
    "# Get ids of male patients with heart disease + any type of diabetes\n",
    "male_heart_and_diabetes = male_diagnoses_icd[male_diagnoses_icd[\"SUBJECT_ID\"].isin(males_cardiovascular_ids)]\n",
    "male_heart_and_diabetes = male_heart_and_diabetes[male_heart_and_diabetes[\"SUBJECT_ID\"].isin(males_diabetes_ids)]\n",
    "male_heart_and_diabetes[\"SUBJECT_ID\"].nunique() "
   ]
  },
  {
   "cell_type": "code",
   "execution_count": 145,
   "metadata": {},
   "outputs": [],
   "source": [
    "male_circ_and_diabetes = male_diagnoses_icd[male_diagnoses_icd[\"SUBJECT_ID\"].isin(males_ischemic_ids)]\n",
    "male_circ_and_diabetes = male_diagnoses_icd[male_diagnoses_icd[\"SUBJECT_ID\"].isin(males_cardiovascular_ids)]\n",
    "male_circ_and_diabetes = male_circ_and_diabetes[male_circ_and_diabetes[\"SUBJECT_ID\"].isin(males_diabetes_ids)]"
   ]
  },
  {
   "cell_type": "code",
   "execution_count": 146,
   "metadata": {},
   "outputs": [],
   "source": [
    "female_circ_and_diabetes = female_diagnoses_icd[female_diagnoses_icd[\"SUBJECT_ID\"].isin(females_ischemic_ids)]\n",
    "female_circ_and_diabetes = female_diagnoses_icd[female_diagnoses_icd[\"SUBJECT_ID\"].isin(females_cardiovascular_ids)]\n",
    "female_circ_and_diabetes = female_circ_and_diabetes[female_circ_and_diabetes[\"SUBJECT_ID\"].isin(females_diabetes_ids)]"
   ]
  },
  {
   "cell_type": "code",
   "execution_count": 147,
   "metadata": {},
   "outputs": [
    {
     "data": {
      "text/plain": [
       "<matplotlib.axes._subplots.AxesSubplot at 0x1a31f28668>"
      ]
     },
     "execution_count": 147,
     "metadata": {},
     "output_type": "execute_result"
    },
    {
     "data": {
      "image/png": "[encoded data removed]",
      "text/plain": [
       "<Figure size 1152x576 with 1 Axes>"
      ]
     },
     "metadata": {
      "needs_background": "light"
     },
     "output_type": "display_data"
    }
   ],
   "source": [
    "# Compare top 25 ICD9-Codes occurences for patients with heart disease and diabetes\n",
    "n = 10\n",
    "\n",
    "graph_df = female_circ_and_diabetes['ICD9_CODE'].value_counts(normalize=True)[:n].rename('FEMALE ICD').to_frame()\\\n",
    "               .join(male_circ_and_diabetes['ICD9_CODE'].value_counts(normalize=True)[:n].rename('MALE ICD').to_frame())\n",
    "\n",
    "graph_df.plot(kind='bar',figsize=(16, 8))"
   ]
  },
  {
   "cell_type": "code",
   "execution_count": null,
   "metadata": {},
   "outputs": [],
   "source": [
    "# # Get ids of female patients with heart disease + any type of diabetes\n",
    "female_heart_and_diabetes = female_diagnoses_icd[female_diagnoses_icd[\"SUBJECT_ID\"].isin(females_cardiovascular_ids)]\n",
    "female_heart_and_diabetes = female_heart_and_diabetes[female_heart_and_diabetes [\"SUBJECT_ID\"].isin(females_diabetes_ids)]\n",
    "female_heart_and_diabetes[\"SUBJECT_ID\"].nunique()"
   ]
  },
  {
   "cell_type": "code",
   "execution_count": null,
   "metadata": {},
   "outputs": [],
   "source": [
    "print(male_heart_and_diabetes.nunique())"
   ]
  },
  {
   "cell_type": "code",
   "execution_count": null,
   "metadata": {},
   "outputs": [],
   "source": [
    "print(female_heart_and_diabetes.nunique())"
   ]
  },
  {
   "cell_type": "code",
   "execution_count": null,
   "metadata": {},
   "outputs": [],
   "source": [
    "# Compare top 25 ICD9-Codes occurences for patients with heart disease and diabetes\n",
    "n = 25\n",
    "\n",
    "graph_df = female_heart_and_diabetes['ICD9_CODE'].value_counts(normalize=True)[:n].rename('FEMALE ICD').to_frame()\\\n",
    "               .join(male_heart_and_diabetes['ICD9_CODE'].value_counts(normalize=True)[:n].rename('MALE ICD').to_frame())\n",
    "\n",
    "graph_df.plot(kind='bar',figsize=(16, 8))"
   ]
  },
  {
   "cell_type": "code",
   "execution_count": null,
   "metadata": {},
   "outputs": [],
   "source": [
    "female_patients = np.load('/Users/nicenoize/Documents/Bachelorarbeit/mimic-iii-clinical-database-1.4/binary.npy')"
   ]
  },
  {
   "cell_type": "code",
   "execution_count": null,
   "metadata": {},
   "outputs": [],
   "source": [
    "print(female_patients)"
   ]
  },
  {
   "cell_type": "code",
   "execution_count": null,
   "metadata": {},
   "outputs": [],
   "source": [
    "male_diagnoses_icd"
   ]
  },
  {
   "cell_type": "code",
   "execution_count": null,
   "metadata": {},
   "outputs": [],
   "source": [
    "male_diagnoses_icd.head()"
   ]
  },
  {
   "cell_type": "markdown",
   "metadata": {},
   "source": []
  },
  {
   "cell_type": "code",
   "execution_count": null,
   "metadata": {},
   "outputs": [],
   "source": [
    "males_generated = np.load('/Users/nicenoize/Documents/Bachelorarbeit/mimic-iii-clinical-database-1.4/all_icd_binary.npy')"
   ]
  },
  {
   "cell_type": "code",
   "execution_count": null,
   "metadata": {},
   "outputs": [],
   "source": [
    "# should be 10000, 1071 (1071 ICD9-Codes after generalizing to 3 digits)\n",
    "# shoule be 10000, 6984 without generalization\n",
    "# is: 857\n",
    "print(males_generated.shape)"
   ]
  },
  {
   "cell_type": "code",
   "execution_count": null,
   "metadata": {},
   "outputs": [],
   "source": [
    "#\n",
    "print(males_generated[0,:])"
   ]
  },
  {
   "cell_type": "code",
   "execution_count": null,
   "metadata": {},
   "outputs": [],
   "source": [
    "diagnoses_icd['ICD9_CODE'].nunique()"
   ]
  },
  {
   "cell_type": "code",
   "execution_count": null,
   "metadata": {},
   "outputs": [],
   "source": [
    "male_diagnoses_icd['ICD9_CODE'].nunique()"
   ]
  },
  {
   "cell_type": "code",
   "execution_count": null,
   "metadata": {},
   "outputs": [],
   "source": [
    "female_diagnoses_icd['ICD9_CODE'].nunique()"
   ]
  },
  {
   "cell_type": "code",
   "execution_count": null,
   "metadata": {},
   "outputs": [],
   "source": [
    "# Inverting dictionaries to map index -> Diagnosiscode\n",
    "females_types = np.load('/Users/nicenoize/Documents/Bachelorarbeit/mimic-iii-clinical-database-1.4/females_binary.types')\n",
    "females_types_inv = {v: k for k, v in females_types.items()}\n",
    "males_types = np.load('/Users/nicenoize/Documents/Bachelorarbeit/mimic-iii-clinical-database-1.4/males_binary.types')\n",
    "males_types_inv = {v: k for k, v in males_types.items()}\n",
    "mixed_types = np.load('/Users/nicenoize/Documents/Bachelorarbeit/mimic-iii-clinical-database-1.4/fullpatients_binary.types')\n",
    "mixed_types_inv = {v: k for k, v in mixed_types.items()}\n",
    "#print(males_types_inv)"
   ]
  },
  {
   "cell_type": "markdown",
   "metadata": {},
   "source": [
    "female_generated_patients = np.load('/Users/nicenoize/Documents/Bachelorarbeit/mimic-iii-clinical-database-1.4/female_generated_binary.npy')\n",
    "print(female_generated_patients.shape)"
   ]
  },
  {
   "cell_type": "code",
   "execution_count": null,
   "metadata": {},
   "outputs": [],
   "source": [
    "female_generated_patients = np.load('/Users/nicenoize/Documents/Bachelorarbeit/mimic-iii-clinical-database-1.4/females_generated_binary.npy')\n",
    "female_generated_patients = np.rint(female_generated_patients)\n",
    "print(female_generated_patients.shape)\n",
    "#male_generated_patients = np.array_str(male_generated_patients)\n",
    "#for x in np.nditer(male_generated_patients, op_flags=['readwrite'], flags=['multi_index']):\n",
    "#        if(x==1): x = males_types[x]\n",
    "female_generated_patients_icd = np.chararray(female_generated_patients.shape, itemsize=5)            \n",
    "it = np.nditer(male_generated_patients, flags=['multi_index'])\n",
    "while not it.finished:\n",
    "    #print (\"%d <%s>\" % (it[0], it.multi_index)),\n",
    "    if(it[0] == 1): female_generated_patients_icd[it.multi_index] = females_types_inv[it.multi_index[1]]\n",
    "    #print()\n",
    "    it.iternext()\n",
    "    \n",
    "# Save female patients to csv\n",
    "pd.DataFrame(female_generated_patients_icd).to_csv(\"/Users/nicenoize/Documents/Bachelorarbeit/mimic-iii-clinical-database-1.4/female.csv\")"
   ]
  },
  {
   "cell_type": "code",
   "execution_count": null,
   "metadata": {},
   "outputs": [],
   "source": [
    "male_generated_patients = np.load('/Users/nicenoize/Documents/Bachelorarbeit/mimic-iii-clinical-database-1.4/males_generated_binary.npy')\n",
    "male_generated_patients = np.rint(male_generated_patients)\n",
    "print(male_generated_patients.shape)\n",
    "#male_generated_patients = np.array_str(male_generated_patients)\n",
    "#for x in np.nditer(male_generated_patients, op_flags=['readwrite'], flags=['multi_index']):\n",
    "#        if(x==1): x = males_types[x]\n",
    "male_generated_patients_icd = np.chararray(male_generated_patients.shape, itemsize=5)            \n",
    "it = np.nditer(male_generated_patients, flags=['multi_index'])\n",
    "while not it.finished:\n",
    "    #print (\"%d <%s>\" % (it[0], it.multi_index)),\n",
    "    if(it[0] == 1): male_generated_patients_icd[it.multi_index] = males_types_inv[it.multi_index[1]]\n",
    "    #print()\n",
    "    it.iternext()\n",
    "    \n",
    "# Save male patients to csv\n",
    "#pd.DataFrame(male_generated_patients_icd).to_csv(\"/Users/nicenoize/Documents/Bachelorarbeit/mimic-iii-clinical-database-1.4/male.csv\")"
   ]
  },
  {
   "cell_type": "code",
   "execution_count": null,
   "metadata": {},
   "outputs": [],
   "source": [
    "mixed_generated_patients = np.load('/Users/nicenoize/Documents/Bachelorarbeit/mimic-iii-clinical-database-1.4/mixed_binary.npy')\n",
    "mixed_generated_patients = np.rint(mixed_generated_patients)\n",
    "print(mixed_generated_patients.shape)\n",
    "#male_generated_patients = np.array_str(male_generated_patients)\n",
    "#for x in np.nditer(male_generated_patients, op_flags=['readwrite'], flags=['multi_index']):\n",
    "#        if(x==1): x = males_types[x]\n",
    "mixed_generated_patients_icd = np.chararray(mixed_generated_patients.shape, itemsize=5)            \n",
    "it = np.nditer(mixed_generated_patients, flags=['multi_index'])\n",
    "while not it.finished:\n",
    "    #print (\"%d <%s>\" % (it[0], it.multi_index)),\n",
    "    if(it[0] == 1): mixed_generated_patients_icd[it.multi_index] = mixed_types_inv[it.multi_index[1]]\n",
    "    #print()\n",
    "    it.iternext()\n",
    "    \n",
    "# Save mixed patients to csv\n",
    "pd.DataFrame(mixed_generated_patients_icd).to_csv(\"/Users/nicenoize/Documents/Bachelorarbeit/mimic-iii-clinical-database-1.4/mixed_binary.csv\")"
   ]
  },
  {
   "cell_type": "code",
   "execution_count": null,
   "metadata": {},
   "outputs": [],
   "source": [
    "fullpatients_ids = np.load('/Users/nicenoize/Documents/Bachelorarbeit/mimic-iii-clinical-database-1.4/fullpatients_binary.pids')\n",
    "print(fullpatients_ids)"
   ]
  },
  {
   "cell_type": "code",
   "execution_count": null,
   "metadata": {},
   "outputs": [],
   "source": [
    "diagnoses_icd.loc[diagnoses_icd['ICD9_CODE'] == '1']"
   ]
  },
  {
   "cell_type": "code",
   "execution_count": null,
   "metadata": {},
   "outputs": [],
   "source": [
    "females_ischemic = female_diagnoses_icd[female_diagnoses_icd.ICD9_CODE.str.contains(\"^1$\", regex=True, na=False)]\n",
    "females_ischemic.head()"
   ]
  },
  {
   "cell_type": "code",
   "execution_count": null,
   "metadata": {},
   "outputs": [],
   "source": [
    "diagnoses_icd[\"ICD9_CODE\"] = diagnoses_icd[\"ICD9_CODE\"].astype(str)\n",
    "male_diagnoses_icd[\"ICD9_CODE\"] = male_diagnoses_icd[\"ICD9_CODE\"].astype(str)\n",
    "female_diagnoses_icd[\"ICD9_CODE\"] = female_diagnoses_icd[\"ICD9_CODE\"].astype(str)"
   ]
  },
  {
   "cell_type": "code",
   "execution_count": null,
   "metadata": {},
   "outputs": [],
   "source": [
    "mixed_diagnoses_3digit = diagnoses_icd[\"ICD9_CODE\"].apply(convert_to_3digit_icd9)\n",
    "female_diagnoses_3digit = female_diagnoses_icd[\"ICD9_CODE\"].apply(convert_to_3digit_icd9)\n",
    "male_diagnoses_3digit = male_diagnoses_icd[\"ICD9_CODE\"].apply(convert_to_3digit_icd9)"
   ]
  },
  {
   "cell_type": "code",
   "execution_count": null,
   "metadata": {},
   "outputs": [],
   "source": [
    "mixed_diagnoses_3digit.nunique()"
   ]
  },
  {
   "cell_type": "code",
   "execution_count": null,
   "metadata": {},
   "outputs": [],
   "source": [
    "female_diagnoses_3digit.nunique()"
   ]
  },
  {
   "cell_type": "code",
   "execution_count": null,
   "metadata": {},
   "outputs": [],
   "source": [
    "male_diagnoses_3digit.nunique()"
   ]
  }
 ],
 "metadata": {
  "kernelspec": {
   "display_name": "Python 3",
   "language": "python",
   "name": "python3"
  },
  "language_info": {
   "codemirror_mode": {
    "name": "ipython",
    "version": 3
   },
   "file_extension": ".py",
   "mimetype": "text/x-python",
   "name": "python",
   "nbconvert_exporter": "python",
   "pygments_lexer": "ipython3",
   "version": "3.6.9"
  }
 },
 "nbformat": 4,
 "nbformat_minor": 2
}
