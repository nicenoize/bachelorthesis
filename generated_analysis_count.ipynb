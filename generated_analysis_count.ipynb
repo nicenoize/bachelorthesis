{
 "cells": [
  {
   "cell_type": "code",
   "execution_count": 1,
   "metadata": {},
   "outputs": [],
   "source": [
    "import numpy as np \n",
    "from io import StringIO\n",
    "import pandas as pd\n",
    "from pandas import DataFrame\n",
    "import seaborn as sns\n",
    "import matplotlib.pyplot as plt\n",
    "import re"
   ]
  },
  {
   "cell_type": "code",
   "execution_count": 349,
   "metadata": {},
   "outputs": [],
   "source": [
    "# Inverting dictionaries to map index -> Diagnosiscode\n",
    "females_binary_types = np.load('/Users/nicenoize/Documents/Bachelorarbeit/mimic-iii-clinical-database-1.4/females_binary.types')\n",
    "females_binary_types_inv = {v: k for k, v in females_types.items()}\n",
    "male_binary_types = np.load('/Users/nicenoize/Documents/Bachelorarbeit/mimic-iii-clinical-database-1.4/males_binary.types')\n",
    "male_binary_types_inv = {v: k for k, v in males_types.items()}\n",
    "mixed_binary_types = np.load('/Users/nicenoize/Documents/Bachelorarbeit/mimic-iii-clinical-database-1.4/mixed_binary.types')\n",
    "mixed_binary_types_inv = {v: k for k, v in mixed_types.items()}\n",
    "\n",
    "females_count_types = np.load('/Users/nicenoize/Documents/Bachelorarbeit/mimic-iii-clinical-database-1.4/females_count.types')\n",
    "females_count_types_inv = {v: k for k, v in females_types.items()}\n",
    "male_count_types = np.load('/Users/nicenoize/Documents/Bachelorarbeit/mimic-iii-clinical-database-1.4/males_count.types')\n",
    "male_count_types_inv = {v: k for k, v in males_types.items()}\n",
    "mixed_count_types = np.load('/Users/nicenoize/Documents/Bachelorarbeit/mimic-iii-clinical-database-1.4/mixed_count.types')\n",
    "mixed_count_types_inv = {v: k for k, v in mixed_types.items()}"
   ]
  },
  {
   "cell_type": "code",
   "execution_count": 339,
   "metadata": {},
   "outputs": [
    {
     "name": "stdout",
     "output_type": "stream",
     "text": [
      "(10000, 906)\n"
     ]
    }
   ],
   "source": [
    "mixed_count = np.load('/Users/nicenoize/Documents/Bachelorarbeit/mimic-iii-clinical-database-1.4/mixed_count.npy')\n",
    "mixed_count = np.rint(mixed_count)\n",
    "print(mixed_count.shape)\n",
    "#male_generated_patients = np.array_str(male_generated_patients)\n",
    "#for x in np.nditer(male_generated_patients, op_flags=['readwrite'], flags=['multi_index']):\n",
    "#        if(x==1): x = males_types[x]\n",
    "mixed_count_icd = np.chararray(mixed_count.shape, itemsize=7)            \n",
    "it = np.nditer(mixed_count, flags=['multi_index'])\n",
    "while not it.finished:\n",
    "    #print (\"%d <%s>\" % (it[0], it.multi_index)),\n",
    "    if(it[0] == 1): mixed_count_icd[it.multi_index] = mixed_types_inv[it.multi_index[1]]\n",
    "    #print()\n",
    "    it.iternext()\n",
    "    \n",
    "# Save mixed patients to csv\n",
    "pd.DataFrame(mixed_count_icd).to_csv(\"/Users/nicenoize/Documents/Bachelorarbeit/mimic-iii-clinical-database-1.4/mixed_count.csv\")"
   ]
  },
  {
   "cell_type": "code",
   "execution_count": 340,
   "metadata": {},
   "outputs": [
    {
     "name": "stderr",
     "output_type": "stream",
     "text": [
      "/Users/nicenoize/anaconda3/lib/python3.6/site-packages/IPython/core/interactiveshell.py:3058: DtypeWarning: Columns (17,18,56,124,132,134,158,160,161,171,183,192,196,203,212,219,235,238,239,241,244,251,258,274,276,282,283,284,286,298,301,305,320,326,328,335,342,345,355,358,363,368,372,375,378,381,384,386,390,393,408,418,421,424,430,432,433,440,442,443,444,456,461,463,464,466,469,471,472,475,476,478,479,484,485,489,490,492,498,500,504,519,522,534,536,554,567,577,582,584,591,615,634,663,699,705,706,769) have mixed types. Specify dtype option on import or set low_memory=False.\n",
      "  interactivity=interactivity, compiler=compiler, result=result)\n",
      "/Users/nicenoize/anaconda3/lib/python3.6/site-packages/IPython/core/interactiveshell.py:3058: DtypeWarning: Columns (18,19,57,125,133,135,159,161,162,172,184,193,197,204,213,220,236,239,240,242,245,252,259,275,277,283,284,285,287,299,302,306,321,327,329,336,343,346,356,359,364,369,373,376,379,382,385,387,391,394,409,419,422,425,431,433,434,441,443,444,445,457,462,464,465,467,470,472,473,476,477,479,480,485,486,490,491,493,499,501,505,520,523,535,537,555,568,578,583,585,592,616,635,664,700,706,707,770) have mixed types. Specify dtype option on import or set low_memory=False.\n",
      "  interactivity=interactivity, compiler=compiler, result=result)\n"
     ]
    }
   ],
   "source": [
    "# Binary\n",
    "mixed_binary = pd.read_csv('/Users/nicenoize/Documents/Bachelorarbeit/mimic-iii-clinical-database-1.4/mixed_binary.csv')\n",
    "male_binary = pd.read_csv('/Users/nicenoize/Documents/Bachelorarbeit/mimic-iii-clinical-database-1.4/male_binary.csv')\n",
    "female_binary = pd.read_csv('/Users/nicenoize/Documents/Bachelorarbeit/mimic-iii-clinical-database-1.4/female_binary.csv')\n",
    "\n",
    "# Count\n",
    "mixed_count = pd.read_csv('/Users/nicenoize/Documents/Bachelorarbeit/mimic-iii-clinical-database-1.4/mixed_count.csv')\n",
    "#male_count = pd.read_csv('/Users/nicenoize/Documents/Bachelorarbeit/mimic-iii-clinical-database-1.4/male_count.csv')\n",
    "#female_count = pd.read_csv('/Users/nicenoize/Documents/Bachelorarbeit/mimic-iii-clinical-database-1.4/female_count.csv')"
   ]
  },
  {
   "cell_type": "code",
   "execution_count": 260,
   "metadata": {},
   "outputs": [],
   "source": [
    "# Invert\n",
    "#males = males.T\n",
    "#females = females.T\n",
    "#mixed = mixed.T"
   ]
  },
  {
   "cell_type": "code",
   "execution_count": 261,
   "metadata": {},
   "outputs": [],
   "source": [
    "#for i in range(855):\n",
    "#    females.rename(columns={ females.columns[i]: \"DIAGNOSIS_ICD\" }, inplace = True)\n",
    "#females.rename(columns={females.columns[0]: \"DIAGNOSIS_ICD\" }, inplace = True)\n",
    "#males.rename(columns={females.columns[0]: \"DIAGNOSIS_ICD\" }, inplace = True)\n",
    "\n",
    "#females.head()"
   ]
  },
  {
   "cell_type": "code",
   "execution_count": 342,
   "metadata": {},
   "outputs": [],
   "source": [
    "# Binary\n",
    "mixed_binary.rename(columns={mixed_binary.columns[0]: \"SUBJECT_ID\"}, inplace = True)\n",
    "male_binary.rename(columns={male_binary.columns[0]: \"SUBJECT_ID\"}, inplace = True)\n",
    "female_binary.rename(columns={female_binary.columns[0]: \"SUBJECT_ID\"}, inplace = True)\n",
    "\n",
    "# Count\n",
    "mixed_count.rename(columns={mixed_count.columns[0]: \"SUBJECT_ID\"}, inplace = True)\n",
    "#male_count.rename(columns={male_count.columns[0]: \"SUBJECT_ID\"}, inplace = True)\n",
    "#females_count.rename(columns={female_count.columns[0]: \"SUBJECT_ID\"}, inplace = True)"
   ]
  },
  {
   "cell_type": "code",
   "execution_count": 343,
   "metadata": {},
   "outputs": [],
   "source": [
    "# Binary\n",
    "mixed_binary = pd.melt(mixed_binary, id_vars=[\"SUBJECT_ID\"])\n",
    "male_binary = pd.melt(male_binary, id_vars=[\"SUBJECT_ID\"])\n",
    "female_binary = pd.melt(female_binary, id_vars=[\"SUBJECT_ID\"])\n",
    "\n",
    "# Count\n",
    "mixed_count = pd.melt(mixed_count, id_vars=[\"SUBJECT_ID\"])\n",
    "#male_transformed_count = pd.melt(male_count, id_vars=[\"SUBJECT_ID\"])\n",
    "#female_transformed_count = pd.melt(female_count, id_vars=[\"SUBJECT_ID\"])"
   ]
  },
  {
   "cell_type": "code",
   "execution_count": 344,
   "metadata": {},
   "outputs": [],
   "source": [
    "# Find patient by SUBJECT_ID\n",
    "#print(females_transformed.loc[females_transformed['SUBJECT_ID'] == 3])"
   ]
  },
  {
   "cell_type": "code",
   "execution_count": 350,
   "metadata": {},
   "outputs": [],
   "source": [
    "# Sort rows by SUBJECT ID\n",
    "mixed_binary = mixed_binary.sort_values(by=['SUBJECT_ID'], ascending = True)\n",
    "male_binary = male_binary.sort_values(by=['SUBJECT_ID'], ascending = True)\n",
    "female_binary = female_binary.sort_values(by=['SUBJECT_ID'], ascending = True)\n",
    "mixed_count = mixed_count.sort_values(by=['SUBJECT_ID'], ascending = True)\n",
    "#male_count = male_count.sort_values(by=['SUBJECT_ID'], ascending = True)\n",
    "#female_count = female_count.sort_values(by=['SUBJECT_ID'], ascending = True)\n",
    "\n",
    "# Drop NaN rows\n",
    "mixed_binary_icd = mixed_binary.dropna()\n",
    "male_binary_icd = male_binary.dropna()\n",
    "female_binary_icd = female_binary.dropna()\n",
    "mixed_count_icd = mixed_count.dropna()\n",
    "#male_count_icd = male_count.dropna()\n",
    "#female_count_icd = female_count.dropna()"
   ]
  },
  {
   "cell_type": "code",
   "execution_count": 293,
   "metadata": {},
   "outputs": [],
   "source": [
    "# Filter mixed patients for with ischemic diseases, heart diseases, diabetes and cardiovascular ones\n",
    "# also getting the SUBJECT IDs of each\n",
    "mixed_ischemic = mixed_binary_icd[mixed_binary_icd.value.str.contains(\"^b'D_41.+\", regex=True, na=False)]\n",
    "mixed_heart_disease = mixed_binary_icd[mixed_binary_icd.value.str.contains(\"b'D_429\", regex=True, na=False)]\n",
    "mixed_diabetes = mixed_binary_icd[mixed_binary_icd.value.str.contains(\"^b'D_25\", na=False)]\n",
    "mixed_ischemic_ids = mixed_ischemic[\"SUBJECT_ID\"].tolist()\n",
    "mixed_heart_disease_ids = mixed_heart_disease[\"SUBJECT_ID\"].tolist()\n",
    "mixed_diabetes_ids = mixed_diabetes[\"SUBJECT_ID\"].tolist()"
   ]
  },
  {
   "cell_type": "code",
   "execution_count": 294,
   "metadata": {},
   "outputs": [],
   "source": [
    "# Filter female patients for with ischemic diseases, heart diseases, diabetes and cardiovascular ones\n",
    "# also getting the SUBJECT IDs of each\n",
    "females_ischemic = female_diagnoses_icd[female_diagnoses_icd.value.str.contains(\"^b'D_41.+\", regex=True, na=False)]\n",
    "females_heart_disease = female_diagnoses_icd[female_diagnoses_icd.value.str.contains(\"b'D_429\", regex=True, na=False)]\n",
    "females_diabetes = female_diagnoses_icd[female_diagnoses_icd.value.str.contains(\"^b'D_25\", na=False)]\n",
    "females_ischemic_ids = females_ischemic[\"SUBJECT_ID\"].tolist()\n",
    "females_heart_disease_ids = females_heart_disease[\"SUBJECT_ID\"].tolist()\n",
    "females_diabetes_ids = females_diabetes[\"SUBJECT_ID\"].tolist()"
   ]
  },
  {
   "cell_type": "code",
   "execution_count": 295,
   "metadata": {},
   "outputs": [],
   "source": [
    "# Filter male patients for with ischemic diseases, heart diseases, diabetes and cardiovascular ones\n",
    "# also getting the SUBJECT IDs of each\n",
    "males_ischemic = male_diagnoses_icd[male_diagnoses_icd.value.str.contains(\"^b'D_41.+\", regex=True, na=False)]\n",
    "males_heart_disease = male_diagnoses_icd[male_diagnoses_icd.value.str.contains(\"b'D_429\", regex=True, na=False)]\n",
    "males_diabetes = male_diagnoses_icd[male_diagnoses_icd.value.str.contains(\"^b'D_25\", na=False)]\n",
    "males_ischemic_ids = males_ischemic[\"SUBJECT_ID\"].tolist()\n",
    "males_heart_disease_ids = males_heart_disease[\"SUBJECT_ID\"].tolist()\n",
    "males_diabetes_ids = males_diabetes[\"SUBJECT_ID\"].tolist()"
   ]
  },
  {
   "cell_type": "code",
   "execution_count": 335,
   "metadata": {},
   "outputs": [
    {
     "name": "stdout",
     "output_type": "stream",
     "text": [
      "b''         8951914\n",
      "b'D_01'        3612\n",
      "b'D_72'        3089\n",
      "b'D_76'        2691\n",
      "b'D_140'       2620\n",
      "b'D_85'        2618\n",
      "b'D_84'        2391\n",
      "b'D_28'        2102\n",
      "b'D_188'       2055\n",
      "b'D_273'       2050\n",
      "b'D_05'        1990\n",
      "b'D_8'         1611\n",
      "b'D_1'         1469\n",
      "b'D_74'        1412\n",
      "b'D_300'       1382\n",
      "b'D_29'        1373\n",
      "b'D_500'       1317\n",
      "b'D_039'       1271\n",
      "b'D_18'        1206\n",
      "b'D_24'        1173\n",
      "Name: value, dtype: int64\n"
     ]
    }
   ],
   "source": [
    "# get top 10 most ICD9-Codes for mixed patients\n",
    "n = 20\n",
    "mixed_diagnoses_top10 = mixed_diagnoses_icd['value'].value_counts()[:n]\n",
    "print(mixed_diagnoses_top10)"
   ]
  },
  {
   "cell_type": "code",
   "execution_count": 301,
   "metadata": {},
   "outputs": [
    {
     "name": "stdout",
     "output_type": "stream",
     "text": [
      "b'D_01'     2395\n",
      "b'D_72'     1798\n",
      "b'D_500'    1203\n",
      "b'D_273'     948\n",
      "b'D_11'      836\n",
      "b'D_85'      805\n",
      "b'D_1'       627\n",
      "b'D_458'     626\n",
      "b'D_76'      592\n",
      "b'D_28'      461\n",
      "b'D_74'      447\n",
      "b'D_84'      432\n",
      "b'D_97'      413\n",
      "b'D_104'     403\n",
      "b'D_308'     361\n",
      "b'D_188'     353\n",
      "b'D_158'     349\n",
      "b'D_8'       319\n",
      "b'D_9'       314\n",
      "b'D_039'     286\n",
      "Name: value, dtype: int64\n"
     ]
    }
   ],
   "source": [
    "# get top 10 most ICD9-Codes for male patients\n",
    "n = 20\n",
    "males_ischemic_top10 = males_diagnoses_icd['value'].value_counts()[:n]\n",
    "print(males_ischemic_top10)"
   ]
  },
  {
   "cell_type": "code",
   "execution_count": 300,
   "metadata": {},
   "outputs": [
    {
     "name": "stdout",
     "output_type": "stream",
     "text": [
      "b'D_01'     4473\n",
      "b'D_67'     3003\n",
      "b'D_962'    2792\n",
      "b'D_83'     2783\n",
      "b'D_640'    2735\n",
      "b'D_76'     2370\n",
      "b'D_101'    2289\n",
      "b'D_140'    1962\n",
      "b'D_89'     1944\n",
      "b'D_82'     1830\n",
      "b'D_74'     1670\n",
      "b'D_966'    1506\n",
      "b'D_651'    1454\n",
      "b'D_41'     1351\n",
      "b'D_522'    1349\n",
      "b'D_55'     1243\n",
      "b'D_48'     1216\n",
      "b'D_57'     1199\n",
      "b'D_64'     1190\n",
      "b'D_69'     1190\n",
      "Name: value, dtype: int64\n"
     ]
    }
   ],
   "source": [
    "# get top 10 most ICD9-Codes for female patients\n",
    "n = 20\n",
    "females_ischemic_top10 = females_diagnoses_icd['value'].value_counts()[:n]\n",
    "print(females_ischemic_top10)"
   ]
  },
  {
   "cell_type": "code",
   "execution_count": 282,
   "metadata": {},
   "outputs": [
    {
     "data": {
      "text/plain": [
       "<matplotlib.axes._subplots.AxesSubplot at 0x1a8ce7f2b0>"
      ]
     },
     "execution_count": 282,
     "metadata": {},
     "output_type": "execute_result"
    },
    {
     "data": {
      "image/png": "[encoded data removed]",
      "text/plain": [
       "<Figure size 1152x576 with 1 Axes>"
      ]
     },
     "metadata": {
      "needs_background": "light"
     },
     "output_type": "display_data"
    }
   ],
   "source": [
    "# Compare top n ICD9-Codes occurences for ischemic diseases\n",
    "n = 50\n",
    "\n",
    "graph_df = mixed_ischemic['value'].value_counts(normalize=False)[:n].rename('MIXED ICD').to_frame()\\\n",
    "            .join(females_ischemic['value'].value_counts(normalize=False)[:n].rename('FEMALE ICD').to_frame())\\\n",
    "               .join(males_ischemic['value'].value_counts(normalize=False)[:n].rename('MALE ICD').to_frame())\n",
    "\n",
    "graph_df.plot(kind='bar',figsize=(16, 8))"
   ]
  },
  {
   "cell_type": "code",
   "execution_count": 244,
   "metadata": {},
   "outputs": [
    {
     "data": {
      "text/plain": [
       "<matplotlib.axes._subplots.AxesSubplot at 0x1a5e710dd8>"
      ]
     },
     "execution_count": 244,
     "metadata": {},
     "output_type": "execute_result"
    },
    {
     "data": {
      "image/png": "[encoded data removed]",
      "text/plain": [
       "<Figure size 1152x576 with 1 Axes>"
      ]
     },
     "metadata": {
      "needs_background": "light"
     },
     "output_type": "display_data"
    }
   ],
   "source": [
    "# Compare top n ICD9-Codes occurences for diabetic diseases\n",
    "n = 50\n",
    "\n",
    "graph_df = mixed_diabetes['value'].value_counts(normalize=False)[:n].rename('MIXED ICD').to_frame()\\\n",
    "            .join(females_diabetes['value'].value_counts(normalize=False)[:n].rename('FEMALE ICD').to_frame())\\\n",
    "               .join(males_diabetes['value'].value_counts(normalize=False)[:n].rename('MALE ICD').to_frame())\n",
    "\n",
    "graph_df.plot(kind='bar',figsize=(16, 8))"
   ]
  },
  {
   "cell_type": "code",
   "execution_count": 336,
   "metadata": {},
   "outputs": [
    {
     "data": {
      "text/plain": [
       "220"
      ]
     },
     "execution_count": 336,
     "metadata": {},
     "output_type": "execute_result"
    }
   ],
   "source": [
    "# Get ids of mixed patients with heart disease + any type of diabetes\n",
    "mixed_heart_and_diabetes = mixed_diagnoses_icd[mixed_diagnoses_icd[\"SUBJECT_ID\"].isin(mixed_ischemic_ids)]\n",
    "mixed_heart_and_diabetes = mixed_heart_and_diabetes[mixed_heart_and_diabetes [\"SUBJECT_ID\"].isin(mixed_diabetes_ids)]\n",
    "mixed_heart_and_diabetes[\"SUBJECT_ID\"].nunique() "
   ]
  },
  {
   "cell_type": "code",
   "execution_count": 337,
   "metadata": {},
   "outputs": [
    {
     "name": "stderr",
     "output_type": "stream",
     "text": [
      "/Users/nicenoize/anaconda3/lib/python3.6/site-packages/ipykernel_launcher.py:2: UserWarning: Boolean Series key will be reindexed to match DataFrame index.\n",
      "  \n",
      "/Users/nicenoize/anaconda3/lib/python3.6/site-packages/ipykernel_launcher.py:3: UserWarning: Boolean Series key will be reindexed to match DataFrame index.\n",
      "  This is separate from the ipykernel package so we can avoid doing imports until\n"
     ]
    },
    {
     "data": {
      "text/plain": [
       "1"
      ]
     },
     "execution_count": 337,
     "metadata": {},
     "output_type": "execute_result"
    }
   ],
   "source": [
    "# Get ids of male patients with heart disease + any type of diabetes\n",
    "males_heart_and_diabetes = males_diagnoses_icd[male_diagnoses_icd[\"SUBJECT_ID\"].isin(males_ischemic_ids)]\n",
    "males_heart_and_diabetes = males_heart_and_diabetes[male_heart_and_diabetes [\"SUBJECT_ID\"].isin(males_diabetes_ids)]\n",
    "males_heart_and_diabetes[\"SUBJECT_ID\"].nunique() "
   ]
  },
  {
   "cell_type": "code",
   "execution_count": 338,
   "metadata": {},
   "outputs": [
    {
     "data": {
      "text/plain": [
       "41"
      ]
     },
     "execution_count": 338,
     "metadata": {},
     "output_type": "execute_result"
    }
   ],
   "source": [
    "# Get ids of female patients with heart disease + any type of diabetes\n",
    "females_heart_and_diabetes = females_diagnoses_icd[females_diagnoses_icd[\"SUBJECT_ID\"].isin(females_ischemic_ids)]\n",
    "females_heart_and_diabetes = females_heart_and_diabetes[females_heart_and_diabetes [\"SUBJECT_ID\"].isin(females_diabetes_ids)]\n",
    "females_heart_and_diabetes[\"SUBJECT_ID\"].nunique() "
   ]
  },
  {
   "cell_type": "code",
   "execution_count": null,
   "metadata": {},
   "outputs": [],
   "source": []
  },
  {
   "cell_type": "code",
   "execution_count": 277,
   "metadata": {},
   "outputs": [
    {
     "data": {
      "text/plain": [
       "(9060000, 3)"
      ]
     },
     "execution_count": 277,
     "metadata": {},
     "output_type": "execute_result"
    }
   ],
   "source": [
    "mixed_transformed.shape"
   ]
  },
  {
   "cell_type": "code",
   "execution_count": null,
   "metadata": {},
   "outputs": [],
   "source": []
  }
 ],
 "metadata": {
  "kernelspec": {
   "display_name": "Python 3",
   "language": "python",
   "name": "python3"
  },
  "language_info": {
   "codemirror_mode": {
    "name": "ipython",
    "version": 3
   },
   "file_extension": ".py",
   "mimetype": "text/x-python",
   "name": "python",
   "nbconvert_exporter": "python",
   "pygments_lexer": "ipython3",
   "version": "3.6.9"
  }
 },
 "nbformat": 4,
 "nbformat_minor": 2
}
