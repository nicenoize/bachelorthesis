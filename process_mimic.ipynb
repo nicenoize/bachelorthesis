{
 "cells": [
  {
   "cell_type": "markdown",
   "metadata": {
    "colab_type": "text",
    "id": "view-in-github"
   },
   "source": [
    "<a href=\"https://colab.research.google.com/github/BenM1215/medgan/blob/master/process_mimic.ipynb\" target=\"_parent\"><img src=\"https://colab.research.google.com/assets/colab-badge.svg\" alt=\"Open In Colab\"/></a>"
   ]
  },
  {
   "cell_type": "code",
   "execution_count": 1,
   "metadata": {
    "colab": {},
    "colab_type": "code",
    "id": "dkIm2oJnyjVK"
   },
   "outputs": [],
   "source": [
    "import sys\n",
    "import _pickle as pickle\n",
    "import numpy as np\n",
    "from datetime import datetime"
   ]
  },
  {
   "cell_type": "code",
   "execution_count": 2,
   "metadata": {
    "colab": {
     "base_uri": "https://localhost:8080/",
     "height": 34
    },
    "colab_type": "code",
    "id": "F3LE_9PVyBfI",
    "outputId": "d6ad558d-3bd1-4da1-be4f-248213b11409"
   },
   "outputs": [
    {
     "ename": "ModuleNotFoundError",
     "evalue": "No module named 'google.colab'",
     "output_type": "error",
     "traceback": [
      "\u001b[0;31m---------------------------------------------------------------------------\u001b[0m",
      "\u001b[0;31mModuleNotFoundError\u001b[0m                       Traceback (most recent call last)",
      "\u001b[0;32m<ipython-input-2-80bea5481fc3>\u001b[0m in \u001b[0;36m<module>\u001b[0;34m\u001b[0m\n\u001b[0;32m----> 1\u001b[0;31m \u001b[0;32mfrom\u001b[0m \u001b[0mgoogle\u001b[0m\u001b[0;34m.\u001b[0m\u001b[0mcolab\u001b[0m \u001b[0;32mimport\u001b[0m \u001b[0mdrive\u001b[0m\u001b[0;34m\u001b[0m\u001b[0;34m\u001b[0m\u001b[0m\n\u001b[0m\u001b[1;32m      2\u001b[0m \u001b[0mdrive\u001b[0m\u001b[0;34m.\u001b[0m\u001b[0mmount\u001b[0m\u001b[0;34m(\u001b[0m\u001b[0;34m'/content/gdrive'\u001b[0m\u001b[0;34m,\u001b[0m \u001b[0mforce_remount\u001b[0m\u001b[0;34m=\u001b[0m\u001b[0;32mTrue\u001b[0m\u001b[0;34m)\u001b[0m\u001b[0;34m\u001b[0m\u001b[0;34m\u001b[0m\u001b[0m\n",
      "\u001b[0;31mModuleNotFoundError\u001b[0m: No module named 'google.colab'"
     ]
    }
   ],
   "source": [
    "from google.colab import drive\n",
    "drive.mount('/content/gdrive', force_remount=True)"
   ]
  },
  {
   "cell_type": "code",
   "execution_count": 0,
   "metadata": {
    "colab": {},
    "colab_type": "code",
    "id": "QbwB-8Fdylim"
   },
   "outputs": [],
   "source": [
    "def convert_to_icd9(dxStr):\n",
    "    if dxStr.startswith('E'):\n",
    "        if len(dxStr) > 4: return dxStr[:4] + '.' + dxStr[4:]\n",
    "        else: return dxStr\n",
    "    else:\n",
    "        if len(dxStr) > 3: return dxStr[:3] + '.' + dxStr[3:]\n",
    "        else: return dxStr"
   ]
  },
  {
   "cell_type": "code",
   "execution_count": 0,
   "metadata": {
    "colab": {},
    "colab_type": "code",
    "id": "DEHXM6G2yqLR"
   },
   "outputs": [],
   "source": [
    "def convert_to_3digit_icd9(dxStr):\n",
    "    if dxStr.startswith('E'):\n",
    "        if len(dxStr) > 4: return dxStr[:4]\n",
    "        else: return dxStr\n",
    "    else:\n",
    "        if len(dxStr) > 3: return dxStr[:3]\n",
    "        else: return dxStr"
   ]
  },
  {
   "cell_type": "code",
   "execution_count": 0,
   "metadata": {
    "colab": {},
    "colab_type": "code",
    "id": "WTP8qLpe4GsQ"
   },
   "outputs": [],
   "source": [
    "# input arguments\n",
    "binary_count = 'binary'"
   ]
  },
  {
   "cell_type": "code",
   "execution_count": 0,
   "metadata": {
    "colab": {},
    "colab_type": "code",
    "id": "m40Qy9Ok4KB7"
   },
   "outputs": [],
   "source": [
    "root_dir = \"/content/gdrive/My Drive/\"\n",
    "\n",
    "if binary_count == 'count':\n",
    "  base_dir = root_dir + 'GOSH/Synthetic Data/medgan/count/'\n",
    "else:\n",
    "  base_dir = root_dir + 'GOSH/Synthetic Data/medgan/binary/'\n",
    "\n",
    "raw_data_dir = root_dir + 'GOSH/Synthetic Data/medgan/mimic/'\n",
    "processed_data_dir = base_dir + 'processed_mimic/'\n",
    "model_dir = base_dir + 'models/'\n",
    "gen_data_dir = base_dir + 'generated_data/'"
   ]
  },
  {
   "cell_type": "code",
   "execution_count": 0,
   "metadata": {
    "colab": {},
    "colab_type": "code",
    "id": "84a4GULe5NmG"
   },
   "outputs": [],
   "source": [
    "admissionFile = raw_data_dir + 'ADMISSIONS.csv'\n",
    "diagnosisFile = raw_data_dir + 'DIAGNOSES_ICD.csv'\n",
    "outFile = processed_data_dir + 'processed_mimic'"
   ]
  },
  {
   "cell_type": "code",
   "execution_count": 0,
   "metadata": {
    "colab": {},
    "colab_type": "code",
    "id": "0o1e-8_RyttW"
   },
   "outputs": [],
   "source": [
    "if binary_count != 'binary' and binary_count != 'count':\n",
    "    print('You must choose either binary or count.')"
   ]
  },
  {
   "cell_type": "code",
   "execution_count": 0,
   "metadata": {
    "colab": {
     "base_uri": "https://localhost:8080/",
     "height": 119
    },
    "colab_type": "code",
    "id": "RYeXZcXe4-Zj",
    "outputId": "0c259433-92d5-497b-da62-b9357d23d938"
   },
   "outputs": [
    {
     "name": "stdout",
     "output_type": "stream",
     "text": [
      "Building pid-admission mapping, admission-date mapping\n",
      "Building admission-dxList mapping\n",
      "Building pid-sortedVisits mapping\n",
      "Building pids, dates, strSeqs\n",
      "Converting strSeqs to intSeqs, and making types\n",
      "Constructing the matrix\n"
     ]
    }
   ],
   "source": [
    "print('Building pid-admission mapping, admission-date mapping')\n",
    "pidAdmMap = {}\n",
    "admDateMap = {}\n",
    "infd = open(admissionFile, 'r')\n",
    "infd.readline()\n",
    "for line in infd:\n",
    "    tokens = line.strip().split(',')\n",
    "    pid = int(tokens[1])\n",
    "    admId = int(tokens[2])\n",
    "    admTime = datetime.strptime(tokens[3], '%Y-%m-%d %H:%M:%S')\n",
    "    admDateMap[admId] = admTime\n",
    "    if pid in pidAdmMap: pidAdmMap[pid].append(admId)\n",
    "    else: pidAdmMap[pid] = [admId]\n",
    "infd.close()\n",
    "\n",
    "print('Building admission-dxList mapping')\n",
    "admDxMap = {}\n",
    "infd = open(diagnosisFile, 'r')\n",
    "infd.readline()\n",
    "for line in infd:\n",
    "    tokens = line.strip().split(',')\n",
    "    admId = int(tokens[2])\n",
    "    # Uncomment this line and comment the line below, if you want to use the entire ICD9 digits.\n",
    "    dxStr = 'D_' + convert_to_icd9(tokens[4][1:-1])\n",
    "    #dxStr = 'D_' + convert_to_3digit_icd9(tokens[4][1:-1])\n",
    "    if admId in admDxMap: admDxMap[admId].append(dxStr)\n",
    "    else: admDxMap[admId] = [dxStr]\n",
    "infd.close()\n",
    "\n",
    "print('Building pid-sortedVisits mapping')\n",
    "pidSeqMap = {}\n",
    "for pid, admIdList in pidAdmMap.items():\n",
    "    #if len(admIdList) < 2: continue\n",
    "    sortedList = sorted([(admDateMap[admId], admDxMap[admId]) for admId in admIdList])\n",
    "    pidSeqMap[pid] = sortedList\n",
    "\n",
    "print('Building pids, dates, strSeqs')\n",
    "pids = []\n",
    "dates = []\n",
    "seqs = []\n",
    "for pid, visits in pidSeqMap.items():\n",
    "    pids.append(pid)\n",
    "    seq = []\n",
    "    date = []\n",
    "    for visit in visits:\n",
    "        date.append(visit[0])\n",
    "        seq.append(visit[1])\n",
    "    dates.append(date)\n",
    "    seqs.append(seq)\n",
    "\n",
    "print('Converting strSeqs to intSeqs, and making types')\n",
    "types = {}\n",
    "newSeqs = []\n",
    "for patient in seqs:\n",
    "    newPatient = []\n",
    "    for visit in patient:\n",
    "        newVisit = []\n",
    "        for code in visit:\n",
    "            if code in types:\n",
    "                newVisit.append(types[code])\n",
    "            else:\n",
    "                types[code] = len(types)\n",
    "                newVisit.append(types[code])\n",
    "        newPatient.append(newVisit)\n",
    "    newSeqs.append(newPatient)\n",
    "\n",
    "print('Constructing the matrix')\n",
    "numPatients = len(newSeqs)\n",
    "numCodes = len(types)\n",
    "matrix = np.zeros((numPatients, numCodes)).astype('float32')\n",
    "for i, patient in enumerate(newSeqs):\n",
    "    for visit in patient:\n",
    "        for code in visit:\n",
    "            if binary_count == 'binary':\n",
    "                matrix[i][code] = 1.\n",
    "            else:\n",
    "                matrix[i][code] += 1.\n",
    "\n",
    "pickle.dump(pids, open(outFile+'.pids', 'wb'), -1)\n",
    "pickle.dump(matrix, open(outFile+'.matrix', 'wb'), -1)\n",
    "pickle.dump(types, open(outFile+'.types', 'wb'), -1)"
   ]
  },
  {
   "cell_type": "code",
   "execution_count": 0,
   "metadata": {
    "colab": {},
    "colab_type": "code",
    "id": "AaF-cC2t0pT6"
   },
   "outputs": [],
   "source": []
  }
 ],
 "metadata": {
  "colab": {
   "collapsed_sections": [],
   "include_colab_link": true,
   "name": "Copy of process_mimic.ipynb",
   "provenance": [],
   "version": "0.3.2"
  },
  "kernelspec": {
   "display_name": "Python 3",
   "language": "python",
   "name": "python3"
  },
  "language_info": {
   "codemirror_mode": {
    "name": "ipython",
    "version": 3
   },
   "file_extension": ".py",
   "mimetype": "text/x-python",
   "name": "python",
   "nbconvert_exporter": "python",
   "pygments_lexer": "ipython3",
   "version": "3.6.9"
  }
 },
 "nbformat": 4,
 "nbformat_minor": 1
}
