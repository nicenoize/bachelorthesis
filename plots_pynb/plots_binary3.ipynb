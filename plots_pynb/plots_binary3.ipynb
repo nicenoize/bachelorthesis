{
  "nbformat": 4,
  "nbformat_minor": 0,
  "metadata": {
    "kernelspec": {
      "name": "python3",
      "display_name": "Python 3"
    },
    "language_info": {
      "codemirror_mode": {
        "name": "ipython",
        "version": 3
      },
      "file_extension": ".py",
      "mimetype": "text/x-python",
      "name": "python",
      "nbconvert_exporter": "python",
      "pygments_lexer": "ipython3",
      "version": "3.6.9"
    },
    "colab": {
      "name": "plots_binary3.ipynb",
      "provenance": [],
      "machine_shape": "hm"
    },
    "accelerator": "GPU"
  },
  "cells": [
    {
      "cell_type": "code",
      "metadata": {
        "id": "VScZvUhqyuu8",
        "colab_type": "code",
        "outputId": "23bf2e0f-d612-4ac7-fc3d-c34863ba95db",
        "colab": {
          "base_uri": "https://localhost:8080/",
          "height": 262
        }
      },
      "source": [
        "!pip uninstall numpy -y\n",
        "!pip install numpy==1.16.2"
      ],
      "execution_count": 0,
      "outputs": [
        {
          "output_type": "stream",
          "text": [
            "Uninstalling numpy-1.16.2:\n",
            "  Successfully uninstalled numpy-1.16.2\n",
            "Collecting numpy==1.16.2\n",
            "  Using cached https://files.pythonhosted.org/packages/35/d5/4f8410ac303e690144f0a0603c4b8fd3b986feb2749c435f7cdbb288f17e/numpy-1.16.2-cp36-cp36m-manylinux1_x86_64.whl\n",
            "\u001b[31mERROR: datascience 0.10.6 has requirement folium==0.2.1, but you'll have folium 0.8.3 which is incompatible.\u001b[0m\n",
            "\u001b[31mERROR: albumentations 0.1.12 has requirement imgaug<0.2.7,>=0.2.5, but you'll have imgaug 0.2.9 which is incompatible.\u001b[0m\n",
            "Installing collected packages: numpy\n",
            "Successfully installed numpy-1.16.2\n"
          ],
          "name": "stdout"
        },
        {
          "output_type": "display_data",
          "data": {
            "application/vnd.colab-display-data+json": {
              "pip_warning": {
                "packages": [
                  "numpy"
                ]
              }
            }
          },
          "metadata": {
            "tags": []
          }
        }
      ]
    },
    {
      "cell_type": "code",
      "metadata": {
        "id": "4Bve7n8B4Gwa",
        "colab_type": "code",
        "outputId": "583e1089-dba5-4cbf-be54-aae73d52a788",
        "colab": {
          "base_uri": "https://localhost:8080/",
          "height": 34
        }
      },
      "source": [
        "import numpy as np \n",
        "print(np.__version__)\n",
        "from io import StringIO\n",
        "import pandas as pd\n",
        "from pandas import DataFrame\n",
        "import seaborn as sns\n",
        "import matplotlib.pyplot as plt\n",
        "import matplotlib.lines as mlines\n",
        "import matplotlib.transforms as mtransforms\n",
        "import re"
      ],
      "execution_count": 0,
      "outputs": [
        {
          "output_type": "stream",
          "text": [
            "1.16.2\n"
          ],
          "name": "stdout"
        }
      ]
    },
    {
      "cell_type": "code",
      "metadata": {
        "id": "FIlFkf__yuvJ",
        "colab_type": "code",
        "outputId": "c4a6cf7e-ffe5-4aec-dc80-888b0597fed3",
        "colab": {
          "base_uri": "https://localhost:8080/",
          "height": 34
        }
      },
      "source": [
        "from google.colab import drive\n",
        "drive.mount('/content/drive')"
      ],
      "execution_count": 0,
      "outputs": [
        {
          "output_type": "stream",
          "text": [
            "Drive already mounted at /content/drive; to attempt to forcibly remount, call drive.mount(\"/content/drive\", force_remount=True).\n"
          ],
          "name": "stdout"
        }
      ]
    },
    {
      "cell_type": "code",
      "metadata": {
        "id": "aZs2rW5uyuvb",
        "colab_type": "code",
        "colab": {}
      },
      "source": [
        "mixed_dataset = np.load('/content/drive/My Drive/medGAN/binary_3digit_mixed/binary_3digit_mixed.matrix')\n",
        "female_dataset = np.load('/content/drive/My Drive/medGAN/binary_3digit_female/binary_3digit_female.matrix')\n",
        "male_dataset = np.load('/content/drive/My Drive/medGAN/binary_3digit_male/binary_3digit_male.matrix')\n",
        "mixed_generated = np.load('/content/drive/My Drive/medGAN/binary_3digit_mixed_full.npy')\n",
        "female_generated = np.load('/content/drive/My Drive/medGAN/binary_3digit_female_full.npy')\n",
        "male_generated = np.load('/content/drive/My Drive/medGAN/binary_3digit_male_full.npy')"
      ],
      "execution_count": 0,
      "outputs": []
    },
    {
      "cell_type": "code",
      "metadata": {
        "id": "HVyZkjWQcAqD",
        "colab_type": "code",
        "colab": {}
      },
      "source": [
        "mixed_generated = np.rint(mixed_generated)\n",
        "female_generated = np.rint(female_generated)\n",
        "male_generated = np.rint(male_generated)"
      ],
      "execution_count": 0,
      "outputs": []
    },
    {
      "cell_type": "code",
      "metadata": {
        "id": "aQqJhQVLyuvl",
        "colab_type": "code",
        "outputId": "4fbcffd4-d24a-431e-f606-e31e16020ae2",
        "colab": {
          "base_uri": "https://localhost:8080/",
          "height": 121
        }
      },
      "source": [
        "# Shape before\n",
        "print(mixed_dataset.shape)\n",
        "print(mixed_generated.shape)\n",
        "print(female_dataset.shape)\n",
        "print(female_generated.shape)\n",
        "print(male_dataset.shape)\n",
        "print(male_generated.shape)"
      ],
      "execution_count": 0,
      "outputs": [
        {
          "output_type": "stream",
          "text": [
            "(46520, 1071)\n",
            "(46000, 1071)\n",
            "(20399, 987)\n",
            "(20000, 987)\n",
            "(26121, 966)\n",
            "(26000, 966)\n"
          ],
          "name": "stdout"
        }
      ]
    },
    {
      "cell_type": "code",
      "metadata": {
        "id": "9v_-y_5yaDOI",
        "colab_type": "code",
        "outputId": "dced9075-1947-4b9d-afea-7b800b7fbfa4",
        "colab": {
          "base_uri": "https://localhost:8080/",
          "height": 746
        }
      },
      "source": [
        "print(female_generated[4,:])\n",
        "#np.rint"
      ],
      "execution_count": 0,
      "outputs": [
        {
          "output_type": "stream",
          "text": [
            "[0. 0. 0. 1. 0. 1. 0. 0. 0. 0. 0. 0. 1. 1. 1. 1. 1. 1. 0. 0. 0. 1. 0. 0.\n",
            " 0. 0. 0. 0. 0. 0. 0. 0. 0. 0. 0. 0. 1. 0. 0. 0. 0. 0. 0. 0. 0. 0. 0. 0.\n",
            " 0. 0. 0. 0. 1. 1. 0. 0. 1. 0. 0. 0. 0. 1. 1. 0. 0. 0. 0. 0. 1. 1. 1. 0.\n",
            " 1. 0. 1. 1. 0. 0. 0. 0. 0. 0. 0. 0. 0. 0. 0. 0. 0. 0. 0. 0. 0. 0. 0. 0.\n",
            " 0. 1. 1. 0. 1. 0. 0. 1. 0. 0. 0. 0. 0. 0. 0. 0. 0. 0. 0. 0. 0. 0. 0. 0.\n",
            " 0. 0. 1. 0. 1. 0. 0. 0. 0. 0. 0. 0. 0. 0. 0. 0. 0. 1. 0. 0. 0. 0. 0. 0.\n",
            " 0. 0. 0. 0. 0. 0. 1. 0. 0. 0. 0. 0. 0. 0. 0. 0. 0. 0. 1. 0. 0. 0. 0. 0.\n",
            " 0. 0. 0. 0. 0. 1. 0. 0. 0. 0. 0. 1. 0. 1. 0. 0. 0. 0. 1. 0. 0. 0. 0. 0.\n",
            " 0. 0. 0. 0. 0. 1. 0. 1. 0. 0. 0. 0. 0. 1. 0. 0. 0. 0. 0. 0. 0. 1. 0. 0.\n",
            " 0. 0. 0. 0. 1. 0. 0. 0. 0. 0. 0. 0. 1. 0. 0. 0. 0. 0. 0. 0. 0. 0. 0. 0.\n",
            " 0. 0. 0. 0. 0. 0. 0. 0. 0. 0. 0. 0. 0. 0. 0. 0. 0. 0. 0. 0. 0. 0. 0. 0.\n",
            " 0. 0. 0. 0. 0. 0. 0. 0. 0. 0. 0. 0. 0. 0. 0. 0. 0. 0. 0. 0. 0. 0. 0. 0.\n",
            " 0. 0. 0. 0. 0. 0. 0. 0. 0. 0. 0. 0. 0. 0. 0. 0. 0. 0. 0. 0. 0. 0. 0. 0.\n",
            " 0. 0. 0. 0. 0. 0. 0. 0. 0. 0. 0. 0. 0. 0. 0. 0. 0. 0. 0. 0. 0. 0. 0. 0.\n",
            " 0. 0. 0. 0. 0. 0. 0. 0. 0. 1. 0. 0. 0. 0. 0. 0. 0. 0. 0. 0. 0. 0. 0. 0.\n",
            " 0. 0. 0. 0. 0. 0. 0. 0. 0. 0. 0. 0. 0. 0. 0. 0. 0. 0. 0. 0. 0. 0. 0. 0.\n",
            " 0. 0. 0. 0. 0. 0. 0. 0. 0. 0. 0. 0. 0. 0. 0. 0. 0. 0. 0. 0. 0. 0. 0. 0.\n",
            " 0. 0. 0. 0. 0. 0. 0. 0. 0. 0. 0. 0. 0. 0. 0. 0. 0. 0. 0. 0. 0. 0. 0. 0.\n",
            " 0. 0. 0. 0. 0. 0. 0. 0. 0. 0. 0. 0. 0. 0. 0. 0. 0. 0. 0. 0. 0. 0. 0. 0.\n",
            " 0. 0. 0. 0. 0. 0. 0. 0. 0. 0. 0. 0. 0. 0. 0. 0. 0. 0. 0. 0. 0. 0. 0. 0.\n",
            " 0. 0. 0. 0. 0. 0. 0. 0. 0. 1. 0. 0. 0. 0. 0. 0. 0. 0. 0. 0. 0. 0. 0. 0.\n",
            " 0. 0. 0. 0. 0. 0. 0. 0. 0. 0. 0. 0. 0. 0. 0. 0. 0. 0. 0. 0. 0. 0. 0. 0.\n",
            " 0. 0. 0. 0. 0. 0. 0. 0. 0. 0. 0. 0. 0. 0. 0. 0. 0. 0. 0. 0. 0. 0. 0. 0.\n",
            " 0. 0. 0. 0. 0. 0. 0. 0. 0. 0. 0. 0. 0. 0. 0. 0. 0. 0. 0. 0. 0. 0. 0. 0.\n",
            " 0. 0. 0. 0. 0. 0. 0. 0. 0. 0. 0. 0. 0. 0. 0. 0. 0. 0. 0. 0. 0. 0. 0. 0.\n",
            " 0. 0. 0. 0. 0. 0. 0. 0. 0. 0. 0. 0. 0. 0. 0. 0. 0. 0. 0. 0. 0. 0. 0. 0.\n",
            " 0. 0. 0. 0. 0. 0. 0. 0. 0. 0. 0. 0. 0. 0. 0. 0. 0. 0. 0. 0. 0. 0. 0. 0.\n",
            " 0. 0. 0. 0. 0. 0. 0. 0. 0. 0. 0. 0. 0. 0. 0. 0. 0. 0. 0. 0. 0. 0. 0. 0.\n",
            " 0. 0. 0. 0. 0. 0. 0. 0. 0. 0. 0. 0. 0. 0. 0. 0. 0. 0. 0. 0. 0. 0. 0. 0.\n",
            " 0. 0. 0. 0. 0. 0. 0. 0. 0. 0. 0. 0. 0. 0. 0. 0. 0. 0. 0. 0. 0. 0. 0. 0.\n",
            " 0. 0. 0. 0. 0. 0. 0. 0. 0. 0. 0. 0. 0. 0. 0. 0. 0. 0. 0. 0. 0. 0. 0. 0.\n",
            " 0. 0. 0. 0. 0. 0. 0. 0. 0. 0. 0. 0. 0. 0. 0. 0. 0. 0. 0. 0. 0. 0. 0. 0.\n",
            " 0. 0. 0. 0. 0. 0. 0. 0. 0. 0. 0. 0. 0. 0. 0. 0. 0. 0. 0. 0. 0. 0. 0. 0.\n",
            " 0. 0. 0. 0. 0. 0. 0. 0. 0. 0. 0. 0. 0. 0. 0. 0. 0. 0. 0. 0. 0. 0. 0. 0.\n",
            " 0. 0. 0. 0. 0. 0. 0. 0. 0. 0. 0. 0. 0. 0. 0. 0. 0. 0. 0. 0. 0. 0. 0. 0.\n",
            " 0. 0. 0. 0. 0. 0. 0. 0. 0. 0. 0. 0. 0. 0. 0. 0. 0. 0. 0. 0. 0. 0. 0. 0.\n",
            " 0. 0. 0. 0. 0. 0. 0. 0. 0. 0. 0. 0. 0. 0. 0. 0. 0. 0. 0. 0. 0. 0. 0. 0.\n",
            " 0. 0. 0. 0. 0. 0. 0. 0. 0. 0. 0. 0. 0. 0. 0. 0. 0. 0. 0. 0. 0. 0. 0. 0.\n",
            " 0. 0. 0. 0. 0. 0. 0. 0. 0. 0. 0. 0. 0. 0. 0. 0. 0. 0. 0. 0. 0. 0. 0. 0.\n",
            " 0. 0. 0. 0. 0. 0. 0. 0. 0. 0. 0. 0. 0. 0. 0. 0. 0. 0. 0. 0. 0. 0. 0. 0.\n",
            " 0. 0. 0. 0. 0. 0. 0. 0. 0. 0. 0. 0. 0. 0. 0. 0. 0. 0. 0. 0. 0. 0. 0. 0.\n",
            " 0. 0. 0.]\n"
          ],
          "name": "stdout"
        }
      ]
    },
    {
      "cell_type": "code",
      "metadata": {
        "id": "crpJek23yuvs",
        "colab_type": "code",
        "colab": {}
      },
      "source": [
        "mixed_dataset = mixed_dataset[520:]\n",
        "female_dataset = female_dataset[399:]\n",
        "male_dataset = male_dataset[121:]"
      ],
      "execution_count": 0,
      "outputs": []
    },
    {
      "cell_type": "code",
      "metadata": {
        "id": "7imxRWRayuv1",
        "colab_type": "code",
        "outputId": "63a8193a-ce0c-47d5-83ea-6a394436dbab",
        "colab": {
          "base_uri": "https://localhost:8080/",
          "height": 121
        }
      },
      "source": [
        "# Shape after\n",
        "print(mixed_dataset.shape)\n",
        "print(mixed_generated.shape)\n",
        "print(female_dataset.shape)\n",
        "print(female_generated.shape)\n",
        "print(male_dataset.shape)\n",
        "print(male_generated.shape)"
      ],
      "execution_count": 0,
      "outputs": [
        {
          "output_type": "stream",
          "text": [
            "(46000, 1071)\n",
            "(46000, 1071)\n",
            "(20000, 987)\n",
            "(20000, 987)\n",
            "(26000, 966)\n",
            "(26000, 966)\n"
          ],
          "name": "stdout"
        }
      ]
    },
    {
      "cell_type": "code",
      "metadata": {
        "id": "Fo4qzYpQyuyS",
        "colab_type": "code",
        "outputId": "27a84eca-6827-4ee8-db7c-497e86caf6b0",
        "colab": {
          "base_uri": "https://localhost:8080/",
          "height": 34
        }
      },
      "source": [
        "mixed_prob_dataset = mixed_dataset.sum(axis=0)\n",
        "mixed_prob_generated = mixed_generated.sum(axis=0)\n",
        "print(max(mixed_prob_dataset))\n",
        "dim_prob_mixed = lambda t: t / 46000\n",
        "vfunc = np.vectorize(dim_prob_mixed)\n",
        "mixed_prob_dataset = vfunc(mixed_prob_dataset)\n",
        "mixed_prob_generated = vfunc(mixed_prob_generated)\n"
      ],
      "execution_count": 0,
      "outputs": [
        {
          "output_type": "stream",
          "text": [
            "17851.0\n"
          ],
          "name": "stdout"
        }
      ]
    },
    {
      "cell_type": "code",
      "metadata": {
        "id": "yS7m_OFWe2l9",
        "colab_type": "code",
        "colab": {}
      },
      "source": [
        "female_prob_dataset = female_dataset.sum(axis=0)\n",
        "female_prob_generated = female_generated.sum(axis=0)\n",
        "dim_prob_female = lambda t: t / 20000\n",
        "vfunc = np.vectorize(dim_prob_female)\n",
        "female_prob_dataset = vfunc(female_prob_dataset)\n",
        "female_prob_generated = vfunc(female_prob_generated)"
      ],
      "execution_count": 0,
      "outputs": []
    },
    {
      "cell_type": "code",
      "metadata": {
        "id": "Qbmj2IOLfhE6",
        "colab_type": "code",
        "colab": {}
      },
      "source": [
        "male_prob_dataset = male_dataset.sum(axis=0)\n",
        "male_prob_generated = male_generated.sum(axis=0)\n",
        "dim_prob_male = lambda t: t / 26000\n",
        "vfunc = np.vectorize(dim_prob_male)\n",
        "male_prob_dataset = vfunc(male_prob_dataset)\n",
        "male_prob_generated = vfunc(male_prob_generated)"
      ],
      "execution_count": 0,
      "outputs": []
    },
    {
      "cell_type": "code",
      "metadata": {
        "id": "oXmlIGf_yuyf",
        "colab_type": "code",
        "outputId": "aa08cebd-dca6-488d-ea4e-cff3a5bee925",
        "colab": {
          "base_uri": "https://localhost:8080/",
          "height": 332
        }
      },
      "source": [
        "N = 50\n",
        "x = mixed_prob_dataset\n",
        "y = mixed_prob_generated\n",
        "colors = (0,0,0)\n",
        "area = np.pi*3\n",
        "\n",
        "# Plot\n",
        "plt.scatter(x, y, s=area, c=colors, alpha=0.5)\n",
        "plt.title('Mixed binary data (3 digits)')\n",
        "plt.xlabel('Real data')\n",
        "plt.ylabel('Synthetic data')\n",
        "plt.plot(x,x,'r') # identity line\n",
        "plt.savefig('/content/drive/My Drive/medGAN/binary_3digit_mixed.svg')\n",
        "plt.show()"
      ],
      "execution_count": 0,
      "outputs": [
        {
          "output_type": "stream",
          "text": [
            "'c' argument looks like a single numeric RGB or RGBA sequence, which should be avoided as value-mapping will have precedence in case its length matches with 'x' & 'y'.  Please use a 2-D array with a single row if you really want to specify the same RGB or RGBA value for all points.\n"
          ],
          "name": "stderr"
        },
        {
          "output_type": "display_data",
          "data": {
            "image/png": "[encoded data removed]",
            "text/plain": [
              "<Figure size 432x288 with 1 Axes>"
            ]
          },
          "metadata": {
            "tags": []
          }
        }
      ]
    },
    {
      "cell_type": "code",
      "metadata": {
        "id": "oMzXthBwyuyj",
        "colab_type": "code",
        "outputId": "310c9637-96e4-4c13-f654-03e1c46a97f5",
        "colab": {
          "base_uri": "https://localhost:8080/",
          "height": 54
        }
      },
      "source": [
        "N = 50\n",
        "x = female_prob_dataset\n",
        "y = female_prob_generated\n",
        "colors = (0,0,0)\n",
        "area = np.pi*3\n",
        "\n",
        "# Plot\n",
        "fig = plt.scatter(x, y, s=area, c=colors, alpha=0.5)\n",
        "plt.title('Female binary data (3 digits)')\n",
        "plt.xlabel('Real data')\n",
        "plt.ylabel('Synthetic data')\n",
        "plt.plot(x,x,'r') # identity line\n",
        "plt.savefig('/content/drive/My Drive/medGAN/binary_3digit_female.svg')\n",
        "plt.show()\n"
      ],
      "execution_count": 0,
      "outputs": [
        {
          "output_type": "stream",
          "text": [
            "'c' argument looks like a single numeric RGB or RGBA sequence, which should be avoided as value-mapping will have precedence in case its length matches with 'x' & 'y'.  Please use a 2-D array with a single row if you really want to specify the same RGB or RGBA value for all points.\n"
          ],
          "name": "stderr"
        }
      ]
    },
    {
      "cell_type": "code",
      "metadata": {
        "id": "YviCb9L2yuym",
        "colab_type": "code",
        "outputId": "466f5087-7525-4e93-98dd-2dd80b9ba6e7",
        "colab": {
          "base_uri": "https://localhost:8080/",
          "height": 332
        }
      },
      "source": [
        "N = 50\n",
        "x = male_prob_dataset\n",
        "y = male_prob_generated\n",
        "colors = (0,0,0)\n",
        "area = np.pi*3\n",
        "\n",
        "# Plot\n",
        "plt.scatter(x, y, s=area, c=colors, alpha=0.5)\n",
        "plt.title('Male binary data (3 digits)')\n",
        "plt.xlabel('Real data')\n",
        "plt.ylabel('Synthetic data')\n",
        "plt.plot(x,x, color='r') # identity line\n",
        "plt.show()"
      ],
      "execution_count": 0,
      "outputs": [
        {
          "output_type": "stream",
          "text": [
            "'c' argument looks like a single numeric RGB or RGBA sequence, which should be avoided as value-mapping will have precedence in case its length matches with 'x' & 'y'.  Please use a 2-D array with a single row if you really want to specify the same RGB or RGBA value for all points.\n"
          ],
          "name": "stderr"
        },
        {
          "output_type": "display_data",
          "data": {
            "image/png": "[encoded data removed]",
            "text/plain": [
              "<Figure size 432x288 with 1 Axes>"
            ]
          },
          "metadata": {
            "tags": []
          }
        }
      ]
    },
    {
      "cell_type": "code",
      "metadata": {
        "id": "XgZ6OaRXyuyp",
        "colab_type": "code",
        "outputId": "ceaa9118-8741-4556-bfd5-39d904173cf1",
        "colab": {
          "base_uri": "https://localhost:8080/",
          "height": 121
        }
      },
      "source": [
        "print(np.max(male_prob_dataset))\n",
        "print(mixed_generated.shape)\n",
        "print(female_dataset.shape)\n",
        "print(female_generated.shape)\n",
        "print(male_dataset.shape)\n",
        "print(male_generated.shape)"
      ],
      "execution_count": 0,
      "outputs": [
        {
          "output_type": "stream",
          "text": [
            "1.7020331453955237\n",
            "(46000, 1071)\n",
            "(20000, 987)\n",
            "(20000, 987)\n",
            "(26000, 966)\n",
            "(26000, 966)\n"
          ],
          "name": "stdout"
        }
      ]
    },
    {
      "cell_type": "code",
      "metadata": {
        "id": "-NQYs8Dmyuys",
        "colab_type": "code",
        "colab": {}
      },
      "source": [
        ""
      ],
      "execution_count": 0,
      "outputs": []
    },
    {
      "cell_type": "code",
      "metadata": {
        "id": "TWziJPC1tDlt",
        "colab_type": "code",
        "colab": {}
      },
      "source": [
        ""
      ],
      "execution_count": 0,
      "outputs": []
    }
  ]
}