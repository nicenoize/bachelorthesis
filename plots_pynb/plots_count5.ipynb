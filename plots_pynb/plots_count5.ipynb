{
  "nbformat": 4,
  "nbformat_minor": 0,
  "metadata": {
    "kernelspec": {
      "name": "python3",
      "display_name": "Python 3"
    },
    "language_info": {
      "codemirror_mode": {
        "name": "ipython",
        "version": 3
      },
      "file_extension": ".py",
      "mimetype": "text/x-python",
      "name": "python",
      "nbconvert_exporter": "python",
      "pygments_lexer": "ipython3",
      "version": "3.6.9"
    },
    "colab": {
      "name": "plots_count5.ipynb",
      "provenance": [],
      "machine_shape": "hm"
    },
    "accelerator": "GPU"
  },
  "cells": [
    {
      "cell_type": "code",
      "metadata": {
        "id": "VScZvUhqyuu8",
        "colab_type": "code",
        "outputId": "3bac6827-46f3-4586-c013-fd5a63557fea",
        "colab": {
          "base_uri": "https://localhost:8080/",
          "height": 279
        }
      },
      "source": [
        "!pip uninstall numpy -y\n",
        "!pip install numpy==1.16.2"
      ],
      "execution_count": 1,
      "outputs": [
        {
          "output_type": "stream",
          "text": [
            "Uninstalling numpy-1.17.5:\n",
            "  Successfully uninstalled numpy-1.17.5\n",
            "Collecting numpy==1.16.2\n",
            "\u001b[?25l  Downloading https://files.pythonhosted.org/packages/35/d5/4f8410ac303e690144f0a0603c4b8fd3b986feb2749c435f7cdbb288f17e/numpy-1.16.2-cp36-cp36m-manylinux1_x86_64.whl (17.3MB)\n",
            "\u001b[K     |████████████████████████████████| 17.3MB 201kB/s \n",
            "\u001b[31mERROR: datascience 0.10.6 has requirement folium==0.2.1, but you'll have folium 0.8.3 which is incompatible.\u001b[0m\n",
            "\u001b[31mERROR: albumentations 0.1.12 has requirement imgaug<0.2.7,>=0.2.5, but you'll have imgaug 0.2.9 which is incompatible.\u001b[0m\n",
            "\u001b[?25hInstalling collected packages: numpy\n",
            "Successfully installed numpy-1.16.2\n"
          ],
          "name": "stdout"
        },
        {
          "output_type": "display_data",
          "data": {
            "application/vnd.colab-display-data+json": {
              "pip_warning": {
                "packages": [
                  "numpy"
                ]
              }
            }
          },
          "metadata": {
            "tags": []
          }
        }
      ]
    },
    {
      "cell_type": "code",
      "metadata": {
        "id": "4Bve7n8B4Gwa",
        "colab_type": "code",
        "outputId": "ed2f4bcf-dfd1-48a7-a91e-c96914624668",
        "colab": {
          "base_uri": "https://localhost:8080/",
          "height": 34
        }
      },
      "source": [
        "import numpy as np \n",
        "print(np.__version__)\n",
        "from io import StringIO\n",
        "import pandas as pd\n",
        "from pandas import DataFrame\n",
        "import seaborn as sns\n",
        "import matplotlib.pyplot as plt\n",
        "import matplotlib.lines as mlines\n",
        "import matplotlib.transforms as mtransforms\n",
        "import re"
      ],
      "execution_count": 1,
      "outputs": [
        {
          "output_type": "stream",
          "text": [
            "1.16.2\n"
          ],
          "name": "stdout"
        }
      ]
    },
    {
      "cell_type": "code",
      "metadata": {
        "id": "FIlFkf__yuvJ",
        "colab_type": "code",
        "outputId": "1fbda5f0-921b-4bf7-d25b-55fb20f6c6b0",
        "colab": {
          "base_uri": "https://localhost:8080/",
          "height": 124
        }
      },
      "source": [
        "from google.colab import drive\n",
        "drive.mount('/content/drive')"
      ],
      "execution_count": 2,
      "outputs": [
        {
          "output_type": "stream",
          "text": [
            "Go to this URL in a browser: https://accounts.google.com/o/oauth2/auth?client_id=947318989803-6bn6qk8qdgf4n4g3pfee6491hc0brc4i.apps.googleusercontent.com&redirect_uri=urn%3aietf%3awg%3aoauth%3a2.0%3aoob&response_type=code&scope=email%20https%3a%2f%2fwww.googleapis.com%2fauth%2fdocs.test%20https%3a%2f%2fwww.googleapis.com%2fauth%2fdrive%20https%3a%2f%2fwww.googleapis.com%2fauth%2fdrive.photos.readonly%20https%3a%2f%2fwww.googleapis.com%2fauth%2fpeopleapi.readonly\n",
            "\n",
            "Enter your authorization code:\n",
            "··········\n",
            "Mounted at /content/drive\n"
          ],
          "name": "stdout"
        }
      ]
    },
    {
      "cell_type": "code",
      "metadata": {
        "id": "aZs2rW5uyuvb",
        "colab_type": "code",
        "colab": {}
      },
      "source": [
        "mixed_dataset = np.load('/content/drive/My Drive/medGAN/count_5digit_mixed/count_5digit_mixed.matrix')\n",
        "female_dataset = np.load('/content/drive/My Drive/medGAN/count_5digit_female/count_5digit_female.matrix')\n",
        "male_dataset = np.load('/content/drive/My Drive/medGAN/count_5digit_male/count_5digit_male.matrix')\n",
        "mixed_generated = np.load('/content/drive/My Drive/medGAN/count_5digit_mixed_full.npy')\n",
        "female_generated = np.load('/content/drive/My Drive/medGAN/count_5digit_female_full.npy')\n",
        "male_generated = np.load('/content/drive/My Drive/medGAN/count_5digit_male_full.npy')"
      ],
      "execution_count": 0,
      "outputs": []
    },
    {
      "cell_type": "code",
      "metadata": {
        "id": "HVyZkjWQcAqD",
        "colab_type": "code",
        "colab": {}
      },
      "source": [
        ""
      ],
      "execution_count": 0,
      "outputs": []
    },
    {
      "cell_type": "code",
      "metadata": {
        "id": "aQqJhQVLyuvl",
        "colab_type": "code",
        "outputId": "4a729543-7376-4a34-b8c2-1f570fdee9a1",
        "colab": {
          "base_uri": "https://localhost:8080/",
          "height": 121
        }
      },
      "source": [
        "# Shape before\n",
        "print(mixed_dataset.shape)\n",
        "print(mixed_generated.shape)\n",
        "print(female_dataset.shape)\n",
        "print(female_generated.shape)\n",
        "print(male_dataset.shape)\n",
        "print(male_generated.shape)"
      ],
      "execution_count": 4,
      "outputs": [
        {
          "output_type": "stream",
          "text": [
            "(46520, 6985)\n",
            "(46000, 6985)\n",
            "(20399, 5650)\n",
            "(20000, 5650)\n",
            "(26121, 5853)\n",
            "(26000, 5853)\n"
          ],
          "name": "stdout"
        }
      ]
    },
    {
      "cell_type": "code",
      "metadata": {
        "id": "9v_-y_5yaDOI",
        "colab_type": "code",
        "colab": {}
      },
      "source": [
        ""
      ],
      "execution_count": 0,
      "outputs": []
    },
    {
      "cell_type": "code",
      "metadata": {
        "id": "crpJek23yuvs",
        "colab_type": "code",
        "colab": {}
      },
      "source": [
        "mixed_dataset = mixed_dataset[520:]\n",
        "female_dataset = female_dataset[399:]\n",
        "male_dataset = male_dataset[121:]"
      ],
      "execution_count": 0,
      "outputs": []
    },
    {
      "cell_type": "code",
      "metadata": {
        "id": "7imxRWRayuv1",
        "colab_type": "code",
        "outputId": "4c7ead03-a04d-4283-a385-afc8305b7599",
        "colab": {
          "base_uri": "https://localhost:8080/",
          "height": 121
        }
      },
      "source": [
        "# Shape after\n",
        "print(mixed_dataset.shape)\n",
        "print(mixed_generated.shape)\n",
        "print(female_dataset.shape)\n",
        "print(female_generated.shape)\n",
        "print(male_dataset.shape)\n",
        "print(male_generated.shape)"
      ],
      "execution_count": 6,
      "outputs": [
        {
          "output_type": "stream",
          "text": [
            "(46000, 6985)\n",
            "(46000, 6985)\n",
            "(20000, 5650)\n",
            "(20000, 5650)\n",
            "(26000, 5853)\n",
            "(26000, 5853)\n"
          ],
          "name": "stdout"
        }
      ]
    },
    {
      "cell_type": "code",
      "metadata": {
        "id": "gkZ5r2BedGK-",
        "colab_type": "code",
        "colab": {}
      },
      "source": [
        ""
      ],
      "execution_count": 0,
      "outputs": []
    },
    {
      "cell_type": "code",
      "metadata": {
        "id": "Fo4qzYpQyuyS",
        "colab_type": "code",
        "colab": {}
      },
      "source": [
        "mixed_prob_dataset = mixed_dataset.sum(axis=0)\n",
        "mixed_prob_generated = mixed_generated.sum(axis=0)\n",
        "dim_prob_mixed = lambda t: t / 46000\n",
        "vfunc = np.vectorize(dim_prob_mixed)\n",
        "mixed_prob_dataset = vfunc(mixed_prob_dataset)\n",
        "mixed_prob_generated = vfunc(mixed_prob_generated)"
      ],
      "execution_count": 0,
      "outputs": []
    },
    {
      "cell_type": "code",
      "metadata": {
        "id": "yS7m_OFWe2l9",
        "colab_type": "code",
        "colab": {}
      },
      "source": [
        "female_prob_dataset = female_dataset.sum(axis=0)\n",
        "female_prob_generated = female_generated.sum(axis=0)\n",
        "dim_prob_female = lambda t: t / 20000\n",
        "vfunc = np.vectorize(dim_prob_female)\n",
        "female_prob_dataset = vfunc(female_prob_dataset)\n",
        "female_prob_generated = vfunc(female_prob_generated)"
      ],
      "execution_count": 0,
      "outputs": []
    },
    {
      "cell_type": "code",
      "metadata": {
        "id": "Qbmj2IOLfhE6",
        "colab_type": "code",
        "colab": {}
      },
      "source": [
        "male_prob_dataset = male_dataset.sum(axis=0)\n",
        "male_prob_generated = male_generated.sum(axis=0)\n",
        "dim_prob_male = lambda t: t / 26000\n",
        "vfunc = np.vectorize(dim_prob_male)\n",
        "male_prob_dataset = vfunc(male_prob_dataset)\n",
        "male_prob_generated = vfunc(male_prob_generated)"
      ],
      "execution_count": 0,
      "outputs": []
    },
    {
      "cell_type": "code",
      "metadata": {
        "id": "Quf5CzhJHzJL",
        "colab_type": "code",
        "outputId": "bb9176b7-7657-4c92-8715-0667e166d9cc",
        "colab": {
          "base_uri": "https://localhost:8080/",
          "height": 52
        }
      },
      "source": [
        "print(max(mixed_prob_dataset))\n",
        "print(max(mixed_prob_generated))"
      ],
      "execution_count": 17,
      "outputs": [
        {
          "output_type": "stream",
          "text": [
            "0.4453695652173913\n",
            "0.5609554602581521\n"
          ],
          "name": "stdout"
        }
      ]
    },
    {
      "cell_type": "code",
      "metadata": {
        "id": "oXmlIGf_yuyf",
        "colab_type": "code",
        "outputId": "6ff876fa-0092-43d3-a65e-9c1442981f76",
        "colab": {
          "base_uri": "https://localhost:8080/",
          "height": 332
        }
      },
      "source": [
        "N = 50\n",
        "x = mixed_prob_dataset\n",
        "y = mixed_prob_generated\n",
        "colors = (0,0,0)\n",
        "area = np.pi*3\n",
        "\n",
        "# Plot\n",
        "plt.scatter(x, y, s=area, c=colors, alpha=0.5)\n",
        "plt.title('Mixed count data (5 digits)')\n",
        "plt.xlabel('Real data')\n",
        "plt.ylabel('Synthetic data')\n",
        "plt.plot(x,x, 'r') # identity line\n",
        "plt.savefig('/content/drive/My Drive/medGAN/count_5digit_mixed.svg')\n",
        "plt.show()"
      ],
      "execution_count": 22,
      "outputs": [
        {
          "output_type": "stream",
          "text": [
            "'c' argument looks like a single numeric RGB or RGBA sequence, which should be avoided as value-mapping will have precedence in case its length matches with 'x' & 'y'.  Please use a 2-D array with a single row if you really want to specify the same RGB or RGBA value for all points.\n"
          ],
          "name": "stderr"
        },
        {
          "output_type": "display_data",
          "data": {
            "image/png": "[encoded data removed]",
            "text/plain": [
              "<Figure size 432x288 with 1 Axes>"
            ]
          },
          "metadata": {
            "tags": []
          }
        }
      ]
    },
    {
      "cell_type": "code",
      "metadata": {
        "id": "oMzXthBwyuyj",
        "colab_type": "code",
        "outputId": "2a2e4092-0cc8-4513-ce36-924b859a10fe",
        "colab": {
          "base_uri": "https://localhost:8080/",
          "height": 332
        }
      },
      "source": [
        "N = 50\n",
        "x = female_prob_dataset\n",
        "y = female_prob_generated\n",
        "colors = (0,0,0)\n",
        "area = np.pi*3\n",
        "\n",
        "# Plot\n",
        "plt.scatter(x, y, s=area, c=colors, alpha=0.5)\n",
        "plt.title('Female count data (5 digits)')\n",
        "plt.xlabel('Real data')\n",
        "plt.ylabel('Synthetic data')\n",
        "plt.plot(x,x,color='r') # identity line\n",
        "plt.savefig('/content/drive/My Drive/medGAN/count_5digit_female.svg')\n",
        "plt.show()"
      ],
      "execution_count": 23,
      "outputs": [
        {
          "output_type": "stream",
          "text": [
            "'c' argument looks like a single numeric RGB or RGBA sequence, which should be avoided as value-mapping will have precedence in case its length matches with 'x' & 'y'.  Please use a 2-D array with a single row if you really want to specify the same RGB or RGBA value for all points.\n"
          ],
          "name": "stderr"
        },
        {
          "output_type": "display_data",
          "data": {
            "image/png": "[encoded data removed]",
            "text/plain": [
              "<Figure size 432x288 with 1 Axes>"
            ]
          },
          "metadata": {
            "tags": []
          }
        }
      ]
    },
    {
      "cell_type": "code",
      "metadata": {
        "id": "YviCb9L2yuym",
        "colab_type": "code",
        "outputId": "cdf8906f-fe69-4d9f-89fe-1ab6aaaa8a2d",
        "colab": {
          "base_uri": "https://localhost:8080/",
          "height": 332
        }
      },
      "source": [
        "x = male_prob_dataset\n",
        "y = male_prob_generated\n",
        "colors = (0,0,0)\n",
        "area = np.pi*3\n",
        "\n",
        "# Plot\n",
        "plt.scatter(x, y, s=area, c=colors, alpha=0.5)\n",
        "plt.title('Male count data (5 digits)')\n",
        "plt.xlabel('Real data')\n",
        "plt.ylabel('Synthetic data')\n",
        "plt.plot(x,x, color='r') # identity line\n",
        "plt.savefig('/content/drive/My Drive/medGAN/count_5digit_male.svg')\n",
        "plt.show()"
      ],
      "execution_count": 24,
      "outputs": [
        {
          "output_type": "stream",
          "text": [
            "'c' argument looks like a single numeric RGB or RGBA sequence, which should be avoided as value-mapping will have precedence in case its length matches with 'x' & 'y'.  Please use a 2-D array with a single row if you really want to specify the same RGB or RGBA value for all points.\n"
          ],
          "name": "stderr"
        },
        {
          "output_type": "display_data",
          "data": {
            "image/png": "[encoded data removed]",
            "text/plain": [
              "<Figure size 432x288 with 1 Axes>"
            ]
          },
          "metadata": {
            "tags": []
          }
        }
      ]
    },
    {
      "cell_type": "code",
      "metadata": {
        "id": "XgZ6OaRXyuyp",
        "colab_type": "code",
        "colab": {}
      },
      "source": [
        "from sklearn.metrics import f1_score\n",
        "import scipy"
      ],
      "execution_count": 0,
      "outputs": []
    },
    {
      "cell_type": "code",
      "metadata": {
        "id": "jEpCF3pVtos8",
        "colab_type": "code",
        "outputId": "3c0bc83c-381b-4e24-f8d5-c9cd5531ee27",
        "colab": {
          "base_uri": "https://localhost:8080/",
          "height": 165
        }
      },
      "source": [
        "print(mixed_generated_binary[:,0])"
      ],
      "execution_count": 0,
      "outputs": [
        {
          "output_type": "error",
          "ename": "NameError",
          "evalue": "ignored",
          "traceback": [
            "\u001b[0;31m---------------------------------------------------------------------------\u001b[0m",
            "\u001b[0;31mNameError\u001b[0m                                 Traceback (most recent call last)",
            "\u001b[0;32m<ipython-input-14-81fe36260b33>\u001b[0m in \u001b[0;36m<module>\u001b[0;34m()\u001b[0m\n\u001b[0;32m----> 1\u001b[0;31m \u001b[0mprint\u001b[0m\u001b[0;34m(\u001b[0m\u001b[0mmixed_generated_binary\u001b[0m\u001b[0;34m[\u001b[0m\u001b[0;34m:\u001b[0m\u001b[0;34m,\u001b[0m\u001b[0;36m0\u001b[0m\u001b[0;34m]\u001b[0m\u001b[0;34m)\u001b[0m\u001b[0;34m\u001b[0m\u001b[0;34m\u001b[0m\u001b[0m\n\u001b[0m",
            "\u001b[0;31mNameError\u001b[0m: name 'mixed_generated_binary' is not defined"
          ]
        }
      ]
    },
    {
      "cell_type": "code",
      "metadata": {
        "id": "-NQYs8Dmyuys",
        "colab_type": "code",
        "outputId": "507fed17-9027-46bf-c182-0b81fdaa9c07",
        "colab": {
          "base_uri": "https://localhost:8080/",
          "height": 208
        }
      },
      "source": [
        "mixed_dataset_binary = scipy.sign(mixed_dataset)\n",
        "mixed_generated_binary = scipy.sign(mixed_generated)\n",
        "print(mixed_dataset_binary)"
      ],
      "execution_count": 0,
      "outputs": [
        {
          "output_type": "stream",
          "text": [
            "/usr/local/lib/python3.6/dist-packages/ipykernel_launcher.py:1: DeprecationWarning: scipy.sign is deprecated and will be removed in SciPy 2.0.0, use numpy.sign instead\n",
            "  \"\"\"Entry point for launching an IPython kernel.\n",
            "/usr/local/lib/python3.6/dist-packages/ipykernel_launcher.py:2: DeprecationWarning: scipy.sign is deprecated and will be removed in SciPy 2.0.0, use numpy.sign instead\n",
            "  \n"
          ],
          "name": "stderr"
        },
        {
          "output_type": "stream",
          "text": [
            "[[0. 0. 0. ... 0. 0. 0.]\n",
            " [0. 0. 0. ... 0. 0. 0.]\n",
            " [0. 0. 0. ... 0. 0. 0.]\n",
            " ...\n",
            " [0. 0. 0. ... 0. 0. 0.]\n",
            " [0. 0. 0. ... 0. 0. 0.]\n",
            " [0. 0. 0. ... 0. 0. 0.]]\n"
          ],
          "name": "stdout"
        }
      ]
    },
    {
      "cell_type": "code",
      "metadata": {
        "id": "9L_MlFQKmm3Y",
        "colab_type": "code",
        "outputId": "3b384b44-cb02-478d-aa8f-f6e918101800",
        "colab": {
          "base_uri": "https://localhost:8080/",
          "height": 34
        }
      },
      "source": [
        "y_true = mixed_dataset_binary\n",
        "y_pred = mixed_generated_binary\n",
        "f1_score(y_true=mixed_dataset_binary, y_pred=mixed_generated_binary, average='samples')"
      ],
      "execution_count": 0,
      "outputs": [
        {
          "output_type": "execute_result",
          "data": {
            "text/plain": [
              "0.023354155480491544"
            ]
          },
          "metadata": {
            "tags": []
          },
          "execution_count": 32
        }
      ]
    },
    {
      "cell_type": "code",
      "metadata": {
        "id": "Co66zoUsIq9u",
        "colab_type": "code",
        "outputId": "ac927f94-f926-40bf-ce77-02c539fb4315",
        "colab": {
          "base_uri": "https://localhost:8080/",
          "height": 34
        }
      },
      "source": [
        "print(np.mean(male_prob_generated))"
      ],
      "execution_count": 0,
      "outputs": [
        {
          "output_type": "stream",
          "text": [
            "51.884727\n"
          ],
          "name": "stdout"
        }
      ]
    },
    {
      "cell_type": "code",
      "metadata": {
        "id": "kkjZESPLlkrB",
        "colab_type": "code",
        "outputId": "8fd9acd9-5833-4ca6-f553-73d3dc4ed48e",
        "colab": {
          "base_uri": "https://localhost:8080/",
          "height": 34
        }
      },
      "source": [
        "print(np.mean(male_prob_dataset))"
      ],
      "execution_count": 0,
      "outputs": [
        {
          "output_type": "stream",
          "text": [
            "61.74594\n"
          ],
          "name": "stdout"
        }
      ]
    },
    {
      "cell_type": "code",
      "metadata": {
        "id": "TZhUcpaVlohR",
        "colab_type": "code",
        "colab": {}
      },
      "source": [
        ""
      ],
      "execution_count": 0,
      "outputs": []
    }
  ]
}